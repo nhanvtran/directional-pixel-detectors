{
 "cells": [
  {
   "cell_type": "code",
   "execution_count": 1,
   "metadata": {},
   "outputs": [
    {
     "name": "stderr",
     "output_type": "stream",
     "text": [
      "2022-10-20 15:05:20.404305: W tensorflow/stream_executor/platform/default/dso_loader.cc:64] Could not load dynamic library 'libcudart.so.11.0'; dlerror: libcudart.so.11.0: cannot open shared object file: No such file or directory; LD_LIBRARY_PATH: /cvmfs/sft.cern.ch/lcg/releases/MCGenerators/thepeg/2.2.1-8d929/x86_64-centos7-gcc8-opt/lib/ThePEG:/cvmfs/sft.cern.ch/lcg/releases/MCGenerators/herwig++/7.2.1-f3599/x86_64-centos7-gcc8-opt/lib/Herwig:/cvmfs/sft.cern.ch/lcg/views/LCG_101/x86_64-centos7-gcc8-opt/lib/python3.9/site-packages/torch/lib:/cvmfs/sft.cern.ch/lcg/views/LCG_101/x86_64-centos7-gcc8-opt/lib/python3.9/site-packages/tensorflow:/cvmfs/sft.cern.ch/lcg/views/LCG_101/x86_64-centos7-gcc8-opt/lib/python3.9/site-packages/tensorflow/contrib/tensor_forest:/cvmfs/sft.cern.ch/lcg/views/LCG_101/x86_64-centos7-gcc8-opt/lib/python3.9/site-packages/tensorflow/python/framework:/cvmfs/sft.cern.ch/lcg/releases/java/8u222-884d8/x86_64-centos7-gcc8-opt/jre/lib/amd64:/cvmfs/sft.cern.ch/lcg/views/LCG_101/x86_64-centos7-gcc8-opt/lib64:/cvmfs/sft.cern.ch/lcg/views/LCG_101/x86_64-centos7-gcc8-opt/lib:/cvmfs/sft.cern.ch/lcg/releases/gcc/8.3.0-cebb0/x86_64-centos7/lib:/cvmfs/sft.cern.ch/lcg/releases/gcc/8.3.0-cebb0/x86_64-centos7/lib64:/cvmfs/sft.cern.ch/lcg/releases/binutils/2.30-e5b21/x86_64-centos7/lib:/cvmfs/sft.cern.ch/lcg/releases/R/3.6.3-dfb24/x86_64-centos7-gcc8-opt/lib64/R/library/readr/rcon\n",
      "2022-10-20 15:05:20.404341: I tensorflow/stream_executor/cuda/cudart_stub.cc:29] Ignore above cudart dlerror if you do not have a GPU set up on your machine.\n"
     ]
    }
   ],
   "source": [
    "from sklearn.metrics import mean_squared_error\n",
    "from sklearn.preprocessing import StandardScaler\n",
    "import tensorflow as tf\n",
    "from tensorflow.keras import datasets, layers, models\n",
    "from keras.models import Sequential\n",
    "from keras.layers import Dense, Dropout, Flatten\n",
    "from keras.callbacks import EarlyStopping\n",
    "import matplotlib.pyplot as plt\n",
    "import numpy as np\n",
    "import pandas as pd\n",
    "import math"
   ]
  },
  {
   "cell_type": "code",
   "execution_count": 2,
   "metadata": {},
   "outputs": [],
   "source": [
    "train_df = pd.read_csv('train_1Dy.csv',nrows=100000)\n",
    "test_df = pd.read_csv('test_1Dy.csv',nrows=5000)"
   ]
  },
  {
   "cell_type": "code",
   "execution_count": 3,
   "metadata": {},
   "outputs": [],
   "source": [
    "X_train = train_df.drop(columns=['y-midplane','cotBeta']).values\n",
    "X_test = test_df.drop(columns=['y-midplane','cotBeta']).values\n",
    "\n",
    "y_train = train_df['y-midplane'].values\n",
    "y_test = test_df['y-midplane'].values"
   ]
  },
  {
   "cell_type": "code",
   "execution_count": 4,
   "metadata": {},
   "outputs": [],
   "source": [
    "scaler = StandardScaler()\n",
    "X_train = scaler.fit_transform(X_train.reshape(-1, X_train.shape[-1])).reshape(X_train.shape)\n",
    "X_test = scaler.fit_transform(X_test.reshape(-1, X_test.shape[-1])).reshape(X_test.shape)"
   ]
  },
  {
   "cell_type": "code",
   "execution_count": 5,
   "metadata": {},
   "outputs": [
    {
     "name": "stdout",
     "output_type": "stream",
     "text": [
      "Model: \"sequential\"\n",
      "_________________________________________________________________\n",
      "Layer (type)                 Output Shape              Param #   \n",
      "=================================================================\n",
      "dense (Dense)                (None, 32)                448       \n",
      "_________________________________________________________________\n",
      "dense_1 (Dense)              (None, 2)                 66        \n",
      "=================================================================\n",
      "Total params: 514\n",
      "Trainable params: 514\n",
      "Non-trainable params: 0\n",
      "_________________________________________________________________\n"
     ]
    },
    {
     "name": "stderr",
     "output_type": "stream",
     "text": [
      "2022-10-20 15:05:24.178282: W tensorflow/stream_executor/platform/default/dso_loader.cc:64] Could not load dynamic library 'libcuda.so.1'; dlerror: libcuda.so.1: cannot open shared object file: No such file or directory; LD_LIBRARY_PATH: /cvmfs/sft.cern.ch/lcg/releases/MCGenerators/thepeg/2.2.1-8d929/x86_64-centos7-gcc8-opt/lib/ThePEG:/cvmfs/sft.cern.ch/lcg/releases/MCGenerators/herwig++/7.2.1-f3599/x86_64-centos7-gcc8-opt/lib/Herwig:/cvmfs/sft.cern.ch/lcg/views/LCG_101/x86_64-centos7-gcc8-opt/lib/python3.9/site-packages/torch/lib:/cvmfs/sft.cern.ch/lcg/views/LCG_101/x86_64-centos7-gcc8-opt/lib/python3.9/site-packages/tensorflow:/cvmfs/sft.cern.ch/lcg/views/LCG_101/x86_64-centos7-gcc8-opt/lib/python3.9/site-packages/tensorflow/contrib/tensor_forest:/cvmfs/sft.cern.ch/lcg/views/LCG_101/x86_64-centos7-gcc8-opt/lib/python3.9/site-packages/tensorflow/python/framework:/cvmfs/sft.cern.ch/lcg/releases/java/8u222-884d8/x86_64-centos7-gcc8-opt/jre/lib/amd64:/cvmfs/sft.cern.ch/lcg/views/LCG_101/x86_64-centos7-gcc8-opt/lib64:/cvmfs/sft.cern.ch/lcg/views/LCG_101/x86_64-centos7-gcc8-opt/lib:/cvmfs/sft.cern.ch/lcg/releases/gcc/8.3.0-cebb0/x86_64-centos7/lib:/cvmfs/sft.cern.ch/lcg/releases/gcc/8.3.0-cebb0/x86_64-centos7/lib64:/cvmfs/sft.cern.ch/lcg/releases/binutils/2.30-e5b21/x86_64-centos7/lib:/cvmfs/sft.cern.ch/lcg/releases/R/3.6.3-dfb24/x86_64-centos7-gcc8-opt/lib64/R/library/readr/rcon\n",
      "2022-10-20 15:05:24.178336: W tensorflow/stream_executor/cuda/cuda_driver.cc:326] failed call to cuInit: UNKNOWN ERROR (303)\n",
      "2022-10-20 15:05:24.178400: I tensorflow/stream_executor/cuda/cuda_diagnostics.cc:156] kernel driver does not appear to be running on this host (cmslpc175.fnal.gov): /proc/driver/nvidia/version does not exist\n",
      "2022-10-20 15:05:24.180664: I tensorflow/core/platform/cpu_feature_guard.cc:142] This TensorFlow binary is optimized with oneAPI Deep Neural Network Library (oneDNN) to use the following CPU instructions in performance-critical operations:  AVX2 FMA\n",
      "To enable them in other operations, rebuild TensorFlow with the appropriate compiler flags.\n"
     ]
    }
   ],
   "source": [
    "model = Sequential()\n",
    "model.add(Dense(32, input_shape=(13,), activation='relu')) # Add an input shape! (features,)\n",
    "model.add(Dense(2, activation='linear'))\n",
    "model.summary() "
   ]
  },
  {
   "cell_type": "code",
   "execution_count": 6,
   "metadata": {},
   "outputs": [],
   "source": [
    "def custom_loss(y, p):\n",
    "    \n",
    "    maxval = 1e6\n",
    "    minval = 1e-9\n",
    "    pi = 3.14159265359\n",
    "    \n",
    "    mu = tf.gather(params=p, indices=[0], axis=1)\n",
    "    sigma = tf.clip_by_value(tf.gather(params=p, indices=[1], axis=1),minval,maxval)\n",
    "        \n",
    "    term = tf.clip_by_value(1.0/tf.math.sqrt(2*pi)/sigma*tf.math.exp(-1*(y-mu)*(y-mu)/(2*sigma*sigma)),minval,maxval)\n",
    "    NLL = tf.clip_by_value(-1*tf.math.log(term),minval,maxval)\n",
    "    \n",
    "    return tf.keras.backend.sum(NLL,axis=1)"
   ]
  },
  {
   "cell_type": "code",
   "execution_count": 7,
   "metadata": {},
   "outputs": [],
   "source": [
    "model.compile(optimizer='Adam', \n",
    "              loss=custom_loss)"
   ]
  },
  {
   "cell_type": "code",
   "execution_count": 8,
   "metadata": {},
   "outputs": [
    {
     "name": "stderr",
     "output_type": "stream",
     "text": [
      "2022-10-20 15:05:24.319578: I tensorflow/compiler/mlir/mlir_graph_optimization_pass.cc:176] None of the MLIR Optimization Passes are enabled (registered 2)\n",
      "2022-10-20 15:05:24.320649: I tensorflow/core/platform/profile_utils/cpu_utils.cc:114] CPU Frequency: 2894560000 Hz\n"
     ]
    },
    {
     "name": "stdout",
     "output_type": "stream",
     "text": [
      "Epoch 1/80\n",
      "WARNING:tensorflow:From /cvmfs/sft.cern.ch/lcg/views/LCG_101/x86_64-centos7-gcc8-opt/lib/python3.9/site-packages/tensorflow/python/ops/array_ops.py:5043: calling gather (from tensorflow.python.ops.array_ops) with validate_indices is deprecated and will be removed in a future version.\n",
      "Instructions for updating:\n",
      "The `validate_indices` argument has no effect. Indices are always validated on CPU and never validated on GPU.\n",
      "1250/1250 [==============================] - 2s 1ms/step - loss: 6.9174 - val_loss: 3.1810\n",
      "Epoch 2/80\n",
      "1250/1250 [==============================] - 1s 913us/step - loss: 2.9315 - val_loss: 2.7174\n",
      "Epoch 3/80\n",
      "1250/1250 [==============================] - 1s 890us/step - loss: 2.5369 - val_loss: 2.4017\n",
      "Epoch 4/80\n",
      "1250/1250 [==============================] - 1s 878us/step - loss: 2.3016 - val_loss: 2.2480\n",
      "Epoch 5/80\n",
      "1250/1250 [==============================] - 1s 859us/step - loss: 2.1871 - val_loss: 2.1614\n",
      "Epoch 6/80\n",
      "1250/1250 [==============================] - 1s 858us/step - loss: 2.1208 - val_loss: 2.1088\n",
      "Epoch 7/80\n",
      "1250/1250 [==============================] - 1s 858us/step - loss: 2.0802 - val_loss: 2.0784\n",
      "Epoch 8/80\n",
      "1250/1250 [==============================] - 1s 863us/step - loss: 2.0516 - val_loss: 2.0585\n",
      "Epoch 9/80\n",
      "1250/1250 [==============================] - 1s 857us/step - loss: 2.0299 - val_loss: 2.0352\n",
      "Epoch 10/80\n",
      "1250/1250 [==============================] - 1s 873us/step - loss: 2.0106 - val_loss: 2.0228\n",
      "Epoch 11/80\n",
      "1250/1250 [==============================] - 1s 871us/step - loss: 1.9953 - val_loss: 2.0021\n",
      "Epoch 12/80\n",
      "1250/1250 [==============================] - 1s 888us/step - loss: 1.9815 - val_loss: 1.9903\n",
      "Epoch 13/80\n",
      "1250/1250 [==============================] - 1s 912us/step - loss: 1.9711 - val_loss: 1.9795\n",
      "Epoch 14/80\n",
      "1250/1250 [==============================] - 1s 875us/step - loss: 1.9615 - val_loss: 1.9718\n",
      "Epoch 15/80\n",
      "1250/1250 [==============================] - 1s 879us/step - loss: 1.9540 - val_loss: 1.9641\n",
      "Epoch 16/80\n",
      "1250/1250 [==============================] - 1s 879us/step - loss: 1.9470 - val_loss: 1.9538\n",
      "Epoch 17/80\n",
      "1250/1250 [==============================] - 1s 893us/step - loss: 1.9412 - val_loss: 1.9562\n",
      "Epoch 18/80\n",
      "1250/1250 [==============================] - 1s 877us/step - loss: 1.9358 - val_loss: 1.9436\n",
      "Epoch 19/80\n",
      "1250/1250 [==============================] - 1s 875us/step - loss: 1.9318 - val_loss: 1.9391\n",
      "Epoch 20/80\n",
      "1250/1250 [==============================] - 1s 883us/step - loss: 1.9274 - val_loss: 1.9404\n",
      "Epoch 21/80\n",
      "1250/1250 [==============================] - 1s 879us/step - loss: 1.9228 - val_loss: 1.9438\n",
      "Epoch 22/80\n",
      "1250/1250 [==============================] - 1s 887us/step - loss: 1.9196 - val_loss: 1.9271\n",
      "Epoch 23/80\n",
      "1250/1250 [==============================] - 1s 876us/step - loss: 1.9160 - val_loss: 1.9241\n",
      "Epoch 24/80\n",
      "1250/1250 [==============================] - 1s 874us/step - loss: 1.9133 - val_loss: 1.9276\n",
      "Epoch 25/80\n",
      "1250/1250 [==============================] - 1s 868us/step - loss: 1.9101 - val_loss: 1.9204\n",
      "Epoch 26/80\n",
      "1250/1250 [==============================] - 1s 901us/step - loss: 1.9083 - val_loss: 1.9135\n",
      "Epoch 27/80\n",
      "1250/1250 [==============================] - 1s 875us/step - loss: 1.9059 - val_loss: 1.9129\n",
      "Epoch 28/80\n",
      "1250/1250 [==============================] - 1s 870us/step - loss: 1.9037 - val_loss: 1.9111\n",
      "Epoch 29/80\n",
      "1250/1250 [==============================] - 1s 861us/step - loss: 1.9012 - val_loss: 1.9147\n",
      "Epoch 30/80\n",
      "1250/1250 [==============================] - 1s 871us/step - loss: 1.8994 - val_loss: 1.9122\n",
      "Epoch 31/80\n",
      "1250/1250 [==============================] - 1s 873us/step - loss: 1.8978 - val_loss: 1.9036\n",
      "Epoch 32/80\n",
      "1250/1250 [==============================] - 1s 888us/step - loss: 1.8959 - val_loss: 1.9066\n",
      "Epoch 33/80\n",
      "1250/1250 [==============================] - 1s 915us/step - loss: 1.8943 - val_loss: 1.9087\n",
      "Epoch 34/80\n",
      "1250/1250 [==============================] - 1s 877us/step - loss: 1.8920 - val_loss: 1.9031\n",
      "Epoch 35/80\n",
      "1250/1250 [==============================] - 1s 882us/step - loss: 1.8912 - val_loss: 1.9004\n",
      "Epoch 36/80\n",
      "1250/1250 [==============================] - 1s 861us/step - loss: 1.8886 - val_loss: 1.9038\n",
      "Epoch 37/80\n",
      "1250/1250 [==============================] - 1s 868us/step - loss: 1.8879 - val_loss: 1.8992\n",
      "Epoch 38/80\n",
      "1250/1250 [==============================] - 1s 881us/step - loss: 1.8855 - val_loss: 1.8949\n",
      "Epoch 39/80\n",
      "1250/1250 [==============================] - 1s 884us/step - loss: 1.8846 - val_loss: 1.8904\n",
      "Epoch 40/80\n",
      "1250/1250 [==============================] - 1s 902us/step - loss: 1.8819 - val_loss: 1.8968\n",
      "Epoch 41/80\n",
      "1250/1250 [==============================] - 1s 905us/step - loss: 1.8824 - val_loss: 1.8902\n",
      "Epoch 42/80\n",
      "1250/1250 [==============================] - 1s 878us/step - loss: 1.8810 - val_loss: 1.8868\n",
      "Epoch 43/80\n",
      "1250/1250 [==============================] - 1s 868us/step - loss: 1.8804 - val_loss: 1.8889\n",
      "Epoch 44/80\n",
      "1250/1250 [==============================] - 1s 865us/step - loss: 1.8787 - val_loss: 1.8863\n",
      "Epoch 45/80\n",
      "1250/1250 [==============================] - 1s 853us/step - loss: 1.8769 - val_loss: 1.8909\n",
      "Epoch 46/80\n",
      "1250/1250 [==============================] - 1s 898us/step - loss: 1.8759 - val_loss: 1.8959\n",
      "Epoch 47/80\n",
      "1250/1250 [==============================] - 1s 903us/step - loss: 1.8758 - val_loss: 1.8871\n",
      "Epoch 48/80\n",
      "1250/1250 [==============================] - 1s 895us/step - loss: 1.8754 - val_loss: 1.8833\n",
      "Epoch 49/80\n",
      "1250/1250 [==============================] - 1s 896us/step - loss: 1.8743 - val_loss: 1.8883\n",
      "Epoch 50/80\n",
      "1250/1250 [==============================] - 1s 871us/step - loss: 1.8727 - val_loss: 1.8945\n",
      "Epoch 51/80\n",
      "1250/1250 [==============================] - 1s 887us/step - loss: 1.8730 - val_loss: 1.8780\n",
      "Epoch 52/80\n",
      "1250/1250 [==============================] - 1s 897us/step - loss: 1.8705 - val_loss: 1.9007\n",
      "Epoch 53/80\n",
      "1250/1250 [==============================] - 1s 913us/step - loss: 1.8705 - val_loss: 1.8868\n",
      "Epoch 54/80\n",
      "1250/1250 [==============================] - 1s 895us/step - loss: 1.8705 - val_loss: 1.8881\n",
      "Epoch 55/80\n",
      "1250/1250 [==============================] - 1s 879us/step - loss: 1.8687 - val_loss: 1.8855\n",
      "Epoch 56/80\n",
      "1250/1250 [==============================] - 1s 862us/step - loss: 1.8669 - val_loss: 1.8772\n",
      "Epoch 57/80\n",
      "1250/1250 [==============================] - 1s 872us/step - loss: 1.8673 - val_loss: 1.8811\n",
      "Epoch 58/80\n",
      "1250/1250 [==============================] - 1s 856us/step - loss: 1.8660 - val_loss: 1.8813\n",
      "Epoch 59/80\n",
      "1250/1250 [==============================] - 1s 870us/step - loss: 1.8663 - val_loss: 1.8729\n",
      "Epoch 60/80\n",
      "1250/1250 [==============================] - 1s 860us/step - loss: 1.8641 - val_loss: 1.8788\n",
      "Epoch 61/80\n",
      "1250/1250 [==============================] - 1s 873us/step - loss: 1.8639 - val_loss: 1.8756\n",
      "Epoch 62/80\n",
      "1250/1250 [==============================] - 1s 854us/step - loss: 1.8626 - val_loss: 1.8701\n",
      "Epoch 63/80\n",
      "1250/1250 [==============================] - 1s 863us/step - loss: 1.8617 - val_loss: 1.8744\n",
      "Epoch 64/80\n",
      "1250/1250 [==============================] - 1s 854us/step - loss: 1.8625 - val_loss: 1.8708\n",
      "Epoch 65/80\n",
      "1250/1250 [==============================] - 1s 883us/step - loss: 1.8605 - val_loss: 1.8834\n",
      "Epoch 66/80\n",
      "1250/1250 [==============================] - 1s 851us/step - loss: 1.8600 - val_loss: 1.8710\n",
      "Epoch 67/80\n",
      "1250/1250 [==============================] - 1s 856us/step - loss: 1.8605 - val_loss: 1.8751\n"
     ]
    }
   ],
   "source": [
    "es = EarlyStopping(patience=5)\n",
    "\n",
    "history = model.fit(X_train,\n",
    "                    y_train,\n",
    "                    callbacks=[es],\n",
    "                    epochs=80, \n",
    "                    batch_size=64,\n",
    "                    validation_split=0.2,\n",
    "                    shuffle=True,\n",
    "                    verbose=1)"
   ]
  },
  {
   "cell_type": "code",
   "execution_count": 9,
   "metadata": {},
   "outputs": [
    {
     "data": {
      "text/plain": [
       "<matplotlib.legend.Legend at 0x7fc3287a2b20>"
      ]
     },
     "execution_count": 9,
     "metadata": {},
     "output_type": "execute_result"
    },
    {
     "data": {
      "image/png": "[encoded data removed]",
      "text/plain": [
       "<Figure size 432x288 with 1 Axes>"
      ]
     },
     "metadata": {
      "needs_background": "light"
     },
     "output_type": "display_data"
    }
   ],
   "source": [
    "history_dict = history.history\n",
    "loss_values = history_dict['loss'] \n",
    "val_loss_values = history_dict['val_loss'] \n",
    "epochs = range(1, len(loss_values) + 1) \n",
    "plt.plot(epochs, loss_values, 'bo', label='Training loss')\n",
    "plt.plot(epochs, val_loss_values, 'orange', label='Validation loss')\n",
    "plt.title('Training and validation loss')\n",
    "plt.xlabel('Epochs')\n",
    "plt.ylabel('Loss')\n",
    "plt.yscale('Log')\n",
    "plt.legend()\n",
    "#plt.savefig('/home/jieun201/fullprecision400e_yprofile/loss.png')"
   ]
  },
  {
   "cell_type": "code",
   "execution_count": 10,
   "metadata": {},
   "outputs": [],
   "source": [
    "#model.save('models_1Dy/gausstest.keras')"
   ]
  },
  {
   "cell_type": "code",
   "execution_count": 11,
   "metadata": {},
   "outputs": [],
   "source": [
    "p_test = model.predict(X_test)\n",
    "df = pd.DataFrame(p_test,columns=['mu','sigma'])\n",
    "df['ytrue'] = y_test\n",
    "df.to_csv(\"test_1DyGaus.csv\",header=False,index=False)"
   ]
  },
  {
   "cell_type": "code",
   "execution_count": 12,
   "metadata": {},
   "outputs": [],
   "source": [
    "residuals = y_test - p_test[:,0]"
   ]
  },
  {
   "cell_type": "code",
   "execution_count": 13,
   "metadata": {},
   "outputs": [
    {
     "data": {
      "image/png": "[encoded data removed]",
      "text/plain": [
       "<Figure size 432x288 with 1 Axes>"
      ]
     },
     "metadata": {
      "needs_background": "light"
     },
     "output_type": "display_data"
    },
    {
     "data": {
      "image/png": "[encoded data removed]",
      "text/plain": [
       "<Figure size 432x288 with 1 Axes>"
      ]
     },
     "metadata": {
      "needs_background": "light"
     },
     "output_type": "display_data"
    }
   ],
   "source": [
    "plt.hist(residuals,bins=50)\n",
    "plt.yscale('Log')\n",
    "plt.xlabel(r'$y-\\mu_y$ [um]')\n",
    "plt.show()\n",
    "\n",
    "plt.hist(p_test[:,1],bins=50);\n",
    "plt.yscale('Log')\n",
    "plt.xlabel(r'$\\sigma_y$ [um]')\n",
    "plt.show()"
   ]
  },
  {
   "cell_type": "code",
   "execution_count": 14,
   "metadata": {},
   "outputs": [
    {
     "data": {
      "text/plain": [
       "Text(0, 0.5, 'Predicted $y$ [um]')"
      ]
     },
     "execution_count": 14,
     "metadata": {},
     "output_type": "execute_result"
    },
    {
     "data": {
      "image/png": "[encoded data removed]",
      "text/plain": [
       "<Figure size 432x288 with 1 Axes>"
      ]
     },
     "metadata": {
      "needs_background": "light"
     },
     "output_type": "display_data"
    }
   ],
   "source": [
    "plt.errorbar(x=y_test,y=p_test[:,0],yerr=p_test[:,1],linestyle='',marker='.',markerfacecolor='black')\n",
    "plt.xlabel(r'$y$ [um]')\n",
    "plt.ylabel(r'Predicted $y$ [um]')"
   ]
  },
  {
   "cell_type": "code",
   "execution_count": 15,
   "metadata": {},
   "outputs": [
    {
     "data": {
      "text/plain": [
       "Text(0, 0.5, '$\\\\sigma_y$ [um]')"
      ]
     },
     "execution_count": 15,
     "metadata": {},
     "output_type": "execute_result"
    },
    {
     "data": {
      "image/png": "[encoded data removed]",
      "text/plain": [
       "<Figure size 432x288 with 1 Axes>"
      ]
     },
     "metadata": {
      "needs_background": "light"
     },
     "output_type": "display_data"
    }
   ],
   "source": [
    "plt.scatter(y_test,p_test[:,1])\n",
    "plt.xlabel(r'$y$ [um]')\n",
    "plt.ylabel(r'$\\sigma_y$ [um]')"
   ]
  },
  {
   "cell_type": "code",
   "execution_count": 16,
   "metadata": {},
   "outputs": [],
   "source": [
    "pulls = residuals/p_test[:,1]"
   ]
  },
  {
   "cell_type": "code",
   "execution_count": 17,
   "metadata": {},
   "outputs": [
    {
     "data": {
      "text/plain": [
       "Text(0.5, 0, 'pull')"
      ]
     },
     "execution_count": 17,
     "metadata": {},
     "output_type": "execute_result"
    },
    {
     "data": {
      "image/png": "[encoded data removed]",
      "text/plain": [
       "<Figure size 432x288 with 1 Axes>"
      ]
     },
     "metadata": {
      "needs_background": "light"
     },
     "output_type": "display_data"
    }
   ],
   "source": [
    "plt.hist(pulls,bins=50);\n",
    "plt.xlabel('pull')"
   ]
  },
  {
   "cell_type": "code",
   "execution_count": 18,
   "metadata": {},
   "outputs": [
    {
     "name": "stdout",
     "output_type": "stream",
     "text": [
      "-0.27360927263626433 1.1446227845483135\n"
     ]
    }
   ],
   "source": [
    "print(np.mean(pulls),np.std(pulls))"
   ]
  },
  {
   "cell_type": "code",
   "execution_count": null,
   "metadata": {},
   "outputs": [],
   "source": []
  }
 ],
 "metadata": {
  "kernelspec": {
   "display_name": "Python 3 (ipykernel)",
   "language": "python",
   "name": "python3"
  },
  "language_info": {
   "codemirror_mode": {
    "name": "ipython",
    "version": 3
   },
   "file_extension": ".py",
   "mimetype": "text/x-python",
   "name": "python",
   "nbconvert_exporter": "python",
   "pygments_lexer": "ipython3",
   "version": "3.9.6"
  }
 },
 "nbformat": 4,
 "nbformat_minor": 2
}
