{
 "cells": [
  {
   "cell_type": "code",
   "execution_count": 1,
   "metadata": {},
   "outputs": [
    {
     "name": "stderr",
     "output_type": "stream",
     "text": [
      "2022-11-16 21:25:23.032669: I tensorflow/core/platform/cpu_feature_guard.cc:193] This TensorFlow binary is optimized with oneAPI Deep Neural Network Library (oneDNN) to use the following CPU instructions in performance-critical operations:  AVX2 FMA\n",
      "To enable them in other operations, rebuild TensorFlow with the appropriate compiler flags.\n",
      "2022-11-16 21:25:23.196053: W tensorflow/stream_executor/platform/default/dso_loader.cc:64] Could not load dynamic library 'libcudart.so.11.0'; dlerror: libcudart.so.11.0: cannot open shared object file: No such file or directory\n",
      "2022-11-16 21:25:23.196113: I tensorflow/stream_executor/cuda/cudart_stub.cc:29] Ignore above cudart dlerror if you do not have a GPU set up on your machine.\n",
      "2022-11-16 21:25:23.220829: E tensorflow/stream_executor/cuda/cuda_blas.cc:2981] Unable to register cuBLAS factory: Attempting to register factory for plugin cuBLAS when one has already been registered\n",
      "2022-11-16 21:25:23.876902: W tensorflow/stream_executor/platform/default/dso_loader.cc:64] Could not load dynamic library 'libnvinfer.so.7'; dlerror: libnvinfer.so.7: cannot open shared object file: No such file or directory\n",
      "2022-11-16 21:25:23.877052: W tensorflow/stream_executor/platform/default/dso_loader.cc:64] Could not load dynamic library 'libnvinfer_plugin.so.7'; dlerror: libnvinfer_plugin.so.7: cannot open shared object file: No such file or directory\n",
      "2022-11-16 21:25:23.877062: W tensorflow/compiler/tf2tensorrt/utils/py_utils.cc:38] TF-TRT Warning: Cannot dlopen some TensorRT libraries. If you would like to use Nvidia GPU with TensorRT, please make sure the missing libraries mentioned above are installed properly.\n"
     ]
    }
   ],
   "source": [
    "from sklearn.metrics import mean_squared_error\n",
    "from sklearn.preprocessing import StandardScaler\n",
    "import tensorflow as tf\n",
    "from tensorflow.keras import datasets, layers, models\n",
    "from keras.models import Sequential\n",
    "from keras.layers import Dense, Dropout, Flatten, Input, Activation, BatchNormalization\n",
    "from tensorflow.keras.callbacks import EarlyStopping\n",
    "from tensorflow.keras.optimizers import Adam\n",
    "from qkeras import *\n",
    "%matplotlib inline\n",
    "import matplotlib.pyplot as plt\n",
    "import numpy as np\n",
    "import pandas as pd\n",
    "import math\n",
    "import seaborn as sns"
   ]
  },
  {
   "cell_type": "code",
   "execution_count": 2,
   "metadata": {},
   "outputs": [],
   "source": [
    "train_df = pd.read_csv('train_1Dy.csv',nrows=1000000)\n",
    "test_df = pd.read_csv('test_1Dy.csv',nrows=50000)"
   ]
  },
  {
   "cell_type": "code",
   "execution_count": 3,
   "metadata": {},
   "outputs": [],
   "source": [
    "X_train = train_df.drop(columns=['y-midplane','cotBeta']).values\n",
    "X_test = test_df.drop(columns=['y-midplane','cotBeta']).values\n",
    "\n",
    "y_train = train_df['y-midplane'].values\n",
    "y_test = test_df['y-midplane'].values"
   ]
  },
  {
   "cell_type": "code",
   "execution_count": 4,
   "metadata": {},
   "outputs": [],
   "source": [
    "# scale so that it is between 0 and 1\n",
    "def scale(X):\n",
    "    width = np.max(X) - np.min(X)\n",
    "    return ( X-np.min(X) ) / width"
   ]
  },
  {
   "cell_type": "code",
   "execution_count": 5,
   "metadata": {},
   "outputs": [],
   "source": [
    "X_train = scale(X_train.reshape(-1, X_train.shape[-1])).reshape(X_train.shape)\n",
    "X_test = scale(X_test.reshape(-1, X_test.shape[-1])).reshape(X_test.shape)"
   ]
  },
  {
   "cell_type": "code",
   "execution_count": 6,
   "metadata": {},
   "outputs": [],
   "source": [
    "def custom_loss(y, p):\n",
    "    \n",
    "    maxval = 1e9\n",
    "    minval = 1e-9\n",
    "    pi = 3.14159265359\n",
    "    \n",
    "    mu = tf.gather(params=p, indices=[0], axis=1)\n",
    "    sigma = 0.1+tf.math.softplus(tf.gather(params=p, indices=[1], axis=1))\n",
    "        \n",
    "    likelihood = 1.0/tf.math.sqrt(2*pi)/sigma*tf.math.exp(-1*(y-mu)*(y-mu)/(2*sigma*sigma))\n",
    "    likelihood = tf.clip_by_value(likelihood,minval,maxval)\n",
    "    \n",
    "    NLL = -1*tf.math.log(likelihood)\n",
    "    \n",
    "    return tf.keras.backend.sum(NLL,axis=1)"
   ]
  },
  {
   "cell_type": "code",
   "execution_count": 7,
   "metadata": {},
   "outputs": [
    {
     "name": "stdout",
     "output_type": "stream",
     "text": [
      "Model: \"model\"\n",
      "_________________________________________________________________\n",
      " Layer (type)                Output Shape              Param #   \n",
      "=================================================================\n",
      " input_1 (InputLayer)        [(None, 13)]              0         \n",
      "                                                                 \n",
      " dense1 (Dense)              (None, 64)                896       \n",
      "                                                                 \n",
      " relu1 (Activation)          (None, 64)                0         \n",
      "                                                                 \n",
      " dense2 (Dense)              (None, 2)                 130       \n",
      "                                                                 \n",
      "=================================================================\n",
      "Total params: 1,026\n",
      "Trainable params: 1,026\n",
      "Non-trainable params: 0\n",
      "_________________________________________________________________\n"
     ]
    },
    {
     "name": "stderr",
     "output_type": "stream",
     "text": [
      "2022-11-16 21:25:26.809600: I tensorflow/stream_executor/cuda/cuda_gpu_executor.cc:980] successful NUMA node read from SysFS had negative value (-1), but there must be at least one NUMA node, so returning NUMA node zero\n",
      "2022-11-16 21:25:26.809984: W tensorflow/stream_executor/platform/default/dso_loader.cc:64] Could not load dynamic library 'libcudart.so.11.0'; dlerror: libcudart.so.11.0: cannot open shared object file: No such file or directory\n",
      "2022-11-16 21:25:26.810055: W tensorflow/stream_executor/platform/default/dso_loader.cc:64] Could not load dynamic library 'libcublas.so.11'; dlerror: libcublas.so.11: cannot open shared object file: No such file or directory\n",
      "2022-11-16 21:25:26.810115: W tensorflow/stream_executor/platform/default/dso_loader.cc:64] Could not load dynamic library 'libcublasLt.so.11'; dlerror: libcublasLt.so.11: cannot open shared object file: No such file or directory\n",
      "2022-11-16 21:25:26.810177: W tensorflow/stream_executor/platform/default/dso_loader.cc:64] Could not load dynamic library 'libcufft.so.10'; dlerror: libcufft.so.10: cannot open shared object file: No such file or directory\n",
      "2022-11-16 21:25:26.810237: W tensorflow/stream_executor/platform/default/dso_loader.cc:64] Could not load dynamic library 'libcurand.so.10'; dlerror: libcurand.so.10: cannot open shared object file: No such file or directory\n",
      "2022-11-16 21:25:26.810302: W tensorflow/stream_executor/platform/default/dso_loader.cc:64] Could not load dynamic library 'libcusolver.so.11'; dlerror: libcusolver.so.11: cannot open shared object file: No such file or directory\n",
      "2022-11-16 21:25:26.810358: W tensorflow/stream_executor/platform/default/dso_loader.cc:64] Could not load dynamic library 'libcusparse.so.11'; dlerror: libcusparse.so.11: cannot open shared object file: No such file or directory\n",
      "2022-11-16 21:25:26.810413: W tensorflow/stream_executor/platform/default/dso_loader.cc:64] Could not load dynamic library 'libcudnn.so.8'; dlerror: libcudnn.so.8: cannot open shared object file: No such file or directory\n",
      "2022-11-16 21:25:26.810427: W tensorflow/core/common_runtime/gpu/gpu_device.cc:1934] Cannot dlopen some GPU libraries. Please make sure the missing libraries mentioned above are installed properly if you would like to use GPU. Follow the guide at https://www.tensorflow.org/install/gpu for how to download and setup the required libraries for your platform.\n",
      "Skipping registering GPU devices...\n",
      "2022-11-16 21:25:26.810829: I tensorflow/core/platform/cpu_feature_guard.cc:193] This TensorFlow binary is optimized with oneAPI Deep Neural Network Library (oneDNN) to use the following CPU instructions in performance-critical operations:  AVX2 FMA\n",
      "To enable them in other operations, rebuild TensorFlow with the appropriate compiler flags.\n"
     ]
    }
   ],
   "source": [
    "def CreateModel(shape):\n",
    "    x = x_in = Input(shape)\n",
    "    x = Dense(64, name=\"dense1\")(x)\n",
    "    x = Activation(\"relu\", name=\"relu1\")(x)\n",
    "    #x = BatchNormalization()(x)\n",
    "    x = Dense(2, name=\"dense2\")(x)\n",
    "    model = Model(inputs=x_in, outputs=x)\n",
    "    return model\n",
    "\n",
    "model=CreateModel(X_train.shape[1:])\n",
    "\n",
    "model.compile(optimizer=Adam(learning_rate=0.0001),\n",
    "              loss=custom_loss)\n",
    "\n",
    "model.summary()"
   ]
  },
  {
   "cell_type": "code",
   "execution_count": 8,
   "metadata": {},
   "outputs": [
    {
     "name": "stdout",
     "output_type": "stream",
     "text": [
      "Epoch 1/200\n",
      "196/196 [==============================] - 2s 4ms/step - loss: 16.9855 - val_loss: 16.8016\n",
      "Epoch 2/200\n",
      "196/196 [==============================] - 1s 3ms/step - loss: 16.5284 - val_loss: 16.2286\n",
      "Epoch 3/200\n",
      "196/196 [==============================] - 1s 3ms/step - loss: 15.8160 - val_loss: 15.3577\n",
      "Epoch 4/200\n",
      "196/196 [==============================] - 1s 3ms/step - loss: 14.7800 - val_loss: 14.1392\n",
      "Epoch 5/200\n",
      "196/196 [==============================] - 1s 3ms/step - loss: 13.3473 - val_loss: 12.4603\n",
      "Epoch 6/200\n",
      "196/196 [==============================] - 1s 3ms/step - loss: 11.4378 - val_loss: 10.3365\n",
      "Epoch 7/200\n",
      "196/196 [==============================] - 1s 3ms/step - loss: 9.2324 - val_loss: 8.1610\n",
      "Epoch 8/200\n",
      "196/196 [==============================] - 1s 4ms/step - loss: 7.3384 - val_loss: 6.6471\n",
      "Epoch 9/200\n",
      "196/196 [==============================] - 1s 4ms/step - loss: 6.2196 - val_loss: 5.8547\n",
      "Epoch 10/200\n",
      "196/196 [==============================] - 1s 4ms/step - loss: 5.6013 - val_loss: 5.3725\n",
      "Epoch 11/200\n",
      "196/196 [==============================] - 1s 3ms/step - loss: 5.2024 - val_loss: 5.0436\n",
      "Epoch 12/200\n",
      "196/196 [==============================] - 1s 3ms/step - loss: 4.9208 - val_loss: 4.8036\n",
      "Epoch 13/200\n",
      "196/196 [==============================] - 1s 3ms/step - loss: 4.7106 - val_loss: 4.6201\n",
      "Epoch 14/200\n",
      "196/196 [==============================] - 1s 3ms/step - loss: 4.5467 - val_loss: 4.4740\n",
      "Epoch 15/200\n",
      "196/196 [==============================] - 1s 4ms/step - loss: 4.4147 - val_loss: 4.3554\n",
      "Epoch 16/200\n",
      "196/196 [==============================] - 1s 3ms/step - loss: 4.3058 - val_loss: 4.2562\n",
      "Epoch 17/200\n",
      "196/196 [==============================] - 1s 3ms/step - loss: 4.2154 - val_loss: 4.1743\n",
      "Epoch 18/200\n",
      "196/196 [==============================] - 1s 3ms/step - loss: 4.1405 - val_loss: 4.1063\n",
      "Epoch 19/200\n",
      "196/196 [==============================] - 1s 3ms/step - loss: 4.0783 - val_loss: 4.0495\n",
      "Epoch 20/200\n",
      "196/196 [==============================] - 1s 3ms/step - loss: 4.0261 - val_loss: 4.0018\n",
      "Epoch 21/200\n",
      "196/196 [==============================] - 1s 4ms/step - loss: 3.9821 - val_loss: 3.9615\n",
      "Epoch 22/200\n",
      "196/196 [==============================] - 1s 4ms/step - loss: 3.9448 - val_loss: 3.9272\n",
      "Epoch 23/200\n",
      "196/196 [==============================] - 1s 3ms/step - loss: 3.9130 - val_loss: 3.8980\n",
      "Epoch 24/200\n",
      "196/196 [==============================] - 1s 4ms/step - loss: 3.8859 - val_loss: 3.8731\n",
      "Epoch 25/200\n",
      "196/196 [==============================] - 1s 4ms/step - loss: 3.8628 - val_loss: 3.8516\n",
      "Epoch 26/200\n",
      "196/196 [==============================] - 1s 3ms/step - loss: 3.8427 - val_loss: 3.8327\n",
      "Epoch 27/200\n",
      "196/196 [==============================] - 1s 4ms/step - loss: 3.8245 - val_loss: 3.8155\n",
      "Epoch 28/200\n",
      "196/196 [==============================] - 1s 3ms/step - loss: 3.8083 - val_loss: 3.8002\n",
      "Epoch 29/200\n",
      "196/196 [==============================] - 1s 3ms/step - loss: 3.7940 - val_loss: 3.7870\n",
      "Epoch 30/200\n",
      "196/196 [==============================] - 1s 3ms/step - loss: 3.7815 - val_loss: 3.7753\n",
      "Epoch 31/200\n",
      "196/196 [==============================] - 1s 3ms/step - loss: 3.7704 - val_loss: 3.7648\n",
      "Epoch 32/200\n",
      "196/196 [==============================] - 1s 5ms/step - loss: 3.7603 - val_loss: 3.7550\n",
      "Epoch 33/200\n",
      "196/196 [==============================] - 1s 3ms/step - loss: 3.7509 - val_loss: 3.7459\n",
      "Epoch 34/200\n",
      "196/196 [==============================] - 1s 3ms/step - loss: 3.7420 - val_loss: 3.7373\n",
      "Epoch 35/200\n",
      "196/196 [==============================] - 1s 3ms/step - loss: 3.7335 - val_loss: 3.7289\n",
      "Epoch 36/200\n",
      "196/196 [==============================] - 1s 3ms/step - loss: 3.7251 - val_loss: 3.7205\n",
      "Epoch 37/200\n",
      "196/196 [==============================] - 1s 4ms/step - loss: 3.7167 - val_loss: 3.7120\n",
      "Epoch 38/200\n",
      "196/196 [==============================] - 1s 3ms/step - loss: 3.7080 - val_loss: 3.7032\n",
      "Epoch 39/200\n",
      "196/196 [==============================] - 1s 3ms/step - loss: 3.6991 - val_loss: 3.6940\n",
      "Epoch 40/200\n",
      "196/196 [==============================] - 1s 3ms/step - loss: 3.6896 - val_loss: 3.6842\n",
      "Epoch 41/200\n",
      "196/196 [==============================] - 1s 3ms/step - loss: 3.6794 - val_loss: 3.6737\n",
      "Epoch 42/200\n",
      "196/196 [==============================] - 1s 3ms/step - loss: 3.6685 - val_loss: 3.6623\n",
      "Epoch 43/200\n",
      "196/196 [==============================] - 1s 3ms/step - loss: 3.6567 - val_loss: 3.6500\n",
      "Epoch 44/200\n",
      "196/196 [==============================] - 1s 3ms/step - loss: 3.6440 - val_loss: 3.6369\n",
      "Epoch 45/200\n",
      "196/196 [==============================] - 1s 3ms/step - loss: 3.6300 - val_loss: 3.6219\n",
      "Epoch 46/200\n",
      "196/196 [==============================] - 1s 3ms/step - loss: 3.6141 - val_loss: 3.6052\n",
      "Epoch 47/200\n",
      "196/196 [==============================] - 1s 3ms/step - loss: 3.5972 - val_loss: 3.5879\n",
      "Epoch 48/200\n",
      "196/196 [==============================] - 1s 3ms/step - loss: 3.5791 - val_loss: 3.5691\n",
      "Epoch 49/200\n",
      "196/196 [==============================] - 1s 4ms/step - loss: 3.5600 - val_loss: 3.5496\n",
      "Epoch 50/200\n",
      "196/196 [==============================] - 1s 3ms/step - loss: 3.5401 - val_loss: 3.5293\n",
      "Epoch 51/200\n",
      "196/196 [==============================] - 1s 3ms/step - loss: 3.5195 - val_loss: 3.5083\n",
      "Epoch 52/200\n",
      "196/196 [==============================] - 1s 3ms/step - loss: 3.4982 - val_loss: 3.4866\n",
      "Epoch 53/200\n",
      "196/196 [==============================] - 1s 3ms/step - loss: 3.4763 - val_loss: 3.4645\n",
      "Epoch 54/200\n",
      "196/196 [==============================] - 1s 3ms/step - loss: 3.4541 - val_loss: 3.4422\n",
      "Epoch 55/200\n",
      "196/196 [==============================] - 1s 3ms/step - loss: 3.4318 - val_loss: 3.4200\n",
      "Epoch 56/200\n",
      "196/196 [==============================] - 1s 3ms/step - loss: 3.4098 - val_loss: 3.3984\n",
      "Epoch 57/200\n",
      "196/196 [==============================] - 1s 3ms/step - loss: 3.3887 - val_loss: 3.3781\n",
      "Epoch 58/200\n",
      "196/196 [==============================] - 1s 3ms/step - loss: 3.3691 - val_loss: 3.3596\n",
      "Epoch 59/200\n",
      "196/196 [==============================] - 1s 3ms/step - loss: 3.3514 - val_loss: 3.3430\n",
      "Epoch 60/200\n",
      "196/196 [==============================] - 1s 3ms/step - loss: 3.3358 - val_loss: 3.3285\n",
      "Epoch 61/200\n",
      "196/196 [==============================] - 1s 3ms/step - loss: 3.3223 - val_loss: 3.3158\n",
      "Epoch 62/200\n",
      "196/196 [==============================] - 1s 3ms/step - loss: 3.3103 - val_loss: 3.3043\n",
      "Epoch 63/200\n",
      "196/196 [==============================] - 1s 3ms/step - loss: 3.2994 - val_loss: 3.2938\n",
      "Epoch 64/200\n",
      "196/196 [==============================] - 1s 3ms/step - loss: 3.2892 - val_loss: 3.2838\n",
      "Epoch 65/200\n",
      "196/196 [==============================] - 1s 4ms/step - loss: 3.2793 - val_loss: 3.2739\n",
      "Epoch 66/200\n",
      "196/196 [==============================] - 1s 4ms/step - loss: 3.2696 - val_loss: 3.2642\n",
      "Epoch 67/200\n",
      "196/196 [==============================] - 1s 4ms/step - loss: 3.2600 - val_loss: 3.2547\n",
      "Epoch 68/200\n",
      "196/196 [==============================] - 1s 3ms/step - loss: 3.2507 - val_loss: 3.2456\n",
      "Epoch 69/200\n",
      "196/196 [==============================] - 1s 3ms/step - loss: 3.2418 - val_loss: 3.2367\n",
      "Epoch 70/200\n",
      "196/196 [==============================] - 1s 3ms/step - loss: 3.2332 - val_loss: 3.2281\n",
      "Epoch 71/200\n",
      "196/196 [==============================] - 1s 3ms/step - loss: 3.2247 - val_loss: 3.2197\n",
      "Epoch 72/200\n",
      "196/196 [==============================] - 1s 4ms/step - loss: 3.2162 - val_loss: 3.2111\n",
      "Epoch 73/200\n",
      "196/196 [==============================] - 1s 3ms/step - loss: 3.2075 - val_loss: 3.2020\n",
      "Epoch 74/200\n",
      "196/196 [==============================] - 1s 3ms/step - loss: 3.1982 - val_loss: 3.1926\n",
      "Epoch 75/200\n",
      "196/196 [==============================] - 1s 3ms/step - loss: 3.1886 - val_loss: 3.1827\n",
      "Epoch 76/200\n",
      "196/196 [==============================] - 1s 4ms/step - loss: 3.1788 - val_loss: 3.1729\n",
      "Epoch 77/200\n",
      "196/196 [==============================] - 1s 3ms/step - loss: 3.1689 - val_loss: 3.1630\n",
      "Epoch 78/200\n",
      "196/196 [==============================] - 1s 3ms/step - loss: 3.1591 - val_loss: 3.1533\n",
      "Epoch 79/200\n",
      "196/196 [==============================] - 1s 3ms/step - loss: 3.1496 - val_loss: 3.1439\n",
      "Epoch 80/200\n",
      "196/196 [==============================] - 1s 3ms/step - loss: 3.1402 - val_loss: 3.1346\n",
      "Epoch 81/200\n",
      "196/196 [==============================] - 1s 3ms/step - loss: 3.1310 - val_loss: 3.1253\n",
      "Epoch 82/200\n",
      "196/196 [==============================] - 1s 3ms/step - loss: 3.1217 - val_loss: 3.1160\n",
      "Epoch 83/200\n",
      "196/196 [==============================] - 1s 4ms/step - loss: 3.1122 - val_loss: 3.1062\n",
      "Epoch 84/200\n",
      "196/196 [==============================] - 1s 3ms/step - loss: 3.1023 - val_loss: 3.0961\n",
      "Epoch 85/200\n",
      "196/196 [==============================] - 1s 4ms/step - loss: 3.0917 - val_loss: 3.0852\n",
      "Epoch 86/200\n",
      "196/196 [==============================] - 1s 3ms/step - loss: 3.0806 - val_loss: 3.0742\n",
      "Epoch 87/200\n",
      "196/196 [==============================] - 1s 3ms/step - loss: 3.0695 - val_loss: 3.0630\n",
      "Epoch 88/200\n",
      "196/196 [==============================] - 1s 3ms/step - loss: 3.0585 - val_loss: 3.0519\n",
      "Epoch 89/200\n",
      "196/196 [==============================] - 1s 3ms/step - loss: 3.0475 - val_loss: 3.0410\n",
      "Epoch 90/200\n",
      "196/196 [==============================] - 1s 4ms/step - loss: 3.0367 - val_loss: 3.0304\n",
      "Epoch 91/200\n",
      "196/196 [==============================] - 1s 3ms/step - loss: 3.0263 - val_loss: 3.0201\n",
      "Epoch 92/200\n",
      "196/196 [==============================] - 1s 3ms/step - loss: 3.0162 - val_loss: 3.0101\n",
      "Epoch 93/200\n",
      "196/196 [==============================] - 1s 3ms/step - loss: 3.0063 - val_loss: 3.0003\n",
      "Epoch 94/200\n",
      "196/196 [==============================] - 1s 3ms/step - loss: 2.9965 - val_loss: 2.9905\n",
      "Epoch 95/200\n",
      "196/196 [==============================] - 1s 3ms/step - loss: 2.9867 - val_loss: 2.9806\n",
      "Epoch 96/200\n",
      "196/196 [==============================] - 1s 3ms/step - loss: 2.9768 - val_loss: 2.9707\n",
      "Epoch 97/200\n",
      "196/196 [==============================] - 1s 3ms/step - loss: 2.9669 - val_loss: 2.9608\n",
      "Epoch 98/200\n",
      "196/196 [==============================] - 1s 3ms/step - loss: 2.9570 - val_loss: 2.9508\n",
      "Epoch 99/200\n",
      "196/196 [==============================] - 1s 4ms/step - loss: 2.9470 - val_loss: 2.9408\n",
      "Epoch 100/200\n",
      "196/196 [==============================] - 1s 3ms/step - loss: 2.9371 - val_loss: 2.9309\n",
      "Epoch 101/200\n",
      "196/196 [==============================] - 1s 3ms/step - loss: 2.9274 - val_loss: 2.9212\n",
      "Epoch 102/200\n",
      "196/196 [==============================] - 1s 3ms/step - loss: 2.9177 - val_loss: 2.9115\n",
      "Epoch 103/200\n",
      "196/196 [==============================] - 1s 3ms/step - loss: 2.9080 - val_loss: 2.9018\n",
      "Epoch 104/200\n",
      "196/196 [==============================] - 1s 3ms/step - loss: 2.8983 - val_loss: 2.8919\n",
      "Epoch 105/200\n",
      "196/196 [==============================] - 1s 3ms/step - loss: 2.8884 - val_loss: 2.8820\n",
      "Epoch 106/200\n",
      "196/196 [==============================] - 1s 3ms/step - loss: 2.8786 - val_loss: 2.8723\n",
      "Epoch 107/200\n",
      "196/196 [==============================] - 1s 3ms/step - loss: 2.8688 - val_loss: 2.8625\n",
      "Epoch 108/200\n",
      "196/196 [==============================] - 1s 3ms/step - loss: 2.8592 - val_loss: 2.8530\n",
      "Epoch 109/200\n",
      "196/196 [==============================] - 1s 3ms/step - loss: 2.8498 - val_loss: 2.8435\n",
      "Epoch 110/200\n",
      "196/196 [==============================] - 1s 3ms/step - loss: 2.8404 - val_loss: 2.8342\n",
      "Epoch 111/200\n",
      "196/196 [==============================] - 1s 3ms/step - loss: 2.8311 - val_loss: 2.8249\n",
      "Epoch 112/200\n",
      "196/196 [==============================] - 1s 3ms/step - loss: 2.8219 - val_loss: 2.8157\n",
      "Epoch 113/200\n",
      "196/196 [==============================] - 1s 3ms/step - loss: 2.8126 - val_loss: 2.8064\n",
      "Epoch 114/200\n",
      "196/196 [==============================] - 1s 3ms/step - loss: 2.8032 - val_loss: 2.7970\n",
      "Epoch 115/200\n",
      "196/196 [==============================] - 1s 3ms/step - loss: 2.7938 - val_loss: 2.7876\n",
      "Epoch 116/200\n",
      "196/196 [==============================] - 1s 3ms/step - loss: 2.7845 - val_loss: 2.7784\n",
      "Epoch 117/200\n",
      "196/196 [==============================] - 1s 3ms/step - loss: 2.7753 - val_loss: 2.7693\n",
      "Epoch 118/200\n",
      "196/196 [==============================] - 1s 3ms/step - loss: 2.7663 - val_loss: 2.7603\n",
      "Epoch 119/200\n",
      "196/196 [==============================] - 1s 3ms/step - loss: 2.7573 - val_loss: 2.7515\n",
      "Epoch 120/200\n",
      "196/196 [==============================] - 1s 3ms/step - loss: 2.7485 - val_loss: 2.7426\n",
      "Epoch 121/200\n",
      "196/196 [==============================] - 1s 3ms/step - loss: 2.7396 - val_loss: 2.7338\n",
      "Epoch 122/200\n",
      "196/196 [==============================] - 1s 3ms/step - loss: 2.7308 - val_loss: 2.7251\n",
      "Epoch 123/200\n",
      "196/196 [==============================] - 1s 4ms/step - loss: 2.7220 - val_loss: 2.7163\n",
      "Epoch 124/200\n",
      "196/196 [==============================] - 1s 3ms/step - loss: 2.7133 - val_loss: 2.7077\n",
      "Epoch 125/200\n",
      "196/196 [==============================] - 1s 3ms/step - loss: 2.7046 - val_loss: 2.6990\n",
      "Epoch 126/200\n",
      "196/196 [==============================] - 1s 3ms/step - loss: 2.6959 - val_loss: 2.6903\n",
      "Epoch 127/200\n",
      "196/196 [==============================] - 1s 3ms/step - loss: 2.6872 - val_loss: 2.6817\n",
      "Epoch 128/200\n",
      "196/196 [==============================] - 1s 3ms/step - loss: 2.6786 - val_loss: 2.6731\n",
      "Epoch 129/200\n",
      "196/196 [==============================] - 1s 3ms/step - loss: 2.6699 - val_loss: 2.6644\n",
      "Epoch 130/200\n",
      "196/196 [==============================] - 1s 3ms/step - loss: 2.6612 - val_loss: 2.6558\n",
      "Epoch 131/200\n",
      "196/196 [==============================] - 1s 4ms/step - loss: 2.6525 - val_loss: 2.6471\n",
      "Epoch 132/200\n",
      "196/196 [==============================] - 1s 4ms/step - loss: 2.6438 - val_loss: 2.6386\n",
      "Epoch 133/200\n",
      "196/196 [==============================] - 1s 3ms/step - loss: 2.6353 - val_loss: 2.6302\n",
      "Epoch 134/200\n",
      "196/196 [==============================] - 1s 3ms/step - loss: 2.6270 - val_loss: 2.6220\n",
      "Epoch 135/200\n",
      "196/196 [==============================] - 1s 3ms/step - loss: 2.6188 - val_loss: 2.6140\n",
      "Epoch 136/200\n",
      "196/196 [==============================] - 1s 3ms/step - loss: 2.6107 - val_loss: 2.6061\n",
      "Epoch 137/200\n",
      "196/196 [==============================] - 1s 3ms/step - loss: 2.6027 - val_loss: 2.5982\n",
      "Epoch 138/200\n",
      "196/196 [==============================] - 1s 3ms/step - loss: 2.5948 - val_loss: 2.5903\n",
      "Epoch 139/200\n",
      "196/196 [==============================] - 1s 3ms/step - loss: 2.5869 - val_loss: 2.5825\n",
      "Epoch 140/200\n",
      "196/196 [==============================] - 1s 4ms/step - loss: 2.5791 - val_loss: 2.5749\n",
      "Epoch 141/200\n",
      "196/196 [==============================] - 1s 3ms/step - loss: 2.5713 - val_loss: 2.5672\n",
      "Epoch 142/200\n",
      "196/196 [==============================] - 1s 4ms/step - loss: 2.5636 - val_loss: 2.5596\n",
      "Epoch 143/200\n",
      "196/196 [==============================] - 1s 4ms/step - loss: 2.5560 - val_loss: 2.5521\n",
      "Epoch 144/200\n",
      "196/196 [==============================] - 1s 4ms/step - loss: 2.5484 - val_loss: 2.5446\n",
      "Epoch 145/200\n",
      "196/196 [==============================] - 1s 3ms/step - loss: 2.5409 - val_loss: 2.5372\n",
      "Epoch 146/200\n",
      "196/196 [==============================] - 1s 3ms/step - loss: 2.5335 - val_loss: 2.5299\n",
      "Epoch 147/200\n",
      "196/196 [==============================] - 1s 3ms/step - loss: 2.5261 - val_loss: 2.5227\n",
      "Epoch 148/200\n",
      "196/196 [==============================] - 1s 3ms/step - loss: 2.5188 - val_loss: 2.5155\n",
      "Epoch 149/200\n",
      "196/196 [==============================] - 1s 3ms/step - loss: 2.5115 - val_loss: 2.5084\n",
      "Epoch 150/200\n",
      "196/196 [==============================] - 1s 3ms/step - loss: 2.5044 - val_loss: 2.5014\n",
      "Epoch 151/200\n",
      "196/196 [==============================] - 1s 3ms/step - loss: 2.4973 - val_loss: 2.4944\n",
      "Epoch 152/200\n",
      "196/196 [==============================] - 1s 3ms/step - loss: 2.4902 - val_loss: 2.4875\n",
      "Epoch 153/200\n",
      "196/196 [==============================] - 1s 4ms/step - loss: 2.4832 - val_loss: 2.4807\n",
      "Epoch 154/200\n",
      "196/196 [==============================] - 1s 4ms/step - loss: 2.4763 - val_loss: 2.4739\n",
      "Epoch 155/200\n",
      "196/196 [==============================] - 1s 3ms/step - loss: 2.4695 - val_loss: 2.4672\n",
      "Epoch 156/200\n",
      "196/196 [==============================] - 1s 3ms/step - loss: 2.4627 - val_loss: 2.4605\n",
      "Epoch 157/200\n",
      "196/196 [==============================] - 1s 4ms/step - loss: 2.4560 - val_loss: 2.4539\n",
      "Epoch 158/200\n",
      "196/196 [==============================] - 1s 3ms/step - loss: 2.4494 - val_loss: 2.4474\n",
      "Epoch 159/200\n",
      "196/196 [==============================] - 1s 3ms/step - loss: 2.4429 - val_loss: 2.4410\n",
      "Epoch 160/200\n",
      "196/196 [==============================] - 1s 4ms/step - loss: 2.4364 - val_loss: 2.4347\n",
      "Epoch 161/200\n",
      "196/196 [==============================] - 1s 3ms/step - loss: 2.4300 - val_loss: 2.4284\n",
      "Epoch 162/200\n",
      "196/196 [==============================] - 1s 4ms/step - loss: 2.4237 - val_loss: 2.4223\n",
      "Epoch 163/200\n",
      "196/196 [==============================] - 1s 3ms/step - loss: 2.4175 - val_loss: 2.4162\n",
      "Epoch 164/200\n",
      "196/196 [==============================] - 1s 3ms/step - loss: 2.4113 - val_loss: 2.4102\n",
      "Epoch 165/200\n",
      "196/196 [==============================] - 1s 3ms/step - loss: 2.4053 - val_loss: 2.4042\n",
      "Epoch 166/200\n",
      "196/196 [==============================] - 1s 4ms/step - loss: 2.3993 - val_loss: 2.3984\n",
      "Epoch 167/200\n",
      "196/196 [==============================] - 1s 4ms/step - loss: 2.3934 - val_loss: 2.3926\n",
      "Epoch 168/200\n",
      "196/196 [==============================] - 1s 3ms/step - loss: 2.3876 - val_loss: 2.3869\n",
      "Epoch 169/200\n",
      "196/196 [==============================] - 1s 3ms/step - loss: 2.3819 - val_loss: 2.3812\n",
      "Epoch 170/200\n",
      "196/196 [==============================] - 1s 4ms/step - loss: 2.3762 - val_loss: 2.3757\n",
      "Epoch 171/200\n",
      "196/196 [==============================] - 1s 3ms/step - loss: 2.3706 - val_loss: 2.3702\n",
      "Epoch 172/200\n",
      "196/196 [==============================] - 1s 3ms/step - loss: 2.3652 - val_loss: 2.3648\n",
      "Epoch 173/200\n",
      "196/196 [==============================] - 1s 3ms/step - loss: 2.3598 - val_loss: 2.3596\n",
      "Epoch 174/200\n",
      "196/196 [==============================] - 1s 5ms/step - loss: 2.3545 - val_loss: 2.3544\n",
      "Epoch 175/200\n",
      "196/196 [==============================] - 1s 4ms/step - loss: 2.3493 - val_loss: 2.3494\n",
      "Epoch 176/200\n",
      "196/196 [==============================] - 1s 3ms/step - loss: 2.3442 - val_loss: 2.3442\n",
      "Epoch 177/200\n",
      "196/196 [==============================] - 1s 4ms/step - loss: 2.3391 - val_loss: 2.3393\n",
      "Epoch 178/200\n",
      "196/196 [==============================] - 1s 3ms/step - loss: 2.3342 - val_loss: 2.3344\n",
      "Epoch 179/200\n",
      "196/196 [==============================] - 1s 3ms/step - loss: 2.3293 - val_loss: 2.3296\n",
      "Epoch 180/200\n",
      "196/196 [==============================] - 1s 4ms/step - loss: 2.3245 - val_loss: 2.3249\n",
      "Epoch 181/200\n",
      "196/196 [==============================] - 1s 3ms/step - loss: 2.3198 - val_loss: 2.3203\n",
      "Epoch 182/200\n",
      "196/196 [==============================] - 1s 4ms/step - loss: 2.3152 - val_loss: 2.3157\n",
      "Epoch 183/200\n",
      "196/196 [==============================] - 1s 3ms/step - loss: 2.3106 - val_loss: 2.3113\n",
      "Epoch 184/200\n",
      "196/196 [==============================] - 1s 3ms/step - loss: 2.3062 - val_loss: 2.3069\n",
      "Epoch 185/200\n",
      "196/196 [==============================] - 1s 3ms/step - loss: 2.3018 - val_loss: 2.3026\n",
      "Epoch 186/200\n",
      "196/196 [==============================] - 1s 3ms/step - loss: 2.2975 - val_loss: 2.2984\n",
      "Epoch 187/200\n",
      "196/196 [==============================] - 1s 3ms/step - loss: 2.2933 - val_loss: 2.2942\n",
      "Epoch 188/200\n",
      "196/196 [==============================] - 1s 3ms/step - loss: 2.2891 - val_loss: 2.2901\n",
      "Epoch 189/200\n",
      "196/196 [==============================] - 1s 4ms/step - loss: 2.2850 - val_loss: 2.2860\n",
      "Epoch 190/200\n",
      "196/196 [==============================] - 1s 4ms/step - loss: 2.2810 - val_loss: 2.2821\n",
      "Epoch 191/200\n",
      "196/196 [==============================] - 1s 5ms/step - loss: 2.2770 - val_loss: 2.2782\n",
      "Epoch 192/200\n",
      "196/196 [==============================] - 1s 3ms/step - loss: 2.2731 - val_loss: 2.2744\n",
      "Epoch 193/200\n",
      "196/196 [==============================] - 1s 4ms/step - loss: 2.2693 - val_loss: 2.2706\n",
      "Epoch 194/200\n",
      "196/196 [==============================] - 1s 4ms/step - loss: 2.2655 - val_loss: 2.2669\n",
      "Epoch 195/200\n",
      "196/196 [==============================] - 1s 4ms/step - loss: 2.2618 - val_loss: 2.2634\n",
      "Epoch 196/200\n",
      "196/196 [==============================] - 1s 4ms/step - loss: 2.2581 - val_loss: 2.2597\n",
      "Epoch 197/200\n",
      "196/196 [==============================] - 1s 5ms/step - loss: 2.2546 - val_loss: 2.2561\n",
      "Epoch 198/200\n",
      "196/196 [==============================] - 1s 4ms/step - loss: 2.2510 - val_loss: 2.2527\n",
      "Epoch 199/200\n",
      "196/196 [==============================] - 1s 5ms/step - loss: 2.2475 - val_loss: 2.2493\n",
      "Epoch 200/200\n",
      "196/196 [==============================] - 1s 5ms/step - loss: 2.2441 - val_loss: 2.2459\n"
     ]
    }
   ],
   "source": [
    "es = EarlyStopping(patience=10,\n",
    "                  restore_best_weights=True)\n",
    "\n",
    "history = model.fit(X_train,\n",
    "                    y_train,\n",
    "                    callbacks=[es],\n",
    "                    epochs=200, \n",
    "                    batch_size=4096,\n",
    "                    validation_split=0.2,\n",
    "                    shuffle=True,\n",
    "                    verbose=1)"
   ]
  },
  {
   "cell_type": "code",
   "execution_count": 9,
   "metadata": {},
   "outputs": [
    {
     "name": "stderr",
     "output_type": "stream",
     "text": [
      "/tmp/ipykernel_213074/4052347745.py:10: MatplotlibDeprecationWarning: Support for case-insensitive scales is deprecated since 3.5 and support will be removed two minor releases later.\n",
      "  plt.yscale('Log')\n"
     ]
    },
    {
     "data": {
      "text/plain": [
       "<matplotlib.legend.Legend at 0x7f6850146370>"
      ]
     },
     "execution_count": 9,
     "metadata": {},
     "output_type": "execute_result"
    },
    {
     "data": {
      "image/png": "[encoded data removed]",
      "text/plain": [
       "<Figure size 640x480 with 1 Axes>"
      ]
     },
     "metadata": {},
     "output_type": "display_data"
    }
   ],
   "source": [
    "history_dict = history.history\n",
    "loss_values = history_dict['loss'] \n",
    "val_loss_values = history_dict['val_loss'] \n",
    "epochs = range(1, len(loss_values) + 1) \n",
    "plt.plot(epochs, loss_values, 'bo', label='Training loss')\n",
    "plt.plot(epochs, val_loss_values, 'orange', label='Validation loss')\n",
    "plt.title('Training and validation loss')\n",
    "plt.xlabel('Epochs')\n",
    "plt.ylabel('Loss')\n",
    "plt.yscale('Log')\n",
    "plt.legend()"
   ]
  },
  {
   "cell_type": "code",
   "execution_count": 10,
   "metadata": {},
   "outputs": [],
   "source": [
    "model.save('models_1Dy/gauss.keras')"
   ]
  },
  {
   "cell_type": "code",
   "execution_count": 11,
   "metadata": {},
   "outputs": [
    {
     "name": "stdout",
     "output_type": "stream",
     "text": [
      "1563/1563 [==============================] - 1s 715us/step\n"
     ]
    }
   ],
   "source": [
    "p_test = model.predict(X_test)\n",
    "df = pd.DataFrame(p_test,columns=['mu','sigma'])\n",
    "df['sigma'] = 0.1 + tf.math.softplus(df['sigma'])\n",
    "df['ytrue'] = y_test\n",
    "df.to_csv(\"test_1DyGauss.csv\",header=False,index=False)"
   ]
  },
  {
   "cell_type": "code",
   "execution_count": 12,
   "metadata": {},
   "outputs": [],
   "source": [
    "residuals = y_test - p_test[:,0]\n",
    "uncertainty= 0.1 + tf.math.softplus(p_test[:,1])"
   ]
  },
  {
   "cell_type": "code",
   "execution_count": 13,
   "metadata": {},
   "outputs": [
    {
     "name": "stderr",
     "output_type": "stream",
     "text": [
      "/tmp/ipykernel_213074/1616372605.py:2: MatplotlibDeprecationWarning: Support for case-insensitive scales is deprecated since 3.5 and support will be removed two minor releases later.\n",
      "  plt.yscale('Log')\n"
     ]
    },
    {
     "data": {
      "image/png": "[encoded data removed]",
      "text/plain": [
       "<Figure size 640x480 with 1 Axes>"
      ]
     },
     "metadata": {},
     "output_type": "display_data"
    },
    {
     "name": "stderr",
     "output_type": "stream",
     "text": [
      "/tmp/ipykernel_213074/1616372605.py:7: MatplotlibDeprecationWarning: Support for case-insensitive scales is deprecated since 3.5 and support will be removed two minor releases later.\n",
      "  plt.yscale('Log')\n"
     ]
    },
    {
     "data": {
      "image/png": "[encoded data removed]",
      "text/plain": [
       "<Figure size 640x480 with 1 Axes>"
      ]
     },
     "metadata": {},
     "output_type": "display_data"
    }
   ],
   "source": [
    "plt.hist(residuals,bins=50)\n",
    "plt.yscale('Log')\n",
    "plt.xlabel(r'$y-\\mu_y$ [um]')\n",
    "plt.show()\n",
    "\n",
    "plt.hist(p_test[:,1],bins=50);\n",
    "plt.yscale('Log')\n",
    "plt.xlabel(r'$\\sigma_y$ [um]')\n",
    "plt.show()"
   ]
  },
  {
   "cell_type": "code",
   "execution_count": 14,
   "metadata": {},
   "outputs": [],
   "source": [
    "pulls = residuals/p_test[:,1]"
   ]
  },
  {
   "cell_type": "code",
   "execution_count": 15,
   "metadata": {},
   "outputs": [
    {
     "data": {
      "text/plain": [
       "Text(0.5, 0, 'pull')"
      ]
     },
     "execution_count": 15,
     "metadata": {},
     "output_type": "execute_result"
    },
    {
     "data": {
      "image/png": "[encoded data removed]",
      "text/plain": [
       "<Figure size 640x480 with 1 Axes>"
      ]
     },
     "metadata": {},
     "output_type": "display_data"
    }
   ],
   "source": [
    "plt.hist(pulls,bins=50);\n",
    "plt.xlabel('pull')"
   ]
  },
  {
   "cell_type": "code",
   "execution_count": 16,
   "metadata": {},
   "outputs": [
    {
     "name": "stdout",
     "output_type": "stream",
     "text": [
      "0.01210386811657965 1.264961245495388\n"
     ]
    }
   ],
   "source": [
    "print(np.mean(pulls),np.std(pulls))"
   ]
  },
  {
   "cell_type": "code",
   "execution_count": 17,
   "metadata": {},
   "outputs": [
    {
     "data": {
      "text/plain": [
       "[<keras.engine.input_layer.InputLayer at 0x7f6865e2dac0>,\n",
       " <keras.layers.core.dense.Dense at 0x7f6865e7c1c0>,\n",
       " <keras.layers.core.activation.Activation at 0x7f6865e5e220>,\n",
       " <keras.layers.core.dense.Dense at 0x7f6865e5e3a0>]"
      ]
     },
     "execution_count": 17,
     "metadata": {},
     "output_type": "execute_result"
    }
   ],
   "source": [
    "model.layers"
   ]
  },
  {
   "cell_type": "code",
   "execution_count": 18,
   "metadata": {},
   "outputs": [
    {
     "name": "stderr",
     "output_type": "stream",
     "text": [
      "/tmp/ipykernel_213074/2940326780.py:1: VisibleDeprecationWarning: Creating an ndarray from ragged nested sequences (which is a list-or-tuple of lists-or-tuples-or ndarrays with different lengths or shapes) is deprecated. If you meant to do this, you must specify 'dtype=object' when creating the ndarray.\n",
      "  max(np.array(model.layers[1].get_weights()).flatten()[0].flatten())\n"
     ]
    },
    {
     "data": {
      "text/plain": [
       "3.2506566"
      ]
     },
     "execution_count": 18,
     "metadata": {},
     "output_type": "execute_result"
    }
   ],
   "source": [
    "max(np.array(model.layers[1].get_weights()).flatten()[0].flatten())"
   ]
  },
  {
   "cell_type": "code",
   "execution_count": 19,
   "metadata": {},
   "outputs": [
    {
     "data": {
      "text/plain": [
       "[]"
      ]
     },
     "execution_count": 19,
     "metadata": {},
     "output_type": "execute_result"
    }
   ],
   "source": [
    "model.layers[2].get_weights()"
   ]
  },
  {
   "cell_type": "code",
   "execution_count": 20,
   "metadata": {},
   "outputs": [
    {
     "name": "stderr",
     "output_type": "stream",
     "text": [
      "/tmp/ipykernel_213074/446400839.py:1: VisibleDeprecationWarning: Creating an ndarray from ragged nested sequences (which is a list-or-tuple of lists-or-tuples-or ndarrays with different lengths or shapes) is deprecated. If you meant to do this, you must specify 'dtype=object' when creating the ndarray.\n",
      "  np.max(np.array(model.layers[3].get_weights()).flatten())\n"
     ]
    },
    {
     "ename": "ValueError",
     "evalue": "The truth value of an array with more than one element is ambiguous. Use a.any() or a.all()",
     "output_type": "error",
     "traceback": [
      "\u001b[0;31m---------------------------------------------------------------------------\u001b[0m",
      "\u001b[0;31mValueError\u001b[0m                                Traceback (most recent call last)",
      "Input \u001b[0;32mIn [20]\u001b[0m, in \u001b[0;36m<cell line: 1>\u001b[0;34m()\u001b[0m\n\u001b[0;32m----> 1\u001b[0m \u001b[43mnp\u001b[49m\u001b[38;5;241;43m.\u001b[39;49m\u001b[43mmax\u001b[49m\u001b[43m(\u001b[49m\u001b[43mnp\u001b[49m\u001b[38;5;241;43m.\u001b[39;49m\u001b[43marray\u001b[49m\u001b[43m(\u001b[49m\u001b[43mmodel\u001b[49m\u001b[38;5;241;43m.\u001b[39;49m\u001b[43mlayers\u001b[49m\u001b[43m[\u001b[49m\u001b[38;5;241;43m3\u001b[39;49m\u001b[43m]\u001b[49m\u001b[38;5;241;43m.\u001b[39;49m\u001b[43mget_weights\u001b[49m\u001b[43m(\u001b[49m\u001b[43m)\u001b[49m\u001b[43m)\u001b[49m\u001b[38;5;241;43m.\u001b[39;49m\u001b[43mflatten\u001b[49m\u001b[43m(\u001b[49m\u001b[43m)\u001b[49m\u001b[43m)\u001b[49m\n",
      "File \u001b[0;32m<__array_function__ internals>:180\u001b[0m, in \u001b[0;36mamax\u001b[0;34m(*args, **kwargs)\u001b[0m\n",
      "File \u001b[0;32m~/.local/lib/python3.9/site-packages/numpy/core/fromnumeric.py:2793\u001b[0m, in \u001b[0;36mamax\u001b[0;34m(a, axis, out, keepdims, initial, where)\u001b[0m\n\u001b[1;32m   2677\u001b[0m \u001b[38;5;129m@array_function_dispatch\u001b[39m(_amax_dispatcher)\n\u001b[1;32m   2678\u001b[0m \u001b[38;5;28;01mdef\u001b[39;00m \u001b[38;5;21mamax\u001b[39m(a, axis\u001b[38;5;241m=\u001b[39m\u001b[38;5;28;01mNone\u001b[39;00m, out\u001b[38;5;241m=\u001b[39m\u001b[38;5;28;01mNone\u001b[39;00m, keepdims\u001b[38;5;241m=\u001b[39mnp\u001b[38;5;241m.\u001b[39m_NoValue, initial\u001b[38;5;241m=\u001b[39mnp\u001b[38;5;241m.\u001b[39m_NoValue,\n\u001b[1;32m   2679\u001b[0m          where\u001b[38;5;241m=\u001b[39mnp\u001b[38;5;241m.\u001b[39m_NoValue):\n\u001b[1;32m   2680\u001b[0m     \u001b[38;5;124;03m\"\"\"\u001b[39;00m\n\u001b[1;32m   2681\u001b[0m \u001b[38;5;124;03m    Return the maximum of an array or maximum along an axis.\u001b[39;00m\n\u001b[1;32m   2682\u001b[0m \n\u001b[0;32m   (...)\u001b[0m\n\u001b[1;32m   2791\u001b[0m \u001b[38;5;124;03m    5\u001b[39;00m\n\u001b[1;32m   2792\u001b[0m \u001b[38;5;124;03m    \"\"\"\u001b[39;00m\n\u001b[0;32m-> 2793\u001b[0m     \u001b[38;5;28;01mreturn\u001b[39;00m \u001b[43m_wrapreduction\u001b[49m\u001b[43m(\u001b[49m\u001b[43ma\u001b[49m\u001b[43m,\u001b[49m\u001b[43m \u001b[49m\u001b[43mnp\u001b[49m\u001b[38;5;241;43m.\u001b[39;49m\u001b[43mmaximum\u001b[49m\u001b[43m,\u001b[49m\u001b[43m \u001b[49m\u001b[38;5;124;43m'\u001b[39;49m\u001b[38;5;124;43mmax\u001b[39;49m\u001b[38;5;124;43m'\u001b[39;49m\u001b[43m,\u001b[49m\u001b[43m \u001b[49m\u001b[43maxis\u001b[49m\u001b[43m,\u001b[49m\u001b[43m \u001b[49m\u001b[38;5;28;43;01mNone\u001b[39;49;00m\u001b[43m,\u001b[49m\u001b[43m \u001b[49m\u001b[43mout\u001b[49m\u001b[43m,\u001b[49m\n\u001b[1;32m   2794\u001b[0m \u001b[43m                          \u001b[49m\u001b[43mkeepdims\u001b[49m\u001b[38;5;241;43m=\u001b[39;49m\u001b[43mkeepdims\u001b[49m\u001b[43m,\u001b[49m\u001b[43m \u001b[49m\u001b[43minitial\u001b[49m\u001b[38;5;241;43m=\u001b[39;49m\u001b[43minitial\u001b[49m\u001b[43m,\u001b[49m\u001b[43m \u001b[49m\u001b[43mwhere\u001b[49m\u001b[38;5;241;43m=\u001b[39;49m\u001b[43mwhere\u001b[49m\u001b[43m)\u001b[49m\n",
      "File \u001b[0;32m~/.local/lib/python3.9/site-packages/numpy/core/fromnumeric.py:86\u001b[0m, in \u001b[0;36m_wrapreduction\u001b[0;34m(obj, ufunc, method, axis, dtype, out, **kwargs)\u001b[0m\n\u001b[1;32m     83\u001b[0m         \u001b[38;5;28;01melse\u001b[39;00m:\n\u001b[1;32m     84\u001b[0m             \u001b[38;5;28;01mreturn\u001b[39;00m reduction(axis\u001b[38;5;241m=\u001b[39maxis, out\u001b[38;5;241m=\u001b[39mout, \u001b[38;5;241m*\u001b[39m\u001b[38;5;241m*\u001b[39mpasskwargs)\n\u001b[0;32m---> 86\u001b[0m \u001b[38;5;28;01mreturn\u001b[39;00m \u001b[43mufunc\u001b[49m\u001b[38;5;241;43m.\u001b[39;49m\u001b[43mreduce\u001b[49m\u001b[43m(\u001b[49m\u001b[43mobj\u001b[49m\u001b[43m,\u001b[49m\u001b[43m \u001b[49m\u001b[43maxis\u001b[49m\u001b[43m,\u001b[49m\u001b[43m \u001b[49m\u001b[43mdtype\u001b[49m\u001b[43m,\u001b[49m\u001b[43m \u001b[49m\u001b[43mout\u001b[49m\u001b[43m,\u001b[49m\u001b[43m \u001b[49m\u001b[38;5;241;43m*\u001b[39;49m\u001b[38;5;241;43m*\u001b[39;49m\u001b[43mpasskwargs\u001b[49m\u001b[43m)\u001b[49m\n",
      "\u001b[0;31mValueError\u001b[0m: The truth value of an array with more than one element is ambiguous. Use a.any() or a.all()"
     ]
    }
   ],
   "source": [
    "np.max(np.array(model.layers[3].get_weights()).flatten())"
   ]
  },
  {
   "cell_type": "code",
   "execution_count": null,
   "metadata": {},
   "outputs": [],
   "source": [
    "x = sns.regplot(x=df['ytrue'], y=df['ytrue']-df['mu'], x_bins=np.linspace(-80,80,50), fit_reg=None, marker='.')\n",
    "plt.xlabel(r'True $y$ [um]')\n",
    "plt.ylabel(r'$y-\\mu_y$ [um]')"
   ]
  },
  {
   "cell_type": "code",
   "execution_count": null,
   "metadata": {},
   "outputs": [],
   "source": [
    "y = sns.regplot(x=df['ytrue'], y=df['sigma'], x_bins=np.linspace(-80,80,50), fit_reg=None, marker='.')\n",
    "plt.xlabel(r'True $y$ [um]')\n",
    "plt.ylabel(r'$\\sigma_y$ [um]')"
   ]
  },
  {
   "cell_type": "code",
   "execution_count": null,
   "metadata": {},
   "outputs": [],
   "source": []
  }
 ],
 "metadata": {
  "kernelspec": {
   "display_name": "Python 3 (ipykernel)",
   "language": "python",
   "name": "py3-preamble"
  },
  "language_info": {
   "codemirror_mode": {
    "name": "ipython",
    "version": 3
   },
   "file_extension": ".py",
   "mimetype": "text/x-python",
   "name": "python",
   "nbconvert_exporter": "python",
   "pygments_lexer": "ipython3",
   "version": "3.9.13"
  }
 },
 "nbformat": 4,
 "nbformat_minor": 4
}
