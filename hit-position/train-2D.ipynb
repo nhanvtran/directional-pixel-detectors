{
 "cells": [
  {
   "cell_type": "code",
   "execution_count": 1,
   "metadata": {},
   "outputs": [
    {
     "name": "stderr",
     "output_type": "stream",
     "text": [
      "Using TensorFlow backend.\n"
     ]
    }
   ],
   "source": [
    "from sklearn.model_selection import train_test_split\n",
    "from sklearn.metrics import mean_squared_error\n",
    "from sklearn.preprocessing import StandardScaler\n",
    "from sklearn.metrics import confusion_matrix\n",
    "from sklearn.metrics import classification_report\n",
    "import tensorflow as tf\n",
    "from tensorflow.keras import datasets, layers, models\n",
    "import keras\n",
    "from keras.models import Sequential\n",
    "from keras.layers import Dense, Dropout, Flatten\n",
    "from keras.layers import Conv2D, MaxPooling2D\n",
    "from keras.callbacks import CSVLogger\n",
    "from keras.callbacks import EarlyStopping\n",
    "import matplotlib.pyplot as plt\n",
    "import numpy as np\n",
    "import pandas as pd\n",
    "from pandas import read_csv\n",
    "import math\n",
    "import seaborn as sns"
   ]
  },
  {
   "cell_type": "code",
   "execution_count": 2,
   "metadata": {},
   "outputs": [],
   "source": [
    "train_df = pd.read_csv('train_2D.csv',nrows=200000)\n",
    "test_df = pd.read_csv('test_2D.csv',nrows=200000)\n"
   ]
  },
  {
   "cell_type": "code",
   "execution_count": 3,
   "metadata": {},
   "outputs": [],
   "source": [
    "X_train = train_df.drop(columns=['x-midplane','y-midplane']).values\n",
    "X_test = test_df.drop(columns=['x-midplane','y-midplane']).values\n",
    "\n",
    "y_train = train_df[['x-midplane','y-midplane']].values\n",
    "y_test = test_df[['x-midplane','y-midplane']].values\n"
   ]
  },
  {
   "cell_type": "code",
   "execution_count": 13,
   "metadata": {},
   "outputs": [],
   "source": [
    "scaler = StandardScaler()\n",
    "X_train = scaler.fit_transform(X_train.reshape(-1, X_train.shape[-1])).reshape((len(X_train),13,21,1))\n",
    "X_test = scaler.fit_transform(X_test.reshape(-1, X_test.shape[-1])).reshape((len(X_train),13,21,1))\n"
   ]
  },
  {
   "cell_type": "code",
   "execution_count": 5,
   "metadata": {},
   "outputs": [
    {
     "data": {
      "text/plain": [
       "(200000, 13, 21, 1)"
      ]
     },
     "execution_count": 5,
     "metadata": {},
     "output_type": "execute_result"
    }
   ],
   "source": [
    "X_train.shape"
   ]
  },
  {
   "cell_type": "code",
   "execution_count": 6,
   "metadata": {},
   "outputs": [
    {
     "name": "stderr",
     "output_type": "stream",
     "text": [
      "WARNING: Logging before flag parsing goes to stderr.\n",
      "W1003 09:57:15.859659 140565185214272 deprecation_wrapper.py:119] From /cvmfs/sft.cern.ch/lcg/views/LCG_96python3/x86_64-centos7-gcc8-opt/lib/python3.6/site-packages/keras/backend/tensorflow_backend.py:74: The name tf.get_default_graph is deprecated. Please use tf.compat.v1.get_default_graph instead.\n",
      "\n",
      "W1003 09:57:15.973114 140565185214272 deprecation_wrapper.py:119] From /cvmfs/sft.cern.ch/lcg/views/LCG_96python3/x86_64-centos7-gcc8-opt/lib/python3.6/site-packages/keras/backend/tensorflow_backend.py:517: The name tf.placeholder is deprecated. Please use tf.compat.v1.placeholder instead.\n",
      "\n",
      "W1003 09:57:16.344012 140565185214272 deprecation_wrapper.py:119] From /cvmfs/sft.cern.ch/lcg/views/LCG_96python3/x86_64-centos7-gcc8-opt/lib/python3.6/site-packages/keras/backend/tensorflow_backend.py:4138: The name tf.random_uniform is deprecated. Please use tf.random.uniform instead.\n",
      "\n"
     ]
    },
    {
     "name": "stdout",
     "output_type": "stream",
     "text": [
      "_________________________________________________________________\n",
      "Layer (type)                 Output Shape              Param #   \n",
      "=================================================================\n",
      "conv2d_1 (Conv2D)            (None, 11, 19, 64)        640       \n",
      "_________________________________________________________________\n",
      "flatten_1 (Flatten)          (None, 13376)             0         \n",
      "_________________________________________________________________\n",
      "dense_1 (Dense)              (None, 2)                 26754     \n",
      "=================================================================\n",
      "Total params: 27,394\n",
      "Trainable params: 27,394\n",
      "Non-trainable params: 0\n",
      "_________________________________________________________________\n"
     ]
    }
   ],
   "source": [
    "model = Sequential()\n",
    "model.add(Conv2D(64, 3, activation='relu', input_shape=X_train.shape[1:]))\n",
    "model.add(Flatten())\n",
    "model.add(Dense(2, activation='linear'))\n",
    "model.summary() "
   ]
  },
  {
   "cell_type": "code",
   "execution_count": 7,
   "metadata": {},
   "outputs": [
    {
     "name": "stderr",
     "output_type": "stream",
     "text": [
      "W1003 09:57:16.869890 140565185214272 deprecation_wrapper.py:119] From /cvmfs/sft.cern.ch/lcg/views/LCG_96python3/x86_64-centos7-gcc8-opt/lib/python3.6/site-packages/keras/optimizers.py:790: The name tf.train.Optimizer is deprecated. Please use tf.compat.v1.train.Optimizer instead.\n",
      "\n"
     ]
    }
   ],
   "source": [
    "model.compile(optimizer='Adam', \n",
    "              loss='mean_squared_error',\n",
    "              metrics=['mean_squared_error'])"
   ]
  },
  {
   "cell_type": "code",
   "execution_count": 8,
   "metadata": {},
   "outputs": [
    {
     "name": "stderr",
     "output_type": "stream",
     "text": [
      "W1003 09:57:18.069517 140565185214272 deprecation_wrapper.py:119] From /cvmfs/sft.cern.ch/lcg/views/LCG_96python3/x86_64-centos7-gcc8-opt/lib/python3.6/site-packages/keras/backend/tensorflow_backend.py:986: The name tf.assign_add is deprecated. Please use tf.compat.v1.assign_add instead.\n",
      "\n",
      "W1003 09:57:18.152543 140565185214272 deprecation_wrapper.py:119] From /cvmfs/sft.cern.ch/lcg/views/LCG_96python3/x86_64-centos7-gcc8-opt/lib/python3.6/site-packages/keras/backend/tensorflow_backend.py:973: The name tf.assign is deprecated. Please use tf.compat.v1.assign instead.\n",
      "\n"
     ]
    },
    {
     "name": "stdout",
     "output_type": "stream",
     "text": [
      "Train on 160000 samples, validate on 40000 samples\n",
      "Epoch 1/80\n",
      "160000/160000 [==============================] - 16s 98us/step - loss: 152.3389 - mean_squared_error: 152.3389 - val_loss: 64.0631 - val_mean_squared_error: 64.0631\n",
      "Epoch 2/80\n",
      "160000/160000 [==============================] - 11s 69us/step - loss: 52.6548 - mean_squared_error: 52.6548 - val_loss: 45.2369 - val_mean_squared_error: 45.2369\n",
      "Epoch 3/80\n",
      "160000/160000 [==============================] - 11s 67us/step - loss: 42.9918 - mean_squared_error: 42.9918 - val_loss: 41.0604 - val_mean_squared_error: 41.0604\n",
      "Epoch 4/80\n",
      "160000/160000 [==============================] - 11s 67us/step - loss: 38.4719 - mean_squared_error: 38.4719 - val_loss: 36.3509 - val_mean_squared_error: 36.3509\n",
      "Epoch 5/80\n",
      "160000/160000 [==============================] - 10s 64us/step - loss: 34.5634 - mean_squared_error: 34.5634 - val_loss: 34.2476 - val_mean_squared_error: 34.2476\n",
      "Epoch 6/80\n",
      "160000/160000 [==============================] - 11s 66us/step - loss: 31.7579 - mean_squared_error: 31.7579 - val_loss: 36.2914 - val_mean_squared_error: 36.2914\n",
      "Epoch 7/80\n",
      "160000/160000 [==============================] - 11s 66us/step - loss: 30.1459 - mean_squared_error: 30.1459 - val_loss: 30.7682 - val_mean_squared_error: 30.7682\n",
      "Epoch 8/80\n",
      "160000/160000 [==============================] - 11s 66us/step - loss: 29.0684 - mean_squared_error: 29.0684 - val_loss: 29.1152 - val_mean_squared_error: 29.1152\n",
      "Epoch 9/80\n",
      "160000/160000 [==============================] - 10s 65us/step - loss: 28.2253 - mean_squared_error: 28.2253 - val_loss: 29.2411 - val_mean_squared_error: 29.2411\n",
      "Epoch 10/80\n",
      "160000/160000 [==============================] - 10s 65us/step - loss: 27.6396 - mean_squared_error: 27.6396 - val_loss: 28.9358 - val_mean_squared_error: 28.9358\n",
      "Epoch 11/80\n",
      "160000/160000 [==============================] - 11s 66us/step - loss: 27.0037 - mean_squared_error: 27.0037 - val_loss: 27.8958 - val_mean_squared_error: 27.8958\n",
      "Epoch 12/80\n",
      "160000/160000 [==============================] - 11s 66us/step - loss: 26.8019 - mean_squared_error: 26.8019 - val_loss: 27.8431 - val_mean_squared_error: 27.8431\n",
      "Epoch 13/80\n",
      "160000/160000 [==============================] - 11s 66us/step - loss: 26.3822 - mean_squared_error: 26.3822 - val_loss: 29.5508 - val_mean_squared_error: 29.5508\n",
      "Epoch 14/80\n",
      "160000/160000 [==============================] - 11s 67us/step - loss: 25.9557 - mean_squared_error: 25.9557 - val_loss: 28.8636 - val_mean_squared_error: 28.8636\n",
      "Epoch 15/80\n",
      "160000/160000 [==============================] - 11s 66us/step - loss: 25.6431 - mean_squared_error: 25.6431 - val_loss: 27.5704 - val_mean_squared_error: 27.5704\n",
      "Epoch 16/80\n",
      "160000/160000 [==============================] - 12s 73us/step - loss: 25.4846 - mean_squared_error: 25.4846 - val_loss: 26.9392 - val_mean_squared_error: 26.9392\n",
      "Epoch 17/80\n",
      "160000/160000 [==============================] - 11s 69us/step - loss: 25.1693 - mean_squared_error: 25.1693 - val_loss: 27.2616 - val_mean_squared_error: 27.2616\n",
      "Epoch 18/80\n",
      "160000/160000 [==============================] - 11s 68us/step - loss: 25.0265 - mean_squared_error: 25.0265 - val_loss: 27.9165 - val_mean_squared_error: 27.9165\n",
      "Epoch 19/80\n",
      "160000/160000 [==============================] - 11s 66us/step - loss: 24.8440 - mean_squared_error: 24.8440 - val_loss: 27.7046 - val_mean_squared_error: 27.7046\n",
      "Epoch 20/80\n",
      "160000/160000 [==============================] - 11s 66us/step - loss: 24.5480 - mean_squared_error: 24.5480 - val_loss: 27.7295 - val_mean_squared_error: 27.7295\n",
      "Epoch 21/80\n",
      "160000/160000 [==============================] - 11s 68us/step - loss: 24.5100 - mean_squared_error: 24.5100 - val_loss: 26.7244 - val_mean_squared_error: 26.7244\n",
      "Epoch 22/80\n",
      "160000/160000 [==============================] - 11s 70us/step - loss: 24.3954 - mean_squared_error: 24.3954 - val_loss: 30.5153 - val_mean_squared_error: 30.5153\n",
      "Epoch 23/80\n",
      "160000/160000 [==============================] - 12s 72us/step - loss: 24.1758 - mean_squared_error: 24.1758 - val_loss: 26.4125 - val_mean_squared_error: 26.4125\n",
      "Epoch 24/80\n",
      "160000/160000 [==============================] - 12s 73us/step - loss: 24.2396 - mean_squared_error: 24.2396 - val_loss: 26.4992 - val_mean_squared_error: 26.4992\n",
      "Epoch 25/80\n",
      "160000/160000 [==============================] - 11s 69us/step - loss: 23.9001 - mean_squared_error: 23.9001 - val_loss: 28.4533 - val_mean_squared_error: 28.4533\n",
      "Epoch 26/80\n",
      "160000/160000 [==============================] - 12s 73us/step - loss: 23.8703 - mean_squared_error: 23.8703 - val_loss: 26.8373 - val_mean_squared_error: 26.8373\n",
      "Epoch 27/80\n",
      "160000/160000 [==============================] - 12s 72us/step - loss: 23.7904 - mean_squared_error: 23.7904 - val_loss: 27.1126 - val_mean_squared_error: 27.1126\n",
      "Epoch 28/80\n",
      "160000/160000 [==============================] - 11s 70us/step - loss: 23.7364 - mean_squared_error: 23.7364 - val_loss: 28.0075 - val_mean_squared_error: 28.0075\n",
      "Epoch 29/80\n",
      "160000/160000 [==============================] - 11s 71us/step - loss: 23.6054 - mean_squared_error: 23.6054 - val_loss: 27.2024 - val_mean_squared_error: 27.2024\n",
      "Epoch 30/80\n",
      "160000/160000 [==============================] - 11s 71us/step - loss: 23.4510 - mean_squared_error: 23.4510 - val_loss: 27.1992 - val_mean_squared_error: 27.1992\n",
      "Epoch 31/80\n",
      "160000/160000 [==============================] - 11s 70us/step - loss: 23.4657 - mean_squared_error: 23.4657 - val_loss: 26.8382 - val_mean_squared_error: 26.8382\n",
      "Epoch 32/80\n",
      "160000/160000 [==============================] - 12s 72us/step - loss: 23.2972 - mean_squared_error: 23.2972 - val_loss: 27.3227 - val_mean_squared_error: 27.3227\n",
      "Epoch 33/80\n",
      "160000/160000 [==============================] - 11s 72us/step - loss: 23.1813 - mean_squared_error: 23.1813 - val_loss: 27.2942 - val_mean_squared_error: 27.2942\n"
     ]
    }
   ],
   "source": [
    "es = EarlyStopping(patience=10)\n",
    "\n",
    "history = model.fit(X_train,\n",
    "                    y_train,\n",
    "                    callbacks=[es],\n",
    "                    epochs=80, \n",
    "                    batch_size=64,\n",
    "                    validation_split=0.2,\n",
    "                    shuffle=True,\n",
    "                    verbose=1)"
   ]
  },
  {
   "cell_type": "code",
   "execution_count": 9,
   "metadata": {},
   "outputs": [
    {
     "data": {
      "text/plain": [
       "<matplotlib.legend.Legend at 0x7fd773bd45f8>"
      ]
     },
     "execution_count": 9,
     "metadata": {},
     "output_type": "execute_result"
    },
    {
     "data": {
      "image/png": "[encoded data removed]",
      "text/plain": [
       "<Figure size 432x288 with 1 Axes>"
      ]
     },
     "metadata": {
      "needs_background": "light"
     },
     "output_type": "display_data"
    }
   ],
   "source": [
    "history_dict = history.history\n",
    "loss_values = history_dict['loss'] \n",
    "val_loss_values = history_dict['val_loss'] \n",
    "epochs = range(1, len(loss_values) + 1) \n",
    "plt.plot(epochs, loss_values, 'bo', label='Training loss')\n",
    "plt.plot(epochs, val_loss_values, 'orange', label='Validation loss')\n",
    "plt.title('Training and validation loss')\n",
    "plt.xlabel('Epochs')\n",
    "plt.ylabel('Loss')\n",
    "plt.legend()\n",
    "#plt.savefig('/home/jieun201/fullprecision400e_yprofile/loss.png')"
   ]
  },
  {
   "cell_type": "code",
   "execution_count": 14,
   "metadata": {},
   "outputs": [],
   "source": [
    "p_test = model.predict(X_test) \n"
   ]
  },
  {
   "cell_type": "code",
   "execution_count": 15,
   "metadata": {},
   "outputs": [],
   "source": [
    "residuals = np.subtract(p_test,y_test)\n"
   ]
  },
  {
   "cell_type": "code",
   "execution_count": 16,
   "metadata": {},
   "outputs": [
    {
     "data": {
      "text/plain": [
       "(0, 15010.8)"
      ]
     },
     "execution_count": 16,
     "metadata": {},
     "output_type": "execute_result"
    },
    {
     "data": {
      "image/png": "[encoded data removed]",
      "text/plain": [
       "<Figure size 432x288 with 1 Axes>"
      ]
     },
     "metadata": {
      "needs_background": "light"
     },
     "output_type": "display_data"
    }
   ],
   "source": [
    "# X coordinate\n",
    "x = np.linspace(-50,50,100)\n",
    "\n",
    "plt.hist(residuals[:,0],bins=x)\n",
    "ymax = plt.ylim()[1]\n",
    "plt.plot([25,25],[0,ymax],color='orange')\n",
    "plt.plot([-25,-25],[0,ymax],color='orange')\n",
    "plt.xlabel('X residuals [um]')\n",
    "plt.ylim(0,ymax)"
   ]
  },
  {
   "cell_type": "code",
   "execution_count": 17,
   "metadata": {},
   "outputs": [
    {
     "data": {
      "text/plain": [
       "(0, 25218.9)"
      ]
     },
     "execution_count": 17,
     "metadata": {},
     "output_type": "execute_result"
    },
    {
     "data": {
      "image/png": "[encoded data removed]",
      "text/plain": [
       "<Figure size 432x288 with 1 Axes>"
      ]
     },
     "metadata": {
      "needs_background": "light"
     },
     "output_type": "display_data"
    }
   ],
   "source": [
    "# Y coordinate\n",
    "plt.hist(residuals[:,1],bins=np.linspace(-20,20,100))\n",
    "ymax = plt.ylim()[1]\n",
    "plt.plot([12.5/2,12.5/2],[0,ymax],color='orange')\n",
    "plt.plot([-12.5/2,-12.5/2],[0,ymax],color='orange')\n",
    "plt.xlabel('Y residuals [um]')\n",
    "plt.ylim(0,ymax)"
   ]
  },
  {
   "cell_type": "code",
   "execution_count": null,
   "metadata": {},
   "outputs": [],
   "source": []
  }
 ],
 "metadata": {
  "kernelspec": {
   "display_name": "Python 3",
   "language": "python",
   "name": "python3"
  },
  "language_info": {
   "codemirror_mode": {
    "name": "ipython",
    "version": 3
   },
   "file_extension": ".py",
   "mimetype": "text/x-python",
   "name": "python",
   "nbconvert_exporter": "python",
   "pygments_lexer": "ipython3",
   "version": "3.6.5"
  }
 },
 "nbformat": 4,
 "nbformat_minor": 2
}
