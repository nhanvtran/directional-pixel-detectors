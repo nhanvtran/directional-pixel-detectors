{
 "cells": [
  {
   "cell_type": "code",
   "execution_count": 1,
   "metadata": {},
   "outputs": [
    {
     "name": "stderr",
     "output_type": "stream",
     "text": [
      "2022-10-05 16:35:04.633790: W tensorflow/stream_executor/platform/default/dso_loader.cc:64] Could not load dynamic library 'libcudart.so.11.0'; dlerror: libcudart.so.11.0: cannot open shared object file: No such file or directory; LD_LIBRARY_PATH: /cvmfs/sft.cern.ch/lcg/releases/MCGenerators/thepeg/2.2.1-8d929/x86_64-centos7-gcc8-opt/lib/ThePEG:/cvmfs/sft.cern.ch/lcg/releases/MCGenerators/herwig++/7.2.1-f3599/x86_64-centos7-gcc8-opt/lib/Herwig:/cvmfs/sft.cern.ch/lcg/views/LCG_101/x86_64-centos7-gcc8-opt/lib/python3.9/site-packages/torch/lib:/cvmfs/sft.cern.ch/lcg/views/LCG_101/x86_64-centos7-gcc8-opt/lib/python3.9/site-packages/tensorflow:/cvmfs/sft.cern.ch/lcg/views/LCG_101/x86_64-centos7-gcc8-opt/lib/python3.9/site-packages/tensorflow/contrib/tensor_forest:/cvmfs/sft.cern.ch/lcg/views/LCG_101/x86_64-centos7-gcc8-opt/lib/python3.9/site-packages/tensorflow/python/framework:/cvmfs/sft.cern.ch/lcg/releases/java/8u222-884d8/x86_64-centos7-gcc8-opt/jre/lib/amd64:/cvmfs/sft.cern.ch/lcg/views/LCG_101/x86_64-centos7-gcc8-opt/lib64:/cvmfs/sft.cern.ch/lcg/views/LCG_101/x86_64-centos7-gcc8-opt/lib:/cvmfs/sft.cern.ch/lcg/releases/gcc/8.3.0-cebb0/x86_64-centos7/lib:/cvmfs/sft.cern.ch/lcg/releases/gcc/8.3.0-cebb0/x86_64-centos7/lib64:/cvmfs/sft.cern.ch/lcg/releases/binutils/2.30-e5b21/x86_64-centos7/lib:/cvmfs/sft.cern.ch/lcg/releases/R/3.6.3-dfb24/x86_64-centos7-gcc8-opt/lib64/R/library/readr/rcon\n",
      "2022-10-05 16:35:04.633831: I tensorflow/stream_executor/cuda/cudart_stub.cc:29] Ignore above cudart dlerror if you do not have a GPU set up on your machine.\n"
     ]
    }
   ],
   "source": [
    "from sklearn.metrics import mean_squared_error\n",
    "from sklearn.preprocessing import StandardScaler\n",
    "import tensorflow as tf\n",
    "from tensorflow.keras import datasets, layers, models\n",
    "from keras.models import Sequential\n",
    "from keras.layers import Dense, Dropout, Flatten\n",
    "from keras.callbacks import EarlyStopping\n",
    "import matplotlib.pyplot as plt\n",
    "import numpy as np\n",
    "import pandas as pd\n",
    "import math"
   ]
  },
  {
   "cell_type": "code",
   "execution_count": 2,
   "metadata": {},
   "outputs": [],
   "source": [
    "train_df = pd.read_csv('train_1Dx.csv',nrows=10000)\n",
    "test_df = pd.read_csv('test_1Dx.csv',nrows=5000)"
   ]
  },
  {
   "cell_type": "code",
   "execution_count": 3,
   "metadata": {},
   "outputs": [],
   "source": [
    "X_train = train_df.drop(columns=['x-midplane']).values\n",
    "X_test = test_df.drop(columns=['x-midplane']).values\n",
    "\n",
    "y_train = train_df['x-midplane'].values\n",
    "y_test = test_df['x-midplane'].values"
   ]
  },
  {
   "cell_type": "code",
   "execution_count": 4,
   "metadata": {},
   "outputs": [],
   "source": [
    "scaler = StandardScaler()\n",
    "X_train = scaler.fit_transform(X_train.reshape(-1, X_train.shape[-1])).reshape(X_train.shape)\n",
    "X_test = scaler.fit_transform(X_test.reshape(-1, X_test.shape[-1])).reshape(X_test.shape)"
   ]
  },
  {
   "cell_type": "code",
   "execution_count": 5,
   "metadata": {},
   "outputs": [
    {
     "name": "stdout",
     "output_type": "stream",
     "text": [
      "Model: \"sequential\"\n",
      "_________________________________________________________________\n",
      "Layer (type)                 Output Shape              Param #   \n",
      "=================================================================\n",
      "dense (Dense)                (None, 32)                704       \n",
      "_________________________________________________________________\n",
      "dense_1 (Dense)              (None, 2)                 66        \n",
      "=================================================================\n",
      "Total params: 770\n",
      "Trainable params: 770\n",
      "Non-trainable params: 0\n",
      "_________________________________________________________________\n"
     ]
    },
    {
     "name": "stderr",
     "output_type": "stream",
     "text": [
      "2022-10-05 16:35:08.067629: W tensorflow/stream_executor/platform/default/dso_loader.cc:64] Could not load dynamic library 'libcuda.so.1'; dlerror: libcuda.so.1: cannot open shared object file: No such file or directory; LD_LIBRARY_PATH: /cvmfs/sft.cern.ch/lcg/releases/MCGenerators/thepeg/2.2.1-8d929/x86_64-centos7-gcc8-opt/lib/ThePEG:/cvmfs/sft.cern.ch/lcg/releases/MCGenerators/herwig++/7.2.1-f3599/x86_64-centos7-gcc8-opt/lib/Herwig:/cvmfs/sft.cern.ch/lcg/views/LCG_101/x86_64-centos7-gcc8-opt/lib/python3.9/site-packages/torch/lib:/cvmfs/sft.cern.ch/lcg/views/LCG_101/x86_64-centos7-gcc8-opt/lib/python3.9/site-packages/tensorflow:/cvmfs/sft.cern.ch/lcg/views/LCG_101/x86_64-centos7-gcc8-opt/lib/python3.9/site-packages/tensorflow/contrib/tensor_forest:/cvmfs/sft.cern.ch/lcg/views/LCG_101/x86_64-centos7-gcc8-opt/lib/python3.9/site-packages/tensorflow/python/framework:/cvmfs/sft.cern.ch/lcg/releases/java/8u222-884d8/x86_64-centos7-gcc8-opt/jre/lib/amd64:/cvmfs/sft.cern.ch/lcg/views/LCG_101/x86_64-centos7-gcc8-opt/lib64:/cvmfs/sft.cern.ch/lcg/views/LCG_101/x86_64-centos7-gcc8-opt/lib:/cvmfs/sft.cern.ch/lcg/releases/gcc/8.3.0-cebb0/x86_64-centos7/lib:/cvmfs/sft.cern.ch/lcg/releases/gcc/8.3.0-cebb0/x86_64-centos7/lib64:/cvmfs/sft.cern.ch/lcg/releases/binutils/2.30-e5b21/x86_64-centos7/lib:/cvmfs/sft.cern.ch/lcg/releases/R/3.6.3-dfb24/x86_64-centos7-gcc8-opt/lib64/R/library/readr/rcon\n",
      "2022-10-05 16:35:08.067664: W tensorflow/stream_executor/cuda/cuda_driver.cc:326] failed call to cuInit: UNKNOWN ERROR (303)\n",
      "2022-10-05 16:35:08.067704: I tensorflow/stream_executor/cuda/cuda_diagnostics.cc:156] kernel driver does not appear to be running on this host (cmslpc172.fnal.gov): /proc/driver/nvidia/version does not exist\n",
      "2022-10-05 16:35:08.069174: I tensorflow/core/platform/cpu_feature_guard.cc:142] This TensorFlow binary is optimized with oneAPI Deep Neural Network Library (oneDNN) to use the following CPU instructions in performance-critical operations:  AVX2 FMA\n",
      "To enable them in other operations, rebuild TensorFlow with the appropriate compiler flags.\n"
     ]
    }
   ],
   "source": [
    "model = Sequential()\n",
    "model.add(Dense(32, input_shape=(21,), activation='relu')) # Add an input shape! (features,)\n",
    "model.add(Dense(2, activation='linear'))\n",
    "model.summary() "
   ]
  },
  {
   "cell_type": "code",
   "execution_count": 6,
   "metadata": {},
   "outputs": [],
   "source": [
    "def custom_loss(y, p):\n",
    "    \n",
    "    maxval = 1e6\n",
    "    minval = 1e-9\n",
    "    pi = 3.14159265359\n",
    "    \n",
    "    mu = tf.gather(params=p, indices=[0], axis=1)\n",
    "    sigma2 = tf.clip_by_value(tf.gather(params=p, indices=[1], axis=1),minval,maxval)\n",
    "        \n",
    "    term = tf.clip_by_value(tf.math.exp(-1*(y-mu)*(y-mu)/(2*sigma2)),minval,maxval)\n",
    "    NLL = tf.clip_by_value(-1*tf.math.log(term),minval,maxval)\n",
    "    \n",
    "    return tf.keras.backend.sum(NLL,axis=1)"
   ]
  },
  {
   "cell_type": "code",
   "execution_count": 7,
   "metadata": {},
   "outputs": [],
   "source": [
    "model.compile(optimizer='Adam', \n",
    "              loss=custom_loss,\n",
    "              metrics=['mean_squared_error'])"
   ]
  },
  {
   "cell_type": "code",
   "execution_count": 8,
   "metadata": {},
   "outputs": [
    {
     "name": "stderr",
     "output_type": "stream",
     "text": [
      "2022-10-05 16:35:08.176154: I tensorflow/compiler/mlir/mlir_graph_optimization_pass.cc:176] None of the MLIR Optimization Passes are enabled (registered 2)\n",
      "2022-10-05 16:35:08.177097: I tensorflow/core/platform/profile_utils/cpu_utils.cc:114] CPU Frequency: 2894560000 Hz\n"
     ]
    },
    {
     "name": "stdout",
     "output_type": "stream",
     "text": [
      "Epoch 1/80\n",
      "WARNING:tensorflow:From /cvmfs/sft.cern.ch/lcg/views/LCG_101/x86_64-centos7-gcc8-opt/lib/python3.9/site-packages/tensorflow/python/ops/array_ops.py:5043: calling gather (from tensorflow.python.ops.array_ops) with validate_indices is deprecated and will be removed in a future version.\n",
      "Instructions for updating:\n",
      "The `validate_indices` argument has no effect. Indices are always validated on CPU and never validated on GPU.\n",
      "125/125 [==============================] - 1s 2ms/step - loss: 19.1414 - mean_squared_error: 1908.5375 - val_loss: 18.3319 - val_mean_squared_error: 1851.3899\n",
      "Epoch 2/80\n",
      "125/125 [==============================] - 0s 1ms/step - loss: 18.2022 - mean_squared_error: 1911.2150 - val_loss: 17.4149 - val_mean_squared_error: 1855.6758\n",
      "Epoch 3/80\n",
      "125/125 [==============================] - 0s 1ms/step - loss: 17.2186 - mean_squared_error: 1924.4286 - val_loss: 16.4931 - val_mean_squared_error: 1877.9884\n",
      "Epoch 4/80\n",
      "125/125 [==============================] - 0s 1ms/step - loss: 16.2493 - mean_squared_error: 1960.5176 - val_loss: 15.4786 - val_mean_squared_error: 1929.7081\n",
      "Epoch 5/80\n",
      "125/125 [==============================] - 0s 1ms/step - loss: 15.1095 - mean_squared_error: 2035.1469 - val_loss: 14.1829 - val_mean_squared_error: 2032.2417\n",
      "Epoch 6/80\n",
      "125/125 [==============================] - 0s 1ms/step - loss: 13.6613 - mean_squared_error: 2169.1487 - val_loss: 12.3149 - val_mean_squared_error: 2207.4558\n",
      "Epoch 7/80\n",
      "125/125 [==============================] - 0s 1ms/step - loss: 11.4452 - mean_squared_error: 2397.2009 - val_loss: 9.6346 - val_mean_squared_error: 2521.3179\n",
      "Epoch 8/80\n",
      "125/125 [==============================] - 0s 1ms/step - loss: 8.3051 - mean_squared_error: 2793.8455 - val_loss: 6.8167 - val_mean_squared_error: 3047.3738\n",
      "Epoch 9/80\n",
      "125/125 [==============================] - 0s 1ms/step - loss: 5.8655 - mean_squared_error: 3336.1130 - val_loss: 5.3094 - val_mean_squared_error: 3606.6638\n",
      "Epoch 10/80\n",
      "125/125 [==============================] - 0s 1ms/step - loss: 4.6759 - mean_squared_error: 3830.9858 - val_loss: 4.4671 - val_mean_squared_error: 4085.7959\n",
      "Epoch 11/80\n",
      "125/125 [==============================] - 0s 1ms/step - loss: 3.9806 - mean_squared_error: 4283.6021 - val_loss: 3.8835 - val_mean_squared_error: 4543.8501\n",
      "Epoch 12/80\n",
      "125/125 [==============================] - 0s 1ms/step - loss: 3.4486 - mean_squared_error: 4738.8652 - val_loss: 3.3999 - val_mean_squared_error: 5012.5879\n",
      "Epoch 13/80\n",
      "125/125 [==============================] - 0s 1ms/step - loss: 2.9741 - mean_squared_error: 5223.8335 - val_loss: 2.9354 - val_mean_squared_error: 5514.6362\n",
      "Epoch 14/80\n",
      "125/125 [==============================] - 0s 1ms/step - loss: 2.5194 - mean_squared_error: 5745.0762 - val_loss: 2.4695 - val_mean_squared_error: 6083.1436\n",
      "Epoch 15/80\n",
      "125/125 [==============================] - 0s 1ms/step - loss: 2.1005 - mean_squared_error: 6360.3623 - val_loss: 2.0577 - val_mean_squared_error: 6722.6792\n",
      "Epoch 16/80\n",
      "125/125 [==============================] - 0s 1ms/step - loss: 1.7642 - mean_squared_error: 7000.7627 - val_loss: 1.7559 - val_mean_squared_error: 7399.3447\n",
      "Epoch 17/80\n",
      "125/125 [==============================] - 0s 1ms/step - loss: 1.5475 - mean_squared_error: 7678.5322 - val_loss: 1.5517 - val_mean_squared_error: 8087.3672\n",
      "Epoch 18/80\n",
      "125/125 [==============================] - 0s 1ms/step - loss: 1.3942 - mean_squared_error: 8367.3242 - val_loss: 1.4039 - val_mean_squared_error: 8797.4043\n",
      "Epoch 19/80\n",
      "125/125 [==============================] - 0s 1ms/step - loss: 1.2795 - mean_squared_error: 9073.0986 - val_loss: 1.2886 - val_mean_squared_error: 9532.7607\n",
      "Epoch 20/80\n",
      "125/125 [==============================] - 0s 1ms/step - loss: 1.1817 - mean_squared_error: 9810.0938 - val_loss: 1.1795 - val_mean_squared_error: 10294.3057\n",
      "Epoch 21/80\n",
      "125/125 [==============================] - 0s 1ms/step - loss: 1.0949 - mean_squared_error: 10560.8193 - val_loss: 1.0961 - val_mean_squared_error: 11085.8359\n",
      "Epoch 22/80\n",
      "125/125 [==============================] - 0s 1ms/step - loss: 1.0184 - mean_squared_error: 11350.7656 - val_loss: 1.0250 - val_mean_squared_error: 11901.0283\n",
      "Epoch 23/80\n",
      "125/125 [==============================] - 0s 1ms/step - loss: 0.9521 - mean_squared_error: 12161.0742 - val_loss: 0.9608 - val_mean_squared_error: 12732.0791\n",
      "Epoch 24/80\n",
      "125/125 [==============================] - 0s 1ms/step - loss: 0.8915 - mean_squared_error: 12989.3164 - val_loss: 0.8998 - val_mean_squared_error: 13602.1279\n",
      "Epoch 25/80\n",
      "125/125 [==============================] - 0s 1ms/step - loss: 0.8349 - mean_squared_error: 13845.3574 - val_loss: 0.8434 - val_mean_squared_error: 14478.4658\n",
      "Epoch 26/80\n",
      "125/125 [==============================] - 0s 1ms/step - loss: 0.7841 - mean_squared_error: 14731.5547 - val_loss: 0.7932 - val_mean_squared_error: 15399.4971\n",
      "Epoch 27/80\n",
      "125/125 [==============================] - 0s 1ms/step - loss: 0.7362 - mean_squared_error: 15630.6719 - val_loss: 0.7467 - val_mean_squared_error: 16347.2461\n",
      "Epoch 28/80\n",
      "125/125 [==============================] - 0s 1ms/step - loss: 0.6922 - mean_squared_error: 16573.6367 - val_loss: 0.7036 - val_mean_squared_error: 17314.9707\n",
      "Epoch 29/80\n",
      "125/125 [==============================] - 0s 1ms/step - loss: 0.6509 - mean_squared_error: 17556.8594 - val_loss: 0.6602 - val_mean_squared_error: 18334.6016\n",
      "Epoch 30/80\n",
      "125/125 [==============================] - 0s 1ms/step - loss: 0.6124 - mean_squared_error: 18557.1660 - val_loss: 0.6236 - val_mean_squared_error: 19376.7891\n",
      "Epoch 31/80\n",
      "125/125 [==============================] - 0s 1ms/step - loss: 0.5763 - mean_squared_error: 19595.0488 - val_loss: 0.5874 - val_mean_squared_error: 20448.4414\n",
      "Epoch 32/80\n",
      "125/125 [==============================] - 0s 1ms/step - loss: 0.5415 - mean_squared_error: 20655.2227 - val_loss: 0.5521 - val_mean_squared_error: 21548.9473\n",
      "Epoch 33/80\n",
      "125/125 [==============================] - 0s 1ms/step - loss: 0.5088 - mean_squared_error: 21763.8809 - val_loss: 0.5170 - val_mean_squared_error: 22685.3066\n",
      "Epoch 34/80\n",
      "125/125 [==============================] - 0s 1ms/step - loss: 0.4784 - mean_squared_error: 22876.3320 - val_loss: 0.4864 - val_mean_squared_error: 23847.5039\n",
      "Epoch 35/80\n",
      "125/125 [==============================] - 0s 1ms/step - loss: 0.4498 - mean_squared_error: 24038.1426 - val_loss: 0.4562 - val_mean_squared_error: 25047.0664\n",
      "Epoch 36/80\n",
      "125/125 [==============================] - 0s 1ms/step - loss: 0.4233 - mean_squared_error: 25197.0840 - val_loss: 0.4301 - val_mean_squared_error: 26256.4844\n",
      "Epoch 37/80\n",
      "125/125 [==============================] - 0s 1ms/step - loss: 0.3988 - mean_squared_error: 26425.7812 - val_loss: 0.4049 - val_mean_squared_error: 27514.7363\n",
      "Epoch 38/80\n",
      "125/125 [==============================] - 0s 1ms/step - loss: 0.3765 - mean_squared_error: 27638.0703 - val_loss: 0.3826 - val_mean_squared_error: 28776.2031\n",
      "Epoch 39/80\n",
      "125/125 [==============================] - 0s 1ms/step - loss: 0.3561 - mean_squared_error: 28906.6816 - val_loss: 0.3615 - val_mean_squared_error: 30097.5469\n",
      "Epoch 40/80\n",
      "125/125 [==============================] - 0s 1ms/step - loss: 0.3375 - mean_squared_error: 30198.3496 - val_loss: 0.3445 - val_mean_squared_error: 31457.8672\n",
      "Epoch 41/80\n",
      "125/125 [==============================] - 0s 1ms/step - loss: 0.3207 - mean_squared_error: 31539.2383 - val_loss: 0.3267 - val_mean_squared_error: 32809.2305\n",
      "Epoch 42/80\n",
      "125/125 [==============================] - 0s 1ms/step - loss: 0.3050 - mean_squared_error: 32891.3594 - val_loss: 0.3113 - val_mean_squared_error: 34241.6211\n",
      "Epoch 43/80\n",
      "125/125 [==============================] - 0s 1ms/step - loss: 0.2904 - mean_squared_error: 34276.9062 - val_loss: 0.2970 - val_mean_squared_error: 35684.6836\n",
      "Epoch 44/80\n",
      "125/125 [==============================] - 0s 1ms/step - loss: 0.2773 - mean_squared_error: 35732.8086 - val_loss: 0.2838 - val_mean_squared_error: 37176.0742\n",
      "Epoch 45/80\n",
      "125/125 [==============================] - 0s 1ms/step - loss: 0.2650 - mean_squared_error: 37177.5586 - val_loss: 0.2725 - val_mean_squared_error: 38701.2031\n",
      "Epoch 46/80\n"
     ]
    },
    {
     "name": "stdout",
     "output_type": "stream",
     "text": [
      "125/125 [==============================] - 0s 1ms/step - loss: 0.2535 - mean_squared_error: 38704.7031 - val_loss: 0.2610 - val_mean_squared_error: 40279.1172\n",
      "Epoch 47/80\n",
      "125/125 [==============================] - 0s 1ms/step - loss: 0.2427 - mean_squared_error: 40260.8242 - val_loss: 0.2489 - val_mean_squared_error: 41901.4375\n",
      "Epoch 48/80\n",
      "125/125 [==============================] - 0s 1ms/step - loss: 0.2325 - mean_squared_error: 41867.2656 - val_loss: 0.2388 - val_mean_squared_error: 43582.4023\n",
      "Epoch 49/80\n",
      "125/125 [==============================] - 0s 1ms/step - loss: 0.2227 - mean_squared_error: 43516.1172 - val_loss: 0.2300 - val_mean_squared_error: 45310.3438\n",
      "Epoch 50/80\n",
      "125/125 [==============================] - 0s 994us/step - loss: 0.2140 - mean_squared_error: 45248.7305 - val_loss: 0.2204 - val_mean_squared_error: 47101.3359\n",
      "Epoch 51/80\n",
      "125/125 [==============================] - 0s 1ms/step - loss: 0.2057 - mean_squared_error: 47013.9492 - val_loss: 0.2130 - val_mean_squared_error: 48951.3359\n",
      "Epoch 52/80\n",
      "125/125 [==============================] - 0s 1ms/step - loss: 0.1979 - mean_squared_error: 48831.4141 - val_loss: 0.2054 - val_mean_squared_error: 50853.6953\n",
      "Epoch 53/80\n",
      "125/125 [==============================] - 0s 1ms/step - loss: 0.1903 - mean_squared_error: 50694.6797 - val_loss: 0.1995 - val_mean_squared_error: 52827.8359\n",
      "Epoch 54/80\n",
      "125/125 [==============================] - 0s 1ms/step - loss: 0.1837 - mean_squared_error: 52634.0977 - val_loss: 0.1920 - val_mean_squared_error: 54848.1055\n",
      "Epoch 55/80\n",
      "125/125 [==============================] - 0s 1ms/step - loss: 0.1772 - mean_squared_error: 54668.4805 - val_loss: 0.1848 - val_mean_squared_error: 56936.2539\n",
      "Epoch 56/80\n",
      "125/125 [==============================] - 0s 1ms/step - loss: 0.1707 - mean_squared_error: 56758.8281 - val_loss: 0.1789 - val_mean_squared_error: 59108.2695\n",
      "Epoch 57/80\n",
      "125/125 [==============================] - 0s 1ms/step - loss: 0.1649 - mean_squared_error: 58873.5742 - val_loss: 0.1737 - val_mean_squared_error: 61377.9805\n",
      "Epoch 58/80\n",
      "125/125 [==============================] - 0s 1ms/step - loss: 0.1594 - mean_squared_error: 61142.6758 - val_loss: 0.1673 - val_mean_squared_error: 63740.9414\n",
      "Epoch 59/80\n",
      "125/125 [==============================] - 0s 1ms/step - loss: 0.1541 - mean_squared_error: 63510.0938 - val_loss: 0.1623 - val_mean_squared_error: 66169.0391\n",
      "Epoch 60/80\n",
      "125/125 [==============================] - 0s 1ms/step - loss: 0.1489 - mean_squared_error: 65849.6953 - val_loss: 0.1580 - val_mean_squared_error: 68671.7500\n",
      "Epoch 61/80\n",
      "125/125 [==============================] - 0s 1ms/step - loss: 0.1442 - mean_squared_error: 68382.0156 - val_loss: 0.1528 - val_mean_squared_error: 71291.0703\n",
      "Epoch 62/80\n",
      "125/125 [==============================] - 0s 1ms/step - loss: 0.1398 - mean_squared_error: 70963.7969 - val_loss: 0.1485 - val_mean_squared_error: 73994.2266\n",
      "Epoch 63/80\n",
      "125/125 [==============================] - 0s 1ms/step - loss: 0.1355 - mean_squared_error: 73633.2422 - val_loss: 0.1444 - val_mean_squared_error: 76785.5156\n",
      "Epoch 64/80\n",
      "125/125 [==============================] - 0s 1ms/step - loss: 0.1315 - mean_squared_error: 76417.3047 - val_loss: 0.1405 - val_mean_squared_error: 79699.2891\n",
      "Epoch 65/80\n",
      "125/125 [==============================] - 0s 1ms/step - loss: 0.1275 - mean_squared_error: 79322.6797 - val_loss: 0.1365 - val_mean_squared_error: 82723.4062\n",
      "Epoch 66/80\n",
      "125/125 [==============================] - 0s 1ms/step - loss: 0.1238 - mean_squared_error: 82387.5312 - val_loss: 0.1326 - val_mean_squared_error: 85940.6250\n",
      "Epoch 67/80\n",
      "125/125 [==============================] - 0s 1ms/step - loss: 0.1201 - mean_squared_error: 85542.8281 - val_loss: 0.1292 - val_mean_squared_error: 89227.1797\n",
      "Epoch 68/80\n",
      "125/125 [==============================] - 0s 1ms/step - loss: 0.1164 - mean_squared_error: 88781.8047 - val_loss: 0.1260 - val_mean_squared_error: 92671.4141\n",
      "Epoch 69/80\n",
      "125/125 [==============================] - 0s 1ms/step - loss: 0.1130 - mean_squared_error: 92212.4688 - val_loss: 0.1225 - val_mean_squared_error: 96204.2969\n",
      "Epoch 70/80\n",
      "125/125 [==============================] - 0s 1ms/step - loss: 0.1097 - mean_squared_error: 95697.5781 - val_loss: 0.1193 - val_mean_squared_error: 99909.3984\n",
      "Epoch 71/80\n",
      "125/125 [==============================] - 0s 1ms/step - loss: 0.1067 - mean_squared_error: 99370.1953 - val_loss: 0.1165 - val_mean_squared_error: 103687.0859\n",
      "Epoch 72/80\n",
      "125/125 [==============================] - 0s 1ms/step - loss: 0.1037 - mean_squared_error: 103204.7656 - val_loss: 0.1130 - val_mean_squared_error: 107707.8516\n",
      "Epoch 73/80\n",
      "125/125 [==============================] - 0s 1ms/step - loss: 0.1009 - mean_squared_error: 107096.7969 - val_loss: 0.1107 - val_mean_squared_error: 111840.7891\n",
      "Epoch 74/80\n",
      "125/125 [==============================] - 0s 1ms/step - loss: 0.0981 - mean_squared_error: 111198.1172 - val_loss: 0.1075 - val_mean_squared_error: 116124.3359\n",
      "Epoch 75/80\n",
      "125/125 [==============================] - 0s 1ms/step - loss: 0.0954 - mean_squared_error: 115544.3047 - val_loss: 0.1051 - val_mean_squared_error: 120599.6094\n",
      "Epoch 76/80\n",
      "125/125 [==============================] - 0s 991us/step - loss: 0.0929 - mean_squared_error: 119908.0000 - val_loss: 0.1025 - val_mean_squared_error: 125192.8438\n",
      "Epoch 77/80\n",
      "125/125 [==============================] - 0s 1ms/step - loss: 0.0905 - mean_squared_error: 124496.8672 - val_loss: 0.0999 - val_mean_squared_error: 130087.8203\n",
      "Epoch 78/80\n",
      "125/125 [==============================] - 0s 1ms/step - loss: 0.0882 - mean_squared_error: 129334.7500 - val_loss: 0.0968 - val_mean_squared_error: 135031.1562\n",
      "Epoch 79/80\n",
      "125/125 [==============================] - 0s 1ms/step - loss: 0.0859 - mean_squared_error: 134304.1719 - val_loss: 0.0967 - val_mean_squared_error: 140250.7969\n",
      "Epoch 80/80\n",
      "125/125 [==============================] - 0s 1ms/step - loss: 0.0837 - mean_squared_error: 139485.1406 - val_loss: 0.0922 - val_mean_squared_error: 145695.6094\n"
     ]
    }
   ],
   "source": [
    "es = EarlyStopping(patience=5)\n",
    "\n",
    "history = model.fit(X_train,\n",
    "                    y_train,\n",
    "                    callbacks=[es],\n",
    "                    epochs=80, \n",
    "                    batch_size=64,\n",
    "                    validation_split=0.2,\n",
    "                    shuffle=True,\n",
    "                    verbose=1)"
   ]
  },
  {
   "cell_type": "code",
   "execution_count": 9,
   "metadata": {},
   "outputs": [
    {
     "data": {
      "text/plain": [
       "<matplotlib.legend.Legend at 0x7fbac066f730>"
      ]
     },
     "execution_count": 9,
     "metadata": {},
     "output_type": "execute_result"
    },
    {
     "data": {
      "image/png": "[encoded data removed]",
      "text/plain": [
       "<Figure size 432x288 with 1 Axes>"
      ]
     },
     "metadata": {
      "needs_background": "light"
     },
     "output_type": "display_data"
    }
   ],
   "source": [
    "history_dict = history.history\n",
    "loss_values = history_dict['loss'] \n",
    "val_loss_values = history_dict['val_loss'] \n",
    "epochs = range(1, len(loss_values) + 1) \n",
    "plt.plot(epochs, loss_values, 'bo', label='Training loss')\n",
    "plt.plot(epochs, val_loss_values, 'orange', label='Validation loss')\n",
    "plt.title('Training and validation loss')\n",
    "plt.xlabel('Epochs')\n",
    "plt.ylabel('Loss')\n",
    "plt.legend()\n",
    "#plt.savefig('/home/jieun201/fullprecision400e_yprofile/loss.png')"
   ]
  },
  {
   "cell_type": "code",
   "execution_count": 10,
   "metadata": {},
   "outputs": [],
   "source": [
    "model.save('models_1Dx/msetest.keras')"
   ]
  },
  {
   "cell_type": "code",
   "execution_count": 11,
   "metadata": {},
   "outputs": [],
   "source": [
    "p_test = model.predict(X_test)"
   ]
  },
  {
   "cell_type": "code",
   "execution_count": 12,
   "metadata": {},
   "outputs": [],
   "source": [
    "residuals = y_test - p_test[:,0]"
   ]
  },
  {
   "cell_type": "code",
   "execution_count": 13,
   "metadata": {},
   "outputs": [
    {
     "data": {
      "image/png": "[encoded data removed]",
      "text/plain": [
       "<Figure size 432x288 with 1 Axes>"
      ]
     },
     "metadata": {
      "needs_background": "light"
     },
     "output_type": "display_data"
    }
   ],
   "source": [
    "plt.hist(residuals,bins=20);"
   ]
  },
  {
   "cell_type": "code",
   "execution_count": 17,
   "metadata": {},
   "outputs": [
    {
     "data": {
      "image/png": "[encoded data removed]",
      "text/plain": [
       "<Figure size 432x288 with 1 Axes>"
      ]
     },
     "metadata": {
      "needs_background": "light"
     },
     "output_type": "display_data"
    }
   ],
   "source": [
    "plt.hist(np.sqrt(p_test[:,1]),bins=20);"
   ]
  },
  {
   "cell_type": "code",
   "execution_count": null,
   "metadata": {},
   "outputs": [],
   "source": []
  }
 ],
 "metadata": {
  "kernelspec": {
   "display_name": "Python 3 (ipykernel)",
   "language": "python",
   "name": "python3"
  },
  "language_info": {
   "codemirror_mode": {
    "name": "ipython",
    "version": 3
   },
   "file_extension": ".py",
   "mimetype": "text/x-python",
   "name": "python",
   "nbconvert_exporter": "python",
   "pygments_lexer": "ipython3",
   "version": "3.9.6"
  }
 },
 "nbformat": 4,
 "nbformat_minor": 2
}
