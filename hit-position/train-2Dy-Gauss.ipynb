{
 "cells": [
  {
   "cell_type": "code",
   "execution_count": 1,
   "metadata": {},
   "outputs": [
    {
     "name": "stderr",
     "output_type": "stream",
     "text": [
      "2022-10-20 15:08:25.349036: W tensorflow/stream_executor/platform/default/dso_loader.cc:64] Could not load dynamic library 'libcudart.so.11.0'; dlerror: libcudart.so.11.0: cannot open shared object file: No such file or directory; LD_LIBRARY_PATH: /cvmfs/sft.cern.ch/lcg/releases/MCGenerators/thepeg/2.2.1-8d929/x86_64-centos7-gcc8-opt/lib/ThePEG:/cvmfs/sft.cern.ch/lcg/releases/MCGenerators/herwig++/7.2.1-f3599/x86_64-centos7-gcc8-opt/lib/Herwig:/cvmfs/sft.cern.ch/lcg/views/LCG_101/x86_64-centos7-gcc8-opt/lib/python3.9/site-packages/torch/lib:/cvmfs/sft.cern.ch/lcg/views/LCG_101/x86_64-centos7-gcc8-opt/lib/python3.9/site-packages/tensorflow:/cvmfs/sft.cern.ch/lcg/views/LCG_101/x86_64-centos7-gcc8-opt/lib/python3.9/site-packages/tensorflow/contrib/tensor_forest:/cvmfs/sft.cern.ch/lcg/views/LCG_101/x86_64-centos7-gcc8-opt/lib/python3.9/site-packages/tensorflow/python/framework:/cvmfs/sft.cern.ch/lcg/releases/java/8u222-884d8/x86_64-centos7-gcc8-opt/jre/lib/amd64:/cvmfs/sft.cern.ch/lcg/views/LCG_101/x86_64-centos7-gcc8-opt/lib64:/cvmfs/sft.cern.ch/lcg/views/LCG_101/x86_64-centos7-gcc8-opt/lib:/cvmfs/sft.cern.ch/lcg/releases/gcc/8.3.0-cebb0/x86_64-centos7/lib:/cvmfs/sft.cern.ch/lcg/releases/gcc/8.3.0-cebb0/x86_64-centos7/lib64:/cvmfs/sft.cern.ch/lcg/releases/binutils/2.30-e5b21/x86_64-centos7/lib:/cvmfs/sft.cern.ch/lcg/releases/R/3.6.3-dfb24/x86_64-centos7-gcc8-opt/lib64/R/library/readr/rcon\n",
      "2022-10-20 15:08:25.349076: I tensorflow/stream_executor/cuda/cudart_stub.cc:29] Ignore above cudart dlerror if you do not have a GPU set up on your machine.\n"
     ]
    }
   ],
   "source": [
    "from sklearn.metrics import mean_squared_error\n",
    "from sklearn.preprocessing import StandardScaler\n",
    "import tensorflow as tf\n",
    "from tensorflow.keras import datasets, layers, models\n",
    "from keras.models import Sequential\n",
    "from keras.layers import Dense, Dropout, Flatten\n",
    "from keras.callbacks import EarlyStopping\n",
    "import matplotlib.pyplot as plt\n",
    "import numpy as np\n",
    "import pandas as pd\n",
    "import math"
   ]
  },
  {
   "cell_type": "code",
   "execution_count": 2,
   "metadata": {},
   "outputs": [],
   "source": [
    "train_df = pd.read_csv('train_2Dy.csv',nrows=100000)\n",
    "test_df = pd.read_csv('test_2Dy.csv',nrows=5000)"
   ]
  },
  {
   "cell_type": "code",
   "execution_count": 3,
   "metadata": {},
   "outputs": [],
   "source": [
    "X_train = train_df.drop(columns=['y-midplane']).values\n",
    "X_test = test_df.drop(columns=['y-midplane']).values\n",
    "\n",
    "y_train = train_df['y-midplane'].values\n",
    "y_test = test_df['y-midplane'].values"
   ]
  },
  {
   "cell_type": "code",
   "execution_count": 4,
   "metadata": {},
   "outputs": [],
   "source": [
    "scaler = StandardScaler()\n",
    "X_train = scaler.fit_transform(X_train.reshape(-1, X_train.shape[-1])).reshape(X_train.shape)\n",
    "X_test = scaler.fit_transform(X_test.reshape(-1, X_test.shape[-1])).reshape(X_test.shape)"
   ]
  },
  {
   "cell_type": "code",
   "execution_count": 5,
   "metadata": {},
   "outputs": [
    {
     "name": "stdout",
     "output_type": "stream",
     "text": [
      "Model: \"sequential\"\n",
      "_________________________________________________________________\n",
      "Layer (type)                 Output Shape              Param #   \n",
      "=================================================================\n",
      "dense (Dense)                (None, 32)                3360      \n",
      "_________________________________________________________________\n",
      "dense_1 (Dense)              (None, 2)                 66        \n",
      "=================================================================\n",
      "Total params: 3,426\n",
      "Trainable params: 3,426\n",
      "Non-trainable params: 0\n",
      "_________________________________________________________________\n"
     ]
    },
    {
     "name": "stderr",
     "output_type": "stream",
     "text": [
      "2022-10-20 15:08:29.895590: W tensorflow/stream_executor/platform/default/dso_loader.cc:64] Could not load dynamic library 'libcuda.so.1'; dlerror: libcuda.so.1: cannot open shared object file: No such file or directory; LD_LIBRARY_PATH: /cvmfs/sft.cern.ch/lcg/releases/MCGenerators/thepeg/2.2.1-8d929/x86_64-centos7-gcc8-opt/lib/ThePEG:/cvmfs/sft.cern.ch/lcg/releases/MCGenerators/herwig++/7.2.1-f3599/x86_64-centos7-gcc8-opt/lib/Herwig:/cvmfs/sft.cern.ch/lcg/views/LCG_101/x86_64-centos7-gcc8-opt/lib/python3.9/site-packages/torch/lib:/cvmfs/sft.cern.ch/lcg/views/LCG_101/x86_64-centos7-gcc8-opt/lib/python3.9/site-packages/tensorflow:/cvmfs/sft.cern.ch/lcg/views/LCG_101/x86_64-centos7-gcc8-opt/lib/python3.9/site-packages/tensorflow/contrib/tensor_forest:/cvmfs/sft.cern.ch/lcg/views/LCG_101/x86_64-centos7-gcc8-opt/lib/python3.9/site-packages/tensorflow/python/framework:/cvmfs/sft.cern.ch/lcg/releases/java/8u222-884d8/x86_64-centos7-gcc8-opt/jre/lib/amd64:/cvmfs/sft.cern.ch/lcg/views/LCG_101/x86_64-centos7-gcc8-opt/lib64:/cvmfs/sft.cern.ch/lcg/views/LCG_101/x86_64-centos7-gcc8-opt/lib:/cvmfs/sft.cern.ch/lcg/releases/gcc/8.3.0-cebb0/x86_64-centos7/lib:/cvmfs/sft.cern.ch/lcg/releases/gcc/8.3.0-cebb0/x86_64-centos7/lib64:/cvmfs/sft.cern.ch/lcg/releases/binutils/2.30-e5b21/x86_64-centos7/lib:/cvmfs/sft.cern.ch/lcg/releases/R/3.6.3-dfb24/x86_64-centos7-gcc8-opt/lib64/R/library/readr/rcon\n",
      "2022-10-20 15:08:29.895634: W tensorflow/stream_executor/cuda/cuda_driver.cc:326] failed call to cuInit: UNKNOWN ERROR (303)\n",
      "2022-10-20 15:08:29.895683: I tensorflow/stream_executor/cuda/cuda_diagnostics.cc:156] kernel driver does not appear to be running on this host (cmslpc175.fnal.gov): /proc/driver/nvidia/version does not exist\n",
      "2022-10-20 15:08:29.897144: I tensorflow/core/platform/cpu_feature_guard.cc:142] This TensorFlow binary is optimized with oneAPI Deep Neural Network Library (oneDNN) to use the following CPU instructions in performance-critical operations:  AVX2 FMA\n",
      "To enable them in other operations, rebuild TensorFlow with the appropriate compiler flags.\n"
     ]
    }
   ],
   "source": [
    "model = Sequential()\n",
    "model.add(Dense(32, input_shape=(104,), activation='relu')) # Add an input shape! (features,)\n",
    "model.add(Dense(2, activation='linear'))\n",
    "model.summary() "
   ]
  },
  {
   "cell_type": "code",
   "execution_count": 6,
   "metadata": {},
   "outputs": [],
   "source": [
    "def custom_loss(y, p):\n",
    "    \n",
    "    maxval = 1e6\n",
    "    minval = 1e-9\n",
    "    pi = 3.14159265359\n",
    "    \n",
    "    mu = tf.gather(params=p, indices=[0], axis=1)\n",
    "    sigma = tf.clip_by_value(tf.gather(params=p, indices=[1], axis=1),minval,maxval)\n",
    "        \n",
    "    term = tf.clip_by_value(1.0/tf.math.sqrt(2*pi)/sigma*tf.math.exp(-1*(y-mu)*(y-mu)/(2*sigma*sigma)),minval,maxval)\n",
    "    NLL = tf.clip_by_value(-1*tf.math.log(term),minval,maxval)\n",
    "    \n",
    "    return tf.keras.backend.sum(NLL,axis=1)"
   ]
  },
  {
   "cell_type": "code",
   "execution_count": 7,
   "metadata": {},
   "outputs": [],
   "source": [
    "model.compile(optimizer='Adam', \n",
    "              loss=custom_loss)"
   ]
  },
  {
   "cell_type": "code",
   "execution_count": 8,
   "metadata": {},
   "outputs": [
    {
     "name": "stderr",
     "output_type": "stream",
     "text": [
      "2022-10-20 15:08:30.014085: I tensorflow/compiler/mlir/mlir_graph_optimization_pass.cc:176] None of the MLIR Optimization Passes are enabled (registered 2)\n",
      "2022-10-20 15:08:30.014928: I tensorflow/core/platform/profile_utils/cpu_utils.cc:114] CPU Frequency: 2894560000 Hz\n"
     ]
    },
    {
     "name": "stdout",
     "output_type": "stream",
     "text": [
      "Epoch 1/80\n",
      "WARNING:tensorflow:From /cvmfs/sft.cern.ch/lcg/views/LCG_101/x86_64-centos7-gcc8-opt/lib/python3.9/site-packages/tensorflow/python/ops/array_ops.py:5043: calling gather (from tensorflow.python.ops.array_ops) with validate_indices is deprecated and will be removed in a future version.\n",
      "Instructions for updating:\n",
      "The `validate_indices` argument has no effect. Indices are always validated on CPU and never validated on GPU.\n",
      "1250/1250 [==============================] - 2s 1ms/step - loss: 3.6899 - val_loss: 2.4270\n",
      "Epoch 2/80\n",
      "1250/1250 [==============================] - 1s 968us/step - loss: 2.1661 - val_loss: 1.9166\n",
      "Epoch 3/80\n",
      "1250/1250 [==============================] - 1s 995us/step - loss: 1.8425 - val_loss: 1.7084\n",
      "Epoch 4/80\n",
      "1250/1250 [==============================] - 1s 973us/step - loss: 1.6977 - val_loss: 1.6090\n",
      "Epoch 5/80\n",
      "1250/1250 [==============================] - 1s 985us/step - loss: 1.6174 - val_loss: 1.5971\n",
      "Epoch 6/80\n",
      "1250/1250 [==============================] - 1s 953us/step - loss: 1.5712 - val_loss: 1.4746\n",
      "Epoch 7/80\n",
      "1250/1250 [==============================] - 1s 964us/step - loss: 1.4939 - val_loss: 1.4283\n",
      "Epoch 8/80\n",
      "1250/1250 [==============================] - 1s 948us/step - loss: 1.4560 - val_loss: 1.4117\n",
      "Epoch 9/80\n",
      "1250/1250 [==============================] - 1s 957us/step - loss: 1.4233 - val_loss: 1.3852\n",
      "Epoch 10/80\n",
      "1250/1250 [==============================] - 1s 940us/step - loss: 1.4094 - val_loss: 1.3687\n",
      "Epoch 11/80\n",
      "1250/1250 [==============================] - 1s 947us/step - loss: 1.3893 - val_loss: 1.5769\n",
      "Epoch 12/80\n",
      "1250/1250 [==============================] - 1s 962us/step - loss: 1.3771 - val_loss: 1.4339\n",
      "Epoch 13/80\n",
      "1250/1250 [==============================] - 1s 956us/step - loss: 1.3581 - val_loss: 1.3576\n",
      "Epoch 14/80\n",
      "1250/1250 [==============================] - 1s 997us/step - loss: 1.3363 - val_loss: 1.3767\n",
      "Epoch 15/80\n",
      "1250/1250 [==============================] - 1s 982us/step - loss: 1.3225 - val_loss: 1.2801\n",
      "Epoch 16/80\n",
      "1250/1250 [==============================] - 1s 942us/step - loss: 1.3408 - val_loss: 1.3309\n",
      "Epoch 17/80\n",
      "1250/1250 [==============================] - 1s 938us/step - loss: 1.3038 - val_loss: 1.2430\n",
      "Epoch 18/80\n",
      "1250/1250 [==============================] - 1s 940us/step - loss: 1.2884 - val_loss: 1.2586\n",
      "Epoch 19/80\n",
      "1250/1250 [==============================] - 1s 955us/step - loss: 1.2867 - val_loss: 1.2441\n",
      "Epoch 20/80\n",
      "1250/1250 [==============================] - 1s 944us/step - loss: 1.2673 - val_loss: 1.2337\n",
      "Epoch 21/80\n",
      "1250/1250 [==============================] - 1s 952us/step - loss: 1.2686 - val_loss: 1.2419\n",
      "Epoch 22/80\n",
      "1250/1250 [==============================] - 1s 975us/step - loss: 1.2466 - val_loss: 1.2183\n",
      "Epoch 23/80\n",
      "1250/1250 [==============================] - 1s 1ms/step - loss: 1.2395 - val_loss: 1.2079\n",
      "Epoch 24/80\n",
      "1250/1250 [==============================] - 1s 1ms/step - loss: 1.2303 - val_loss: 1.2166\n",
      "Epoch 25/80\n",
      "1250/1250 [==============================] - 1s 1ms/step - loss: 1.2347 - val_loss: 1.1950\n",
      "Epoch 26/80\n",
      "1250/1250 [==============================] - 1s 1ms/step - loss: 1.2285 - val_loss: 1.1767\n",
      "Epoch 27/80\n",
      "1250/1250 [==============================] - 1s 986us/step - loss: 1.2103 - val_loss: 1.1891\n",
      "Epoch 28/80\n",
      "1250/1250 [==============================] - 1s 976us/step - loss: 1.2039 - val_loss: 1.2154\n",
      "Epoch 29/80\n",
      "1250/1250 [==============================] - 1s 952us/step - loss: 1.1999 - val_loss: 1.1876\n",
      "Epoch 30/80\n",
      "1250/1250 [==============================] - 1s 965us/step - loss: 1.1903 - val_loss: 1.1677\n",
      "Epoch 31/80\n",
      "1250/1250 [==============================] - 1s 945us/step - loss: 1.1815 - val_loss: 1.1765\n",
      "Epoch 32/80\n",
      "1250/1250 [==============================] - 1s 985us/step - loss: 1.1711 - val_loss: 1.1321\n",
      "Epoch 33/80\n",
      "1250/1250 [==============================] - 1s 996us/step - loss: 1.1643 - val_loss: 1.1546\n",
      "Epoch 34/80\n",
      "1250/1250 [==============================] - 1s 974us/step - loss: 1.1617 - val_loss: 1.1319\n",
      "Epoch 35/80\n",
      "1250/1250 [==============================] - 1s 942us/step - loss: 1.1696 - val_loss: 1.1945\n",
      "Epoch 36/80\n",
      "1250/1250 [==============================] - 1s 965us/step - loss: 1.1442 - val_loss: 1.1720\n",
      "Epoch 37/80\n",
      "1250/1250 [==============================] - 1s 965us/step - loss: 1.1735 - val_loss: 1.1422\n",
      "Epoch 38/80\n",
      "1250/1250 [==============================] - 1s 991us/step - loss: 1.1645 - val_loss: 1.2109\n",
      "Epoch 39/80\n",
      "1250/1250 [==============================] - 1s 998us/step - loss: 1.1481 - val_loss: 1.2075\n"
     ]
    }
   ],
   "source": [
    "es = EarlyStopping(patience=5)\n",
    "\n",
    "history = model.fit(X_train,\n",
    "                    y_train,\n",
    "                    callbacks=[es],\n",
    "                    epochs=80, \n",
    "                    batch_size=64,\n",
    "                    validation_split=0.2,\n",
    "                    shuffle=True,\n",
    "                    verbose=1)"
   ]
  },
  {
   "cell_type": "code",
   "execution_count": 9,
   "metadata": {},
   "outputs": [
    {
     "data": {
      "text/plain": [
       "<matplotlib.legend.Legend at 0x7f126869d8b0>"
      ]
     },
     "execution_count": 9,
     "metadata": {},
     "output_type": "execute_result"
    },
    {
     "data": {
      "image/png": "[encoded data removed]",
      "text/plain": [
       "<Figure size 432x288 with 1 Axes>"
      ]
     },
     "metadata": {
      "needs_background": "light"
     },
     "output_type": "display_data"
    }
   ],
   "source": [
    "history_dict = history.history\n",
    "loss_values = history_dict['loss'] \n",
    "val_loss_values = history_dict['val_loss'] \n",
    "epochs = range(1, len(loss_values) + 1) \n",
    "plt.plot(epochs, loss_values, 'bo', label='Training loss')\n",
    "plt.plot(epochs, val_loss_values, 'orange', label='Validation loss')\n",
    "plt.title('Training and validation loss')\n",
    "plt.xlabel('Epochs')\n",
    "plt.ylabel('Loss')\n",
    "plt.yscale('Log')\n",
    "plt.legend()\n",
    "#plt.savefig('/home/jieun201/fullprecision400e_yprofile/loss.png')"
   ]
  },
  {
   "cell_type": "code",
   "execution_count": 10,
   "metadata": {},
   "outputs": [],
   "source": [
    "#model.save('models_1Dy/gausstest.keras')"
   ]
  },
  {
   "cell_type": "code",
   "execution_count": 11,
   "metadata": {},
   "outputs": [],
   "source": [
    "p_test = model.predict(X_test)\n",
    "np.savetxt(\"test_2DyGaus.csv\", p_test, delimiter=\",\")"
   ]
  },
  {
   "cell_type": "code",
   "execution_count": 12,
   "metadata": {},
   "outputs": [],
   "source": [
    "p_test = model.predict(X_test)\n",
    "df = pd.DataFrame(p_test,columns=['mu','sigma'])\n",
    "df['ytrue'] = y_test\n",
    "df.to_csv(\"test_1DxGaus.csv\",header=False,index=False)"
   ]
  },
  {
   "cell_type": "code",
   "execution_count": 13,
   "metadata": {},
   "outputs": [],
   "source": [
    "residuals = y_test - p_test[:,0]"
   ]
  },
  {
   "cell_type": "code",
   "execution_count": 14,
   "metadata": {},
   "outputs": [
    {
     "data": {
      "image/png": "[encoded data removed]",
      "text/plain": [
       "<Figure size 432x288 with 1 Axes>"
      ]
     },
     "metadata": {
      "needs_background": "light"
     },
     "output_type": "display_data"
    },
    {
     "data": {
      "image/png": "[encoded data removed]",
      "text/plain": [
       "<Figure size 432x288 with 1 Axes>"
      ]
     },
     "metadata": {
      "needs_background": "light"
     },
     "output_type": "display_data"
    }
   ],
   "source": [
    "plt.hist(residuals,bins=50)\n",
    "plt.yscale('Log')\n",
    "plt.xlabel(r'$y-\\mu_y$ [um]')\n",
    "plt.show()\n",
    "\n",
    "plt.hist(p_test[:,1],bins=50);\n",
    "plt.yscale('Log')\n",
    "plt.xlabel(r'$\\sigma_y$ [um]')\n",
    "plt.show()"
   ]
  },
  {
   "cell_type": "code",
   "execution_count": 15,
   "metadata": {},
   "outputs": [
    {
     "name": "stdout",
     "output_type": "stream",
     "text": [
      "-0.09023056315615215 0.94226300215427\n"
     ]
    }
   ],
   "source": [
    "pulls = residuals/p_test[:,1]\n",
    "print(np.mean(pulls),np.std(pulls))"
   ]
  },
  {
   "cell_type": "code",
   "execution_count": 16,
   "metadata": {},
   "outputs": [
    {
     "data": {
      "text/plain": [
       "Text(0.5, 0, 'pull')"
      ]
     },
     "execution_count": 16,
     "metadata": {},
     "output_type": "execute_result"
    },
    {
     "data": {
      "image/png": "[encoded data removed]",
      "text/plain": [
       "<Figure size 432x288 with 1 Axes>"
      ]
     },
     "metadata": {
      "needs_background": "light"
     },
     "output_type": "display_data"
    }
   ],
   "source": [
    "plt.hist(pulls,bins=50);\n",
    "plt.xlabel('pull')"
   ]
  },
  {
   "cell_type": "code",
   "execution_count": 17,
   "metadata": {},
   "outputs": [
    {
     "data": {
      "text/html": [
       "<div>\n",
       "<style scoped>\n",
       "    .dataframe tbody tr th:only-of-type {\n",
       "        vertical-align: middle;\n",
       "    }\n",
       "\n",
       "    .dataframe tbody tr th {\n",
       "        vertical-align: top;\n",
       "    }\n",
       "\n",
       "    .dataframe thead th {\n",
       "        text-align: right;\n",
       "    }\n",
       "</style>\n",
       "<table border=\"1\" class=\"dataframe\">\n",
       "  <thead>\n",
       "    <tr style=\"text-align: right;\">\n",
       "      <th></th>\n",
       "      <th>mu</th>\n",
       "      <th>sigma</th>\n",
       "      <th>ytrue</th>\n",
       "    </tr>\n",
       "  </thead>\n",
       "  <tbody>\n",
       "    <tr>\n",
       "      <th>0</th>\n",
       "      <td>-5.556272</td>\n",
       "      <td>0.675596</td>\n",
       "      <td>-5.269646</td>\n",
       "    </tr>\n",
       "    <tr>\n",
       "      <th>1</th>\n",
       "      <td>13.094858</td>\n",
       "      <td>0.566901</td>\n",
       "      <td>12.832723</td>\n",
       "    </tr>\n",
       "    <tr>\n",
       "      <th>2</th>\n",
       "      <td>17.101698</td>\n",
       "      <td>1.894745</td>\n",
       "      <td>16.483230</td>\n",
       "    </tr>\n",
       "    <tr>\n",
       "      <th>3</th>\n",
       "      <td>-10.159347</td>\n",
       "      <td>1.640494</td>\n",
       "      <td>-9.731144</td>\n",
       "    </tr>\n",
       "    <tr>\n",
       "      <th>4</th>\n",
       "      <td>5.714094</td>\n",
       "      <td>0.431259</td>\n",
       "      <td>5.776402</td>\n",
       "    </tr>\n",
       "  </tbody>\n",
       "</table>\n",
       "</div>"
      ],
      "text/plain": [
       "          mu     sigma      ytrue\n",
       "0  -5.556272  0.675596  -5.269646\n",
       "1  13.094858  0.566901  12.832723\n",
       "2  17.101698  1.894745  16.483230\n",
       "3 -10.159347  1.640494  -9.731144\n",
       "4   5.714094  0.431259   5.776402"
      ]
     },
     "execution_count": 17,
     "metadata": {},
     "output_type": "execute_result"
    }
   ],
   "source": [
    "df_2d = pd.DataFrame(p_test,columns=['mu','sigma'])\n",
    "df_2d['ytrue'] = y_test\n",
    "df_2d.head()"
   ]
  },
  {
   "cell_type": "code",
   "execution_count": 18,
   "metadata": {},
   "outputs": [
    {
     "data": {
      "text/html": [
       "<div>\n",
       "<style scoped>\n",
       "    .dataframe tbody tr th:only-of-type {\n",
       "        vertical-align: middle;\n",
       "    }\n",
       "\n",
       "    .dataframe tbody tr th {\n",
       "        vertical-align: top;\n",
       "    }\n",
       "\n",
       "    .dataframe thead th {\n",
       "        text-align: right;\n",
       "    }\n",
       "</style>\n",
       "<table border=\"1\" class=\"dataframe\">\n",
       "  <thead>\n",
       "    <tr style=\"text-align: right;\">\n",
       "      <th></th>\n",
       "      <th>mu</th>\n",
       "      <th>sigma</th>\n",
       "      <th>ytrue</th>\n",
       "    </tr>\n",
       "  </thead>\n",
       "  <tbody>\n",
       "    <tr>\n",
       "      <th>0</th>\n",
       "      <td>-4.503408</td>\n",
       "      <td>2.154454</td>\n",
       "      <td>-4.155753</td>\n",
       "    </tr>\n",
       "    <tr>\n",
       "      <th>1</th>\n",
       "      <td>5.249463</td>\n",
       "      <td>1.461508</td>\n",
       "      <td>5.268802</td>\n",
       "    </tr>\n",
       "    <tr>\n",
       "      <th>2</th>\n",
       "      <td>0.519554</td>\n",
       "      <td>1.639170</td>\n",
       "      <td>-1.388992</td>\n",
       "    </tr>\n",
       "    <tr>\n",
       "      <th>3</th>\n",
       "      <td>16.519974</td>\n",
       "      <td>3.168198</td>\n",
       "      <td>4.737947</td>\n",
       "    </tr>\n",
       "    <tr>\n",
       "      <th>4</th>\n",
       "      <td>-2.598370</td>\n",
       "      <td>1.488059</td>\n",
       "      <td>-4.446499</td>\n",
       "    </tr>\n",
       "  </tbody>\n",
       "</table>\n",
       "</div>"
      ],
      "text/plain": [
       "          mu     sigma     ytrue\n",
       "0  -4.503408  2.154454 -4.155753\n",
       "1   5.249463  1.461508  5.268802\n",
       "2   0.519554  1.639170 -1.388992\n",
       "3  16.519974  3.168198  4.737947\n",
       "4  -2.598370  1.488059 -4.446499"
      ]
     },
     "execution_count": 18,
     "metadata": {},
     "output_type": "execute_result"
    }
   ],
   "source": [
    "df_1d = pd.read_csv('test_1DyGaus.csv',header=None,names=['mu','sigma','ytrue'])\n",
    "df_1d.head()"
   ]
  },
  {
   "cell_type": "code",
   "execution_count": 22,
   "metadata": {},
   "outputs": [
    {
     "data": {
      "text/plain": [
       "Text(0.5, 0, '$y-\\\\mu_y$ [um]')"
      ]
     },
     "execution_count": 22,
     "metadata": {},
     "output_type": "execute_result"
    },
    {
     "data": {
      "image/png": "[encoded data removed]",
      "text/plain": [
       "<Figure size 432x288 with 1 Axes>"
      ]
     },
     "metadata": {
      "needs_background": "light"
     },
     "output_type": "display_data"
    }
   ],
   "source": [
    "plt.hist(df_2d['ytrue'] - df_2d['mu'],histtype='step',bins=np.linspace(-12.5,12.5,50),label=r'with time');\n",
    "plt.hist(df_1d['ytrue'] - df_1d['mu'],histtype='step',bins=np.linspace(-12.5,12.5,50),label=r'without time');\n",
    "plt.legend(frameon=False)\n",
    "plt.xlabel(r'$y-\\mu_y$ [um]')"
   ]
  },
  {
   "cell_type": "code",
   "execution_count": 23,
   "metadata": {},
   "outputs": [
    {
     "data": {
      "text/plain": [
       "Text(0.5, 0, '$\\\\sigma_y$ [um]')"
      ]
     },
     "execution_count": 23,
     "metadata": {},
     "output_type": "execute_result"
    },
    {
     "data": {
      "image/png": "[encoded data removed]",
      "text/plain": [
       "<Figure size 432x288 with 1 Axes>"
      ]
     },
     "metadata": {
      "needs_background": "light"
     },
     "output_type": "display_data"
    }
   ],
   "source": [
    "plt.hist(df_2d['sigma'],histtype='step',bins=np.linspace(0,6,50),label=r'with time');\n",
    "plt.hist(df_1d['sigma'],histtype='step',bins=np.linspace(0,6,50),label=r'without time');\n",
    "plt.legend(frameon=False)\n",
    "plt.xlabel(r'$\\sigma_y$ [um]')"
   ]
  },
  {
   "cell_type": "code",
   "execution_count": null,
   "metadata": {},
   "outputs": [],
   "source": []
  }
 ],
 "metadata": {
  "kernelspec": {
   "display_name": "Python 3 (ipykernel)",
   "language": "python",
   "name": "python3"
  },
  "language_info": {
   "codemirror_mode": {
    "name": "ipython",
    "version": 3
   },
   "file_extension": ".py",
   "mimetype": "text/x-python",
   "name": "python",
   "nbconvert_exporter": "python",
   "pygments_lexer": "ipython3",
   "version": "3.9.6"
  }
 },
 "nbformat": 4,
 "nbformat_minor": 2
}
