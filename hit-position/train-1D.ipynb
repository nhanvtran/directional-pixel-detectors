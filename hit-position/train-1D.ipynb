{
 "cells": [
  {
   "cell_type": "code",
   "execution_count": 1,
   "metadata": {},
   "outputs": [
    {
     "name": "stderr",
     "output_type": "stream",
     "text": [
      "Using TensorFlow backend.\n"
     ]
    }
   ],
   "source": [
    "from sklearn.model_selection import train_test_split\n",
    "from sklearn.metrics import mean_squared_error\n",
    "from sklearn.preprocessing import StandardScaler\n",
    "from sklearn.metrics import confusion_matrix\n",
    "from sklearn.metrics import classification_report\n",
    "import tensorflow as tf\n",
    "from tensorflow.keras import datasets, layers, models\n",
    "import keras\n",
    "from keras.models import Sequential\n",
    "from keras.layers import Dense, Dropout, Flatten\n",
    "from keras.layers import Conv2D, MaxPooling2D\n",
    "from keras.callbacks import CSVLogger\n",
    "from keras.callbacks import EarlyStopping\n",
    "import matplotlib.pyplot as plt\n",
    "import numpy as np\n",
    "import pandas as pd\n",
    "from pandas import read_csv\n",
    "import math\n",
    "import seaborn as sns"
   ]
  },
  {
   "cell_type": "code",
   "execution_count": 2,
   "metadata": {},
   "outputs": [],
   "source": [
    "train_df = pd.read_csv('train_1D.csv')\n",
    "test_df = pd.read_csv('test_1D.csv')"
   ]
  },
  {
   "cell_type": "code",
   "execution_count": 3,
   "metadata": {},
   "outputs": [],
   "source": [
    "train_df = train_df[:1000]\n",
    "test_df = test_df[:1000]"
   ]
  },
  {
   "cell_type": "code",
   "execution_count": 6,
   "metadata": {},
   "outputs": [],
   "source": [
    "X_train = train_df.drop(columns=['x-midplane','y-midplane']).values\n",
    "X_test = test_df.drop(columns=['x-midplane','y-midplane']).values\n",
    "\n",
    "y_train = train_df[['x-midplane','y-midplane']].values\n",
    "y_test = test_df[['x-midplane','y-midplane']].values"
   ]
  },
  {
   "cell_type": "code",
   "execution_count": 7,
   "metadata": {},
   "outputs": [],
   "source": [
    "scaler = StandardScaler()\n",
    "X_train = scaler.fit_transform(X_train.reshape(-1, X_train.shape[-1])).reshape(X_train.shape)\n",
    "X_test = scaler.transform(X_test.reshape(-1, X_test.shape[-1])).reshape(X_test.shape)"
   ]
  },
  {
   "cell_type": "code",
   "execution_count": 8,
   "metadata": {},
   "outputs": [
    {
     "data": {
      "text/plain": [
       "(1000, 34)"
      ]
     },
     "execution_count": 8,
     "metadata": {},
     "output_type": "execute_result"
    }
   ],
   "source": [
    "X_train.shape"
   ]
  },
  {
   "cell_type": "code",
   "execution_count": 16,
   "metadata": {},
   "outputs": [
    {
     "name": "stdout",
     "output_type": "stream",
     "text": [
      "_________________________________________________________________\n",
      "Layer (type)                 Output Shape              Param #   \n",
      "=================================================================\n",
      "dense_3 (Dense)              (None, 16)                560       \n",
      "_________________________________________________________________\n",
      "dense_4 (Dense)              (None, 2)                 34        \n",
      "=================================================================\n",
      "Total params: 594\n",
      "Trainable params: 594\n",
      "Non-trainable params: 0\n",
      "_________________________________________________________________\n"
     ]
    }
   ],
   "source": [
    "model = Sequential()\n",
    "model.add(Dense(16, input_shape=(34,), activation='linear')) # Add an input shape! (features,)\n",
    "model.add(Dense(2, activation='linear'))\n",
    "model.summary() "
   ]
  },
  {
   "cell_type": "code",
   "execution_count": 18,
   "metadata": {},
   "outputs": [],
   "source": [
    "model.compile(optimizer='Adam', \n",
    "              loss='mean_squared_error',\n",
    "              metrics=['mean_squared_error'])"
   ]
  },
  {
   "cell_type": "code",
   "execution_count": 19,
   "metadata": {},
   "outputs": [
    {
     "name": "stderr",
     "output_type": "stream",
     "text": [
      "W0930 13:12:16.099720 139929697748800 deprecation_wrapper.py:119] From /cvmfs/sft.cern.ch/lcg/views/LCG_96python3/x86_64-centos7-gcc8-opt/lib/python3.6/site-packages/keras/backend/tensorflow_backend.py:986: The name tf.assign_add is deprecated. Please use tf.compat.v1.assign_add instead.\n",
      "\n",
      "W0930 13:12:16.190858 139929697748800 deprecation_wrapper.py:119] From /cvmfs/sft.cern.ch/lcg/views/LCG_96python3/x86_64-centos7-gcc8-opt/lib/python3.6/site-packages/keras/backend/tensorflow_backend.py:973: The name tf.assign is deprecated. Please use tf.compat.v1.assign instead.\n",
      "\n"
     ]
    },
    {
     "name": "stdout",
     "output_type": "stream",
     "text": [
      "Train on 800 samples, validate on 200 samples\n",
      "Epoch 1/80\n",
      "800/800 [==============================] - 1s 853us/step - loss: 1013.8382 - mean_squared_error: 1013.8382 - val_loss: 978.9954 - val_mean_squared_error: 978.9954\n",
      "Epoch 2/80\n",
      "800/800 [==============================] - 0s 18us/step - loss: 1003.0983 - mean_squared_error: 1003.0983 - val_loss: 970.3498 - val_mean_squared_error: 970.3498\n",
      "Epoch 3/80\n",
      "800/800 [==============================] - 0s 16us/step - loss: 992.8928 - mean_squared_error: 992.8928 - val_loss: 961.6369 - val_mean_squared_error: 961.6369\n",
      "Epoch 4/80\n",
      "800/800 [==============================] - 0s 17us/step - loss: 982.1672 - mean_squared_error: 982.1672 - val_loss: 953.0840 - val_mean_squared_error: 953.0840\n",
      "Epoch 5/80\n",
      "800/800 [==============================] - 0s 16us/step - loss: 971.7077 - mean_squared_error: 971.7077 - val_loss: 944.1413 - val_mean_squared_error: 944.1413\n",
      "Epoch 6/80\n",
      "800/800 [==============================] - 0s 16us/step - loss: 960.8766 - mean_squared_error: 960.8766 - val_loss: 934.8792 - val_mean_squared_error: 934.8792\n",
      "Epoch 7/80\n",
      "800/800 [==============================] - 0s 16us/step - loss: 949.4685 - mean_squared_error: 949.4685 - val_loss: 925.2254 - val_mean_squared_error: 925.2254\n",
      "Epoch 8/80\n",
      "800/800 [==============================] - 0s 16us/step - loss: 937.4906 - mean_squared_error: 937.4906 - val_loss: 914.8218 - val_mean_squared_error: 914.8218\n",
      "Epoch 9/80\n",
      "800/800 [==============================] - 0s 17us/step - loss: 924.9215 - mean_squared_error: 924.9215 - val_loss: 903.8656 - val_mean_squared_error: 903.8656\n",
      "Epoch 10/80\n",
      "800/800 [==============================] - 0s 17us/step - loss: 911.3430 - mean_squared_error: 911.3430 - val_loss: 892.3026 - val_mean_squared_error: 892.3026\n",
      "Epoch 11/80\n",
      "800/800 [==============================] - 0s 20us/step - loss: 896.8880 - mean_squared_error: 896.8880 - val_loss: 879.9213 - val_mean_squared_error: 879.9213\n",
      "Epoch 12/80\n",
      "800/800 [==============================] - 0s 17us/step - loss: 881.8329 - mean_squared_error: 881.8329 - val_loss: 866.6327 - val_mean_squared_error: 866.6327\n",
      "Epoch 13/80\n",
      "800/800 [==============================] - 0s 21us/step - loss: 866.0690 - mean_squared_error: 866.0690 - val_loss: 852.6881 - val_mean_squared_error: 852.6881\n",
      "Epoch 14/80\n",
      "800/800 [==============================] - 0s 16us/step - loss: 849.6556 - mean_squared_error: 849.6556 - val_loss: 838.1233 - val_mean_squared_error: 838.1233\n",
      "Epoch 15/80\n",
      "800/800 [==============================] - 0s 16us/step - loss: 832.1884 - mean_squared_error: 832.1884 - val_loss: 823.1032 - val_mean_squared_error: 823.1032\n",
      "Epoch 16/80\n",
      "800/800 [==============================] - 0s 17us/step - loss: 814.2097 - mean_squared_error: 814.2097 - val_loss: 807.7466 - val_mean_squared_error: 807.7466\n",
      "Epoch 17/80\n",
      "800/800 [==============================] - 0s 17us/step - loss: 796.1941 - mean_squared_error: 796.1941 - val_loss: 791.5634 - val_mean_squared_error: 791.5634\n",
      "Epoch 18/80\n",
      "800/800 [==============================] - 0s 19us/step - loss: 777.6204 - mean_squared_error: 777.6204 - val_loss: 774.8951 - val_mean_squared_error: 774.8951\n",
      "Epoch 19/80\n",
      "800/800 [==============================] - 0s 17us/step - loss: 758.7924 - mean_squared_error: 758.7924 - val_loss: 757.7173 - val_mean_squared_error: 757.7173\n",
      "Epoch 20/80\n",
      "800/800 [==============================] - 0s 15us/step - loss: 739.3144 - mean_squared_error: 739.3144 - val_loss: 740.6970 - val_mean_squared_error: 740.6970\n",
      "Epoch 21/80\n",
      "800/800 [==============================] - 0s 15us/step - loss: 720.4604 - mean_squared_error: 720.4604 - val_loss: 723.3302 - val_mean_squared_error: 723.3302\n",
      "Epoch 22/80\n",
      "800/800 [==============================] - 0s 15us/step - loss: 701.7049 - mean_squared_error: 701.7049 - val_loss: 705.9536 - val_mean_squared_error: 705.9536\n",
      "Epoch 23/80\n",
      "800/800 [==============================] - 0s 15us/step - loss: 682.8658 - mean_squared_error: 682.8658 - val_loss: 688.9575 - val_mean_squared_error: 688.9575\n",
      "Epoch 24/80\n",
      "800/800 [==============================] - 0s 15us/step - loss: 664.5688 - mean_squared_error: 664.5688 - val_loss: 671.8268 - val_mean_squared_error: 671.8268\n",
      "Epoch 25/80\n",
      "800/800 [==============================] - 0s 18us/step - loss: 646.7159 - mean_squared_error: 646.7159 - val_loss: 654.8306 - val_mean_squared_error: 654.8306\n",
      "Epoch 26/80\n",
      "800/800 [==============================] - 0s 17us/step - loss: 628.9015 - mean_squared_error: 628.9015 - val_loss: 638.1954 - val_mean_squared_error: 638.1954\n",
      "Epoch 27/80\n",
      "800/800 [==============================] - 0s 17us/step - loss: 611.8257 - mean_squared_error: 611.8257 - val_loss: 621.6991 - val_mean_squared_error: 621.6991\n",
      "Epoch 28/80\n",
      "800/800 [==============================] - 0s 15us/step - loss: 594.8646 - mean_squared_error: 594.8646 - val_loss: 605.6761 - val_mean_squared_error: 605.6761\n",
      "Epoch 29/80\n",
      "800/800 [==============================] - 0s 15us/step - loss: 579.2401 - mean_squared_error: 579.2401 - val_loss: 589.9050 - val_mean_squared_error: 589.9050\n",
      "Epoch 30/80\n",
      "800/800 [==============================] - 0s 15us/step - loss: 563.7910 - mean_squared_error: 563.7910 - val_loss: 574.9455 - val_mean_squared_error: 574.9455\n",
      "Epoch 31/80\n",
      "800/800 [==============================] - 0s 16us/step - loss: 548.9311 - mean_squared_error: 548.9311 - val_loss: 560.3336 - val_mean_squared_error: 560.3336\n",
      "Epoch 32/80\n",
      "800/800 [==============================] - 0s 17us/step - loss: 534.9433 - mean_squared_error: 534.9433 - val_loss: 546.3415 - val_mean_squared_error: 546.3415\n",
      "Epoch 33/80\n",
      "800/800 [==============================] - 0s 17us/step - loss: 521.3568 - mean_squared_error: 521.3568 - val_loss: 533.1983 - val_mean_squared_error: 533.1983\n",
      "Epoch 34/80\n",
      "800/800 [==============================] - 0s 17us/step - loss: 509.0093 - mean_squared_error: 509.0093 - val_loss: 520.5290 - val_mean_squared_error: 520.5290\n",
      "Epoch 35/80\n",
      "800/800 [==============================] - 0s 15us/step - loss: 497.0228 - mean_squared_error: 497.0228 - val_loss: 509.0130 - val_mean_squared_error: 509.0130\n",
      "Epoch 36/80\n",
      "800/800 [==============================] - 0s 15us/step - loss: 486.1567 - mean_squared_error: 486.1567 - val_loss: 498.2720 - val_mean_squared_error: 498.2720\n",
      "Epoch 37/80\n",
      "800/800 [==============================] - 0s 16us/step - loss: 475.6036 - mean_squared_error: 475.6036 - val_loss: 487.2979 - val_mean_squared_error: 487.2979\n",
      "Epoch 38/80\n",
      "800/800 [==============================] - 0s 18us/step - loss: 465.1120 - mean_squared_error: 465.1120 - val_loss: 478.7080 - val_mean_squared_error: 478.7080\n",
      "Epoch 39/80\n",
      "800/800 [==============================] - 0s 15us/step - loss: 456.2040 - mean_squared_error: 456.2040 - val_loss: 469.4945 - val_mean_squared_error: 469.4945\n",
      "Epoch 40/80\n",
      "800/800 [==============================] - 0s 18us/step - loss: 447.3276 - mean_squared_error: 447.3276 - val_loss: 462.1909 - val_mean_squared_error: 462.1909\n",
      "Epoch 41/80\n",
      "800/800 [==============================] - 0s 16us/step - loss: 439.7818 - mean_squared_error: 439.7818 - val_loss: 454.6209 - val_mean_squared_error: 454.6209\n",
      "Epoch 42/80\n",
      "800/800 [==============================] - 0s 18us/step - loss: 431.8970 - mean_squared_error: 431.8970 - val_loss: 448.2588 - val_mean_squared_error: 448.2588\n",
      "Epoch 43/80\n",
      "800/800 [==============================] - 0s 16us/step - loss: 424.9796 - mean_squared_error: 424.9796 - val_loss: 442.9252 - val_mean_squared_error: 442.9252\n",
      "Epoch 44/80\n",
      "800/800 [==============================] - 0s 16us/step - loss: 418.3562 - mean_squared_error: 418.3562 - val_loss: 437.7361 - val_mean_squared_error: 437.7361\n",
      "Epoch 45/80\n",
      "800/800 [==============================] - 0s 15us/step - loss: 412.4180 - mean_squared_error: 412.4180 - val_loss: 433.0633 - val_mean_squared_error: 433.0633\n",
      "Epoch 46/80\n",
      "800/800 [==============================] - 0s 16us/step - loss: 407.1710 - mean_squared_error: 407.1710 - val_loss: 428.7575 - val_mean_squared_error: 428.7575\n",
      "Epoch 47/80\n",
      "800/800 [==============================] - 0s 17us/step - loss: 402.1321 - mean_squared_error: 402.1321 - val_loss: 424.7141 - val_mean_squared_error: 424.7141\n",
      "Epoch 48/80\n"
     ]
    },
    {
     "name": "stdout",
     "output_type": "stream",
     "text": [
      "800/800 [==============================] - 0s 16us/step - loss: 397.2207 - mean_squared_error: 397.2207 - val_loss: 421.9106 - val_mean_squared_error: 421.9106\n",
      "Epoch 49/80\n",
      "800/800 [==============================] - 0s 17us/step - loss: 392.9949 - mean_squared_error: 392.9949 - val_loss: 419.4233 - val_mean_squared_error: 419.4233\n",
      "Epoch 50/80\n",
      "800/800 [==============================] - 0s 15us/step - loss: 389.1540 - mean_squared_error: 389.1540 - val_loss: 417.6839 - val_mean_squared_error: 417.6839\n",
      "Epoch 51/80\n",
      "800/800 [==============================] - 0s 15us/step - loss: 386.2135 - mean_squared_error: 386.2135 - val_loss: 415.1490 - val_mean_squared_error: 415.1490\n",
      "Epoch 52/80\n",
      "800/800 [==============================] - 0s 15us/step - loss: 382.1207 - mean_squared_error: 382.1207 - val_loss: 414.1291 - val_mean_squared_error: 414.1291\n",
      "Epoch 53/80\n",
      "800/800 [==============================] - 0s 15us/step - loss: 378.9431 - mean_squared_error: 378.9431 - val_loss: 413.7347 - val_mean_squared_error: 413.7347\n",
      "Epoch 54/80\n",
      "800/800 [==============================] - 0s 15us/step - loss: 376.0273 - mean_squared_error: 376.0273 - val_loss: 412.8463 - val_mean_squared_error: 412.8463\n",
      "Epoch 55/80\n",
      "800/800 [==============================] - 0s 17us/step - loss: 373.2319 - mean_squared_error: 373.2319 - val_loss: 412.4969 - val_mean_squared_error: 412.4969\n",
      "Epoch 56/80\n",
      "800/800 [==============================] - 0s 16us/step - loss: 370.7965 - mean_squared_error: 370.7965 - val_loss: 412.2335 - val_mean_squared_error: 412.2335\n",
      "Epoch 57/80\n",
      "800/800 [==============================] - 0s 15us/step - loss: 368.8453 - mean_squared_error: 368.8453 - val_loss: 412.0814 - val_mean_squared_error: 412.0814\n",
      "Epoch 58/80\n",
      "800/800 [==============================] - 0s 15us/step - loss: 366.8600 - mean_squared_error: 366.8600 - val_loss: 412.4053 - val_mean_squared_error: 412.4053\n",
      "Epoch 59/80\n",
      "800/800 [==============================] - 0s 15us/step - loss: 365.0006 - mean_squared_error: 365.0006 - val_loss: 412.7692 - val_mean_squared_error: 412.7692\n",
      "Epoch 60/80\n",
      "800/800 [==============================] - 0s 15us/step - loss: 363.2899 - mean_squared_error: 363.2899 - val_loss: 413.4699 - val_mean_squared_error: 413.4699\n",
      "Epoch 61/80\n",
      "800/800 [==============================] - 0s 15us/step - loss: 361.6509 - mean_squared_error: 361.6509 - val_loss: 414.0302 - val_mean_squared_error: 414.0302\n",
      "Epoch 62/80\n",
      "800/800 [==============================] - 0s 15us/step - loss: 360.4205 - mean_squared_error: 360.4205 - val_loss: 414.5241 - val_mean_squared_error: 414.5241\n",
      "Epoch 63/80\n",
      "800/800 [==============================] - 0s 19us/step - loss: 359.1652 - mean_squared_error: 359.1652 - val_loss: 416.0182 - val_mean_squared_error: 416.0182\n",
      "Epoch 64/80\n",
      "800/800 [==============================] - 0s 18us/step - loss: 357.9674 - mean_squared_error: 357.9674 - val_loss: 416.2646 - val_mean_squared_error: 416.2646\n",
      "Epoch 65/80\n",
      "800/800 [==============================] - 0s 15us/step - loss: 356.6651 - mean_squared_error: 356.6651 - val_loss: 418.4175 - val_mean_squared_error: 418.4175\n",
      "Epoch 66/80\n",
      "800/800 [==============================] - 0s 15us/step - loss: 355.6554 - mean_squared_error: 355.6554 - val_loss: 419.7179 - val_mean_squared_error: 419.7179\n",
      "Epoch 67/80\n",
      "800/800 [==============================] - 0s 15us/step - loss: 354.8136 - mean_squared_error: 354.8136 - val_loss: 421.0602 - val_mean_squared_error: 421.0602\n",
      "Epoch 68/80\n",
      "800/800 [==============================] - 0s 17us/step - loss: 354.4397 - mean_squared_error: 354.4397 - val_loss: 421.9081 - val_mean_squared_error: 421.9081\n",
      "Epoch 69/80\n",
      "800/800 [==============================] - 0s 18us/step - loss: 353.1852 - mean_squared_error: 353.1852 - val_loss: 424.0184 - val_mean_squared_error: 424.0184\n",
      "Epoch 70/80\n",
      "800/800 [==============================] - 0s 14us/step - loss: 352.4139 - mean_squared_error: 352.4139 - val_loss: 425.7818 - val_mean_squared_error: 425.7818\n",
      "Epoch 71/80\n",
      "800/800 [==============================] - 0s 18us/step - loss: 351.9779 - mean_squared_error: 351.9779 - val_loss: 427.4882 - val_mean_squared_error: 427.4882\n",
      "Epoch 72/80\n",
      "800/800 [==============================] - 0s 15us/step - loss: 351.6481 - mean_squared_error: 351.6481 - val_loss: 428.3232 - val_mean_squared_error: 428.3232\n",
      "Epoch 73/80\n",
      "800/800 [==============================] - 0s 14us/step - loss: 350.8770 - mean_squared_error: 350.8770 - val_loss: 431.0654 - val_mean_squared_error: 431.0654\n",
      "Epoch 74/80\n",
      "800/800 [==============================] - 0s 15us/step - loss: 350.6873 - mean_squared_error: 350.6873 - val_loss: 433.0193 - val_mean_squared_error: 433.0193\n",
      "Epoch 75/80\n",
      "800/800 [==============================] - 0s 16us/step - loss: 350.0816 - mean_squared_error: 350.0816 - val_loss: 433.3751 - val_mean_squared_error: 433.3751\n",
      "Epoch 76/80\n",
      "800/800 [==============================] - 0s 16us/step - loss: 349.6971 - mean_squared_error: 349.6971 - val_loss: 434.6590 - val_mean_squared_error: 434.6590\n",
      "Epoch 77/80\n",
      "800/800 [==============================] - 0s 18us/step - loss: 349.2808 - mean_squared_error: 349.2808 - val_loss: 435.6945 - val_mean_squared_error: 435.6945\n",
      "Epoch 78/80\n",
      "800/800 [==============================] - 0s 16us/step - loss: 349.2226 - mean_squared_error: 349.2226 - val_loss: 437.3431 - val_mean_squared_error: 437.3431\n",
      "Epoch 79/80\n",
      "800/800 [==============================] - 0s 17us/step - loss: 348.5744 - mean_squared_error: 348.5744 - val_loss: 438.9508 - val_mean_squared_error: 438.9508\n",
      "Epoch 80/80\n",
      "800/800 [==============================] - 0s 15us/step - loss: 348.2055 - mean_squared_error: 348.2055 - val_loss: 440.5225 - val_mean_squared_error: 440.5225\n"
     ]
    }
   ],
   "source": [
    "history = model.fit(X_train,\n",
    "                    y_train,\n",
    "                    epochs=80, \n",
    "                    batch_size=64,\n",
    "                    validation_split=0.2,\n",
    "                    shuffle=True,\n",
    "                    verbose=1)"
   ]
  },
  {
   "cell_type": "code",
   "execution_count": 20,
   "metadata": {},
   "outputs": [
    {
     "data": {
      "text/plain": [
       "<matplotlib.legend.Legend at 0x7f437c1e9160>"
      ]
     },
     "execution_count": 20,
     "metadata": {},
     "output_type": "execute_result"
    },
    {
     "data": {
      "image/png": "[encoded data removed]",
      "text/plain": [
       "<Figure size 432x288 with 1 Axes>"
      ]
     },
     "metadata": {
      "needs_background": "light"
     },
     "output_type": "display_data"
    }
   ],
   "source": [
    "history_dict = history.history\n",
    "loss_values = history_dict['loss'] \n",
    "val_loss_values = history_dict['val_loss'] \n",
    "epochs = range(1, len(loss_values) + 1) \n",
    "plt.plot(epochs, loss_values, 'bo', label='Training loss')\n",
    "plt.plot(epochs, val_loss_values, 'orange', label='Validation loss')\n",
    "plt.title('Training and validation loss')\n",
    "plt.xlabel('Epochs')\n",
    "plt.ylabel('Loss')\n",
    "plt.legend()\n",
    "#plt.savefig('/home/jieun201/fullprecision400e_yprofile/loss.png')"
   ]
  },
  {
   "cell_type": "code",
   "execution_count": 21,
   "metadata": {},
   "outputs": [],
   "source": [
    "p_test = model.predict(X_test)"
   ]
  },
  {
   "cell_type": "code",
   "execution_count": 22,
   "metadata": {},
   "outputs": [],
   "source": [
    "residuals = np.subtract(p_test,y_test)"
   ]
  },
  {
   "cell_type": "code",
   "execution_count": 26,
   "metadata": {},
   "outputs": [
    {
     "data": {
      "text/plain": [
       "Text(0.5, 0, 'X residuals [um]')"
      ]
     },
     "execution_count": 26,
     "metadata": {},
     "output_type": "execute_result"
    },
    {
     "data": {
      "image/png": "[encoded data removed]",
      "text/plain": [
       "<Figure size 432x288 with 1 Axes>"
      ]
     },
     "metadata": {
      "needs_background": "light"
     },
     "output_type": "display_data"
    }
   ],
   "source": [
    "# X coordinate\n",
    "plt.hist(residuals[:,0],bins=50)\n",
    "plt.xlabel('X residuals [um]')"
   ]
  },
  {
   "cell_type": "code",
   "execution_count": 27,
   "metadata": {},
   "outputs": [
    {
     "data": {
      "text/plain": [
       "Text(0.5, 0, 'Y residuals [um]')"
      ]
     },
     "execution_count": 27,
     "metadata": {},
     "output_type": "execute_result"
    },
    {
     "data": {
      "image/png": "[encoded data removed]",
      "text/plain": [
       "<Figure size 432x288 with 1 Axes>"
      ]
     },
     "metadata": {
      "needs_background": "light"
     },
     "output_type": "display_data"
    }
   ],
   "source": [
    "# Y coordinate\n",
    "plt.hist(residuals[:,1],bins=np.linspace(-100,100,100))\n",
    "plt.xlabel('Y residuals [um]')"
   ]
  },
  {
   "cell_type": "code",
   "execution_count": null,
   "metadata": {},
   "outputs": [],
   "source": []
  }
 ],
 "metadata": {
  "kernelspec": {
   "display_name": "Python 3",
   "language": "python",
   "name": "python3"
  },
  "language_info": {
   "codemirror_mode": {
    "name": "ipython",
    "version": 3
   },
   "file_extension": ".py",
   "mimetype": "text/x-python",
   "name": "python",
   "nbconvert_exporter": "python",
   "pygments_lexer": "ipython3",
   "version": "3.6.5"
  }
 },
 "nbformat": 4,
 "nbformat_minor": 2
}
