{
 "cells": [
  {
   "cell_type": "code",
   "execution_count": 3,
   "metadata": {},
   "outputs": [],
   "source": [
    "from sklearn.model_selection import train_test_split\n",
    "from sklearn.metrics import mean_squared_error\n",
    "from sklearn.preprocessing import StandardScaler\n",
    "from sklearn.metrics import confusion_matrix\n",
    "from sklearn.metrics import classification_report\n",
    "import tensorflow as tf\n",
    "from tensorflow.keras import datasets, layers, models\n",
    "import keras\n",
    "from keras.models import Sequential\n",
    "from keras.layers import Dense, Dropout, Flatten\n",
    "from keras.layers import Conv2D, MaxPooling2D\n",
    "from keras.callbacks import CSVLogger\n",
    "from keras.callbacks import EarlyStopping\n",
    "import matplotlib.pyplot as plt\n",
    "import numpy as np\n",
    "import pandas as pd\n",
    "from pandas import read_csv\n",
    "import math\n",
    "import seaborn as sns"
   ]
  },
  {
   "cell_type": "code",
   "execution_count": 4,
   "metadata": {},
   "outputs": [],
   "source": [
    "train_df = pd.read_csv('train_1D.csv',nrows=500000)\n",
    "test_df = pd.read_csv('test_1D.csv',nrows=500000)"
   ]
  },
  {
   "cell_type": "code",
   "execution_count": 5,
   "metadata": {},
   "outputs": [],
   "source": [
    "X_train = train_df.drop(columns=['x-midplane','y-midplane']).values\n",
    "X_test = test_df.drop(columns=['x-midplane','y-midplane']).values\n",
    "\n",
    "y_train = train_df[['x-midplane','y-midplane']].values\n",
    "y_test = test_df[['x-midplane','y-midplane']].values"
   ]
  },
  {
   "cell_type": "code",
   "execution_count": 6,
   "metadata": {},
   "outputs": [],
   "source": [
    "scaler = StandardScaler()\n",
    "X_train = scaler.fit_transform(X_train.reshape(-1, X_train.shape[-1])).reshape(X_train.shape)\n",
    "X_test = scaler.transform(X_test.reshape(-1, X_test.shape[-1])).reshape(X_test.shape)"
   ]
  },
  {
   "cell_type": "code",
   "execution_count": 7,
   "metadata": {},
   "outputs": [
    {
     "data": {
      "text/plain": [
       "(500000, 34)"
      ]
     },
     "execution_count": 7,
     "metadata": {},
     "output_type": "execute_result"
    }
   ],
   "source": [
    "X_train.shape"
   ]
  },
  {
   "cell_type": "code",
   "execution_count": 8,
   "metadata": {},
   "outputs": [
    {
     "name": "stderr",
     "output_type": "stream",
     "text": [
      "WARNING: Logging before flag parsing goes to stderr.\n",
      "W1003 10:31:18.279520 140386330908480 deprecation_wrapper.py:119] From /cvmfs/sft.cern.ch/lcg/views/LCG_96python3/x86_64-centos7-gcc8-opt/lib/python3.6/site-packages/keras/backend/tensorflow_backend.py:74: The name tf.get_default_graph is deprecated. Please use tf.compat.v1.get_default_graph instead.\n",
      "\n",
      "W1003 10:31:18.298280 140386330908480 deprecation_wrapper.py:119] From /cvmfs/sft.cern.ch/lcg/views/LCG_96python3/x86_64-centos7-gcc8-opt/lib/python3.6/site-packages/keras/backend/tensorflow_backend.py:517: The name tf.placeholder is deprecated. Please use tf.compat.v1.placeholder instead.\n",
      "\n",
      "W1003 10:31:18.304952 140386330908480 deprecation_wrapper.py:119] From /cvmfs/sft.cern.ch/lcg/views/LCG_96python3/x86_64-centos7-gcc8-opt/lib/python3.6/site-packages/keras/backend/tensorflow_backend.py:4138: The name tf.random_uniform is deprecated. Please use tf.random.uniform instead.\n",
      "\n"
     ]
    },
    {
     "name": "stdout",
     "output_type": "stream",
     "text": [
      "_________________________________________________________________\n",
      "Layer (type)                 Output Shape              Param #   \n",
      "=================================================================\n",
      "dense_1 (Dense)              (None, 64)                2240      \n",
      "_________________________________________________________________\n",
      "dense_2 (Dense)              (None, 2)                 130       \n",
      "=================================================================\n",
      "Total params: 2,370\n",
      "Trainable params: 2,370\n",
      "Non-trainable params: 0\n",
      "_________________________________________________________________\n"
     ]
    }
   ],
   "source": [
    "model = Sequential()\n",
    "model.add(Dense(64, input_shape=(34,), activation='relu')) # Add an input shape! (features,)\n",
    "model.add(Dense(2, activation='linear'))\n",
    "model.summary() "
   ]
  },
  {
   "cell_type": "code",
   "execution_count": 9,
   "metadata": {},
   "outputs": [
    {
     "name": "stderr",
     "output_type": "stream",
     "text": [
      "W1003 10:31:18.342595 140386330908480 deprecation_wrapper.py:119] From /cvmfs/sft.cern.ch/lcg/views/LCG_96python3/x86_64-centos7-gcc8-opt/lib/python3.6/site-packages/keras/optimizers.py:790: The name tf.train.Optimizer is deprecated. Please use tf.compat.v1.train.Optimizer instead.\n",
      "\n"
     ]
    }
   ],
   "source": [
    "model.compile(optimizer='Adam', \n",
    "              loss='mean_squared_error',\n",
    "              metrics=['mean_squared_error'])"
   ]
  },
  {
   "cell_type": "code",
   "execution_count": 10,
   "metadata": {},
   "outputs": [
    {
     "name": "stderr",
     "output_type": "stream",
     "text": [
      "W1003 10:31:18.504355 140386330908480 deprecation_wrapper.py:119] From /cvmfs/sft.cern.ch/lcg/views/LCG_96python3/x86_64-centos7-gcc8-opt/lib/python3.6/site-packages/keras/backend/tensorflow_backend.py:986: The name tf.assign_add is deprecated. Please use tf.compat.v1.assign_add instead.\n",
      "\n",
      "W1003 10:31:18.587193 140386330908480 deprecation_wrapper.py:119] From /cvmfs/sft.cern.ch/lcg/views/LCG_96python3/x86_64-centos7-gcc8-opt/lib/python3.6/site-packages/keras/backend/tensorflow_backend.py:973: The name tf.assign is deprecated. Please use tf.compat.v1.assign instead.\n",
      "\n"
     ]
    },
    {
     "name": "stdout",
     "output_type": "stream",
     "text": [
      "Train on 400000 samples, validate on 100000 samples\n",
      "Epoch 1/80\n",
      "400000/400000 [==============================] - 7s 16us/step - loss: 131.8591 - mean_squared_error: 131.8591 - val_loss: 51.8604 - val_mean_squared_error: 51.8604\n",
      "Epoch 2/80\n",
      "400000/400000 [==============================] - 6s 15us/step - loss: 42.6396 - mean_squared_error: 42.6396 - val_loss: 37.0344 - val_mean_squared_error: 37.0344\n",
      "Epoch 3/80\n",
      "400000/400000 [==============================] - 5s 14us/step - loss: 34.3834 - mean_squared_error: 34.3834 - val_loss: 32.5885 - val_mean_squared_error: 32.5885\n",
      "Epoch 4/80\n",
      "400000/400000 [==============================] - 5s 13us/step - loss: 31.3385 - mean_squared_error: 31.3385 - val_loss: 30.9524 - val_mean_squared_error: 30.9524\n",
      "Epoch 5/80\n",
      "400000/400000 [==============================] - 5s 14us/step - loss: 29.7172 - mean_squared_error: 29.7172 - val_loss: 29.3738 - val_mean_squared_error: 29.3738\n",
      "Epoch 6/80\n",
      "400000/400000 [==============================] - 5s 13us/step - loss: 28.5768 - mean_squared_error: 28.5768 - val_loss: 28.4607 - val_mean_squared_error: 28.4607\n",
      "Epoch 7/80\n",
      "400000/400000 [==============================] - 9s 22us/step - loss: 27.7797 - mean_squared_error: 27.7797 - val_loss: 28.1358 - val_mean_squared_error: 28.1358\n",
      "Epoch 8/80\n",
      "400000/400000 [==============================] - 12s 31us/step - loss: 27.1687 - mean_squared_error: 27.1687 - val_loss: 27.5346 - val_mean_squared_error: 27.5346\n",
      "Epoch 9/80\n",
      "400000/400000 [==============================] - 11s 26us/step - loss: 26.7711 - mean_squared_error: 26.7711 - val_loss: 26.8121 - val_mean_squared_error: 26.8121\n",
      "Epoch 10/80\n",
      "400000/400000 [==============================] - 22s 56us/step - loss: 26.4046 - mean_squared_error: 26.4046 - val_loss: 26.8672 - val_mean_squared_error: 26.8672\n",
      "Epoch 11/80\n",
      "400000/400000 [==============================] - 17s 42us/step - loss: 26.1477 - mean_squared_error: 26.1477 - val_loss: 26.7263 - val_mean_squared_error: 26.7263\n",
      "Epoch 12/80\n",
      "400000/400000 [==============================] - 5s 12us/step - loss: 25.9746 - mean_squared_error: 25.9746 - val_loss: 26.7183 - val_mean_squared_error: 26.7183\n",
      "Epoch 13/80\n",
      "400000/400000 [==============================] - 8s 19us/step - loss: 25.7387 - mean_squared_error: 25.7387 - val_loss: 26.0196 - val_mean_squared_error: 26.0196\n",
      "Epoch 14/80\n",
      "400000/400000 [==============================] - 16s 39us/step - loss: 25.6204 - mean_squared_error: 25.6204 - val_loss: 25.8219 - val_mean_squared_error: 25.8219\n",
      "Epoch 15/80\n",
      "400000/400000 [==============================] - 9s 22us/step - loss: 25.3784 - mean_squared_error: 25.3784 - val_loss: 25.9540 - val_mean_squared_error: 25.9540\n",
      "Epoch 16/80\n",
      "400000/400000 [==============================] - 5s 13us/step - loss: 25.3362 - mean_squared_error: 25.3362 - val_loss: 25.8373 - val_mean_squared_error: 25.8373\n",
      "Epoch 17/80\n",
      "400000/400000 [==============================] - 5s 13us/step - loss: 25.2100 - mean_squared_error: 25.2100 - val_loss: 25.8913 - val_mean_squared_error: 25.8913\n",
      "Epoch 18/80\n",
      "400000/400000 [==============================] - 5s 13us/step - loss: 25.0525 - mean_squared_error: 25.0525 - val_loss: 25.5855 - val_mean_squared_error: 25.5855\n",
      "Epoch 19/80\n",
      "400000/400000 [==============================] - 5s 13us/step - loss: 24.8858 - mean_squared_error: 24.8858 - val_loss: 25.1681 - val_mean_squared_error: 25.1681\n",
      "Epoch 20/80\n",
      "400000/400000 [==============================] - 5s 13us/step - loss: 24.8014 - mean_squared_error: 24.8014 - val_loss: 25.3683 - val_mean_squared_error: 25.3683\n",
      "Epoch 21/80\n",
      "400000/400000 [==============================] - 5s 13us/step - loss: 24.6608 - mean_squared_error: 24.6608 - val_loss: 25.4238 - val_mean_squared_error: 25.4238\n",
      "Epoch 22/80\n",
      "400000/400000 [==============================] - 5s 13us/step - loss: 24.5050 - mean_squared_error: 24.5050 - val_loss: 24.7519 - val_mean_squared_error: 24.7519\n",
      "Epoch 23/80\n",
      "400000/400000 [==============================] - 5s 13us/step - loss: 24.5365 - mean_squared_error: 24.5365 - val_loss: 25.0456 - val_mean_squared_error: 25.0456\n",
      "Epoch 24/80\n",
      "400000/400000 [==============================] - 5s 13us/step - loss: 24.4142 - mean_squared_error: 24.4142 - val_loss: 24.6583 - val_mean_squared_error: 24.6583\n",
      "Epoch 25/80\n",
      "400000/400000 [==============================] - 5s 13us/step - loss: 24.2527 - mean_squared_error: 24.2527 - val_loss: 24.5830 - val_mean_squared_error: 24.5830\n",
      "Epoch 26/80\n",
      "400000/400000 [==============================] - 5s 12us/step - loss: 24.2005 - mean_squared_error: 24.2005 - val_loss: 24.9661 - val_mean_squared_error: 24.9661\n",
      "Epoch 27/80\n",
      "400000/400000 [==============================] - 5s 13us/step - loss: 24.1005 - mean_squared_error: 24.1005 - val_loss: 24.9447 - val_mean_squared_error: 24.9447\n",
      "Epoch 28/80\n",
      "400000/400000 [==============================] - 5s 13us/step - loss: 24.1734 - mean_squared_error: 24.1734 - val_loss: 24.5075 - val_mean_squared_error: 24.5075\n",
      "Epoch 29/80\n",
      "400000/400000 [==============================] - 5s 13us/step - loss: 23.9474 - mean_squared_error: 23.9474 - val_loss: 24.7538 - val_mean_squared_error: 24.7538\n",
      "Epoch 30/80\n",
      "400000/400000 [==============================] - 5s 13us/step - loss: 23.8723 - mean_squared_error: 23.8723 - val_loss: 24.3524 - val_mean_squared_error: 24.3524\n",
      "Epoch 31/80\n",
      "400000/400000 [==============================] - 5s 13us/step - loss: 23.8250 - mean_squared_error: 23.8250 - val_loss: 24.8837 - val_mean_squared_error: 24.8837\n",
      "Epoch 32/80\n",
      "400000/400000 [==============================] - 5s 13us/step - loss: 23.7254 - mean_squared_error: 23.7254 - val_loss: 24.0940 - val_mean_squared_error: 24.0940\n",
      "Epoch 33/80\n",
      "400000/400000 [==============================] - 5s 13us/step - loss: 23.9267 - mean_squared_error: 23.9267 - val_loss: 24.0669 - val_mean_squared_error: 24.0669\n",
      "Epoch 34/80\n",
      "400000/400000 [==============================] - 5s 13us/step - loss: 23.6605 - mean_squared_error: 23.6605 - val_loss: 24.1101 - val_mean_squared_error: 24.1101\n",
      "Epoch 35/80\n",
      "400000/400000 [==============================] - 5s 13us/step - loss: 23.6264 - mean_squared_error: 23.6264 - val_loss: 24.0611 - val_mean_squared_error: 24.0611\n",
      "Epoch 36/80\n",
      "400000/400000 [==============================] - 5s 13us/step - loss: 23.6009 - mean_squared_error: 23.6009 - val_loss: 24.0904 - val_mean_squared_error: 24.0904\n",
      "Epoch 37/80\n",
      "400000/400000 [==============================] - 5s 13us/step - loss: 23.5961 - mean_squared_error: 23.5961 - val_loss: 24.4361 - val_mean_squared_error: 24.4361\n",
      "Epoch 38/80\n",
      "400000/400000 [==============================] - 5s 13us/step - loss: 23.5519 - mean_squared_error: 23.5519 - val_loss: 24.0664 - val_mean_squared_error: 24.0664\n",
      "Epoch 39/80\n",
      "400000/400000 [==============================] - 14s 35us/step - loss: 23.4100 - mean_squared_error: 23.4100 - val_loss: 24.3195 - val_mean_squared_error: 24.3195\n",
      "Epoch 40/80\n",
      "400000/400000 [==============================] - 11s 28us/step - loss: 23.4055 - mean_squared_error: 23.4055 - val_loss: 24.3695 - val_mean_squared_error: 24.3695\n",
      "Epoch 41/80\n",
      "400000/400000 [==============================] - 5s 13us/step - loss: 23.3822 - mean_squared_error: 23.3822 - val_loss: 23.8684 - val_mean_squared_error: 23.8684\n",
      "Epoch 42/80\n",
      "400000/400000 [==============================] - 5s 14us/step - loss: 23.3280 - mean_squared_error: 23.3280 - val_loss: 23.8215 - val_mean_squared_error: 23.8215\n",
      "Epoch 43/80\n",
      "400000/400000 [==============================] - 15s 38us/step - loss: 23.3250 - mean_squared_error: 23.3250 - val_loss: 23.7204 - val_mean_squared_error: 23.7204\n",
      "Epoch 44/80\n",
      "400000/400000 [==============================] - 11s 28us/step - loss: 23.2525 - mean_squared_error: 23.2525 - val_loss: 23.7521 - val_mean_squared_error: 23.7521\n",
      "Epoch 45/80\n",
      "400000/400000 [==============================] - 5s 13us/step - loss: 23.3687 - mean_squared_error: 23.3687 - val_loss: 23.7005 - val_mean_squared_error: 23.7005\n",
      "Epoch 46/80\n",
      "400000/400000 [==============================] - 5s 13us/step - loss: 23.2297 - mean_squared_error: 23.2297 - val_loss: 23.8764 - val_mean_squared_error: 23.8764\n",
      "Epoch 47/80\n",
      "400000/400000 [==============================] - 5s 13us/step - loss: 23.2485 - mean_squared_error: 23.2485 - val_loss: 23.6336 - val_mean_squared_error: 23.6336\n"
     ]
    },
    {
     "name": "stdout",
     "output_type": "stream",
     "text": [
      "Epoch 48/80\n",
      "400000/400000 [==============================] - 5s 13us/step - loss: 23.1828 - mean_squared_error: 23.1828 - val_loss: 24.1069 - val_mean_squared_error: 24.1069\n",
      "Epoch 49/80\n",
      "400000/400000 [==============================] - 5s 13us/step - loss: 23.1186 - mean_squared_error: 23.1186 - val_loss: 23.9513 - val_mean_squared_error: 23.9513\n",
      "Epoch 50/80\n",
      "400000/400000 [==============================] - 5s 13us/step - loss: 23.1376 - mean_squared_error: 23.1376 - val_loss: 23.7991 - val_mean_squared_error: 23.7991\n",
      "Epoch 51/80\n",
      "400000/400000 [==============================] - 5s 13us/step - loss: 23.0724 - mean_squared_error: 23.0724 - val_loss: 23.8363 - val_mean_squared_error: 23.8363\n",
      "Epoch 52/80\n",
      "400000/400000 [==============================] - 5s 13us/step - loss: 23.0425 - mean_squared_error: 23.0425 - val_loss: 23.4400 - val_mean_squared_error: 23.4400\n",
      "Epoch 53/80\n",
      "400000/400000 [==============================] - 5s 13us/step - loss: 23.0352 - mean_squared_error: 23.0352 - val_loss: 23.3943 - val_mean_squared_error: 23.3943\n",
      "Epoch 54/80\n",
      "400000/400000 [==============================] - 5s 13us/step - loss: 22.9402 - mean_squared_error: 22.9402 - val_loss: 23.5011 - val_mean_squared_error: 23.5011\n",
      "Epoch 55/80\n",
      "400000/400000 [==============================] - 5s 14us/step - loss: 22.9917 - mean_squared_error: 22.9917 - val_loss: 23.4934 - val_mean_squared_error: 23.4934\n",
      "Epoch 56/80\n",
      "400000/400000 [==============================] - 5s 13us/step - loss: 22.9403 - mean_squared_error: 22.9403 - val_loss: 23.5687 - val_mean_squared_error: 23.5687\n",
      "Epoch 57/80\n",
      "400000/400000 [==============================] - 5s 12us/step - loss: 22.9974 - mean_squared_error: 22.9974 - val_loss: 23.2398 - val_mean_squared_error: 23.2398\n",
      "Epoch 58/80\n",
      "400000/400000 [==============================] - 5s 13us/step - loss: 22.9213 - mean_squared_error: 22.9213 - val_loss: 23.2377 - val_mean_squared_error: 23.2377\n",
      "Epoch 59/80\n",
      "400000/400000 [==============================] - 5s 12us/step - loss: 22.9085 - mean_squared_error: 22.9085 - val_loss: 23.3684 - val_mean_squared_error: 23.3684\n",
      "Epoch 60/80\n",
      "400000/400000 [==============================] - 5s 13us/step - loss: 22.8927 - mean_squared_error: 22.8927 - val_loss: 23.2121 - val_mean_squared_error: 23.2121\n",
      "Epoch 61/80\n",
      "400000/400000 [==============================] - 5s 12us/step - loss: 22.8620 - mean_squared_error: 22.8620 - val_loss: 23.2840 - val_mean_squared_error: 23.2840\n",
      "Epoch 62/80\n",
      "400000/400000 [==============================] - 5s 12us/step - loss: 22.9574 - mean_squared_error: 22.9574 - val_loss: 23.4872 - val_mean_squared_error: 23.4872\n",
      "Epoch 63/80\n",
      "400000/400000 [==============================] - 5s 12us/step - loss: 22.8793 - mean_squared_error: 22.8793 - val_loss: 24.2767 - val_mean_squared_error: 24.2767\n",
      "Epoch 64/80\n",
      "400000/400000 [==============================] - 5s 12us/step - loss: 22.8385 - mean_squared_error: 22.8385 - val_loss: 23.2562 - val_mean_squared_error: 23.2562\n",
      "Epoch 65/80\n",
      "400000/400000 [==============================] - 11s 27us/step - loss: 22.7496 - mean_squared_error: 22.7496 - val_loss: 23.2495 - val_mean_squared_error: 23.2495\n",
      "Epoch 66/80\n",
      "400000/400000 [==============================] - 7s 17us/step - loss: 22.7807 - mean_squared_error: 22.7807 - val_loss: 23.2376 - val_mean_squared_error: 23.2376\n",
      "Epoch 67/80\n",
      "400000/400000 [==============================] - 9s 23us/step - loss: 22.7127 - mean_squared_error: 22.7127 - val_loss: 23.0868 - val_mean_squared_error: 23.0868\n",
      "Epoch 68/80\n",
      "400000/400000 [==============================] - 11s 28us/step - loss: 22.7919 - mean_squared_error: 22.7919 - val_loss: 23.4610 - val_mean_squared_error: 23.4610\n",
      "Epoch 69/80\n",
      "400000/400000 [==============================] - 16s 41us/step - loss: 22.8140 - mean_squared_error: 22.8140 - val_loss: 22.9637 - val_mean_squared_error: 22.9637\n",
      "Epoch 70/80\n",
      "400000/400000 [==============================] - 14s 35us/step - loss: 22.7393 - mean_squared_error: 22.7393 - val_loss: 23.0511 - val_mean_squared_error: 23.0511\n",
      "Epoch 71/80\n",
      "400000/400000 [==============================] - 12s 31us/step - loss: 22.6824 - mean_squared_error: 22.6824 - val_loss: 23.3351 - val_mean_squared_error: 23.3351\n",
      "Epoch 72/80\n",
      "400000/400000 [==============================] - 5s 13us/step - loss: 22.7224 - mean_squared_error: 22.7224 - val_loss: 23.0374 - val_mean_squared_error: 23.0374\n",
      "Epoch 73/80\n",
      "400000/400000 [==============================] - 11s 28us/step - loss: 22.6746 - mean_squared_error: 22.6746 - val_loss: 23.7203 - val_mean_squared_error: 23.7203\n",
      "Epoch 74/80\n",
      "400000/400000 [==============================] - 11s 27us/step - loss: 22.6257 - mean_squared_error: 22.6257 - val_loss: 23.3085 - val_mean_squared_error: 23.3085\n",
      "Epoch 75/80\n",
      "400000/400000 [==============================] - 5s 14us/step - loss: 22.6066 - mean_squared_error: 22.6066 - val_loss: 23.2752 - val_mean_squared_error: 23.2752\n",
      "Epoch 76/80\n",
      "400000/400000 [==============================] - 5s 14us/step - loss: 22.6232 - mean_squared_error: 22.6232 - val_loss: 23.4776 - val_mean_squared_error: 23.4776\n",
      "Epoch 77/80\n",
      "400000/400000 [==============================] - 5s 13us/step - loss: 22.5858 - mean_squared_error: 22.5858 - val_loss: 23.1946 - val_mean_squared_error: 23.1946\n",
      "Epoch 78/80\n",
      "400000/400000 [==============================] - 5s 13us/step - loss: 22.6266 - mean_squared_error: 22.6266 - val_loss: 23.3775 - val_mean_squared_error: 23.3775\n",
      "Epoch 79/80\n",
      "400000/400000 [==============================] - 5s 13us/step - loss: 22.6089 - mean_squared_error: 22.6089 - val_loss: 23.6966 - val_mean_squared_error: 23.6966\n",
      "Epoch 80/80\n",
      "400000/400000 [==============================] - 5s 13us/step - loss: 22.5577 - mean_squared_error: 22.5577 - val_loss: 23.3531 - val_mean_squared_error: 23.3531\n"
     ]
    }
   ],
   "source": [
    "history = model.fit(X_train,\n",
    "                    y_train,\n",
    "                    epochs=80, \n",
    "                    batch_size=64,\n",
    "                    validation_split=0.2,\n",
    "                    shuffle=True,\n",
    "                    verbose=1)"
   ]
  },
  {
   "cell_type": "code",
   "execution_count": 11,
   "metadata": {},
   "outputs": [
    {
     "data": {
      "text/plain": [
       "<matplotlib.legend.Legend at 0x7fadce43ac50>"
      ]
     },
     "execution_count": 11,
     "metadata": {},
     "output_type": "execute_result"
    },
    {
     "data": {
      "image/png": "[encoded data removed]",
      "text/plain": [
       "<Figure size 432x288 with 1 Axes>"
      ]
     },
     "metadata": {
      "needs_background": "light"
     },
     "output_type": "display_data"
    }
   ],
   "source": [
    "history_dict = history.history\n",
    "loss_values = history_dict['loss'] \n",
    "val_loss_values = history_dict['val_loss'] \n",
    "epochs = range(1, len(loss_values) + 1) \n",
    "plt.plot(epochs, loss_values, 'bo', label='Training loss')\n",
    "plt.plot(epochs, val_loss_values, 'orange', label='Validation loss')\n",
    "plt.title('Training and validation loss')\n",
    "plt.xlabel('Epochs')\n",
    "plt.ylabel('Loss')\n",
    "plt.legend()\n",
    "#plt.savefig('/home/jieun201/fullprecision400e_yprofile/loss.png')"
   ]
  },
  {
   "cell_type": "code",
   "execution_count": 12,
   "metadata": {},
   "outputs": [],
   "source": [
    "p_test = model.predict(X_test)"
   ]
  },
  {
   "cell_type": "code",
   "execution_count": 13,
   "metadata": {},
   "outputs": [],
   "source": [
    "residuals = np.subtract(p_test,y_test)"
   ]
  },
  {
   "cell_type": "code",
   "execution_count": 14,
   "metadata": {},
   "outputs": [],
   "source": [
    "def gaussian(x, mu, sig):\n",
    "    return np.exp(-np.power(x - mu, 2.) / (2 * np.power(sig, 2.)))"
   ]
  },
  {
   "cell_type": "code",
   "execution_count": 15,
   "metadata": {},
   "outputs": [
    {
     "data": {
      "text/plain": [
       "500000"
      ]
     },
     "execution_count": 15,
     "metadata": {},
     "output_type": "execute_result"
    }
   ],
   "source": [
    "len(residuals)"
   ]
  },
  {
   "cell_type": "code",
   "execution_count": 16,
   "metadata": {},
   "outputs": [
    {
     "data": {
      "text/plain": [
       "(0, 40677.0)"
      ]
     },
     "execution_count": 16,
     "metadata": {},
     "output_type": "execute_result"
    },
    {
     "data": {
      "image/png": "[encoded data removed]",
      "text/plain": [
       "<Figure size 432x288 with 1 Axes>"
      ]
     },
     "metadata": {
      "needs_background": "light"
     },
     "output_type": "display_data"
    }
   ],
   "source": [
    "# X coordinate\n",
    "x = np.linspace(-50,50,100)\n",
    "\n",
    "plt.hist(residuals[:,0],bins=x)\n",
    "ymax = plt.ylim()[1]\n",
    "plt.plot([25,25],[0,ymax],color='orange')\n",
    "plt.plot([-25,-25],[0,ymax],color='orange')\n",
    "plt.xlabel('X residuals [um]')\n",
    "plt.ylim(0,ymax)\n"
   ]
  },
  {
   "cell_type": "code",
   "execution_count": 17,
   "metadata": {},
   "outputs": [
    {
     "data": {
      "text/plain": [
       "(0, 50772.75)"
      ]
     },
     "execution_count": 17,
     "metadata": {},
     "output_type": "execute_result"
    },
    {
     "data": {
      "image/png": "[encoded data removed]",
      "text/plain": [
       "<Figure size 432x288 with 1 Axes>"
      ]
     },
     "metadata": {
      "needs_background": "light"
     },
     "output_type": "display_data"
    }
   ],
   "source": [
    "# Y coordinate\n",
    "plt.hist(residuals[:,1],bins=np.linspace(-20,20,100))\n",
    "ymax = plt.ylim()[1]\n",
    "plt.plot([12.5/2,12.5/2],[0,ymax],color='orange')\n",
    "plt.plot([-12.5/2,-12.5/2],[0,ymax],color='orange')\n",
    "plt.xlabel('Y residuals [um]')\n",
    "plt.ylim(0,ymax)"
   ]
  },
  {
   "cell_type": "code",
   "execution_count": null,
   "metadata": {},
   "outputs": [],
   "source": []
  }
 ],
 "metadata": {
  "kernelspec": {
   "display_name": "Python 3",
   "language": "python",
   "name": "python3"
  },
  "language_info": {
   "codemirror_mode": {
    "name": "ipython",
    "version": 3
   },
   "file_extension": ".py",
   "mimetype": "text/x-python",
   "name": "python",
   "nbconvert_exporter": "python",
   "pygments_lexer": "ipython3",
   "version": "3.6.5"
  }
 },
 "nbformat": 4,
 "nbformat_minor": 2
}
