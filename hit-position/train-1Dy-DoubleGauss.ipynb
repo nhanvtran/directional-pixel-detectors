{
 "cells": [
  {
   "cell_type": "code",
   "execution_count": 1,
   "metadata": {},
   "outputs": [
    {
     "name": "stderr",
     "output_type": "stream",
     "text": [
      "2022-10-19 16:58:47.104145: W tensorflow/stream_executor/platform/default/dso_loader.cc:64] Could not load dynamic library 'libcudart.so.11.0'; dlerror: libcudart.so.11.0: cannot open shared object file: No such file or directory; LD_LIBRARY_PATH: /cvmfs/sft.cern.ch/lcg/releases/MCGenerators/thepeg/2.2.1-8d929/x86_64-centos7-gcc8-opt/lib/ThePEG:/cvmfs/sft.cern.ch/lcg/releases/MCGenerators/herwig++/7.2.1-f3599/x86_64-centos7-gcc8-opt/lib/Herwig:/cvmfs/sft.cern.ch/lcg/views/LCG_101/x86_64-centos7-gcc8-opt/lib/python3.9/site-packages/torch/lib:/cvmfs/sft.cern.ch/lcg/views/LCG_101/x86_64-centos7-gcc8-opt/lib/python3.9/site-packages/tensorflow:/cvmfs/sft.cern.ch/lcg/views/LCG_101/x86_64-centos7-gcc8-opt/lib/python3.9/site-packages/tensorflow/contrib/tensor_forest:/cvmfs/sft.cern.ch/lcg/views/LCG_101/x86_64-centos7-gcc8-opt/lib/python3.9/site-packages/tensorflow/python/framework:/cvmfs/sft.cern.ch/lcg/releases/java/8u222-884d8/x86_64-centos7-gcc8-opt/jre/lib/amd64:/cvmfs/sft.cern.ch/lcg/views/LCG_101/x86_64-centos7-gcc8-opt/lib64:/cvmfs/sft.cern.ch/lcg/views/LCG_101/x86_64-centos7-gcc8-opt/lib:/cvmfs/sft.cern.ch/lcg/releases/gcc/8.3.0-cebb0/x86_64-centos7/lib:/cvmfs/sft.cern.ch/lcg/releases/gcc/8.3.0-cebb0/x86_64-centos7/lib64:/cvmfs/sft.cern.ch/lcg/releases/binutils/2.30-e5b21/x86_64-centos7/lib:/cvmfs/sft.cern.ch/lcg/releases/R/3.6.3-dfb24/x86_64-centos7-gcc8-opt/lib64/R/library/readr/rcon\n",
      "2022-10-19 16:58:47.104180: I tensorflow/stream_executor/cuda/cudart_stub.cc:29] Ignore above cudart dlerror if you do not have a GPU set up on your machine.\n"
     ]
    }
   ],
   "source": [
    "from sklearn.metrics import mean_squared_error\n",
    "from sklearn.preprocessing import StandardScaler\n",
    "import tensorflow as tf\n",
    "from tensorflow.keras import datasets, layers, models\n",
    "from keras.models import Sequential\n",
    "from keras.layers import Dense, Dropout, Flatten\n",
    "from keras.callbacks import EarlyStopping\n",
    "import matplotlib.pyplot as plt\n",
    "import numpy as np\n",
    "import pandas as pd\n",
    "import math"
   ]
  },
  {
   "cell_type": "code",
   "execution_count": 2,
   "metadata": {},
   "outputs": [],
   "source": [
    "train_df = pd.read_csv('train_1Dy.csv',nrows=500000)\n",
    "test_df = pd.read_csv('test_1Dy.csv',nrows=5000)"
   ]
  },
  {
   "cell_type": "code",
   "execution_count": 3,
   "metadata": {},
   "outputs": [],
   "source": [
    "X_train = train_df.drop(columns=['y-midplane','cotBeta']).values\n",
    "X_test = test_df.drop(columns=['y-midplane','cotBeta']).values\n",
    "\n",
    "y_train = train_df['y-midplane'].values\n",
    "y_test = test_df['y-midplane'].values"
   ]
  },
  {
   "cell_type": "code",
   "execution_count": 4,
   "metadata": {},
   "outputs": [],
   "source": [
    "scaler = StandardScaler()\n",
    "X_train = scaler.fit_transform(X_train.reshape(-1, X_train.shape[-1])).reshape(X_train.shape)\n",
    "X_test = scaler.fit_transform(X_test.reshape(-1, X_test.shape[-1])).reshape(X_test.shape)"
   ]
  },
  {
   "cell_type": "code",
   "execution_count": 5,
   "metadata": {},
   "outputs": [
    {
     "name": "stdout",
     "output_type": "stream",
     "text": [
      "Model: \"sequential\"\n",
      "_________________________________________________________________\n",
      "Layer (type)                 Output Shape              Param #   \n",
      "=================================================================\n",
      "dense (Dense)                (None, 32)                448       \n",
      "_________________________________________________________________\n",
      "dense_1 (Dense)              (None, 32)                1056      \n",
      "_________________________________________________________________\n",
      "dense_2 (Dense)              (None, 4)                 132       \n",
      "=================================================================\n",
      "Total params: 1,636\n",
      "Trainable params: 1,636\n",
      "Non-trainable params: 0\n",
      "_________________________________________________________________\n"
     ]
    },
    {
     "name": "stderr",
     "output_type": "stream",
     "text": [
      "2022-10-19 16:58:50.734338: W tensorflow/stream_executor/platform/default/dso_loader.cc:64] Could not load dynamic library 'libcuda.so.1'; dlerror: libcuda.so.1: cannot open shared object file: No such file or directory; LD_LIBRARY_PATH: /cvmfs/sft.cern.ch/lcg/releases/MCGenerators/thepeg/2.2.1-8d929/x86_64-centos7-gcc8-opt/lib/ThePEG:/cvmfs/sft.cern.ch/lcg/releases/MCGenerators/herwig++/7.2.1-f3599/x86_64-centos7-gcc8-opt/lib/Herwig:/cvmfs/sft.cern.ch/lcg/views/LCG_101/x86_64-centos7-gcc8-opt/lib/python3.9/site-packages/torch/lib:/cvmfs/sft.cern.ch/lcg/views/LCG_101/x86_64-centos7-gcc8-opt/lib/python3.9/site-packages/tensorflow:/cvmfs/sft.cern.ch/lcg/views/LCG_101/x86_64-centos7-gcc8-opt/lib/python3.9/site-packages/tensorflow/contrib/tensor_forest:/cvmfs/sft.cern.ch/lcg/views/LCG_101/x86_64-centos7-gcc8-opt/lib/python3.9/site-packages/tensorflow/python/framework:/cvmfs/sft.cern.ch/lcg/releases/java/8u222-884d8/x86_64-centos7-gcc8-opt/jre/lib/amd64:/cvmfs/sft.cern.ch/lcg/views/LCG_101/x86_64-centos7-gcc8-opt/lib64:/cvmfs/sft.cern.ch/lcg/views/LCG_101/x86_64-centos7-gcc8-opt/lib:/cvmfs/sft.cern.ch/lcg/releases/gcc/8.3.0-cebb0/x86_64-centos7/lib:/cvmfs/sft.cern.ch/lcg/releases/gcc/8.3.0-cebb0/x86_64-centos7/lib64:/cvmfs/sft.cern.ch/lcg/releases/binutils/2.30-e5b21/x86_64-centos7/lib:/cvmfs/sft.cern.ch/lcg/releases/R/3.6.3-dfb24/x86_64-centos7-gcc8-opt/lib64/R/library/readr/rcon\n",
      "2022-10-19 16:58:50.734374: W tensorflow/stream_executor/cuda/cuda_driver.cc:326] failed call to cuInit: UNKNOWN ERROR (303)\n",
      "2022-10-19 16:58:50.734423: I tensorflow/stream_executor/cuda/cuda_diagnostics.cc:156] kernel driver does not appear to be running on this host (cmslpc176.fnal.gov): /proc/driver/nvidia/version does not exist\n",
      "2022-10-19 16:58:50.734853: I tensorflow/core/platform/cpu_feature_guard.cc:142] This TensorFlow binary is optimized with oneAPI Deep Neural Network Library (oneDNN) to use the following CPU instructions in performance-critical operations:  AVX2 FMA\n",
      "To enable them in other operations, rebuild TensorFlow with the appropriate compiler flags.\n"
     ]
    }
   ],
   "source": [
    "model = Sequential()\n",
    "model.add(Dense(32, input_shape=(13,), activation='relu')) # Add an input shape! (features,)\n",
    "model.add(Dense(32, input_shape=(32,), activation='relu')) # Add an input shape! (features,)\n",
    "model.add(Dense(4, activation='linear'))\n",
    "model.summary() "
   ]
  },
  {
   "cell_type": "code",
   "execution_count": 6,
   "metadata": {},
   "outputs": [],
   "source": [
    "def custom_loss(y, p):\n",
    "    \n",
    "    maxval = 1e6\n",
    "    minval = 1e-9\n",
    "    pi = 3.14159265359\n",
    "    \n",
    "    mu = tf.gather(params=p, indices=[0], axis=1)\n",
    "    sigma1 = tf.clip_by_value(tf.gather(params=p, indices=[1], axis=1),minval,maxval)\n",
    "    sigma2 = tf.clip_by_value(tf.gather(params=p, indices=[2], axis=1),minval,maxval)\n",
    "    A = tf.clip_by_value(tf.gather(params=p, indices=[3], axis=1),1,maxval)\n",
    "    \n",
    "    norm1 = tf.math.sqrt(2*pi)*sigma1\n",
    "    norm2 = tf.math.sqrt(2*pi)*sigma2\n",
    "    \n",
    "    normtot = norm1 + A*norm2\n",
    "        \n",
    "    term1 = tf.math.exp(-0.5*(y-mu)*(y-mu)/(sigma1*sigma1))\n",
    "    term2 = tf.math.exp(-0.5*(y-mu)*(y-mu)/(sigma2*sigma2))\n",
    "    \n",
    "    likelihood = tf.clip_by_value((term1 + A*term2)/normtot,minval,1)\n",
    "    NLL = -1*tf.math.log(likelihood)\n",
    "    \n",
    "    return tf.keras.backend.sum(NLL,axis=1)"
   ]
  },
  {
   "cell_type": "code",
   "execution_count": 7,
   "metadata": {},
   "outputs": [],
   "source": [
    "model.compile(optimizer='Adam', \n",
    "              loss=custom_loss)"
   ]
  },
  {
   "cell_type": "code",
   "execution_count": 8,
   "metadata": {},
   "outputs": [
    {
     "name": "stderr",
     "output_type": "stream",
     "text": [
      "2022-10-19 16:58:50.869455: I tensorflow/compiler/mlir/mlir_graph_optimization_pass.cc:176] None of the MLIR Optimization Passes are enabled (registered 2)\n",
      "2022-10-19 16:58:50.870327: I tensorflow/core/platform/profile_utils/cpu_utils.cc:114] CPU Frequency: 2894560000 Hz\n"
     ]
    },
    {
     "name": "stdout",
     "output_type": "stream",
     "text": [
      "Epoch 1/80\n",
      "WARNING:tensorflow:From /cvmfs/sft.cern.ch/lcg/views/LCG_101/x86_64-centos7-gcc8-opt/lib/python3.9/site-packages/tensorflow/python/ops/array_ops.py:5043: calling gather (from tensorflow.python.ops.array_ops) with validate_indices is deprecated and will be removed in a future version.\n",
      "Instructions for updating:\n",
      "The `validate_indices` argument has no effect. Indices are always validated on CPU and never validated on GPU.\n",
      "6250/6250 [==============================] - 8s 1ms/step - loss: 2.4401 - val_loss: 2.0182\n",
      "Epoch 2/80\n",
      "6250/6250 [==============================] - 7s 1ms/step - loss: 1.9652 - val_loss: 1.9316\n",
      "Epoch 3/80\n",
      "6250/6250 [==============================] - 7s 1ms/step - loss: 1.9058 - val_loss: 1.8775\n",
      "Epoch 4/80\n",
      "6250/6250 [==============================] - 7s 1ms/step - loss: 1.8760 - val_loss: 1.8608\n",
      "Epoch 5/80\n",
      "6250/6250 [==============================] - 7s 1ms/step - loss: 1.8573 - val_loss: 1.8643\n",
      "Epoch 6/80\n",
      "6250/6250 [==============================] - 7s 1ms/step - loss: 1.8448 - val_loss: 1.8463\n",
      "Epoch 7/80\n",
      "6250/6250 [==============================] - 7s 1ms/step - loss: 1.8360 - val_loss: 1.8235\n",
      "Epoch 8/80\n",
      "6250/6250 [==============================] - 6s 1ms/step - loss: 1.8286 - val_loss: 1.8242\n",
      "Epoch 9/80\n",
      "6250/6250 [==============================] - 6s 975us/step - loss: 1.8232 - val_loss: 1.8127\n",
      "Epoch 10/80\n",
      "6250/6250 [==============================] - 6s 986us/step - loss: 1.8175 - val_loss: 1.8171\n",
      "Epoch 11/80\n",
      "6250/6250 [==============================] - 7s 1ms/step - loss: 1.8142 - val_loss: 1.8195\n",
      "Epoch 12/80\n",
      "6250/6250 [==============================] - 7s 1ms/step - loss: 1.8099 - val_loss: 1.8096\n",
      "Epoch 13/80\n",
      "6250/6250 [==============================] - 7s 1ms/step - loss: 1.8065 - val_loss: 1.8126\n",
      "Epoch 14/80\n",
      "6250/6250 [==============================] - 7s 1ms/step - loss: 1.8034 - val_loss: 1.7984\n",
      "Epoch 15/80\n",
      "6250/6250 [==============================] - 7s 1ms/step - loss: 1.8006 - val_loss: 1.8072\n",
      "Epoch 16/80\n",
      "6250/6250 [==============================] - 7s 1ms/step - loss: 1.7979 - val_loss: 1.7863\n",
      "Epoch 17/80\n",
      "6250/6250 [==============================] - 6s 1ms/step - loss: 1.7947 - val_loss: 1.7870\n",
      "Epoch 18/80\n",
      "6250/6250 [==============================] - 7s 1ms/step - loss: 1.7928 - val_loss: 1.7702\n",
      "Epoch 19/80\n",
      "6250/6250 [==============================] - 7s 1ms/step - loss: 1.7895 - val_loss: 1.7802\n",
      "Epoch 20/80\n",
      "6250/6250 [==============================] - 7s 1ms/step - loss: 1.7874 - val_loss: 1.7868\n",
      "Epoch 21/80\n",
      "6250/6250 [==============================] - 7s 1ms/step - loss: 1.7842 - val_loss: 1.7866\n",
      "Epoch 22/80\n",
      "6250/6250 [==============================] - 7s 1ms/step - loss: 1.7823 - val_loss: 1.7778\n",
      "Epoch 23/80\n",
      "6250/6250 [==============================] - 7s 1ms/step - loss: 1.7805 - val_loss: 1.7779\n",
      "Epoch 24/80\n",
      "6250/6250 [==============================] - 7s 1ms/step - loss: 1.7780 - val_loss: 1.8128\n",
      "Epoch 25/80\n",
      "6250/6250 [==============================] - 7s 1ms/step - loss: 1.7778 - val_loss: 1.7619\n",
      "Epoch 26/80\n",
      "6250/6250 [==============================] - 7s 1ms/step - loss: 1.7755 - val_loss: 1.7598\n",
      "Epoch 27/80\n",
      "6250/6250 [==============================] - 7s 1ms/step - loss: 1.7739 - val_loss: 1.7757\n",
      "Epoch 28/80\n",
      "6250/6250 [==============================] - 6s 1ms/step - loss: 1.7720 - val_loss: 1.7785\n",
      "Epoch 29/80\n",
      "6250/6250 [==============================] - 6s 1ms/step - loss: 1.7700 - val_loss: 1.7785\n",
      "Epoch 30/80\n",
      "6250/6250 [==============================] - 7s 1ms/step - loss: 1.7692 - val_loss: 1.7651\n",
      "Epoch 31/80\n",
      "6250/6250 [==============================] - 7s 1ms/step - loss: 1.7671 - val_loss: 1.7631\n",
      "Epoch 32/80\n",
      "6250/6250 [==============================] - 7s 1ms/step - loss: 1.7670 - val_loss: 1.7639\n",
      "Epoch 33/80\n",
      "6250/6250 [==============================] - 7s 1ms/step - loss: 1.7654 - val_loss: 1.7829\n",
      "Epoch 34/80\n",
      "6250/6250 [==============================] - 7s 1ms/step - loss: 1.7668 - val_loss: 1.7616\n",
      "Epoch 35/80\n",
      "6250/6250 [==============================] - 7s 1ms/step - loss: 1.7635 - val_loss: 1.7707\n",
      "Epoch 36/80\n",
      "6250/6250 [==============================] - 6s 998us/step - loss: 1.7626 - val_loss: 1.7589\n",
      "Epoch 37/80\n",
      "6250/6250 [==============================] - 6s 1ms/step - loss: 1.7607 - val_loss: 1.7747\n",
      "Epoch 38/80\n",
      "6250/6250 [==============================] - 6s 1ms/step - loss: 1.7608 - val_loss: 1.7493\n",
      "Epoch 39/80\n",
      "6250/6250 [==============================] - 6s 1ms/step - loss: 1.7589 - val_loss: 1.7565\n",
      "Epoch 40/80\n",
      "6250/6250 [==============================] - 6s 1ms/step - loss: 1.7592 - val_loss: 1.7534\n",
      "Epoch 41/80\n",
      "6250/6250 [==============================] - 6s 1ms/step - loss: 1.7596 - val_loss: 1.7709\n",
      "Epoch 42/80\n",
      "6250/6250 [==============================] - 6s 1ms/step - loss: 1.7579 - val_loss: 1.7548\n",
      "Epoch 43/80\n",
      "6250/6250 [==============================] - 6s 1ms/step - loss: 1.7562 - val_loss: 1.7512\n",
      "Epoch 44/80\n",
      "6250/6250 [==============================] - 6s 1ms/step - loss: 1.7557 - val_loss: 1.7761\n",
      "Epoch 45/80\n",
      "6250/6250 [==============================] - 6s 1ms/step - loss: 1.7553 - val_loss: 1.7525\n",
      "Epoch 46/80\n",
      "6250/6250 [==============================] - 6s 1ms/step - loss: 1.7543 - val_loss: 1.7466\n",
      "Epoch 47/80\n",
      "6250/6250 [==============================] - 6s 1ms/step - loss: 1.7540 - val_loss: 1.7495\n",
      "Epoch 48/80\n",
      "6250/6250 [==============================] - 6s 1ms/step - loss: 1.7534 - val_loss: 1.7433\n",
      "Epoch 49/80\n",
      "6250/6250 [==============================] - 6s 1000us/step - loss: 1.7517 - val_loss: 1.7494\n",
      "Epoch 50/80\n",
      "6250/6250 [==============================] - 6s 994us/step - loss: 1.7518 - val_loss: 1.7825\n",
      "Epoch 51/80\n",
      "6250/6250 [==============================] - 6s 980us/step - loss: 1.7515 - val_loss: 1.7405\n",
      "Epoch 52/80\n",
      "6250/6250 [==============================] - 6s 996us/step - loss: 1.7508 - val_loss: 1.7435\n",
      "Epoch 53/80\n",
      "6250/6250 [==============================] - 6s 974us/step - loss: 1.7499 - val_loss: 1.7447\n",
      "Epoch 54/80\n",
      "6250/6250 [==============================] - 6s 991us/step - loss: 1.7491 - val_loss: 1.7401\n",
      "Epoch 55/80\n",
      "6250/6250 [==============================] - 6s 1ms/step - loss: 1.7490 - val_loss: 1.7374\n",
      "Epoch 56/80\n",
      "6250/6250 [==============================] - 6s 999us/step - loss: 1.7482 - val_loss: 1.7474\n",
      "Epoch 57/80\n",
      "6250/6250 [==============================] - 7s 1ms/step - loss: 1.7477 - val_loss: 1.7500\n",
      "Epoch 58/80\n",
      "6250/6250 [==============================] - 6s 1ms/step - loss: 1.7465 - val_loss: 1.7623\n",
      "Epoch 59/80\n",
      "6250/6250 [==============================] - 6s 979us/step - loss: 1.7461 - val_loss: 1.7395\n",
      "Epoch 60/80\n",
      "6250/6250 [==============================] - 6s 1ms/step - loss: 1.7464 - val_loss: 1.7409\n",
      "Epoch 61/80\n",
      "6250/6250 [==============================] - 6s 986us/step - loss: 1.7464 - val_loss: 1.7383\n",
      "Epoch 62/80\n",
      "6250/6250 [==============================] - 6s 1ms/step - loss: 1.7448 - val_loss: 1.7403\n",
      "Epoch 63/80\n",
      "6250/6250 [==============================] - 6s 978us/step - loss: 1.7445 - val_loss: 1.7434\n",
      "Epoch 64/80\n",
      "6250/6250 [==============================] - 6s 980us/step - loss: 1.7441 - val_loss: 1.7592\n",
      "Epoch 65/80\n",
      "6250/6250 [==============================] - 6s 989us/step - loss: 1.7435 - val_loss: 1.7343\n",
      "Epoch 66/80\n",
      "6250/6250 [==============================] - 6s 973us/step - loss: 1.7422 - val_loss: 1.7479\n",
      "Epoch 67/80\n",
      "6250/6250 [==============================] - 6s 967us/step - loss: 1.7426 - val_loss: 1.7474\n",
      "Epoch 68/80\n",
      "6250/6250 [==============================] - 6s 982us/step - loss: 1.7428 - val_loss: 1.7541\n",
      "Epoch 69/80\n",
      "6250/6250 [==============================] - 6s 973us/step - loss: 1.7417 - val_loss: 1.7465\n",
      "Epoch 70/80\n",
      "6250/6250 [==============================] - 6s 973us/step - loss: 1.7411 - val_loss: 1.7545\n",
      "Epoch 71/80\n",
      "6250/6250 [==============================] - 6s 988us/step - loss: 1.7426 - val_loss: 1.7670\n",
      "Epoch 72/80\n",
      "6250/6250 [==============================] - 6s 1ms/step - loss: 1.7408 - val_loss: 1.7362\n",
      "Epoch 73/80\n",
      "6250/6250 [==============================] - 6s 1ms/step - loss: 1.7418 - val_loss: 1.7518\n",
      "Epoch 74/80\n",
      "6250/6250 [==============================] - 6s 1ms/step - loss: 1.7402 - val_loss: 1.7297\n",
      "Epoch 75/80\n",
      "6250/6250 [==============================] - 6s 1ms/step - loss: 1.7395 - val_loss: 1.7368\n",
      "Epoch 76/80\n"
     ]
    },
    {
     "name": "stdout",
     "output_type": "stream",
     "text": [
      "6250/6250 [==============================] - 6s 1000us/step - loss: 1.7401 - val_loss: 1.7485\n",
      "Epoch 77/80\n",
      "6250/6250 [==============================] - 6s 989us/step - loss: 1.7382 - val_loss: 1.7457\n",
      "Epoch 78/80\n",
      "6250/6250 [==============================] - 6s 981us/step - loss: 1.7377 - val_loss: 1.7584\n",
      "Epoch 79/80\n",
      "6250/6250 [==============================] - 6s 1ms/step - loss: 1.7376 - val_loss: 1.7466\n",
      "Epoch 80/80\n",
      "6250/6250 [==============================] - 6s 1ms/step - loss: 1.7378 - val_loss: 1.7320\n"
     ]
    }
   ],
   "source": [
    "es = EarlyStopping(patience=20)\n",
    "\n",
    "history = model.fit(X_train,\n",
    "                    y_train,\n",
    "                    callbacks=[es],\n",
    "                    epochs=80, \n",
    "                    batch_size=64,\n",
    "                    validation_split=0.2,\n",
    "                    shuffle=True,\n",
    "                    verbose=1)"
   ]
  },
  {
   "cell_type": "code",
   "execution_count": 9,
   "metadata": {},
   "outputs": [
    {
     "data": {
      "text/plain": [
       "<matplotlib.legend.Legend at 0x7f99e02e8cd0>"
      ]
     },
     "execution_count": 9,
     "metadata": {},
     "output_type": "execute_result"
    },
    {
     "data": {
      "image/png": "[encoded data removed]",
      "text/plain": [
       "<Figure size 432x288 with 1 Axes>"
      ]
     },
     "metadata": {
      "needs_background": "light"
     },
     "output_type": "display_data"
    }
   ],
   "source": [
    "history_dict = history.history\n",
    "loss_values = history_dict['loss'] \n",
    "val_loss_values = history_dict['val_loss'] \n",
    "epochs = range(1, len(loss_values) + 1) \n",
    "plt.plot(epochs, loss_values, 'bo', label='Training loss')\n",
    "plt.plot(epochs, val_loss_values, 'orange', label='Validation loss')\n",
    "plt.title('Training and validation loss')\n",
    "plt.xlabel('Epochs')\n",
    "plt.ylabel('Loss')\n",
    "plt.yscale('Log')\n",
    "plt.legend()\n",
    "#plt.savefig('/home/jieun201/fullprecision400e_yprofile/loss.png')"
   ]
  },
  {
   "cell_type": "code",
   "execution_count": 10,
   "metadata": {},
   "outputs": [],
   "source": [
    "#model.save('models_1Dy/gausstest.keras')"
   ]
  },
  {
   "cell_type": "code",
   "execution_count": 11,
   "metadata": {},
   "outputs": [],
   "source": [
    "p_test = model.predict(X_test)\n",
    "np.savetxt(\"test_1DyGaus.csv\", p_test, delimiter=\",\")"
   ]
  },
  {
   "cell_type": "code",
   "execution_count": 12,
   "metadata": {},
   "outputs": [],
   "source": [
    "residuals = y_test - p_test[:,0]"
   ]
  },
  {
   "cell_type": "code",
   "execution_count": 13,
   "metadata": {},
   "outputs": [
    {
     "data": {
      "image/png": "[encoded data removed]",
      "text/plain": [
       "<Figure size 432x288 with 1 Axes>"
      ]
     },
     "metadata": {
      "needs_background": "light"
     },
     "output_type": "display_data"
    },
    {
     "data": {
      "image/png": "[encoded data removed]",
      "text/plain": [
       "<Figure size 432x288 with 1 Axes>"
      ]
     },
     "metadata": {
      "needs_background": "light"
     },
     "output_type": "display_data"
    },
    {
     "data": {
      "image/png": "[encoded data removed]",
      "text/plain": [
       "<Figure size 432x288 with 1 Axes>"
      ]
     },
     "metadata": {
      "needs_background": "light"
     },
     "output_type": "display_data"
    },
    {
     "data": {
      "image/png": "[encoded data removed]",
      "text/plain": [
       "<Figure size 432x288 with 1 Axes>"
      ]
     },
     "metadata": {
      "needs_background": "light"
     },
     "output_type": "display_data"
    }
   ],
   "source": [
    "plt.hist(residuals,bins=50)\n",
    "plt.yscale('Log')\n",
    "plt.xlabel(r'$y-\\mu_y$ [um]')\n",
    "plt.show()\n",
    "\n",
    "plt.hist(p_test[:,1],bins=50);\n",
    "plt.yscale('Log')\n",
    "plt.xlabel(r'First $\\sigma_y$ [um]')\n",
    "plt.show()\n",
    "\n",
    "plt.hist(p_test[:,2],bins=50);\n",
    "plt.yscale('Log')\n",
    "plt.xlabel(r'Second $\\sigma_y$ [um]')\n",
    "plt.show()\n",
    "\n",
    "plt.hist(p_test[:,3],bins=50);\n",
    "plt.yscale('Log')\n",
    "plt.xlabel(r'Relative norm')\n",
    "plt.show()"
   ]
  },
  {
   "cell_type": "code",
   "execution_count": 14,
   "metadata": {},
   "outputs": [],
   "source": [
    "pulls = residuals/p_test[:,1]"
   ]
  },
  {
   "cell_type": "code",
   "execution_count": 15,
   "metadata": {},
   "outputs": [
    {
     "data": {
      "image/png": "[encoded data removed]",
      "text/plain": [
       "<Figure size 432x288 with 1 Axes>"
      ]
     },
     "metadata": {
      "needs_background": "light"
     },
     "output_type": "display_data"
    }
   ],
   "source": [
    "plt.hist(pulls,bins=np.linspace(-20,20,50));\n",
    "plt.xlabel('pull')\n",
    "plt.yscale('log')"
   ]
  },
  {
   "cell_type": "code",
   "execution_count": 16,
   "metadata": {},
   "outputs": [
    {
     "name": "stdout",
     "output_type": "stream",
     "text": [
      "-0.5643700532620276 1.1612817786623448\n"
     ]
    }
   ],
   "source": [
    "print(np.mean(pulls),np.std(pulls))"
   ]
  },
  {
   "cell_type": "code",
   "execution_count": 17,
   "metadata": {},
   "outputs": [
    {
     "data": {
      "image/png": "[encoded data removed]",
      "text/plain": [
       "<Figure size 432x288 with 1 Axes>"
      ]
     },
     "metadata": {
      "needs_background": "light"
     },
     "output_type": "display_data"
    }
   ],
   "source": [
    "plt.hist(pulls,bins=50);\n",
    "plt.xlabel('pull')\n",
    "plt.yscale('log')"
   ]
  },
  {
   "cell_type": "code",
   "execution_count": null,
   "metadata": {},
   "outputs": [],
   "source": []
  }
 ],
 "metadata": {
  "kernelspec": {
   "display_name": "Python 3 (ipykernel)",
   "language": "python",
   "name": "python3"
  },
  "language_info": {
   "codemirror_mode": {
    "name": "ipython",
    "version": 3
   },
   "file_extension": ".py",
   "mimetype": "text/x-python",
   "name": "python",
   "nbconvert_exporter": "python",
   "pygments_lexer": "ipython3",
   "version": "3.9.6"
  }
 },
 "nbformat": 4,
 "nbformat_minor": 2
}
