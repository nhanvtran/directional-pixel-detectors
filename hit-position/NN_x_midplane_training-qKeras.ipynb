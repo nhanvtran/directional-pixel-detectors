{
 "cells": [
  {
   "cell_type": "code",
   "execution_count": 1,
   "id": "a0a1b1a2",
   "metadata": {},
   "outputs": [],
   "source": [
    "from sklearn.metrics import mean_squared_error\n",
    "from sklearn.preprocessing import StandardScaler\n",
    "import tensorflow as tf\n",
    "from tensorflow.keras import datasets, layers, models, activations\n",
    "from keras.layers import Dense, Dropout, Flatten, Input, Activation, BatchNormalization\n",
    "from tensorflow.keras.callbacks import EarlyStopping\n",
    "from tensorflow.keras.optimizers import Adam\n",
    "from qkeras import *\n",
    "%matplotlib inline\n",
    "import matplotlib.pyplot as plt\n",
    "import numpy as np\n",
    "import pandas as pd\n",
    "import math\n",
    "import seaborn as sns"
   ]
  },
  {
   "cell_type": "code",
   "execution_count": 2,
   "id": "5cf9647e",
   "metadata": {},
   "outputs": [],
   "source": [
    "train_df = pd.read_csv('../data/train_1Dx.csv',nrows=1000000)\n",
    "test_df = pd.read_csv('../data/test_1Dx.csv',nrows=500000)"
   ]
  },
  {
   "cell_type": "code",
   "execution_count": 3,
   "id": "043c791a",
   "metadata": {},
   "outputs": [],
   "source": [
    "X_train = train_df.drop(columns=['x-midplane','cotAlpha']).values\n",
    "X_test = test_df.drop(columns=['x-midplane','cotAlpha']).values\n",
    "\n",
    "y_train = train_df['x-midplane'].values\n",
    "y_test = test_df['x-midplane'].values"
   ]
  },
  {
   "cell_type": "code",
   "execution_count": 4,
   "id": "649f4613",
   "metadata": {},
   "outputs": [],
   "source": [
    "# scale so that it is between 0 and 1\n",
    "def scale(X):\n",
    "    width = np.max(X) - np.min(X)\n",
    "    return ( X-np.min(X) ) / width"
   ]
  },
  {
   "cell_type": "code",
   "execution_count": 5,
   "id": "65181a51",
   "metadata": {},
   "outputs": [],
   "source": [
    "X_train = scale(X_train.reshape(-1, X_train.shape[-1])).reshape(X_train.shape)\n",
    "X_test = scale(X_test.reshape(-1, X_test.shape[-1])).reshape(X_test.shape)"
   ]
  },
  {
   "cell_type": "code",
   "execution_count": 6,
   "id": "0daf8f36",
   "metadata": {},
   "outputs": [],
   "source": [
    "def custom_loss(y, p):\n",
    "    \n",
    "    maxval = 1e9\n",
    "    minval = 1e-9\n",
    "    pi = 3.14159265359\n",
    "    \n",
    "    mu = tf.gather(params=p, indices=[0], axis=1)\n",
    "    sigma = 0.1+tf.math.softplus(tf.gather(params=p, indices=[1], axis=1))\n",
    "        \n",
    "    likelihood = 1.0/tf.math.sqrt(2*pi)/sigma*tf.math.exp(-1*(y-mu)*(y-mu)/(2*sigma*sigma))\n",
    "    likelihood = tf.clip_by_value(likelihood,minval,maxval)\n",
    "    \n",
    "    NLL = -1*tf.math.log(likelihood)\n",
    "    \n",
    "    return tf.keras.backend.sum(NLL,axis=1)"
   ]
  },
  {
   "cell_type": "code",
   "execution_count": 7,
   "id": "9cb0e1db",
   "metadata": {},
   "outputs": [
    {
     "name": "stdout",
     "output_type": "stream",
     "text": [
      "Metal device set to: Apple M1\n"
     ]
    },
    {
     "name": "stderr",
     "output_type": "stream",
     "text": [
      "2022-11-17 12:07:45.044282: I tensorflow/core/common_runtime/pluggable_device/pluggable_device_factory.cc:305] Could not identify NUMA node of platform GPU ID 0, defaulting to 0. Your kernel may not have been built with NUMA support.\n",
      "2022-11-17 12:07:45.044391: I tensorflow/core/common_runtime/pluggable_device/pluggable_device_factory.cc:271] Created TensorFlow device (/job:localhost/replica:0/task:0/device:GPU:0 with 0 MB memory) -> physical PluggableDevice (device: 0, name: METAL, pci bus id: <undefined>)\n"
     ]
    }
   ],
   "source": [
    "baseline_model = keras.models.load_model(\"./trained_models/keras_cnn_unquantized.h5\",\n",
    "                                        custom_objects = {\n",
    "                                            \"custom_loss\": custom_loss\n",
    "                                        })"
   ]
  },
  {
   "cell_type": "code",
   "execution_count": 8,
   "id": "13b09232",
   "metadata": {},
   "outputs": [
    {
     "name": "stderr",
     "output_type": "stream",
     "text": [
      "2022-11-17 12:07:45.338426: W tensorflow/core/platform/profile_utils/cpu_utils.cc:128] Failed to get CPU frequency: 0 Hz\n",
      "2022-11-17 12:07:45.368661: I tensorflow/core/grappler/optimizers/custom_graph_optimizer_registry.cc:113] Plugin optimizer for device_type GPU is enabled.\n"
     ]
    },
    {
     "name": "stdout",
     "output_type": "stream",
     "text": [
      "-0.1251449775905361 6.421612183052123\n"
     ]
    }
   ],
   "source": [
    "p_test = baseline_model.predict(X_test)\n",
    "df = pd.DataFrame(p_test,columns=['predictions','uncertainty'])\n",
    "df['uncertainty'] = 0.1 + tf.math.softplus(df['uncertainty'])\n",
    "df['truth'] = y_test\n",
    "residuals = df[\"truth\"] - df[\"predictions\"]\n",
    "print(np.mean(residuals), np.std(residuals))"
   ]
  },
  {
   "cell_type": "code",
   "execution_count": 9,
   "id": "722208c9",
   "metadata": {},
   "outputs": [
    {
     "name": "stdout",
     "output_type": "stream",
     "text": [
      "Model: \"model\"\n",
      "_________________________________________________________________\n",
      " Layer (type)                Output Shape              Param #   \n",
      "=================================================================\n",
      " input_1 (InputLayer)        [(None, 21)]              0         \n",
      "                                                                 \n",
      " dense1 (QDense)             (None, 64)                1408      \n",
      "                                                                 \n",
      " relu1 (QActivation)         (None, 64)                0         \n",
      "                                                                 \n",
      " batch_normalization (BatchN  (None, 64)               256       \n",
      " ormalization)                                                   \n",
      "                                                                 \n",
      " dense2 (QDense)             (None, 2)                 130       \n",
      "                                                                 \n",
      "=================================================================\n",
      "Total params: 1,794\n",
      "Trainable params: 1,666\n",
      "Non-trainable params: 128\n",
      "_________________________________________________________________\n"
     ]
    }
   ],
   "source": [
    "def CreateQModel(shape):\n",
    "    x = x_in = Input(shape)\n",
    "    x = QDense(units = 64, \n",
    "               kernel_quantizer=\"quantized_bits(bits = 8,integer = 4,symmetric=1)\",\n",
    "               use_bias= True,\n",
    "               bias_quantizer= \"quantized_bits(bits = 8,integer = 4,symmetric=1)\",\n",
    "               name = \"dense1\")(x)\n",
    "    x = QActivation(activation=\"quantized_relu(bits = 8, integer = 4, use_sigmoid = 1)\", \n",
    "                    name=\"relu1\")(x)\n",
    "    x = BatchNormalization()(x)\n",
    "    x = QDense(units = 2,\n",
    "               kernel_quantizer=\"quantized_bits(bits = 8,integer = 4,symmetric=1)\", \n",
    "               use_bias= True,\n",
    "               bias_quantizer= \"quantized_bits(bits = 8,integer = 4,symmetric=1)\",\n",
    "               name=\"dense2\")(x)\n",
    "    model = Model(inputs=x_in, outputs=x)\n",
    "    return model\n",
    "\n",
    "model=CreateQModel(X_train.shape[1:])\n",
    "\n",
    "model.compile(optimizer=Adam(learning_rate=0.0025),\n",
    "              loss=custom_loss)\n",
    "\n",
    "model.summary()"
   ]
  },
  {
   "cell_type": "code",
   "execution_count": 10,
   "id": "0cd007b4",
   "metadata": {
    "scrolled": true
   },
   "outputs": [
    {
     "name": "stdout",
     "output_type": "stream",
     "text": [
      "Epoch 1/1000\n"
     ]
    },
    {
     "name": "stderr",
     "output_type": "stream",
     "text": [
      "2022-11-17 12:08:11.680437: I tensorflow/core/grappler/optimizers/custom_graph_optimizer_registry.cc:113] Plugin optimizer for device_type GPU is enabled.\n"
     ]
    },
    {
     "name": "stdout",
     "output_type": "stream",
     "text": [
      "391/391 [==============================] - ETA: 0s - loss: 9.5432"
     ]
    },
    {
     "name": "stderr",
     "output_type": "stream",
     "text": [
      "2022-11-17 12:08:24.696895: I tensorflow/core/grappler/optimizers/custom_graph_optimizer_registry.cc:113] Plugin optimizer for device_type GPU is enabled.\n"
     ]
    },
    {
     "name": "stdout",
     "output_type": "stream",
     "text": [
      "391/391 [==============================] - 16s 36ms/step - loss: 9.5432 - val_loss: 5.1116\n",
      "Epoch 2/1000\n",
      "391/391 [==============================] - 13s 33ms/step - loss: 4.8631 - val_loss: 4.6895\n",
      "Epoch 3/1000\n",
      "391/391 [==============================] - 13s 32ms/step - loss: 4.5221 - val_loss: 4.7759\n",
      "Epoch 4/1000\n",
      "391/391 [==============================] - 13s 33ms/step - loss: 4.2785 - val_loss: 4.2308\n",
      "Epoch 5/1000\n",
      "391/391 [==============================] - 13s 33ms/step - loss: 4.0916 - val_loss: 4.0877\n",
      "Epoch 6/1000\n",
      "391/391 [==============================] - 13s 33ms/step - loss: 3.9299 - val_loss: 4.1717\n",
      "Epoch 7/1000\n",
      "391/391 [==============================] - 13s 33ms/step - loss: 3.8404 - val_loss: 3.7969\n",
      "Epoch 8/1000\n",
      "391/391 [==============================] - 13s 33ms/step - loss: 3.7940 - val_loss: 4.2126\n",
      "Epoch 9/1000\n",
      "391/391 [==============================] - 13s 33ms/step - loss: 3.7433 - val_loss: 3.7871\n",
      "Epoch 10/1000\n",
      "391/391 [==============================] - 13s 33ms/step - loss: 3.7228 - val_loss: 3.7258\n",
      "Epoch 11/1000\n",
      "391/391 [==============================] - 13s 33ms/step - loss: 3.7079 - val_loss: 3.7208\n",
      "Epoch 12/1000\n",
      "391/391 [==============================] - 13s 34ms/step - loss: 3.6857 - val_loss: 3.6637\n",
      "Epoch 13/1000\n",
      "391/391 [==============================] - 13s 33ms/step - loss: 3.6716 - val_loss: 3.7272\n",
      "Epoch 14/1000\n",
      "391/391 [==============================] - 13s 33ms/step - loss: 3.6654 - val_loss: 3.7003\n",
      "Epoch 15/1000\n",
      "391/391 [==============================] - 13s 33ms/step - loss: 3.6517 - val_loss: 3.9123\n",
      "Epoch 16/1000\n",
      "391/391 [==============================] - 13s 33ms/step - loss: 3.6251 - val_loss: 3.6011\n",
      "Epoch 17/1000\n",
      "391/391 [==============================] - 13s 33ms/step - loss: 3.5968 - val_loss: 3.9608\n",
      "Epoch 18/1000\n",
      "391/391 [==============================] - 13s 33ms/step - loss: 3.5829 - val_loss: 3.5776\n",
      "Epoch 19/1000\n",
      "391/391 [==============================] - 13s 33ms/step - loss: 3.5659 - val_loss: 3.8820\n",
      "Epoch 20/1000\n",
      "391/391 [==============================] - 13s 33ms/step - loss: 3.5497 - val_loss: 3.6468\n",
      "Epoch 21/1000\n",
      "391/391 [==============================] - 13s 33ms/step - loss: 3.5365 - val_loss: 3.6482\n",
      "Epoch 22/1000\n",
      "391/391 [==============================] - 13s 33ms/step - loss: 3.5236 - val_loss: 3.7146\n",
      "Epoch 23/1000\n",
      "391/391 [==============================] - 13s 34ms/step - loss: 3.5112 - val_loss: 3.5829\n",
      "Epoch 24/1000\n",
      "391/391 [==============================] - 13s 33ms/step - loss: 3.5053 - val_loss: 3.8526\n",
      "Epoch 25/1000\n",
      "391/391 [==============================] - 13s 33ms/step - loss: 3.5030 - val_loss: 3.6623\n",
      "Epoch 26/1000\n",
      "391/391 [==============================] - 13s 33ms/step - loss: 3.4920 - val_loss: 3.9418\n",
      "Epoch 27/1000\n",
      "391/391 [==============================] - 13s 33ms/step - loss: 3.4791 - val_loss: 3.4785\n",
      "Epoch 28/1000\n",
      "391/391 [==============================] - 13s 33ms/step - loss: 3.4700 - val_loss: 4.1468\n",
      "Epoch 29/1000\n",
      "391/391 [==============================] - 13s 33ms/step - loss: 3.4603 - val_loss: 3.6921\n",
      "Epoch 30/1000\n",
      "391/391 [==============================] - 13s 33ms/step - loss: 3.4500 - val_loss: 3.4495\n",
      "Epoch 31/1000\n",
      "391/391 [==============================] - 13s 33ms/step - loss: 3.4374 - val_loss: 3.4338\n",
      "Epoch 32/1000\n",
      "391/391 [==============================] - 13s 33ms/step - loss: 3.4278 - val_loss: 3.4851\n",
      "Epoch 33/1000\n",
      "391/391 [==============================] - 13s 33ms/step - loss: 3.4240 - val_loss: 3.4219\n",
      "Epoch 34/1000\n",
      "391/391 [==============================] - 13s 32ms/step - loss: 3.4182 - val_loss: 3.4576\n",
      "Epoch 35/1000\n",
      "391/391 [==============================] - 13s 33ms/step - loss: 3.4129 - val_loss: 3.4682\n",
      "Epoch 36/1000\n",
      "391/391 [==============================] - 13s 34ms/step - loss: 3.4090 - val_loss: 3.5145\n",
      "Epoch 37/1000\n",
      "391/391 [==============================] - 13s 33ms/step - loss: 3.4075 - val_loss: 3.4419\n",
      "Epoch 38/1000\n",
      "391/391 [==============================] - 13s 33ms/step - loss: 3.4029 - val_loss: 3.8013\n",
      "Epoch 39/1000\n",
      "391/391 [==============================] - 13s 33ms/step - loss: 3.4023 - val_loss: 3.4377\n",
      "Epoch 40/1000\n",
      "391/391 [==============================] - 13s 34ms/step - loss: 3.3995 - val_loss: 3.4735\n",
      "Epoch 41/1000\n",
      "391/391 [==============================] - 13s 33ms/step - loss: 3.3967 - val_loss: 3.4601\n",
      "Epoch 42/1000\n",
      "391/391 [==============================] - 13s 33ms/step - loss: 3.3955 - val_loss: 3.4098\n",
      "Epoch 43/1000\n",
      "391/391 [==============================] - 13s 33ms/step - loss: 3.3906 - val_loss: 3.7188\n",
      "Epoch 44/1000\n",
      "391/391 [==============================] - 13s 34ms/step - loss: 3.3888 - val_loss: 3.7305\n",
      "Epoch 45/1000\n",
      "391/391 [==============================] - 13s 33ms/step - loss: 3.3859 - val_loss: 3.4795\n",
      "Epoch 46/1000\n",
      "391/391 [==============================] - 13s 33ms/step - loss: 3.3845 - val_loss: 3.4303\n",
      "Epoch 47/1000\n",
      "391/391 [==============================] - 13s 33ms/step - loss: 3.3869 - val_loss: 3.4013\n",
      "Epoch 48/1000\n",
      "391/391 [==============================] - 13s 34ms/step - loss: 3.3878 - val_loss: 3.4643\n",
      "Epoch 49/1000\n",
      "391/391 [==============================] - 13s 34ms/step - loss: 3.3853 - val_loss: 3.4503\n",
      "Epoch 50/1000\n",
      "391/391 [==============================] - 13s 33ms/step - loss: 3.3840 - val_loss: 3.3816\n",
      "Epoch 51/1000\n",
      "391/391 [==============================] - 13s 33ms/step - loss: 3.3849 - val_loss: 3.4557\n",
      "Epoch 52/1000\n",
      "391/391 [==============================] - 13s 33ms/step - loss: 3.3818 - val_loss: 3.3990\n",
      "Epoch 53/1000\n",
      "391/391 [==============================] - 13s 33ms/step - loss: 3.3814 - val_loss: 3.3955\n",
      "Epoch 54/1000\n",
      "391/391 [==============================] - 13s 33ms/step - loss: 3.3795 - val_loss: 3.4054\n",
      "Epoch 55/1000\n",
      "391/391 [==============================] - 13s 33ms/step - loss: 3.3780 - val_loss: 3.3837\n",
      "Epoch 56/1000\n",
      "391/391 [==============================] - 13s 33ms/step - loss: 3.3786 - val_loss: 3.6805\n",
      "Epoch 57/1000\n",
      "391/391 [==============================] - 13s 32ms/step - loss: 3.3772 - val_loss: 3.4255\n",
      "Epoch 58/1000\n",
      "391/391 [==============================] - 13s 32ms/step - loss: 3.3749 - val_loss: 3.3701\n",
      "Epoch 59/1000\n",
      "391/391 [==============================] - 13s 32ms/step - loss: 3.3751 - val_loss: 3.7839\n",
      "Epoch 60/1000\n",
      "391/391 [==============================] - 13s 32ms/step - loss: 3.3759 - val_loss: 3.5681\n",
      "Epoch 61/1000\n",
      "391/391 [==============================] - 13s 33ms/step - loss: 3.3738 - val_loss: 3.3736\n",
      "Epoch 62/1000\n",
      "391/391 [==============================] - 13s 33ms/step - loss: 3.3718 - val_loss: 3.5435\n",
      "Epoch 63/1000\n",
      "391/391 [==============================] - 13s 33ms/step - loss: 3.3694 - val_loss: 3.5882\n",
      "Epoch 64/1000\n",
      "391/391 [==============================] - 13s 33ms/step - loss: 3.3710 - val_loss: 3.5547\n",
      "Epoch 65/1000\n",
      "391/391 [==============================] - 13s 32ms/step - loss: 3.3694 - val_loss: 3.3747\n",
      "Epoch 66/1000\n",
      "391/391 [==============================] - 13s 32ms/step - loss: 3.3679 - val_loss: 3.4653\n",
      "Epoch 67/1000\n",
      "391/391 [==============================] - 13s 32ms/step - loss: 3.3686 - val_loss: 3.4454\n",
      "Epoch 68/1000\n",
      "391/391 [==============================] - 13s 32ms/step - loss: 3.3690 - val_loss: 3.8099\n"
     ]
    }
   ],
   "source": [
    "es = EarlyStopping(patience=10,\n",
    "                   min_delta = 1e-5)\n",
    "\n",
    "history = model.fit(X_train,\n",
    "                    y_train,\n",
    "                    callbacks=[es],\n",
    "                    epochs=1000, \n",
    "                    batch_size=2048,\n",
    "                    validation_split=0.2,\n",
    "                    shuffle=True,\n",
    "                    verbose=1)"
   ]
  },
  {
   "cell_type": "code",
   "execution_count": 11,
   "id": "f324a900",
   "metadata": {},
   "outputs": [
    {
     "name": "stderr",
     "output_type": "stream",
     "text": [
      "/var/folders/w1/wy8xldzx1nsdnpwxfmx7lz3w0000gn/T/ipykernel_4358/3849932070.py:13: MatplotlibDeprecationWarning: Support for case-insensitive scales is deprecated since 3.5 and support will be removed two minor releases later.\n",
      "  plt.yscale('Log')\n"
     ]
    },
    {
     "data": {
      "image/png": "[encoded data removed]",
      "text/plain": [
       "<Figure size 432x432 with 1 Axes>"
      ]
     },
     "metadata": {
      "needs_background": "light"
     },
     "output_type": "display_data"
    }
   ],
   "source": [
    "plt.figure(figsize = (6,6))\n",
    "plt.rcParams['axes.facecolor'] = 'ghostwhite'\n",
    "# plotting obtained training and test loss\n",
    "history_dict = history.history\n",
    "loss_values = history_dict['loss'] \n",
    "val_loss_values = history_dict['val_loss'] \n",
    "epochs = range(1, len(loss_values) + 1) \n",
    "plt.plot(epochs, loss_values, 'bo', label='Training loss')\n",
    "plt.plot(epochs, val_loss_values, 'orange', label='Validation loss')\n",
    "plt.title('Training and validation loss')\n",
    "plt.xlabel('Epochs')\n",
    "plt.ylabel('Loss')\n",
    "plt.yscale('Log')\n",
    "plt.legend()\n",
    "plt.show()\n"
   ]
  },
  {
   "cell_type": "code",
   "execution_count": 12,
   "id": "1e20e84d",
   "metadata": {},
   "outputs": [
    {
     "name": "stderr",
     "output_type": "stream",
     "text": [
      "2022-11-17 12:22:50.635207: I tensorflow/core/grappler/optimizers/custom_graph_optimizer_registry.cc:113] Plugin optimizer for device_type GPU is enabled.\n"
     ]
    }
   ],
   "source": [
    "p_test = model.predict(X_test)\n",
    "df = pd.DataFrame(p_test,columns=['predictions','uncertainty'])\n",
    "df['uncertainty'] = 0.1 + tf.math.softplus(df['uncertainty'])\n",
    "df['truth'] = y_test\n",
    "# df.to_csv(\"test_1DxGauss.csv\",header=False,index=False)"
   ]
  },
  {
   "cell_type": "code",
   "execution_count": 13,
   "id": "f2c03a82",
   "metadata": {},
   "outputs": [
    {
     "data": {
      "image/png": "[encoded data removed]",
      "text/plain": [
       "<Figure size 560x400 with 1 Axes>"
      ]
     },
     "metadata": {
      "needs_background": "light"
     },
     "output_type": "display_data"
    }
   ],
   "source": [
    "plt.figure(figsize = (7,5), dpi = 80)\n",
    "plt.hist(df[\"truth\"], bins = 500, color = \"darkblue\", histtype = \"step\" )\n",
    "plt.hist(df[\"predictions\"], bins = 500, color = \"black\", histtype = \"step\" )\n",
    "# plt.xlim([-80,80])\n",
    "plt.xlabel(r'$x$ [um]')\n",
    "plt.legend([\"truth\", \"predictions\"])\n",
    "plt.grid(which='major', linestyle='-', linewidth='0.5', alpha=0.5,color='black')\n",
    "plt.show()"
   ]
  },
  {
   "cell_type": "code",
   "execution_count": 14,
   "id": "46749987",
   "metadata": {},
   "outputs": [
    {
     "data": {
      "image/png": "[encoded data removed]",
      "text/plain": [
       "<Figure size 630x360 with 1 Axes>"
      ]
     },
     "metadata": {
      "needs_background": "light"
     },
     "output_type": "display_data"
    }
   ],
   "source": [
    "def compute_profile(x, y, nbin=100):\n",
    "    \n",
    "    # use of the 2d hist by numpy to avoid plotting\n",
    "    h, xe, ye = np.histogram2d(x,y,nbin)\n",
    "    \n",
    "    # bin width\n",
    "    xbinw = xe[1]-xe[0]\n",
    "\n",
    "    # getting the mean and RMS values of each vertical slice of the 2D distribution\n",
    "    # also the x valuse should be recomputed because of the possibility of empty slices\n",
    "    x_array      = []\n",
    "    x_slice_mean = []\n",
    "    x_slice_rms  = []\n",
    "    for i in range(xe.size-1):\n",
    "        yvals = y[ (x>xe[i]) & (x<=xe[i+1]) ]\n",
    "        if yvals.size>0: # do not fill the quanties for empty slices\n",
    "            x_array.append(xe[i]+ xbinw/2)\n",
    "            x_slice_mean.append( yvals.mean())\n",
    "            x_slice_rms.append( yvals.std())\n",
    "    x_array = np.array(x_array)\n",
    "    x_slice_mean = np.array(x_slice_mean)\n",
    "    x_slice_rms = np.array(x_slice_rms)\n",
    "\n",
    "    return x_array, x_slice_mean, x_slice_rms\n",
    "\n",
    "plt.figure(figsize = (7,4), dpi= 90)\n",
    "p_x, p_mean, p_rms = compute_profile(x = df[\"truth\"],\n",
    "                                     y = df[\"truth\"] - df[\"predictions\"],\n",
    "                                     nbin = np.linspace(-80,80,50))\n",
    "plt.errorbar(p_x, p_mean, p_rms,fmt='_', ecolor='blue', color='blue')\n",
    "\n",
    "plt.xlabel(\"Truth\")\n",
    "plt.ylabel(\"Residuals\")\n",
    "# plt.ylim([-2,2])\n",
    "plt.minorticks_on()\n",
    "plt.grid(which='major', linestyle='-', linewidth='0.5', alpha=0.5,color='black')\n",
    "plt.show()"
   ]
  },
  {
   "cell_type": "code",
   "execution_count": 15,
   "id": "6b57ddb6",
   "metadata": {},
   "outputs": [
    {
     "name": "stdout",
     "output_type": "stream",
     "text": [
      "5.6950159595877174 7.861216409129594\n"
     ]
    },
    {
     "data": {
      "image/png": "[encoded data removed]",
      "text/plain": [
       "<Figure size 560x400 with 1 Axes>"
      ]
     },
     "metadata": {
      "needs_background": "light"
     },
     "output_type": "display_data"
    }
   ],
   "source": [
    "residuals = df[\"truth\"] - df[\"predictions\"]\n",
    "print(np.mean(residuals), np.std(residuals))\n",
    "plt.figure(figsize = (7,5), dpi = 80)\n",
    "plt.hist(residuals, bins = np.linspace(-50,50,50), color = \"red\", histtype = \"step\")\n",
    "plt.xlabel(r'$x-\\mu_x$ [um]')\n",
    "plt.xlim([-50,50])\n",
    "plt.grid(which='major', linestyle='-', linewidth='0.5', alpha=0.5,color='black')\n",
    "plt.show()"
   ]
  },
  {
   "cell_type": "code",
   "execution_count": 16,
   "id": "c12dc76b",
   "metadata": {},
   "outputs": [
    {
     "data": {
      "image/png": "[encoded data removed]",
      "text/plain": [
       "<Figure size 560x400 with 1 Axes>"
      ]
     },
     "metadata": {
      "needs_background": "light"
     },
     "output_type": "display_data"
    }
   ],
   "source": [
    "plt.figure(figsize = (7,5), dpi = 80)\n",
    "plt.hist(df[\"uncertainty\"], bins=np.linspace(0,25,50), color = \"blue\", histtype = \"step\")\n",
    "plt.xlabel(r'$\\sigma_x$ [um]')\n",
    "plt.grid(which='major', linestyle='-', linewidth='0.5', alpha=0.5,color='black')\n",
    "plt.show()"
   ]
  },
  {
   "cell_type": "code",
   "execution_count": 17,
   "id": "7e51989b",
   "metadata": {},
   "outputs": [],
   "source": [
    "# model.save(\"./trained_models/keras_cnn_quantized.h5\")"
   ]
  },
  {
   "cell_type": "code",
   "execution_count": null,
   "id": "07cf57e9",
   "metadata": {},
   "outputs": [],
   "source": []
  }
 ],
 "metadata": {
  "kernelspec": {
   "display_name": "Python 3 (ipykernel)",
   "language": "python",
   "name": "python3"
  },
  "language_info": {
   "codemirror_mode": {
    "name": "ipython",
    "version": 3
   },
   "file_extension": ".py",
   "mimetype": "text/x-python",
   "name": "python",
   "nbconvert_exporter": "python",
   "pygments_lexer": "ipython3",
   "version": "3.9.12"
  }
 },
 "nbformat": 4,
 "nbformat_minor": 5
}
