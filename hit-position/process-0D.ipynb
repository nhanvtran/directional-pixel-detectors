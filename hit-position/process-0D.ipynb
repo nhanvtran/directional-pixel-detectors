{
 "cells": [
  {
   "cell_type": "code",
   "execution_count": 9,
   "metadata": {},
   "outputs": [],
   "source": [
    "import numpy as np\n",
    "import pandas as pd\n",
    "import os\n",
    "import math"
   ]
  },
  {
   "cell_type": "code",
   "execution_count": 6,
   "metadata": {},
   "outputs": [
    {
     "name": "stdout",
     "output_type": "stream",
     "text": [
      "Processing + charge\n",
      "Processing - charge\n"
     ]
    }
   ],
   "source": [
    "eosdir_pos = '/eos/uscms/store/user/jennetd/smart-pixels/dataset678/unflipped-positive/'\n",
    "eosdir_neg = '/eos/uscms/store/user/jennetd/smart-pixels/dataset678/unflipped-negative/'\n",
    "\n",
    "df = pd.DataFrame()\n",
    "\n",
    "print('Processing + charge')\n",
    "for f in os.listdir(eosdir_pos):\n",
    "    if 'recon' in f:\n",
    "        continue\n",
    "        \n",
    "    thisdf = pd.read_csv(eosdir_pos+f,usecols=['x-midplane','y-midplane'])\n",
    "    thatdf = pd.read_csv('../paper/unflipped-positive/recon0D_'+f.split('_')[1])\n",
    "    \n",
    "    thisdf['x-size'] = thatdf['x-size']\n",
    "    thisdf['y-size'] = thatdf['y-size']\n",
    "    \n",
    "    df = pd.concat([df,thisdf])\n",
    "    \n",
    "print('Processing - charge')\n",
    "for f in os.listdir(eosdir_neg):\n",
    "    if 'recon' in f:\n",
    "        continue\n",
    "        \n",
    "    thisdf = pd.read_csv(eosdir_neg+f,usecols=['x-midplane','y-midplane'])\n",
    "    thatdf = pd.read_csv('../paper/unflipped-negative/recon0D_'+f.split('_')[1])\n",
    "    \n",
    "    thisdf['x-size'] = thatdf['x-size']\n",
    "    thisdf['y-size'] = thatdf['y-size']\n",
    "    \n",
    "    df = pd.concat([df,thisdf])"
   ]
  },
  {
   "cell_type": "code",
   "execution_count": 7,
   "metadata": {},
   "outputs": [
    {
     "data": {
      "text/html": [
       "<div>\n",
       "<style scoped>\n",
       "    .dataframe tbody tr th:only-of-type {\n",
       "        vertical-align: middle;\n",
       "    }\n",
       "\n",
       "    .dataframe tbody tr th {\n",
       "        vertical-align: top;\n",
       "    }\n",
       "\n",
       "    .dataframe thead th {\n",
       "        text-align: right;\n",
       "    }\n",
       "</style>\n",
       "<table border=\"1\" class=\"dataframe\">\n",
       "  <thead>\n",
       "    <tr style=\"text-align: right;\">\n",
       "      <th></th>\n",
       "      <th>y-midplane</th>\n",
       "      <th>x-midplane</th>\n",
       "      <th>x-size</th>\n",
       "      <th>y-size</th>\n",
       "    </tr>\n",
       "  </thead>\n",
       "  <tbody>\n",
       "    <tr>\n",
       "      <th>0</th>\n",
       "      <td>-15.691648</td>\n",
       "      <td>20.151831</td>\n",
       "      <td>2</td>\n",
       "      <td>6</td>\n",
       "    </tr>\n",
       "    <tr>\n",
       "      <th>1</th>\n",
       "      <td>-11.671032</td>\n",
       "      <td>-60.701503</td>\n",
       "      <td>3</td>\n",
       "      <td>6</td>\n",
       "    </tr>\n",
       "    <tr>\n",
       "      <th>2</th>\n",
       "      <td>-13.947429</td>\n",
       "      <td>38.655259</td>\n",
       "      <td>8</td>\n",
       "      <td>4</td>\n",
       "    </tr>\n",
       "    <tr>\n",
       "      <th>3</th>\n",
       "      <td>13.096620</td>\n",
       "      <td>-10.844652</td>\n",
       "      <td>4</td>\n",
       "      <td>4</td>\n",
       "    </tr>\n",
       "    <tr>\n",
       "      <th>4</th>\n",
       "      <td>-0.424505</td>\n",
       "      <td>7.066617</td>\n",
       "      <td>3</td>\n",
       "      <td>6</td>\n",
       "    </tr>\n",
       "  </tbody>\n",
       "</table>\n",
       "</div>"
      ],
      "text/plain": [
       "   y-midplane  x-midplane  x-size  y-size\n",
       "0  -15.691648   20.151831       2       6\n",
       "1  -11.671032  -60.701503       3       6\n",
       "2  -13.947429   38.655259       8       4\n",
       "3   13.096620  -10.844652       4       4\n",
       "4   -0.424505    7.066617       3       6"
      ]
     },
     "execution_count": 7,
     "metadata": {},
     "output_type": "execute_result"
    }
   ],
   "source": [
    "shuffled_df = df.sample(frac=1).reset_index(drop=True)\n",
    "shuffled_df.head()"
   ]
  },
  {
   "cell_type": "code",
   "execution_count": 10,
   "metadata": {},
   "outputs": [],
   "source": [
    "split_n = math.floor(0.8*len(shuffled_df))"
   ]
  },
  {
   "cell_type": "code",
   "execution_count": 11,
   "metadata": {},
   "outputs": [
    {
     "name": "stdout",
     "output_type": "stream",
     "text": [
      "13722961 3430741\n"
     ]
    }
   ],
   "source": [
    "train_df = shuffled_df[:split_n]\n",
    "test_df = shuffled_df[split_n:]\n",
    "\n",
    "print(len(train_df),len(test_df))"
   ]
  },
  {
   "cell_type": "code",
   "execution_count": 14,
   "metadata": {},
   "outputs": [],
   "source": [
    "train_df.to_csv('train_0D.csv',index=False)\n",
    "test_df.to_csv('test_0D.csv',index=False)"
   ]
  },
  {
   "cell_type": "code",
   "execution_count": null,
   "metadata": {},
   "outputs": [],
   "source": []
  }
 ],
 "metadata": {
  "kernelspec": {
   "display_name": "Python 3",
   "language": "python",
   "name": "python3"
  },
  "language_info": {
   "codemirror_mode": {
    "name": "ipython",
    "version": 3
   },
   "file_extension": ".py",
   "mimetype": "text/x-python",
   "name": "python",
   "nbconvert_exporter": "python",
   "pygments_lexer": "ipython3",
   "version": "3.6.5"
  }
 },
 "nbformat": 4,
 "nbformat_minor": 2
}
