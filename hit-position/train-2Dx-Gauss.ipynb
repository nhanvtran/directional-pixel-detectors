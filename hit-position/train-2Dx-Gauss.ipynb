{
 "cells": [
  {
   "cell_type": "code",
   "execution_count": 1,
   "metadata": {},
   "outputs": [
    {
     "name": "stderr",
     "output_type": "stream",
     "text": [
      "2022-11-22 16:28:56.302577: I tensorflow/core/platform/cpu_feature_guard.cc:193] This TensorFlow binary is optimized with oneAPI Deep Neural Network Library (oneDNN) to use the following CPU instructions in performance-critical operations:  AVX2 AVX512F AVX512_VNNI FMA\n",
      "To enable them in other operations, rebuild TensorFlow with the appropriate compiler flags.\n",
      "2022-11-22 16:28:56.700475: I tensorflow/core/util/util.cc:169] oneDNN custom operations are on. You may see slightly different numerical results due to floating-point round-off errors from different computation orders. To turn them off, set the environment variable `TF_ENABLE_ONEDNN_OPTS=0`.\n",
      "2022-11-22 16:28:56.714936: W tensorflow/stream_executor/platform/default/dso_loader.cc:64] Could not load dynamic library 'libcudart.so.11.0'; dlerror: libcudart.so.11.0: cannot open shared object file: No such file or directory\n",
      "2022-11-22 16:28:56.714966: I tensorflow/stream_executor/cuda/cudart_stub.cc:29] Ignore above cudart dlerror if you do not have a GPU set up on your machine.\n",
      "2022-11-22 16:28:56.775304: E tensorflow/stream_executor/cuda/cuda_blas.cc:2981] Unable to register cuBLAS factory: Attempting to register factory for plugin cuBLAS when one has already been registered\n",
      "2022-11-22 16:29:03.336739: W tensorflow/stream_executor/platform/default/dso_loader.cc:64] Could not load dynamic library 'libnvinfer.so.7'; dlerror: libnvinfer.so.7: cannot open shared object file: No such file or directory\n",
      "2022-11-22 16:29:03.336989: W tensorflow/stream_executor/platform/default/dso_loader.cc:64] Could not load dynamic library 'libnvinfer_plugin.so.7'; dlerror: libnvinfer_plugin.so.7: cannot open shared object file: No such file or directory\n",
      "2022-11-22 16:29:03.337019: W tensorflow/compiler/tf2tensorrt/utils/py_utils.cc:38] TF-TRT Warning: Cannot dlopen some TensorRT libraries. If you would like to use Nvidia GPU with TensorRT, please make sure the missing libraries mentioned above are installed properly.\n"
     ]
    }
   ],
   "source": [
    "from sklearn.metrics import mean_squared_error\n",
    "from sklearn.preprocessing import StandardScaler\n",
    "import tensorflow as tf\n",
    "from tensorflow.keras import datasets, layers, models, activations\n",
    "from keras.layers import Dense, Dropout, Flatten, Input, Activation, BatchNormalization\n",
    "from tensorflow.keras.callbacks import EarlyStopping\n",
    "from tensorflow.keras.optimizers import Adam\n",
    "from qkeras import *\n",
    "%matplotlib inline\n",
    "import matplotlib.pyplot as plt\n",
    "import numpy as np\n",
    "import pandas as pd\n",
    "import math\n",
    "import seaborn as sns"
   ]
  },
  {
   "cell_type": "code",
   "execution_count": 2,
   "metadata": {},
   "outputs": [],
   "source": [
    "train_df = pd.read_csv('train_2Dx.csv',nrows=1000000)\n",
    "test_df = pd.read_csv('test_2Dx.csv',nrows=500000)"
   ]
  },
  {
   "cell_type": "code",
   "execution_count": 3,
   "metadata": {},
   "outputs": [],
   "source": [
    "X_train = train_df.drop(columns=['x-midplane','cotAlpha']).values\n",
    "X_test = test_df.drop(columns=['x-midplane','cotAlpha']).values\n",
    "\n",
    "y_train = train_df['x-midplane'].values\n",
    "y_test = test_df['x-midplane'].values"
   ]
  },
  {
   "cell_type": "code",
   "execution_count": 4,
   "metadata": {},
   "outputs": [],
   "source": [
    "# scale so that it is between 0 and 1\n",
    "def scale(X):\n",
    "    width = np.max(X) - np.min(X)\n",
    "    return ( X-np.min(X) ) / width"
   ]
  },
  {
   "cell_type": "code",
   "execution_count": 5,
   "metadata": {},
   "outputs": [],
   "source": [
    "X_train = scale(X_train.reshape(-1, X_train.shape[-1])).reshape(X_train.shape)\n",
    "X_test = scale(X_test.reshape(-1, X_test.shape[-1])).reshape(X_test.shape)"
   ]
  },
  {
   "cell_type": "code",
   "execution_count": 6,
   "metadata": {},
   "outputs": [],
   "source": [
    "def custom_loss(y, p):\n",
    "    \n",
    "    maxval = 1e9\n",
    "    minval = 1e-9\n",
    "    pi = 3.14159265359\n",
    "    \n",
    "    mu = tf.gather(params=p, indices=[0], axis=1)\n",
    "    sigma = 0.1+tf.math.softplus(tf.gather(params=p, indices=[1], axis=1))\n",
    "        \n",
    "    likelihood = 1.0/tf.math.sqrt(2*pi)/sigma*tf.math.exp(-1*(y-mu)*(y-mu)/(2*sigma*sigma))\n",
    "    likelihood = tf.clip_by_value(likelihood,minval,maxval)\n",
    "    \n",
    "    NLL = -1*tf.math.log(likelihood)\n",
    "    \n",
    "    return tf.keras.backend.sum(NLL,axis=1)"
   ]
  },
  {
   "cell_type": "code",
   "execution_count": 7,
   "metadata": {},
   "outputs": [
    {
     "name": "stdout",
     "output_type": "stream",
     "text": [
      "Model: \"model\"\n",
      "_________________________________________________________________\n",
      " Layer (type)                Output Shape              Param #   \n",
      "=================================================================\n",
      " input_1 (InputLayer)        [(None, 168)]             0         \n",
      "                                                                 \n",
      " dense1 (Dense)              (None, 64)                10816     \n",
      "                                                                 \n",
      " relu1 (Activation)          (None, 64)                0         \n",
      "                                                                 \n",
      " dense2 (Dense)              (None, 2)                 130       \n",
      "                                                                 \n",
      "=================================================================\n",
      "Total params: 10,946\n",
      "Trainable params: 10,946\n",
      "Non-trainable params: 0\n",
      "_________________________________________________________________\n"
     ]
    },
    {
     "name": "stderr",
     "output_type": "stream",
     "text": [
      "2022-11-22 16:29:55.114826: W tensorflow/stream_executor/platform/default/dso_loader.cc:64] Could not load dynamic library 'libcuda.so.1'; dlerror: libcuda.so.1: cannot open shared object file: No such file or directory\n",
      "2022-11-22 16:29:55.114925: W tensorflow/stream_executor/cuda/cuda_driver.cc:263] failed call to cuInit: UNKNOWN ERROR (303)\n",
      "2022-11-22 16:29:55.114978: I tensorflow/stream_executor/cuda/cuda_diagnostics.cc:156] kernel driver does not appear to be running on this host (jupyter-jennetd): /proc/driver/nvidia/version does not exist\n",
      "2022-11-22 16:29:55.115550: I tensorflow/core/platform/cpu_feature_guard.cc:193] This TensorFlow binary is optimized with oneAPI Deep Neural Network Library (oneDNN) to use the following CPU instructions in performance-critical operations:  AVX2 AVX512F AVX512_VNNI FMA\n",
      "To enable them in other operations, rebuild TensorFlow with the appropriate compiler flags.\n"
     ]
    }
   ],
   "source": [
    "def CreateModel(shape):\n",
    "    x = x_in = Input(shape)\n",
    "    x = Dense(64, name=\"dense1\")(x)\n",
    "    x = Activation(\"relu\", name=\"relu1\")(x)\n",
    "    #x = BatchNormalization()(x)\n",
    "    x = Dense(2, name=\"dense2\")(x)\n",
    "    model = Model(inputs=x_in, outputs=x)\n",
    "    return model\n",
    "\n",
    "model=CreateModel(X_train.shape[1:])\n",
    "\n",
    "model.compile(optimizer=Adam(learning_rate=0.0025),\n",
    "              loss=custom_loss)\n",
    "\n",
    "model.summary()"
   ]
  },
  {
   "cell_type": "code",
   "execution_count": 8,
   "metadata": {},
   "outputs": [
    {
     "name": "stdout",
     "output_type": "stream",
     "text": [
      "Epoch 1/1000\n",
      "391/391 [==============================] - 5s 9ms/step - loss: 6.4892 - val_loss: 5.1868\n",
      "Epoch 2/1000\n",
      "391/391 [==============================] - 3s 8ms/step - loss: 5.1631 - val_loss: 5.1173\n",
      "Epoch 3/1000\n",
      "391/391 [==============================] - 3s 8ms/step - loss: 5.0161 - val_loss: 4.8804\n",
      "Epoch 4/1000\n",
      "391/391 [==============================] - 3s 8ms/step - loss: 4.7193 - val_loss: 4.5866\n",
      "Epoch 5/1000\n",
      "391/391 [==============================] - 3s 8ms/step - loss: 4.5228 - val_loss: 4.4569\n",
      "Epoch 6/1000\n",
      "391/391 [==============================] - 3s 8ms/step - loss: 4.3866 - val_loss: 4.3052\n",
      "Epoch 7/1000\n",
      "391/391 [==============================] - 3s 8ms/step - loss: 4.2450 - val_loss: 4.1910\n",
      "Epoch 8/1000\n",
      "391/391 [==============================] - 3s 8ms/step - loss: 4.1471 - val_loss: 4.0949\n",
      "Epoch 9/1000\n",
      "391/391 [==============================] - 3s 8ms/step - loss: 4.0453 - val_loss: 3.9938\n",
      "Epoch 10/1000\n",
      "391/391 [==============================] - 3s 8ms/step - loss: 3.9569 - val_loss: 3.9200\n",
      "Epoch 11/1000\n",
      "391/391 [==============================] - 3s 8ms/step - loss: 3.8933 - val_loss: 3.8674\n",
      "Epoch 12/1000\n",
      "391/391 [==============================] - 3s 8ms/step - loss: 3.8446 - val_loss: 3.8211\n",
      "Epoch 13/1000\n",
      "391/391 [==============================] - 3s 8ms/step - loss: 3.8016 - val_loss: 3.7808\n",
      "Epoch 14/1000\n",
      "391/391 [==============================] - 3s 8ms/step - loss: 3.7609 - val_loss: 3.7431\n",
      "Epoch 15/1000\n",
      "391/391 [==============================] - 3s 8ms/step - loss: 3.7187 - val_loss: 3.6995\n",
      "Epoch 16/1000\n",
      "391/391 [==============================] - 3s 8ms/step - loss: 3.6781 - val_loss: 3.6606\n",
      "Epoch 17/1000\n",
      "391/391 [==============================] - 3s 8ms/step - loss: 3.6408 - val_loss: 3.6226\n",
      "Epoch 18/1000\n",
      "391/391 [==============================] - 3s 8ms/step - loss: 3.6049 - val_loss: 3.5922\n",
      "Epoch 19/1000\n",
      "391/391 [==============================] - 3s 8ms/step - loss: 3.5701 - val_loss: 3.5602\n",
      "Epoch 20/1000\n",
      "391/391 [==============================] - 3s 7ms/step - loss: 3.5376 - val_loss: 3.5239\n",
      "Epoch 21/1000\n",
      "391/391 [==============================] - 3s 8ms/step - loss: 3.5054 - val_loss: 3.4919\n",
      "Epoch 22/1000\n",
      "391/391 [==============================] - 3s 8ms/step - loss: 3.4754 - val_loss: 3.4608\n",
      "Epoch 23/1000\n",
      "391/391 [==============================] - 3s 8ms/step - loss: 3.4471 - val_loss: 3.4353\n",
      "Epoch 24/1000\n",
      "391/391 [==============================] - 3s 8ms/step - loss: 3.4237 - val_loss: 3.4131\n",
      "Epoch 25/1000\n",
      "391/391 [==============================] - 3s 8ms/step - loss: 3.4025 - val_loss: 3.3931\n",
      "Epoch 26/1000\n",
      "391/391 [==============================] - 3s 8ms/step - loss: 3.3849 - val_loss: 3.3780\n",
      "Epoch 27/1000\n",
      "391/391 [==============================] - 3s 7ms/step - loss: 3.3699 - val_loss: 3.3623\n",
      "Epoch 28/1000\n",
      "391/391 [==============================] - 3s 7ms/step - loss: 3.3559 - val_loss: 3.3590\n",
      "Epoch 29/1000\n",
      "391/391 [==============================] - 3s 8ms/step - loss: 3.3432 - val_loss: 3.3366\n",
      "Epoch 30/1000\n",
      "391/391 [==============================] - 3s 8ms/step - loss: 3.3322 - val_loss: 3.3471\n",
      "Epoch 31/1000\n",
      "391/391 [==============================] - 3s 8ms/step - loss: 3.3224 - val_loss: 3.3166\n",
      "Epoch 32/1000\n",
      "391/391 [==============================] - 3s 8ms/step - loss: 3.3120 - val_loss: 3.3071\n",
      "Epoch 33/1000\n",
      "391/391 [==============================] - 3s 8ms/step - loss: 3.3032 - val_loss: 3.2989\n",
      "Epoch 34/1000\n",
      "391/391 [==============================] - 3s 8ms/step - loss: 3.2946 - val_loss: 3.2932\n",
      "Epoch 35/1000\n",
      "391/391 [==============================] - 3s 8ms/step - loss: 3.2867 - val_loss: 3.2944\n",
      "Epoch 36/1000\n",
      "391/391 [==============================] - 3s 7ms/step - loss: 3.2801 - val_loss: 3.2766\n",
      "Epoch 37/1000\n",
      "391/391 [==============================] - 3s 8ms/step - loss: 3.2729 - val_loss: 3.2694\n",
      "Epoch 38/1000\n",
      "391/391 [==============================] - 3s 8ms/step - loss: 3.2681 - val_loss: 3.2675\n",
      "Epoch 39/1000\n",
      "391/391 [==============================] - 3s 8ms/step - loss: 3.2613 - val_loss: 3.2660\n",
      "Epoch 40/1000\n",
      "391/391 [==============================] - 3s 8ms/step - loss: 3.2559 - val_loss: 3.2532\n",
      "Epoch 41/1000\n",
      "391/391 [==============================] - 3s 8ms/step - loss: 3.2510 - val_loss: 3.2498\n",
      "Epoch 42/1000\n",
      "391/391 [==============================] - 3s 8ms/step - loss: 3.2467 - val_loss: 3.2425\n",
      "Epoch 43/1000\n",
      "391/391 [==============================] - 3s 8ms/step - loss: 3.2426 - val_loss: 3.2416\n",
      "Epoch 44/1000\n",
      "391/391 [==============================] - 3s 8ms/step - loss: 3.2385 - val_loss: 3.2436\n",
      "Epoch 45/1000\n",
      "391/391 [==============================] - 3s 8ms/step - loss: 3.2327 - val_loss: 3.2300\n",
      "Epoch 46/1000\n",
      "391/391 [==============================] - 3s 8ms/step - loss: 3.2299 - val_loss: 3.2272\n",
      "Epoch 47/1000\n",
      "391/391 [==============================] - 3s 7ms/step - loss: 3.2265 - val_loss: 3.2228\n",
      "Epoch 48/1000\n",
      "391/391 [==============================] - 3s 8ms/step - loss: 3.2217 - val_loss: 3.2211\n",
      "Epoch 49/1000\n",
      "391/391 [==============================] - 3s 8ms/step - loss: 3.2172 - val_loss: 3.2221\n",
      "Epoch 50/1000\n",
      "391/391 [==============================] - 3s 8ms/step - loss: 3.2132 - val_loss: 3.2104\n",
      "Epoch 51/1000\n",
      "391/391 [==============================] - 3s 8ms/step - loss: 3.2092 - val_loss: 3.2096\n",
      "Epoch 52/1000\n",
      "391/391 [==============================] - 3s 8ms/step - loss: 3.2057 - val_loss: 3.2059\n",
      "Epoch 53/1000\n",
      "391/391 [==============================] - 3s 8ms/step - loss: 3.2017 - val_loss: 3.1997\n",
      "Epoch 54/1000\n",
      "391/391 [==============================] - 3s 7ms/step - loss: 3.1993 - val_loss: 3.2098\n",
      "Epoch 55/1000\n",
      "391/391 [==============================] - 3s 8ms/step - loss: 3.1978 - val_loss: 3.1952\n",
      "Epoch 56/1000\n",
      "391/391 [==============================] - 3s 8ms/step - loss: 3.1939 - val_loss: 3.2011\n",
      "Epoch 57/1000\n",
      "391/391 [==============================] - 3s 8ms/step - loss: 3.1908 - val_loss: 3.1912\n",
      "Epoch 58/1000\n",
      "391/391 [==============================] - 3s 8ms/step - loss: 3.1873 - val_loss: 3.1879\n",
      "Epoch 59/1000\n",
      "391/391 [==============================] - 3s 8ms/step - loss: 3.1868 - val_loss: 3.1837\n",
      "Epoch 60/1000\n",
      "391/391 [==============================] - 3s 8ms/step - loss: 3.1833 - val_loss: 3.1804\n",
      "Epoch 61/1000\n",
      "391/391 [==============================] - 3s 8ms/step - loss: 3.1805 - val_loss: 3.1807\n",
      "Epoch 62/1000\n",
      "391/391 [==============================] - 3s 8ms/step - loss: 3.1789 - val_loss: 3.1784\n",
      "Epoch 63/1000\n",
      "391/391 [==============================] - 3s 7ms/step - loss: 3.1759 - val_loss: 3.1850\n",
      "Epoch 64/1000\n",
      "391/391 [==============================] - 3s 7ms/step - loss: 3.1745 - val_loss: 3.1744\n",
      "Epoch 65/1000\n",
      "391/391 [==============================] - 3s 8ms/step - loss: 3.1722 - val_loss: 3.1718\n",
      "Epoch 66/1000\n",
      "391/391 [==============================] - 3s 8ms/step - loss: 3.1702 - val_loss: 3.1681\n",
      "Epoch 67/1000\n",
      "391/391 [==============================] - 3s 8ms/step - loss: 3.1680 - val_loss: 3.1872\n",
      "Epoch 68/1000\n",
      "391/391 [==============================] - 3s 8ms/step - loss: 3.1655 - val_loss: 3.1688\n",
      "Epoch 69/1000\n",
      "391/391 [==============================] - 3s 7ms/step - loss: 3.1634 - val_loss: 3.1747\n",
      "Epoch 70/1000\n",
      "391/391 [==============================] - 3s 8ms/step - loss: 3.1610 - val_loss: 3.1622\n",
      "Epoch 71/1000\n",
      "391/391 [==============================] - 3s 8ms/step - loss: 3.1602 - val_loss: 3.1624\n",
      "Epoch 72/1000\n",
      "391/391 [==============================] - 3s 8ms/step - loss: 3.1569 - val_loss: 3.1576\n",
      "Epoch 73/1000\n",
      "391/391 [==============================] - 3s 8ms/step - loss: 3.1554 - val_loss: 3.1582\n",
      "Epoch 74/1000\n",
      "391/391 [==============================] - 3s 7ms/step - loss: 3.1546 - val_loss: 3.1532\n",
      "Epoch 75/1000\n",
      "391/391 [==============================] - 3s 8ms/step - loss: 3.1516 - val_loss: 3.1512\n",
      "Epoch 76/1000\n",
      "391/391 [==============================] - 3s 8ms/step - loss: 3.1502 - val_loss: 3.1556\n",
      "Epoch 77/1000\n",
      "391/391 [==============================] - 3s 8ms/step - loss: 3.1507 - val_loss: 3.1470\n",
      "Epoch 78/1000\n",
      "391/391 [==============================] - 3s 8ms/step - loss: 3.1462 - val_loss: 3.1451\n",
      "Epoch 79/1000\n",
      "391/391 [==============================] - 3s 8ms/step - loss: 3.1461 - val_loss: 3.1564\n",
      "Epoch 80/1000\n",
      "391/391 [==============================] - 3s 8ms/step - loss: 3.1419 - val_loss: 3.1422\n",
      "Epoch 81/1000\n",
      "391/391 [==============================] - 3s 8ms/step - loss: 3.1431 - val_loss: 3.1410\n",
      "Epoch 82/1000\n",
      "391/391 [==============================] - 3s 8ms/step - loss: 3.1406 - val_loss: 3.1398\n",
      "Epoch 83/1000\n",
      "391/391 [==============================] - 3s 8ms/step - loss: 3.1379 - val_loss: 3.1512\n",
      "Epoch 84/1000\n",
      "391/391 [==============================] - 3s 8ms/step - loss: 3.1373 - val_loss: 3.1378\n",
      "Epoch 85/1000\n",
      "391/391 [==============================] - 3s 8ms/step - loss: 3.1347 - val_loss: 3.1351\n",
      "Epoch 86/1000\n",
      "391/391 [==============================] - 3s 7ms/step - loss: 3.1345 - val_loss: 3.1338\n",
      "Epoch 87/1000\n",
      "391/391 [==============================] - 3s 8ms/step - loss: 3.1326 - val_loss: 3.1433\n",
      "Epoch 88/1000\n",
      "391/391 [==============================] - 3s 8ms/step - loss: 3.1308 - val_loss: 3.1315\n",
      "Epoch 89/1000\n",
      "391/391 [==============================] - 3s 8ms/step - loss: 3.1293 - val_loss: 3.1314\n",
      "Epoch 90/1000\n",
      "391/391 [==============================] - 3s 8ms/step - loss: 3.1300 - val_loss: 3.1333\n",
      "Epoch 91/1000\n",
      "391/391 [==============================] - 3s 8ms/step - loss: 3.1274 - val_loss: 3.1280\n",
      "Epoch 92/1000\n",
      "391/391 [==============================] - 3s 8ms/step - loss: 3.1249 - val_loss: 3.1322\n",
      "Epoch 93/1000\n",
      "391/391 [==============================] - 3s 8ms/step - loss: 3.1237 - val_loss: 3.1215\n",
      "Epoch 94/1000\n",
      "391/391 [==============================] - 3s 8ms/step - loss: 3.1224 - val_loss: 3.1244\n",
      "Epoch 95/1000\n",
      "391/391 [==============================] - 3s 8ms/step - loss: 3.1208 - val_loss: 3.1202\n",
      "Epoch 96/1000\n",
      "391/391 [==============================] - 3s 8ms/step - loss: 3.1212 - val_loss: 3.1184\n",
      "Epoch 97/1000\n",
      "391/391 [==============================] - 3s 8ms/step - loss: 3.1188 - val_loss: 3.1274\n",
      "Epoch 98/1000\n",
      "391/391 [==============================] - 3s 8ms/step - loss: 3.1180 - val_loss: 3.1146\n",
      "Epoch 99/1000\n",
      "391/391 [==============================] - 3s 8ms/step - loss: 3.1175 - val_loss: 3.1367\n",
      "Epoch 100/1000\n",
      "391/391 [==============================] - 3s 8ms/step - loss: 3.1150 - val_loss: 3.1156\n",
      "Epoch 101/1000\n",
      "391/391 [==============================] - 3s 8ms/step - loss: 3.1142 - val_loss: 3.1178\n",
      "Epoch 102/1000\n",
      "391/391 [==============================] - 3s 8ms/step - loss: 3.1126 - val_loss: 3.1089\n",
      "Epoch 103/1000\n",
      "391/391 [==============================] - 3s 7ms/step - loss: 3.1117 - val_loss: 3.1107\n",
      "Epoch 104/1000\n",
      "391/391 [==============================] - 3s 8ms/step - loss: 3.1096 - val_loss: 3.1124\n",
      "Epoch 105/1000\n",
      "391/391 [==============================] - 3s 8ms/step - loss: 3.1119 - val_loss: 3.1054\n",
      "Epoch 106/1000\n",
      "391/391 [==============================] - 3s 8ms/step - loss: 3.1078 - val_loss: 3.1051\n",
      "Epoch 107/1000\n",
      "391/391 [==============================] - 3s 8ms/step - loss: 3.1057 - val_loss: 3.1112\n",
      "Epoch 108/1000\n",
      "391/391 [==============================] - 3s 8ms/step - loss: 3.1051 - val_loss: 3.1243\n",
      "Epoch 109/1000\n",
      "391/391 [==============================] - 3s 7ms/step - loss: 3.1042 - val_loss: 3.1262\n",
      "Epoch 110/1000\n",
      "391/391 [==============================] - 3s 7ms/step - loss: 3.1029 - val_loss: 3.1128\n",
      "Epoch 111/1000\n",
      "391/391 [==============================] - 3s 8ms/step - loss: 3.1024 - val_loss: 3.1044\n",
      "Epoch 112/1000\n",
      "391/391 [==============================] - 3s 8ms/step - loss: 3.1008 - val_loss: 3.0978\n",
      "Epoch 113/1000\n",
      "391/391 [==============================] - 3s 8ms/step - loss: 3.1006 - val_loss: 3.1151\n",
      "Epoch 114/1000\n",
      "391/391 [==============================] - 3s 8ms/step - loss: 3.1001 - val_loss: 3.0968\n",
      "Epoch 115/1000\n",
      "391/391 [==============================] - 3s 8ms/step - loss: 3.0984 - val_loss: 3.1294\n",
      "Epoch 116/1000\n",
      "391/391 [==============================] - 3s 8ms/step - loss: 3.0975 - val_loss: 3.0979\n",
      "Epoch 117/1000\n",
      "391/391 [==============================] - 3s 8ms/step - loss: 3.0949 - val_loss: 3.1019\n",
      "Epoch 118/1000\n",
      "391/391 [==============================] - 3s 8ms/step - loss: 3.0945 - val_loss: 3.0941\n",
      "Epoch 119/1000\n",
      "391/391 [==============================] - 3s 7ms/step - loss: 3.0950 - val_loss: 3.1125\n",
      "Epoch 120/1000\n",
      "391/391 [==============================] - 3s 7ms/step - loss: 3.0922 - val_loss: 3.0899\n",
      "Epoch 121/1000\n",
      "391/391 [==============================] - 3s 8ms/step - loss: 3.0910 - val_loss: 3.0931\n",
      "Epoch 122/1000\n",
      "391/391 [==============================] - 3s 8ms/step - loss: 3.0908 - val_loss: 3.0941\n",
      "Epoch 123/1000\n",
      "391/391 [==============================] - 3s 7ms/step - loss: 3.0915 - val_loss: 3.0892\n",
      "Epoch 124/1000\n",
      "391/391 [==============================] - 3s 8ms/step - loss: 3.0894 - val_loss: 3.0916\n",
      "Epoch 125/1000\n",
      "391/391 [==============================] - 3s 8ms/step - loss: 3.0877 - val_loss: 3.0862\n",
      "Epoch 126/1000\n",
      "391/391 [==============================] - 3s 8ms/step - loss: 3.0880 - val_loss: 3.1022\n",
      "Epoch 127/1000\n",
      "391/391 [==============================] - 3s 8ms/step - loss: 3.0873 - val_loss: 3.0838\n",
      "Epoch 128/1000\n",
      "391/391 [==============================] - 3s 8ms/step - loss: 3.0852 - val_loss: 3.0879\n",
      "Epoch 129/1000\n",
      "391/391 [==============================] - 3s 8ms/step - loss: 3.0854 - val_loss: 3.0819\n",
      "Epoch 130/1000\n",
      "391/391 [==============================] - 3s 8ms/step - loss: 3.0843 - val_loss: 3.0811\n",
      "Epoch 131/1000\n",
      "391/391 [==============================] - 3s 8ms/step - loss: 3.0816 - val_loss: 3.1291\n",
      "Epoch 132/1000\n",
      "391/391 [==============================] - 3s 8ms/step - loss: 3.0823 - val_loss: 3.0828\n",
      "Epoch 133/1000\n",
      "391/391 [==============================] - 3s 8ms/step - loss: 3.0814 - val_loss: 3.0783\n",
      "Epoch 134/1000\n",
      "391/391 [==============================] - 3s 8ms/step - loss: 3.0809 - val_loss: 3.0785\n",
      "Epoch 135/1000\n",
      "391/391 [==============================] - 3s 8ms/step - loss: 3.0787 - val_loss: 3.0757\n",
      "Epoch 136/1000\n",
      "391/391 [==============================] - 3s 8ms/step - loss: 3.0793 - val_loss: 3.0792\n",
      "Epoch 137/1000\n",
      "391/391 [==============================] - 3s 8ms/step - loss: 3.0795 - val_loss: 3.0733\n",
      "Epoch 138/1000\n",
      "391/391 [==============================] - 3s 8ms/step - loss: 3.0765 - val_loss: 3.0737\n",
      "Epoch 139/1000\n",
      "391/391 [==============================] - 3s 8ms/step - loss: 3.0764 - val_loss: 3.0813\n",
      "Epoch 140/1000\n",
      "391/391 [==============================] - 3s 8ms/step - loss: 3.0751 - val_loss: 3.0733\n",
      "Epoch 141/1000\n",
      "391/391 [==============================] - 3s 8ms/step - loss: 3.0742 - val_loss: 3.0719\n",
      "Epoch 142/1000\n",
      "391/391 [==============================] - 3s 7ms/step - loss: 3.0760 - val_loss: 3.0758\n",
      "Epoch 143/1000\n",
      "391/391 [==============================] - 3s 8ms/step - loss: 3.0725 - val_loss: 3.0707\n",
      "Epoch 144/1000\n",
      "391/391 [==============================] - 3s 8ms/step - loss: 3.0729 - val_loss: 3.0776\n",
      "Epoch 145/1000\n",
      "391/391 [==============================] - 3s 8ms/step - loss: 3.0717 - val_loss: 3.0718\n",
      "Epoch 146/1000\n",
      "391/391 [==============================] - 3s 8ms/step - loss: 3.0700 - val_loss: 3.0676\n",
      "Epoch 147/1000\n",
      "391/391 [==============================] - 3s 8ms/step - loss: 3.0700 - val_loss: 3.0992\n",
      "Epoch 148/1000\n",
      "391/391 [==============================] - 3s 8ms/step - loss: 3.0704 - val_loss: 3.0680\n",
      "Epoch 149/1000\n",
      "391/391 [==============================] - 3s 8ms/step - loss: 3.0702 - val_loss: 3.0728\n",
      "Epoch 150/1000\n",
      "391/391 [==============================] - 3s 7ms/step - loss: 3.0670 - val_loss: 3.0632\n",
      "Epoch 151/1000\n",
      "391/391 [==============================] - 3s 7ms/step - loss: 3.0679 - val_loss: 3.0653\n",
      "Epoch 152/1000\n",
      "391/391 [==============================] - 3s 8ms/step - loss: 3.0658 - val_loss: 3.0658\n",
      "Epoch 153/1000\n",
      "391/391 [==============================] - 3s 8ms/step - loss: 3.0664 - val_loss: 3.0649\n",
      "Epoch 154/1000\n",
      "391/391 [==============================] - 3s 8ms/step - loss: 3.0661 - val_loss: 3.0596\n",
      "Epoch 155/1000\n",
      "391/391 [==============================] - 3s 8ms/step - loss: 3.0637 - val_loss: 3.0591\n",
      "Epoch 156/1000\n",
      "391/391 [==============================] - 3s 8ms/step - loss: 3.0641 - val_loss: 3.0776\n",
      "Epoch 157/1000\n",
      "391/391 [==============================] - 3s 8ms/step - loss: 3.0617 - val_loss: 3.0568\n",
      "Epoch 158/1000\n",
      "391/391 [==============================] - 3s 8ms/step - loss: 3.0609 - val_loss: 3.0649\n",
      "Epoch 159/1000\n",
      "391/391 [==============================] - 3s 8ms/step - loss: 3.0604 - val_loss: 3.0564\n",
      "Epoch 160/1000\n",
      "391/391 [==============================] - 3s 7ms/step - loss: 3.0619 - val_loss: 3.0588\n",
      "Epoch 161/1000\n",
      "391/391 [==============================] - 3s 7ms/step - loss: 3.0601 - val_loss: 3.0616\n",
      "Epoch 162/1000\n",
      "391/391 [==============================] - 3s 8ms/step - loss: 3.0592 - val_loss: 3.0556\n",
      "Epoch 163/1000\n",
      "391/391 [==============================] - 3s 8ms/step - loss: 3.0601 - val_loss: 3.0551\n",
      "Epoch 164/1000\n",
      "391/391 [==============================] - 3s 8ms/step - loss: 3.0577 - val_loss: 3.0575\n",
      "Epoch 165/1000\n",
      "391/391 [==============================] - 3s 7ms/step - loss: 3.0564 - val_loss: 3.0526\n",
      "Epoch 166/1000\n",
      "391/391 [==============================] - 3s 8ms/step - loss: 3.0563 - val_loss: 3.0532\n",
      "Epoch 167/1000\n",
      "391/391 [==============================] - 3s 8ms/step - loss: 3.0563 - val_loss: 3.0517\n",
      "Epoch 168/1000\n",
      "391/391 [==============================] - 3s 8ms/step - loss: 3.0564 - val_loss: 3.0599\n",
      "Epoch 169/1000\n",
      "391/391 [==============================] - 3s 8ms/step - loss: 3.0556 - val_loss: 3.0543\n",
      "Epoch 170/1000\n",
      "391/391 [==============================] - 3s 8ms/step - loss: 3.0548 - val_loss: 3.0792\n",
      "Epoch 171/1000\n",
      "391/391 [==============================] - 3s 7ms/step - loss: 3.0548 - val_loss: 3.0506\n",
      "Epoch 172/1000\n",
      "391/391 [==============================] - 3s 8ms/step - loss: 3.0512 - val_loss: 3.0475\n",
      "Epoch 173/1000\n",
      "391/391 [==============================] - 3s 7ms/step - loss: 3.0516 - val_loss: 3.0497\n",
      "Epoch 174/1000\n",
      "391/391 [==============================] - 3s 8ms/step - loss: 3.0503 - val_loss: 3.0460\n",
      "Epoch 175/1000\n",
      "391/391 [==============================] - 3s 8ms/step - loss: 3.0528 - val_loss: 3.0542\n",
      "Epoch 176/1000\n",
      "391/391 [==============================] - 3s 8ms/step - loss: 3.0507 - val_loss: 3.0452\n",
      "Epoch 177/1000\n",
      "391/391 [==============================] - 3s 8ms/step - loss: 3.0495 - val_loss: 3.0638\n",
      "Epoch 178/1000\n",
      "391/391 [==============================] - 3s 8ms/step - loss: 3.0494 - val_loss: 3.0603\n",
      "Epoch 179/1000\n",
      "391/391 [==============================] - 3s 8ms/step - loss: 3.0506 - val_loss: 3.0495\n",
      "Epoch 180/1000\n",
      "391/391 [==============================] - 3s 8ms/step - loss: 3.0473 - val_loss: 3.0448\n",
      "Epoch 181/1000\n",
      "391/391 [==============================] - 3s 8ms/step - loss: 3.0480 - val_loss: 3.0448\n",
      "Epoch 182/1000\n",
      "391/391 [==============================] - 3s 8ms/step - loss: 3.0464 - val_loss: 3.0423\n",
      "Epoch 183/1000\n",
      "391/391 [==============================] - 3s 8ms/step - loss: 3.0464 - val_loss: 3.0776\n",
      "Epoch 184/1000\n",
      "391/391 [==============================] - 3s 8ms/step - loss: 3.0459 - val_loss: 3.0405\n",
      "Epoch 185/1000\n",
      "391/391 [==============================] - 3s 8ms/step - loss: 3.0475 - val_loss: 3.0445\n",
      "Epoch 186/1000\n",
      "391/391 [==============================] - 3s 7ms/step - loss: 3.0445 - val_loss: 3.0420\n",
      "Epoch 187/1000\n",
      "391/391 [==============================] - 3s 8ms/step - loss: 3.0448 - val_loss: 3.0403\n",
      "Epoch 188/1000\n",
      "391/391 [==============================] - 3s 8ms/step - loss: 3.0439 - val_loss: 3.0552\n",
      "Epoch 189/1000\n",
      "391/391 [==============================] - 3s 8ms/step - loss: 3.0428 - val_loss: 3.0444\n",
      "Epoch 190/1000\n",
      "391/391 [==============================] - 3s 7ms/step - loss: 3.0416 - val_loss: 3.0395\n",
      "Epoch 191/1000\n",
      "391/391 [==============================] - 3s 7ms/step - loss: 3.0416 - val_loss: 3.0362\n",
      "Epoch 192/1000\n",
      "391/391 [==============================] - 3s 7ms/step - loss: 3.0419 - val_loss: 3.0424\n",
      "Epoch 193/1000\n",
      "391/391 [==============================] - 3s 8ms/step - loss: 3.0414 - val_loss: 3.0574\n",
      "Epoch 194/1000\n",
      "391/391 [==============================] - 3s 8ms/step - loss: 3.0391 - val_loss: 3.0444\n",
      "Epoch 195/1000\n",
      "391/391 [==============================] - 3s 8ms/step - loss: 3.0414 - val_loss: 3.0399\n",
      "Epoch 196/1000\n",
      "391/391 [==============================] - 3s 8ms/step - loss: 3.0399 - val_loss: 3.0365\n",
      "Epoch 197/1000\n",
      "391/391 [==============================] - 3s 8ms/step - loss: 3.0383 - val_loss: 3.0349\n",
      "Epoch 198/1000\n",
      "391/391 [==============================] - 3s 7ms/step - loss: 3.0388 - val_loss: 3.0346\n",
      "Epoch 199/1000\n",
      "391/391 [==============================] - 3s 8ms/step - loss: 3.0378 - val_loss: 3.0419\n",
      "Epoch 200/1000\n",
      "391/391 [==============================] - 3s 8ms/step - loss: 3.0374 - val_loss: 3.0402\n",
      "Epoch 201/1000\n",
      "391/391 [==============================] - 3s 8ms/step - loss: 3.0360 - val_loss: 3.0342\n",
      "Epoch 202/1000\n",
      "391/391 [==============================] - 3s 8ms/step - loss: 3.0365 - val_loss: 3.0345\n",
      "Epoch 203/1000\n",
      "391/391 [==============================] - 3s 8ms/step - loss: 3.0355 - val_loss: 3.0347\n",
      "Epoch 204/1000\n",
      "391/391 [==============================] - 3s 8ms/step - loss: 3.0369 - val_loss: 3.0560\n",
      "Epoch 205/1000\n",
      "391/391 [==============================] - 3s 8ms/step - loss: 3.0355 - val_loss: 3.0454\n",
      "Epoch 206/1000\n",
      "391/391 [==============================] - 3s 8ms/step - loss: 3.0349 - val_loss: 3.0379\n",
      "Epoch 207/1000\n",
      "391/391 [==============================] - 3s 8ms/step - loss: 3.0337 - val_loss: 3.0293\n",
      "Epoch 208/1000\n",
      "391/391 [==============================] - 3s 7ms/step - loss: 3.0319 - val_loss: 3.0286\n",
      "Epoch 209/1000\n",
      "391/391 [==============================] - 3s 8ms/step - loss: 3.0349 - val_loss: 3.0299\n",
      "Epoch 210/1000\n",
      "391/391 [==============================] - 3s 8ms/step - loss: 3.0309 - val_loss: 3.0289\n",
      "Epoch 211/1000\n",
      "391/391 [==============================] - 3s 8ms/step - loss: 3.0326 - val_loss: 3.0295\n",
      "Epoch 212/1000\n",
      "391/391 [==============================] - 3s 8ms/step - loss: 3.0314 - val_loss: 3.0379\n",
      "Epoch 213/1000\n",
      "391/391 [==============================] - 3s 8ms/step - loss: 3.0321 - val_loss: 3.0271\n",
      "Epoch 214/1000\n",
      "391/391 [==============================] - 3s 8ms/step - loss: 3.0310 - val_loss: 3.0362\n",
      "Epoch 215/1000\n",
      "391/391 [==============================] - 3s 8ms/step - loss: 3.0313 - val_loss: 3.0316\n",
      "Epoch 216/1000\n",
      "391/391 [==============================] - 3s 8ms/step - loss: 3.0299 - val_loss: 3.0397\n",
      "Epoch 217/1000\n",
      "391/391 [==============================] - 3s 8ms/step - loss: 3.0316 - val_loss: 3.0562\n",
      "Epoch 218/1000\n",
      "391/391 [==============================] - 3s 8ms/step - loss: 3.0286 - val_loss: 3.0306\n",
      "Epoch 219/1000\n",
      "391/391 [==============================] - 3s 8ms/step - loss: 3.0279 - val_loss: 3.0236\n",
      "Epoch 220/1000\n",
      "391/391 [==============================] - 3s 8ms/step - loss: 3.0291 - val_loss: 3.0462\n",
      "Epoch 221/1000\n",
      "391/391 [==============================] - 3s 8ms/step - loss: 3.0299 - val_loss: 3.0234\n",
      "Epoch 222/1000\n",
      "391/391 [==============================] - 3s 8ms/step - loss: 3.0253 - val_loss: 3.0309\n",
      "Epoch 223/1000\n",
      "391/391 [==============================] - 3s 8ms/step - loss: 3.0281 - val_loss: 3.0570\n",
      "Epoch 224/1000\n",
      "391/391 [==============================] - 3s 8ms/step - loss: 3.0271 - val_loss: 3.0235\n",
      "Epoch 225/1000\n",
      "391/391 [==============================] - 3s 8ms/step - loss: 3.0263 - val_loss: 3.0306\n",
      "Epoch 226/1000\n",
      "391/391 [==============================] - 3s 8ms/step - loss: 3.0241 - val_loss: 3.0206\n",
      "Epoch 227/1000\n",
      "391/391 [==============================] - 3s 8ms/step - loss: 3.0248 - val_loss: 3.0206\n",
      "Epoch 228/1000\n",
      "391/391 [==============================] - 3s 8ms/step - loss: 3.0270 - val_loss: 3.0233\n",
      "Epoch 229/1000\n",
      "391/391 [==============================] - 3s 8ms/step - loss: 3.0243 - val_loss: 3.0254\n",
      "Epoch 230/1000\n",
      "391/391 [==============================] - 3s 8ms/step - loss: 3.0247 - val_loss: 3.0201\n",
      "Epoch 231/1000\n",
      "391/391 [==============================] - 3s 8ms/step - loss: 3.0223 - val_loss: 3.0202\n",
      "Epoch 232/1000\n",
      "391/391 [==============================] - 3s 8ms/step - loss: 3.0240 - val_loss: 3.0348\n",
      "Epoch 233/1000\n",
      "391/391 [==============================] - 3s 8ms/step - loss: 3.0224 - val_loss: 3.0170\n",
      "Epoch 234/1000\n",
      "391/391 [==============================] - 3s 8ms/step - loss: 3.0209 - val_loss: 3.0643\n",
      "Epoch 235/1000\n",
      "391/391 [==============================] - 3s 8ms/step - loss: 3.0226 - val_loss: 3.0194\n",
      "Epoch 236/1000\n",
      "391/391 [==============================] - 3s 8ms/step - loss: 3.0218 - val_loss: 3.0220\n",
      "Epoch 237/1000\n",
      "391/391 [==============================] - 3s 8ms/step - loss: 3.0215 - val_loss: 3.0282\n",
      "Epoch 238/1000\n",
      "391/391 [==============================] - 3s 8ms/step - loss: 3.0209 - val_loss: 3.0213\n",
      "Epoch 239/1000\n",
      "391/391 [==============================] - 3s 7ms/step - loss: 3.0196 - val_loss: 3.0216\n",
      "Epoch 240/1000\n",
      "391/391 [==============================] - 3s 7ms/step - loss: 3.0202 - val_loss: 3.0349\n",
      "Epoch 241/1000\n",
      "391/391 [==============================] - 3s 7ms/step - loss: 3.0188 - val_loss: 3.0148\n",
      "Epoch 242/1000\n",
      "391/391 [==============================] - 3s 8ms/step - loss: 3.0220 - val_loss: 3.0149\n",
      "Epoch 243/1000\n",
      "391/391 [==============================] - 3s 8ms/step - loss: 3.0199 - val_loss: 3.0193\n",
      "Epoch 244/1000\n",
      "391/391 [==============================] - 3s 8ms/step - loss: 3.0187 - val_loss: 3.0144\n",
      "Epoch 245/1000\n",
      "391/391 [==============================] - 3s 8ms/step - loss: 3.0200 - val_loss: 3.0174\n",
      "Epoch 246/1000\n",
      "391/391 [==============================] - 3s 8ms/step - loss: 3.0172 - val_loss: 3.0230\n",
      "Epoch 247/1000\n",
      "391/391 [==============================] - 3s 8ms/step - loss: 3.0159 - val_loss: 3.0127\n",
      "Epoch 248/1000\n",
      "391/391 [==============================] - 3s 8ms/step - loss: 3.0182 - val_loss: 3.0225\n",
      "Epoch 249/1000\n",
      "391/391 [==============================] - 3s 8ms/step - loss: 3.0152 - val_loss: 3.0137\n",
      "Epoch 250/1000\n",
      "391/391 [==============================] - 3s 8ms/step - loss: 3.0162 - val_loss: 3.0148\n",
      "Epoch 251/1000\n",
      "391/391 [==============================] - 3s 8ms/step - loss: 3.0152 - val_loss: 3.0395\n",
      "Epoch 252/1000\n",
      "391/391 [==============================] - 3s 8ms/step - loss: 3.0157 - val_loss: 3.0124\n",
      "Epoch 253/1000\n",
      "391/391 [==============================] - 3s 8ms/step - loss: 3.0152 - val_loss: 3.0225\n",
      "Epoch 254/1000\n",
      "391/391 [==============================] - 3s 8ms/step - loss: 3.0140 - val_loss: 3.0109\n",
      "Epoch 255/1000\n",
      "391/391 [==============================] - 3s 8ms/step - loss: 3.0157 - val_loss: 3.0101\n",
      "Epoch 256/1000\n",
      "391/391 [==============================] - 3s 8ms/step - loss: 3.0161 - val_loss: 3.0198\n",
      "Epoch 257/1000\n",
      "391/391 [==============================] - 3s 8ms/step - loss: 3.0122 - val_loss: 3.0083\n",
      "Epoch 258/1000\n",
      "391/391 [==============================] - 3s 8ms/step - loss: 3.0127 - val_loss: 3.0070\n",
      "Epoch 259/1000\n",
      "391/391 [==============================] - 3s 7ms/step - loss: 3.0150 - val_loss: 3.0088\n",
      "Epoch 260/1000\n",
      "391/391 [==============================] - 3s 7ms/step - loss: 3.0118 - val_loss: 3.0079\n",
      "Epoch 261/1000\n",
      "391/391 [==============================] - 3s 7ms/step - loss: 3.0115 - val_loss: 3.0119\n",
      "Epoch 262/1000\n",
      "391/391 [==============================] - 3s 8ms/step - loss: 3.0139 - val_loss: 3.0083\n",
      "Epoch 263/1000\n",
      "391/391 [==============================] - 3s 8ms/step - loss: 3.0096 - val_loss: 3.0108\n",
      "Epoch 264/1000\n",
      "391/391 [==============================] - 3s 8ms/step - loss: 3.0129 - val_loss: 3.0114\n",
      "Epoch 265/1000\n",
      "391/391 [==============================] - 3s 8ms/step - loss: 3.0107 - val_loss: 3.0512\n",
      "Epoch 266/1000\n",
      "391/391 [==============================] - 3s 7ms/step - loss: 3.0091 - val_loss: 3.0104\n",
      "Epoch 267/1000\n",
      "391/391 [==============================] - 3s 8ms/step - loss: 3.0103 - val_loss: 3.0350\n",
      "Epoch 268/1000\n",
      "391/391 [==============================] - 3s 8ms/step - loss: 3.0105 - val_loss: 3.0044\n",
      "Epoch 269/1000\n",
      "391/391 [==============================] - 3s 8ms/step - loss: 3.0093 - val_loss: 3.0055\n",
      "Epoch 270/1000\n",
      "391/391 [==============================] - 3s 8ms/step - loss: 3.0069 - val_loss: 3.0065\n",
      "Epoch 271/1000\n",
      "391/391 [==============================] - 3s 8ms/step - loss: 3.0095 - val_loss: 3.0050\n",
      "Epoch 272/1000\n",
      "391/391 [==============================] - 3s 8ms/step - loss: 3.0088 - val_loss: 3.0066\n",
      "Epoch 273/1000\n",
      "391/391 [==============================] - 3s 8ms/step - loss: 3.0086 - val_loss: 3.0057\n",
      "Epoch 274/1000\n",
      "391/391 [==============================] - 3s 7ms/step - loss: 3.0090 - val_loss: 3.0129\n",
      "Epoch 275/1000\n",
      "391/391 [==============================] - 3s 7ms/step - loss: 3.0071 - val_loss: 3.0055\n",
      "Epoch 276/1000\n",
      "391/391 [==============================] - 3s 8ms/step - loss: 3.0078 - val_loss: 3.0030\n",
      "Epoch 277/1000\n",
      "391/391 [==============================] - 3s 8ms/step - loss: 3.0076 - val_loss: 3.0180\n",
      "Epoch 278/1000\n",
      "391/391 [==============================] - 3s 8ms/step - loss: 3.0054 - val_loss: 3.0019\n",
      "Epoch 279/1000\n",
      "391/391 [==============================] - 3s 8ms/step - loss: 3.0074 - val_loss: 3.0093\n",
      "Epoch 280/1000\n",
      "391/391 [==============================] - 3s 8ms/step - loss: 3.0063 - val_loss: 3.0121\n",
      "Epoch 281/1000\n",
      "391/391 [==============================] - 3s 8ms/step - loss: 3.0067 - val_loss: 3.0074\n",
      "Epoch 282/1000\n",
      "391/391 [==============================] - 3s 7ms/step - loss: 3.0046 - val_loss: 3.0072\n",
      "Epoch 283/1000\n",
      "391/391 [==============================] - 3s 7ms/step - loss: 3.0054 - val_loss: 3.0071\n",
      "Epoch 284/1000\n",
      "391/391 [==============================] - 3s 8ms/step - loss: 3.0072 - val_loss: 2.9989\n",
      "Epoch 285/1000\n",
      "391/391 [==============================] - 3s 8ms/step - loss: 3.0051 - val_loss: 3.0460\n",
      "Epoch 286/1000\n",
      "391/391 [==============================] - 3s 8ms/step - loss: 3.0071 - val_loss: 3.0135\n",
      "Epoch 287/1000\n",
      "391/391 [==============================] - 3s 8ms/step - loss: 3.0027 - val_loss: 3.0092\n",
      "Epoch 288/1000\n",
      "391/391 [==============================] - 3s 8ms/step - loss: 3.0042 - val_loss: 3.0078\n",
      "Epoch 289/1000\n",
      "391/391 [==============================] - 3s 8ms/step - loss: 3.0027 - val_loss: 3.0044\n",
      "Epoch 290/1000\n",
      "391/391 [==============================] - 3s 8ms/step - loss: 3.0037 - val_loss: 3.0369\n",
      "Epoch 291/1000\n",
      "391/391 [==============================] - 3s 8ms/step - loss: 3.0010 - val_loss: 3.0030\n",
      "Epoch 292/1000\n",
      "391/391 [==============================] - 3s 7ms/step - loss: 3.0019 - val_loss: 3.0102\n",
      "Epoch 293/1000\n",
      "391/391 [==============================] - 3s 8ms/step - loss: 3.0034 - val_loss: 3.0007\n",
      "Epoch 294/1000\n",
      "391/391 [==============================] - 3s 7ms/step - loss: 3.0023 - val_loss: 3.0045\n"
     ]
    }
   ],
   "source": [
    "es = EarlyStopping(patience=10,\n",
    "                  restore_best_weights=True)\n",
    "\n",
    "history = model.fit(X_train,\n",
    "                    y_train,\n",
    "                    callbacks=[es],\n",
    "                    epochs=1000, \n",
    "                    batch_size=2048,\n",
    "                    validation_split=0.2,\n",
    "                    shuffle=True,\n",
    "                    verbose=1)"
   ]
  },
  {
   "cell_type": "code",
   "execution_count": 9,
   "metadata": {},
   "outputs": [
    {
     "name": "stderr",
     "output_type": "stream",
     "text": [
      "/tmp/ipykernel_148780/4052347745.py:10: MatplotlibDeprecationWarning: Support for case-insensitive scales is deprecated since 3.5 and support will be removed two minor releases later.\n",
      "  plt.yscale('Log')\n"
     ]
    },
    {
     "data": {
      "text/plain": [
       "<matplotlib.legend.Legend at 0x7f34484c0730>"
      ]
     },
     "execution_count": 9,
     "metadata": {},
     "output_type": "execute_result"
    },
    {
     "data": {
      "image/png": "[encoded data removed]",
      "text/plain": [
       "<Figure size 640x480 with 1 Axes>"
      ]
     },
     "metadata": {},
     "output_type": "display_data"
    }
   ],
   "source": [
    "history_dict = history.history\n",
    "loss_values = history_dict['loss'] \n",
    "val_loss_values = history_dict['val_loss'] \n",
    "epochs = range(1, len(loss_values) + 1) \n",
    "plt.plot(epochs, loss_values, 'bo', label='Training loss')\n",
    "plt.plot(epochs, val_loss_values, 'orange', label='Validation loss')\n",
    "plt.title('Training and validation loss')\n",
    "plt.xlabel('Epochs')\n",
    "plt.ylabel('Loss')\n",
    "plt.yscale('Log')\n",
    "plt.legend()"
   ]
  },
  {
   "cell_type": "code",
   "execution_count": 10,
   "metadata": {},
   "outputs": [],
   "source": [
    "model.save('models_2Dx/gauss.keras')"
   ]
  },
  {
   "cell_type": "code",
   "execution_count": 11,
   "metadata": {},
   "outputs": [
    {
     "name": "stdout",
     "output_type": "stream",
     "text": [
      "15625/15625 [==============================] - 24s 2ms/step\n"
     ]
    }
   ],
   "source": [
    "p_test = model.predict(X_test)\n",
    "df = pd.DataFrame(p_test,columns=['mu','sigma'])\n",
    "df['sigma'] = 0.1 + tf.math.softplus(df['sigma'])\n",
    "df['xtrue'] = y_test\n",
    "df.to_csv(\"test_2DxGauss.csv\",header=False,index=False)"
   ]
  },
  {
   "cell_type": "code",
   "execution_count": 12,
   "metadata": {},
   "outputs": [
    {
     "name": "stdout",
     "output_type": "stream",
     "text": [
      "-0.7579188824918633 7.361528485161981\n"
     ]
    }
   ],
   "source": [
    "residuals = y_test - p_test[:,0]\n",
    "print(np.mean(residuals),np.std(residuals))"
   ]
  },
  {
   "cell_type": "code",
   "execution_count": 13,
   "metadata": {},
   "outputs": [
    {
     "name": "stdout",
     "output_type": "stream",
     "text": [
      "4.0649934 3.7010636\n"
     ]
    }
   ],
   "source": [
    "uncertainty= 0.1 + tf.math.softplus(p_test[:,1])\n",
    "print(np.mean(uncertainty),np.std(uncertainty))"
   ]
  },
  {
   "cell_type": "code",
   "execution_count": 14,
   "metadata": {},
   "outputs": [
    {
     "data": {
      "image/png": "[encoded data removed]",
      "text/plain": [
       "<Figure size 640x480 with 1 Axes>"
      ]
     },
     "metadata": {},
     "output_type": "display_data"
    },
    {
     "data": {
      "image/png": "[encoded data removed]",
      "text/plain": [
       "<Figure size 640x480 with 1 Axes>"
      ]
     },
     "metadata": {},
     "output_type": "display_data"
    }
   ],
   "source": [
    "plt.hist(residuals,bins=np.linspace(-50,50,50))\n",
    "#plt.yscale('Log')\n",
    "plt.xlabel(r'$x-\\mu_x$ [um]')\n",
    "plt.xlim(-50,50)\n",
    "plt.show()\n",
    "\n",
    "plt.hist(uncertainty,bins=np.linspace(0,25,50));\n",
    "#plt.yscale('Log')\n",
    "plt.xlabel(r'$\\sigma_x$ [um]')\n",
    "plt.show()"
   ]
  },
  {
   "cell_type": "code",
   "execution_count": 15,
   "metadata": {},
   "outputs": [
    {
     "name": "stdout",
     "output_type": "stream",
     "text": [
      "-0.35538935958338647 2.11117793905907\n"
     ]
    }
   ],
   "source": [
    "pulls = residuals/p_test[:,1]\n",
    "print(np.mean(pulls),np.std(pulls))"
   ]
  },
  {
   "cell_type": "code",
   "execution_count": 16,
   "metadata": {},
   "outputs": [
    {
     "data": {
      "text/plain": [
       "Text(0.5, 0, 'pull')"
      ]
     },
     "execution_count": 16,
     "metadata": {},
     "output_type": "execute_result"
    },
    {
     "data": {
      "image/png": "[encoded data removed]",
      "text/plain": [
       "<Figure size 640x480 with 1 Axes>"
      ]
     },
     "metadata": {},
     "output_type": "display_data"
    }
   ],
   "source": [
    "plt.hist(pulls,bins=50);\n",
    "plt.xlabel('pull')"
   ]
  },
  {
   "cell_type": "code",
   "execution_count": 17,
   "metadata": {},
   "outputs": [
    {
     "data": {
      "text/html": [
       "<div>\n",
       "<style scoped>\n",
       "    .dataframe tbody tr th:only-of-type {\n",
       "        vertical-align: middle;\n",
       "    }\n",
       "\n",
       "    .dataframe tbody tr th {\n",
       "        vertical-align: top;\n",
       "    }\n",
       "\n",
       "    .dataframe thead th {\n",
       "        text-align: right;\n",
       "    }\n",
       "</style>\n",
       "<table border=\"1\" class=\"dataframe\">\n",
       "  <thead>\n",
       "    <tr style=\"text-align: right;\">\n",
       "      <th></th>\n",
       "      <th>mu</th>\n",
       "      <th>sigma</th>\n",
       "      <th>xtrue</th>\n",
       "    </tr>\n",
       "  </thead>\n",
       "  <tbody>\n",
       "    <tr>\n",
       "      <th>0</th>\n",
       "      <td>-39.828197</td>\n",
       "      <td>4.012679</td>\n",
       "      <td>-46.684825</td>\n",
       "    </tr>\n",
       "    <tr>\n",
       "      <th>1</th>\n",
       "      <td>48.349579</td>\n",
       "      <td>6.748332</td>\n",
       "      <td>63.321594</td>\n",
       "    </tr>\n",
       "    <tr>\n",
       "      <th>2</th>\n",
       "      <td>-52.612896</td>\n",
       "      <td>1.429968</td>\n",
       "      <td>-54.243993</td>\n",
       "    </tr>\n",
       "    <tr>\n",
       "      <th>3</th>\n",
       "      <td>28.153170</td>\n",
       "      <td>5.280723</td>\n",
       "      <td>26.554883</td>\n",
       "    </tr>\n",
       "    <tr>\n",
       "      <th>4</th>\n",
       "      <td>57.568977</td>\n",
       "      <td>1.880128</td>\n",
       "      <td>58.023551</td>\n",
       "    </tr>\n",
       "  </tbody>\n",
       "</table>\n",
       "</div>"
      ],
      "text/plain": [
       "          mu     sigma      xtrue\n",
       "0 -39.828197  4.012679 -46.684825\n",
       "1  48.349579  6.748332  63.321594\n",
       "2 -52.612896  1.429968 -54.243993\n",
       "3  28.153170  5.280723  26.554883\n",
       "4  57.568977  1.880128  58.023551"
      ]
     },
     "execution_count": 17,
     "metadata": {},
     "output_type": "execute_result"
    }
   ],
   "source": [
    "df_2d = pd.DataFrame(p_test,columns=['mu','sigma'])\n",
    "df_2d['xtrue'] = y_test\n",
    "df_2d.head()"
   ]
  },
  {
   "cell_type": "code",
   "execution_count": 18,
   "metadata": {},
   "outputs": [
    {
     "data": {
      "text/html": [
       "<div>\n",
       "<style scoped>\n",
       "    .dataframe tbody tr th:only-of-type {\n",
       "        vertical-align: middle;\n",
       "    }\n",
       "\n",
       "    .dataframe tbody tr th {\n",
       "        vertical-align: top;\n",
       "    }\n",
       "\n",
       "    .dataframe thead th {\n",
       "        text-align: right;\n",
       "    }\n",
       "</style>\n",
       "<table border=\"1\" class=\"dataframe\">\n",
       "  <thead>\n",
       "    <tr style=\"text-align: right;\">\n",
       "      <th></th>\n",
       "      <th>mu</th>\n",
       "      <th>sigma</th>\n",
       "      <th>xtrue</th>\n",
       "    </tr>\n",
       "  </thead>\n",
       "  <tbody>\n",
       "    <tr>\n",
       "      <th>0</th>\n",
       "      <td>29.969585</td>\n",
       "      <td>5.203071</td>\n",
       "      <td>35.970951</td>\n",
       "    </tr>\n",
       "    <tr>\n",
       "      <th>1</th>\n",
       "      <td>-0.287672</td>\n",
       "      <td>4.929564</td>\n",
       "      <td>0.770363</td>\n",
       "    </tr>\n",
       "    <tr>\n",
       "      <th>2</th>\n",
       "      <td>-30.719051</td>\n",
       "      <td>6.458121</td>\n",
       "      <td>-37.471662</td>\n",
       "    </tr>\n",
       "    <tr>\n",
       "      <th>3</th>\n",
       "      <td>-19.176640</td>\n",
       "      <td>5.216318</td>\n",
       "      <td>-10.147963</td>\n",
       "    </tr>\n",
       "    <tr>\n",
       "      <th>4</th>\n",
       "      <td>-70.969380</td>\n",
       "      <td>4.316263</td>\n",
       "      <td>-73.204875</td>\n",
       "    </tr>\n",
       "  </tbody>\n",
       "</table>\n",
       "</div>"
      ],
      "text/plain": [
       "          mu     sigma      xtrue\n",
       "0  29.969585  5.203071  35.970951\n",
       "1  -0.287672  4.929564   0.770363\n",
       "2 -30.719051  6.458121 -37.471662\n",
       "3 -19.176640  5.216318 -10.147963\n",
       "4 -70.969380  4.316263 -73.204875"
      ]
     },
     "execution_count": 18,
     "metadata": {},
     "output_type": "execute_result"
    }
   ],
   "source": [
    "df_1d = pd.read_csv('test_1DxGauss.csv',header=None,names=['mu','sigma','xtrue'])\n",
    "df_1d.head()"
   ]
  },
  {
   "cell_type": "code",
   "execution_count": 19,
   "metadata": {},
   "outputs": [
    {
     "data": {
      "text/plain": [
       "Text(0.5, 0, '$x-\\\\mu_x$ [um]')"
      ]
     },
     "execution_count": 19,
     "metadata": {},
     "output_type": "execute_result"
    },
    {
     "data": {
      "image/png": "[encoded data removed]",
      "text/plain": [
       "<Figure size 640x480 with 1 Axes>"
      ]
     },
     "metadata": {},
     "output_type": "display_data"
    }
   ],
   "source": [
    "plt.hist(df_2d['xtrue'] - df_2d['mu'],histtype='step',bins=np.linspace(-50,50,50),label=r'with time');\n",
    "plt.hist(df_1d['xtrue'] - df_1d['mu'],histtype='step',bins=np.linspace(-50,50,50),label=r'without time');\n",
    "plt.legend(frameon=False)\n",
    "plt.xlabel(r'$x-\\mu_x$ [um]')"
   ]
  },
  {
   "cell_type": "code",
   "execution_count": 20,
   "metadata": {},
   "outputs": [
    {
     "data": {
      "text/plain": [
       "Text(0.5, 0, '$\\\\sigma_x$ [um]')"
      ]
     },
     "execution_count": 20,
     "metadata": {},
     "output_type": "execute_result"
    },
    {
     "data": {
      "image/png": "[encoded data removed]",
      "text/plain": [
       "<Figure size 640x480 with 1 Axes>"
      ]
     },
     "metadata": {},
     "output_type": "display_data"
    }
   ],
   "source": [
    "plt.hist(df_2d['sigma'],histtype='step',bins=np.linspace(0,25,50),label=r'with time');\n",
    "plt.hist(df_1d['sigma'],histtype='step',bins=np.linspace(0,25,50),label=r'without time');\n",
    "plt.legend(frameon=False)\n",
    "plt.xlabel(r'$\\sigma_x$ [um]')"
   ]
  },
  {
   "cell_type": "code",
   "execution_count": 29,
   "metadata": {},
   "outputs": [
    {
     "data": {
      "text/plain": [
       "<matplotlib.legend.Legend at 0x7f3438599c40>"
      ]
     },
     "execution_count": 29,
     "metadata": {},
     "output_type": "execute_result"
    },
    {
     "data": {
      "image/png": "[encoded data removed]",
      "text/plain": [
       "<Figure size 640x480 with 1 Axes>"
      ]
     },
     "metadata": {},
     "output_type": "display_data"
    }
   ],
   "source": [
    "x = sns.regplot(x=df_2d['xtrue'], y=df_2d['xtrue']-df_2d['mu'], x_bins=np.linspace(-80,80,50), fit_reg=None, marker='.',label='with time')\n",
    "x = sns.regplot(x=df_1d['xtrue'], y=df_1d['xtrue']-df_1d['mu'], x_bins=np.linspace(-80,80,50), fit_reg=None, marker='.',label='without time')\n",
    "plt.xlabel(r'True $x$ [um]')\n",
    "plt.ylabel(r'$x-\\mu_x$ [um]')\n",
    "plt.legend(frameon=False)"
   ]
  },
  {
   "cell_type": "code",
   "execution_count": 30,
   "metadata": {},
   "outputs": [
    {
     "data": {
      "text/plain": [
       "<matplotlib.legend.Legend at 0x7f33d05ddf10>"
      ]
     },
     "execution_count": 30,
     "metadata": {},
     "output_type": "execute_result"
    },
    {
     "data": {
      "image/png": "[encoded data removed]",
      "text/plain": [
       "<Figure size 640x480 with 1 Axes>"
      ]
     },
     "metadata": {},
     "output_type": "display_data"
    }
   ],
   "source": [
    "x = sns.regplot(x=df_2d['xtrue'], y=df_2d['sigma'], x_bins=np.linspace(-80,80,50), fit_reg=None, marker='.',label='with time')\n",
    "x = sns.regplot(x=df_1d['xtrue'], y=df_1d['sigma'], x_bins=np.linspace(-80,80,50), fit_reg=None, marker='.',label='without time')\n",
    "plt.xlabel(r'True $x$ [um]')\n",
    "plt.ylabel(r'$\\sigma_x$ [um]')\n",
    "plt.legend(frameon=False)"
   ]
  },
  {
   "cell_type": "code",
   "execution_count": 23,
   "metadata": {},
   "outputs": [
    {
     "data": {
      "text/plain": [
       "Text(0.5, 0, 'true x [um]')"
      ]
     },
     "execution_count": 23,
     "metadata": {},
     "output_type": "execute_result"
    },
    {
     "data": {
      "image/png": "[encoded data removed]",
      "text/plain": [
       "<Figure size 640x480 with 1 Axes>"
      ]
     },
     "metadata": {},
     "output_type": "display_data"
    }
   ],
   "source": [
    "plt.hist([df_2d[df_2d['sigma']<5]['xtrue'],df_2d[df_2d['sigma']>5]['xtrue']],bins=np.linspace(-75,75,25),stacked=True,label=['$\\sigma_x<5$','$\\sigma_x>5$']);\n",
    "plt.ylim(0,30000)\n",
    "plt.legend(frameon=False)\n",
    "plt.xlabel('true x [um]')"
   ]
  },
  {
   "cell_type": "code",
   "execution_count": 24,
   "metadata": {},
   "outputs": [
    {
     "data": {
      "text/plain": [
       "Text(0, 0.5, '$\\\\sigma_x$ [um]')"
      ]
     },
     "execution_count": 24,
     "metadata": {},
     "output_type": "execute_result"
    },
    {
     "data": {
      "image/png": "[encoded data removed]",
      "text/plain": [
       "<Figure size 640x480 with 1 Axes>"
      ]
     },
     "metadata": {},
     "output_type": "display_data"
    }
   ],
   "source": [
    "plt.hist2d(df_2d['xtrue'],df_2d['sigma'],bins=[np.linspace(-75,75,25),np.linspace(0,25,25)]);\n",
    "plt.plot([-75,-75],[0,25],color='orange')\n",
    "plt.plot([-25,-25],[0,25],color='orange')\n",
    "plt.plot([25,25],[0,25],color='orange')\n",
    "plt.plot([75,75],[0,25],color='orange')\n",
    "plt.xlabel('true x [um]')\n",
    "plt.ylabel(r'$\\sigma_x$ [um]')"
   ]
  },
  {
   "cell_type": "code",
   "execution_count": 25,
   "metadata": {},
   "outputs": [
    {
     "data": {
      "text/plain": [
       "[<keras.engine.input_layer.InputLayer at 0x7f3553a82220>,\n",
       " <keras.layers.core.dense.Dense at 0x7f36883c3fa0>,\n",
       " <keras.layers.core.activation.Activation at 0x7f3553a71640>,\n",
       " <keras.layers.core.dense.Dense at 0x7f3553a71940>]"
      ]
     },
     "execution_count": 25,
     "metadata": {},
     "output_type": "execute_result"
    }
   ],
   "source": [
    "model.layers"
   ]
  },
  {
   "cell_type": "code",
   "execution_count": 26,
   "metadata": {},
   "outputs": [
    {
     "name": "stderr",
     "output_type": "stream",
     "text": [
      "/tmp/ipykernel_148780/2940326780.py:1: VisibleDeprecationWarning: Creating an ndarray from ragged nested sequences (which is a list-or-tuple of lists-or-tuples-or ndarrays with different lengths or shapes) is deprecated. If you meant to do this, you must specify 'dtype=object' when creating the ndarray.\n",
      "  max(np.array(model.layers[1].get_weights()).flatten()[0].flatten())\n"
     ]
    },
    {
     "data": {
      "text/plain": [
       "7.640102"
      ]
     },
     "execution_count": 26,
     "metadata": {},
     "output_type": "execute_result"
    }
   ],
   "source": [
    "max(np.array(model.layers[1].get_weights()).flatten()[0].flatten())"
   ]
  },
  {
   "cell_type": "code",
   "execution_count": 27,
   "metadata": {},
   "outputs": [
    {
     "name": "stderr",
     "output_type": "stream",
     "text": [
      "/tmp/ipykernel_148780/3000422521.py:1: VisibleDeprecationWarning: Creating an ndarray from ragged nested sequences (which is a list-or-tuple of lists-or-tuples-or ndarrays with different lengths or shapes) is deprecated. If you meant to do this, you must specify 'dtype=object' when creating the ndarray.\n",
      "  max(np.array(model.layers[3].get_weights()).flatten()[0].flatten())\n"
     ]
    },
    {
     "data": {
      "text/plain": [
       "24.989897"
      ]
     },
     "execution_count": 27,
     "metadata": {},
     "output_type": "execute_result"
    }
   ],
   "source": [
    "max(np.array(model.layers[3].get_weights()).flatten()[0].flatten())"
   ]
  },
  {
   "cell_type": "code",
   "execution_count": null,
   "metadata": {},
   "outputs": [],
   "source": []
  }
 ],
 "metadata": {
  "kernelspec": {
   "display_name": "Python 3 (ipykernel)",
   "language": "python",
   "name": "py3-preamble"
  },
  "language_info": {
   "codemirror_mode": {
    "name": "ipython",
    "version": 3
   },
   "file_extension": ".py",
   "mimetype": "text/x-python",
   "name": "python",
   "nbconvert_exporter": "python",
   "pygments_lexer": "ipython3",
   "version": "3.9.13"
  }
 },
 "nbformat": 4,
 "nbformat_minor": 4
}
