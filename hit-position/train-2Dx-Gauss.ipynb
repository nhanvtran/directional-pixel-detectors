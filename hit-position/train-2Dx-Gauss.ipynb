{
 "cells": [
  {
   "cell_type": "code",
   "execution_count": 1,
   "metadata": {},
   "outputs": [
    {
     "name": "stderr",
     "output_type": "stream",
     "text": [
      "2022-10-20 10:53:27.536770: W tensorflow/stream_executor/platform/default/dso_loader.cc:64] Could not load dynamic library 'libcudart.so.11.0'; dlerror: libcudart.so.11.0: cannot open shared object file: No such file or directory; LD_LIBRARY_PATH: /cvmfs/sft.cern.ch/lcg/releases/MCGenerators/thepeg/2.2.1-8d929/x86_64-centos7-gcc8-opt/lib/ThePEG:/cvmfs/sft.cern.ch/lcg/releases/MCGenerators/herwig++/7.2.1-f3599/x86_64-centos7-gcc8-opt/lib/Herwig:/cvmfs/sft.cern.ch/lcg/views/LCG_101/x86_64-centos7-gcc8-opt/lib/python3.9/site-packages/torch/lib:/cvmfs/sft.cern.ch/lcg/views/LCG_101/x86_64-centos7-gcc8-opt/lib/python3.9/site-packages/tensorflow:/cvmfs/sft.cern.ch/lcg/views/LCG_101/x86_64-centos7-gcc8-opt/lib/python3.9/site-packages/tensorflow/contrib/tensor_forest:/cvmfs/sft.cern.ch/lcg/views/LCG_101/x86_64-centos7-gcc8-opt/lib/python3.9/site-packages/tensorflow/python/framework:/cvmfs/sft.cern.ch/lcg/releases/java/8u222-884d8/x86_64-centos7-gcc8-opt/jre/lib/amd64:/cvmfs/sft.cern.ch/lcg/views/LCG_101/x86_64-centos7-gcc8-opt/lib64:/cvmfs/sft.cern.ch/lcg/views/LCG_101/x86_64-centos7-gcc8-opt/lib:/cvmfs/sft.cern.ch/lcg/releases/gcc/8.3.0-cebb0/x86_64-centos7/lib:/cvmfs/sft.cern.ch/lcg/releases/gcc/8.3.0-cebb0/x86_64-centos7/lib64:/cvmfs/sft.cern.ch/lcg/releases/binutils/2.30-e5b21/x86_64-centos7/lib:/cvmfs/sft.cern.ch/lcg/releases/R/3.6.3-dfb24/x86_64-centos7-gcc8-opt/lib64/R/library/readr/rcon\n",
      "2022-10-20 10:53:27.536802: I tensorflow/stream_executor/cuda/cudart_stub.cc:29] Ignore above cudart dlerror if you do not have a GPU set up on your machine.\n"
     ]
    }
   ],
   "source": [
    "from sklearn.metrics import mean_squared_error\n",
    "from sklearn.preprocessing import StandardScaler\n",
    "import tensorflow as tf\n",
    "from tensorflow.keras import datasets, layers, models\n",
    "from keras.models import Sequential\n",
    "from keras.layers import Dense, Dropout, Flatten\n",
    "from keras.callbacks import EarlyStopping\n",
    "import matplotlib.pyplot as plt\n",
    "import numpy as np\n",
    "import pandas as pd\n",
    "import math"
   ]
  },
  {
   "cell_type": "code",
   "execution_count": 2,
   "metadata": {},
   "outputs": [],
   "source": [
    "train_df = pd.read_csv('train_2Dx.csv',nrows=100000)\n",
    "test_df = pd.read_csv('test_2Dx.csv',nrows=5000)"
   ]
  },
  {
   "cell_type": "code",
   "execution_count": 3,
   "metadata": {},
   "outputs": [],
   "source": [
    "X_train = train_df.drop(columns=['x-midplane']).values\n",
    "X_test = test_df.drop(columns=['x-midplane']).values\n",
    "\n",
    "y_train = train_df['x-midplane'].values\n",
    "y_test = test_df['x-midplane'].values"
   ]
  },
  {
   "cell_type": "code",
   "execution_count": 4,
   "metadata": {},
   "outputs": [],
   "source": [
    "scaler = StandardScaler()\n",
    "X_train = scaler.fit_transform(X_train.reshape(-1, X_train.shape[-1])).reshape(X_train.shape)\n",
    "X_test = scaler.fit_transform(X_test.reshape(-1, X_test.shape[-1])).reshape(X_test.shape)"
   ]
  },
  {
   "cell_type": "code",
   "execution_count": 5,
   "metadata": {},
   "outputs": [
    {
     "name": "stdout",
     "output_type": "stream",
     "text": [
      "Model: \"sequential\"\n",
      "_________________________________________________________________\n",
      "Layer (type)                 Output Shape              Param #   \n",
      "=================================================================\n",
      "dense (Dense)                (None, 32)                5408      \n",
      "_________________________________________________________________\n",
      "dense_1 (Dense)              (None, 2)                 66        \n",
      "=================================================================\n",
      "Total params: 5,474\n",
      "Trainable params: 5,474\n",
      "Non-trainable params: 0\n",
      "_________________________________________________________________\n"
     ]
    },
    {
     "name": "stderr",
     "output_type": "stream",
     "text": [
      "2022-10-20 10:53:46.902435: W tensorflow/stream_executor/platform/default/dso_loader.cc:64] Could not load dynamic library 'libcuda.so.1'; dlerror: libcuda.so.1: cannot open shared object file: No such file or directory; LD_LIBRARY_PATH: /cvmfs/sft.cern.ch/lcg/releases/MCGenerators/thepeg/2.2.1-8d929/x86_64-centos7-gcc8-opt/lib/ThePEG:/cvmfs/sft.cern.ch/lcg/releases/MCGenerators/herwig++/7.2.1-f3599/x86_64-centos7-gcc8-opt/lib/Herwig:/cvmfs/sft.cern.ch/lcg/views/LCG_101/x86_64-centos7-gcc8-opt/lib/python3.9/site-packages/torch/lib:/cvmfs/sft.cern.ch/lcg/views/LCG_101/x86_64-centos7-gcc8-opt/lib/python3.9/site-packages/tensorflow:/cvmfs/sft.cern.ch/lcg/views/LCG_101/x86_64-centos7-gcc8-opt/lib/python3.9/site-packages/tensorflow/contrib/tensor_forest:/cvmfs/sft.cern.ch/lcg/views/LCG_101/x86_64-centos7-gcc8-opt/lib/python3.9/site-packages/tensorflow/python/framework:/cvmfs/sft.cern.ch/lcg/releases/java/8u222-884d8/x86_64-centos7-gcc8-opt/jre/lib/amd64:/cvmfs/sft.cern.ch/lcg/views/LCG_101/x86_64-centos7-gcc8-opt/lib64:/cvmfs/sft.cern.ch/lcg/views/LCG_101/x86_64-centos7-gcc8-opt/lib:/cvmfs/sft.cern.ch/lcg/releases/gcc/8.3.0-cebb0/x86_64-centos7/lib:/cvmfs/sft.cern.ch/lcg/releases/gcc/8.3.0-cebb0/x86_64-centos7/lib64:/cvmfs/sft.cern.ch/lcg/releases/binutils/2.30-e5b21/x86_64-centos7/lib:/cvmfs/sft.cern.ch/lcg/releases/R/3.6.3-dfb24/x86_64-centos7-gcc8-opt/lib64/R/library/readr/rcon\n",
      "2022-10-20 10:53:46.908896: W tensorflow/stream_executor/cuda/cuda_driver.cc:326] failed call to cuInit: UNKNOWN ERROR (303)\n",
      "2022-10-20 10:53:46.908928: I tensorflow/stream_executor/cuda/cuda_diagnostics.cc:156] kernel driver does not appear to be running on this host (cmslpc159.fnal.gov): /proc/driver/nvidia/version does not exist\n",
      "2022-10-20 10:53:46.914492: I tensorflow/core/platform/cpu_feature_guard.cc:142] This TensorFlow binary is optimized with oneAPI Deep Neural Network Library (oneDNN) to use the following CPU instructions in performance-critical operations:  AVX2 FMA\n",
      "To enable them in other operations, rebuild TensorFlow with the appropriate compiler flags.\n"
     ]
    }
   ],
   "source": [
    "model = Sequential()\n",
    "model.add(Dense(32, input_shape=(168,), activation='relu')) # Add an input shape! (features,)\n",
    "model.add(Dense(2, activation='linear'))\n",
    "model.summary() "
   ]
  },
  {
   "cell_type": "code",
   "execution_count": 6,
   "metadata": {},
   "outputs": [],
   "source": [
    "def custom_loss(y, p):\n",
    "    \n",
    "    maxval = 1e6\n",
    "    minval = 1e-9\n",
    "    pi = 3.14159265359\n",
    "    \n",
    "    mu = tf.gather(params=p, indices=[0], axis=1)\n",
    "    sigma = tf.clip_by_value(tf.gather(params=p, indices=[1], axis=1),minval,maxval)\n",
    "        \n",
    "    term = tf.clip_by_value(1.0/tf.math.sqrt(2*pi)/sigma*tf.math.exp(-1*(y-mu)*(y-mu)/(2*sigma*sigma)),minval,maxval)\n",
    "    NLL = tf.clip_by_value(-1*tf.math.log(term),minval,maxval)\n",
    "    \n",
    "    return tf.keras.backend.sum(NLL,axis=1)"
   ]
  },
  {
   "cell_type": "code",
   "execution_count": 7,
   "metadata": {},
   "outputs": [],
   "source": [
    "model.compile(optimizer='Adam', \n",
    "              loss=custom_loss)"
   ]
  },
  {
   "cell_type": "code",
   "execution_count": 8,
   "metadata": {},
   "outputs": [
    {
     "name": "stderr",
     "output_type": "stream",
     "text": [
      "2022-10-20 10:53:47.159471: W tensorflow/core/framework/cpu_allocator_impl.cc:80] Allocation of 53760000 exceeds 10% of free system memory.\n",
      "2022-10-20 10:53:47.313980: I tensorflow/compiler/mlir/mlir_graph_optimization_pass.cc:176] None of the MLIR Optimization Passes are enabled (registered 2)\n",
      "2022-10-20 10:53:47.333370: I tensorflow/core/platform/profile_utils/cpu_utils.cc:114] CPU Frequency: 2894560000 Hz\n"
     ]
    },
    {
     "name": "stdout",
     "output_type": "stream",
     "text": [
      "Epoch 1/80\n",
      "WARNING:tensorflow:From /cvmfs/sft.cern.ch/lcg/views/LCG_101/x86_64-centos7-gcc8-opt/lib/python3.9/site-packages/tensorflow/python/ops/array_ops.py:5043: calling gather (from tensorflow.python.ops.array_ops) with validate_indices is deprecated and will be removed in a future version.\n",
      "Instructions for updating:\n",
      "The `validate_indices` argument has no effect. Indices are always validated on CPU and never validated on GPU.\n",
      "1250/1250 [==============================] - 3s 1ms/step - loss: 7.4930 - val_loss: 4.4014\n",
      "Epoch 2/80\n",
      "1250/1250 [==============================] - 1s 1ms/step - loss: 4.0825 - val_loss: 3.8429\n",
      "Epoch 3/80\n",
      "1250/1250 [==============================] - 1s 979us/step - loss: 3.6743 - val_loss: 3.5657\n",
      "Epoch 4/80\n",
      "1250/1250 [==============================] - 1s 1ms/step - loss: 3.4852 - val_loss: 3.4470\n",
      "Epoch 5/80\n",
      "1250/1250 [==============================] - 1s 1ms/step - loss: 3.3931 - val_loss: 3.3812\n",
      "Epoch 6/80\n",
      "1250/1250 [==============================] - 1s 1ms/step - loss: 3.3353 - val_loss: 3.3341\n",
      "Epoch 7/80\n",
      "1250/1250 [==============================] - 1s 1ms/step - loss: 3.2925 - val_loss: 3.2970\n",
      "Epoch 8/80\n",
      "1250/1250 [==============================] - 1s 1ms/step - loss: 3.2600 - val_loss: 3.2714\n",
      "Epoch 9/80\n",
      "1250/1250 [==============================] - 1s 1ms/step - loss: 3.2366 - val_loss: 3.2461\n",
      "Epoch 10/80\n",
      "1250/1250 [==============================] - 1s 1ms/step - loss: 3.2175 - val_loss: 3.2258\n",
      "Epoch 11/80\n",
      "1250/1250 [==============================] - 1s 1ms/step - loss: 3.2014 - val_loss: 3.2086\n",
      "Epoch 12/80\n",
      "1250/1250 [==============================] - 1s 1ms/step - loss: 3.1859 - val_loss: 3.2064\n",
      "Epoch 13/80\n",
      "1250/1250 [==============================] - 1s 1ms/step - loss: 3.1737 - val_loss: 3.2051\n",
      "Epoch 14/80\n",
      "1250/1250 [==============================] - 1s 1ms/step - loss: 3.1623 - val_loss: 3.1829\n",
      "Epoch 15/80\n",
      "1250/1250 [==============================] - 1s 1ms/step - loss: 3.1508 - val_loss: 3.1661\n",
      "Epoch 16/80\n",
      "1250/1250 [==============================] - 1s 994us/step - loss: 3.1414 - val_loss: 3.2017\n",
      "Epoch 17/80\n",
      "1250/1250 [==============================] - 1s 956us/step - loss: 3.1336 - val_loss: 3.1497\n",
      "Epoch 18/80\n",
      "1250/1250 [==============================] - 1s 997us/step - loss: 3.1255 - val_loss: 3.1537\n",
      "Epoch 19/80\n",
      "1250/1250 [==============================] - 1s 1ms/step - loss: 3.1189 - val_loss: 3.1375\n",
      "Epoch 20/80\n",
      "1250/1250 [==============================] - 1s 1ms/step - loss: 3.1128 - val_loss: 3.1295\n",
      "Epoch 21/80\n",
      "1250/1250 [==============================] - 1s 1ms/step - loss: 3.1055 - val_loss: 3.1238\n",
      "Epoch 22/80\n",
      "1250/1250 [==============================] - 1s 1ms/step - loss: 3.1004 - val_loss: 3.1231\n",
      "Epoch 23/80\n",
      "1250/1250 [==============================] - 1s 1ms/step - loss: 3.0942 - val_loss: 3.1226\n",
      "Epoch 24/80\n",
      "1250/1250 [==============================] - 1s 1ms/step - loss: 3.0880 - val_loss: 3.1074\n",
      "Epoch 25/80\n",
      "1250/1250 [==============================] - 1s 1ms/step - loss: 3.0814 - val_loss: 3.1142\n",
      "Epoch 26/80\n",
      "1250/1250 [==============================] - 1s 967us/step - loss: 3.0758 - val_loss: 3.1001\n",
      "Epoch 27/80\n",
      "1250/1250 [==============================] - 1s 980us/step - loss: 3.0730 - val_loss: 3.1016\n",
      "Epoch 28/80\n",
      "1250/1250 [==============================] - 1s 970us/step - loss: 3.0663 - val_loss: 3.1014\n",
      "Epoch 29/80\n",
      "1250/1250 [==============================] - 1s 969us/step - loss: 3.0623 - val_loss: 3.0922\n",
      "Epoch 30/80\n",
      "1250/1250 [==============================] - 1s 996us/step - loss: 3.0582 - val_loss: 3.0972\n",
      "Epoch 31/80\n",
      "1250/1250 [==============================] - 1s 990us/step - loss: 3.0541 - val_loss: 3.0767\n",
      "Epoch 32/80\n",
      "1250/1250 [==============================] - 1s 979us/step - loss: 3.0496 - val_loss: 3.0693\n",
      "Epoch 33/80\n",
      "1250/1250 [==============================] - 1s 961us/step - loss: 3.0468 - val_loss: 3.0719\n",
      "Epoch 34/80\n",
      "1250/1250 [==============================] - 1s 979us/step - loss: 3.0427 - val_loss: 3.0715\n",
      "Epoch 35/80\n",
      "1250/1250 [==============================] - 1s 974us/step - loss: 3.0392 - val_loss: 3.0634\n",
      "Epoch 36/80\n",
      "1250/1250 [==============================] - 1s 974us/step - loss: 3.0355 - val_loss: 3.0569\n",
      "Epoch 37/80\n",
      "1250/1250 [==============================] - 1s 1ms/step - loss: 3.0321 - val_loss: 3.0610\n",
      "Epoch 38/80\n",
      "1250/1250 [==============================] - 1s 984us/step - loss: 3.0296 - val_loss: 3.0511\n",
      "Epoch 39/80\n",
      "1250/1250 [==============================] - 1s 978us/step - loss: 3.0264 - val_loss: 3.0450\n",
      "Epoch 40/80\n",
      "1250/1250 [==============================] - 1s 981us/step - loss: 3.0230 - val_loss: 3.0402\n",
      "Epoch 41/80\n",
      "1250/1250 [==============================] - 1s 966us/step - loss: 3.0216 - val_loss: 3.0558\n",
      "Epoch 42/80\n",
      "1250/1250 [==============================] - 1s 996us/step - loss: 3.0198 - val_loss: 3.0382\n",
      "Epoch 43/80\n",
      "1250/1250 [==============================] - 1s 1000us/step - loss: 3.0158 - val_loss: 3.0350\n",
      "Epoch 44/80\n",
      "1250/1250 [==============================] - 1s 959us/step - loss: 3.0130 - val_loss: 3.0320\n",
      "Epoch 45/80\n",
      "1250/1250 [==============================] - 1s 999us/step - loss: 3.0111 - val_loss: 3.0449\n",
      "Epoch 46/80\n",
      "1250/1250 [==============================] - 1s 967us/step - loss: 3.0097 - val_loss: 3.0297\n",
      "Epoch 47/80\n",
      "1250/1250 [==============================] - 1s 1ms/step - loss: 3.0060 - val_loss: 3.0374\n",
      "Epoch 48/80\n",
      "1250/1250 [==============================] - 1s 1ms/step - loss: 3.0040 - val_loss: 3.0252\n",
      "Epoch 49/80\n",
      "1250/1250 [==============================] - 1s 989us/step - loss: 3.0026 - val_loss: 3.0271\n",
      "Epoch 50/80\n",
      "1250/1250 [==============================] - 1s 1ms/step - loss: 3.0010 - val_loss: 3.0266\n",
      "Epoch 51/80\n",
      "1250/1250 [==============================] - 1s 991us/step - loss: 2.9968 - val_loss: 3.0446\n",
      "Epoch 52/80\n",
      "1250/1250 [==============================] - 1s 1ms/step - loss: 2.9963 - val_loss: 3.0203\n",
      "Epoch 53/80\n",
      "1250/1250 [==============================] - 1s 1ms/step - loss: 2.9937 - val_loss: 3.0134\n",
      "Epoch 54/80\n",
      "1250/1250 [==============================] - 1s 1ms/step - loss: 2.9913 - val_loss: 3.0238\n",
      "Epoch 55/80\n",
      "1250/1250 [==============================] - 1s 999us/step - loss: 2.9904 - val_loss: 3.0141\n",
      "Epoch 56/80\n",
      "1250/1250 [==============================] - 1s 1ms/step - loss: 2.9884 - val_loss: 3.0408\n",
      "Epoch 57/80\n",
      "1250/1250 [==============================] - 1s 1ms/step - loss: 2.9855 - val_loss: 3.0250\n",
      "Epoch 58/80\n",
      "1250/1250 [==============================] - 1s 971us/step - loss: 2.9843 - val_loss: 3.0061\n",
      "Epoch 59/80\n",
      "1250/1250 [==============================] - 1s 1ms/step - loss: 2.9823 - val_loss: 3.0144\n",
      "Epoch 60/80\n",
      "1250/1250 [==============================] - 1s 1ms/step - loss: 2.9798 - val_loss: 3.0081\n",
      "Epoch 61/80\n",
      "1250/1250 [==============================] - 1s 1ms/step - loss: 2.9793 - val_loss: 3.0046\n",
      "Epoch 62/80\n",
      "1250/1250 [==============================] - 1s 986us/step - loss: 2.9782 - val_loss: 2.9982\n",
      "Epoch 63/80\n",
      "1250/1250 [==============================] - 1s 985us/step - loss: 2.9753 - val_loss: 3.0045\n",
      "Epoch 64/80\n",
      "1250/1250 [==============================] - 1s 969us/step - loss: 2.9762 - val_loss: 2.9986\n",
      "Epoch 65/80\n",
      "1250/1250 [==============================] - 1s 952us/step - loss: 2.9719 - val_loss: 3.0027\n",
      "Epoch 66/80\n",
      "1250/1250 [==============================] - 1s 961us/step - loss: 2.9698 - val_loss: 2.9988\n",
      "Epoch 67/80\n",
      "1250/1250 [==============================] - 1s 952us/step - loss: 2.9698 - val_loss: 3.0047\n"
     ]
    }
   ],
   "source": [
    "es = EarlyStopping(patience=5)\n",
    "\n",
    "history = model.fit(X_train,\n",
    "                    y_train,\n",
    "                    callbacks=[es],\n",
    "                    epochs=80, \n",
    "                    batch_size=64,\n",
    "                    validation_split=0.2,\n",
    "                    shuffle=True,\n",
    "                    verbose=1)"
   ]
  },
  {
   "cell_type": "code",
   "execution_count": 9,
   "metadata": {},
   "outputs": [
    {
     "data": {
      "text/plain": [
       "<matplotlib.legend.Legend at 0x7fc1f87a21f0>"
      ]
     },
     "execution_count": 9,
     "metadata": {},
     "output_type": "execute_result"
    },
    {
     "data": {
      "image/png": "[encoded data removed]",
      "text/plain": [
       "<Figure size 432x288 with 1 Axes>"
      ]
     },
     "metadata": {
      "needs_background": "light"
     },
     "output_type": "display_data"
    }
   ],
   "source": [
    "history_dict = history.history\n",
    "loss_values = history_dict['loss'] \n",
    "val_loss_values = history_dict['val_loss'] \n",
    "epochs = range(1, len(loss_values) + 1) \n",
    "plt.plot(epochs, loss_values, 'bo', label='Training loss')\n",
    "plt.plot(epochs, val_loss_values, 'orange', label='Validation loss')\n",
    "plt.title('Training and validation loss')\n",
    "plt.xlabel('Epochs')\n",
    "plt.ylabel('Loss')\n",
    "plt.yscale('Log')\n",
    "plt.legend()\n",
    "#plt.savefig('/home/jieun201/fullprecision400e_yprofile/loss.png')"
   ]
  },
  {
   "cell_type": "code",
   "execution_count": 10,
   "metadata": {},
   "outputs": [],
   "source": [
    "model.save('models_2Dx/gausstest.keras')"
   ]
  },
  {
   "cell_type": "code",
   "execution_count": 11,
   "metadata": {},
   "outputs": [],
   "source": [
    "p_test = model.predict(X_test)\n",
    "np.savetxt(\"test_2DxGaus.csv\", p_test, delimiter=\",\")"
   ]
  },
  {
   "cell_type": "code",
   "execution_count": 20,
   "metadata": {},
   "outputs": [
    {
     "name": "stdout",
     "output_type": "stream",
     "text": [
      "1.3650875357429892 10.545521369548577\n"
     ]
    }
   ],
   "source": [
    "residuals = y_test - p_test[:,0]\n",
    "print(np.mean(residuals),np.std(residuals))"
   ]
  },
  {
   "cell_type": "code",
   "execution_count": null,
   "metadata": {},
   "outputs": [],
   "source": [
    "uncertainty= p_test[:,1]\n",
    "print(np.mean(uncertainty),np.std(uncertainty))"
   ]
  },
  {
   "cell_type": "code",
   "execution_count": 19,
   "metadata": {},
   "outputs": [
    {
     "data": {
      "image/png": "[encoded data removed]",
      "text/plain": [
       "<Figure size 432x288 with 1 Axes>"
      ]
     },
     "metadata": {
      "needs_background": "light"
     },
     "output_type": "display_data"
    },
    {
     "data": {
      "image/png": "[encoded data removed]",
      "text/plain": [
       "<Figure size 432x288 with 1 Axes>"
      ]
     },
     "metadata": {
      "needs_background": "light"
     },
     "output_type": "display_data"
    }
   ],
   "source": [
    "plt.hist(residuals,bins=np.linspace(-50,50,50))\n",
    "#plt.yscale('Log')\n",
    "plt.xlabel(r'$x-\\mu_x$ [um]')\n",
    "plt.xlim(-50,50)\n",
    "plt.show()\n",
    "\n",
    "plt.hist(uncertainty,bins=np.linspace(0,25,50));\n",
    "#plt.yscale('Log')\n",
    "plt.xlabel(r'$\\sigma_x$ [um]')\n",
    "plt.show()"
   ]
  },
  {
   "cell_type": "code",
   "execution_count": 14,
   "metadata": {},
   "outputs": [
    {
     "name": "stdout",
     "output_type": "stream",
     "text": [
      "0.25096188160366595 1.0809123505052174\n"
     ]
    }
   ],
   "source": [
    "pulls = residuals/p_test[:,1]\n",
    "print(np.mean(pulls),np.std(pulls))"
   ]
  },
  {
   "cell_type": "code",
   "execution_count": 15,
   "metadata": {},
   "outputs": [
    {
     "data": {
      "text/plain": [
       "Text(0.5, 0, 'pull')"
      ]
     },
     "execution_count": 15,
     "metadata": {},
     "output_type": "execute_result"
    },
    {
     "data": {
      "image/png": "[encoded data removed]",
      "text/plain": [
       "<Figure size 432x288 with 1 Axes>"
      ]
     },
     "metadata": {
      "needs_background": "light"
     },
     "output_type": "display_data"
    }
   ],
   "source": [
    "plt.hist(pulls,bins=50);\n",
    "plt.xlabel('pull')"
   ]
  },
  {
   "cell_type": "code",
   "execution_count": 29,
   "metadata": {},
   "outputs": [
    {
     "data": {
      "text/html": [
       "<div>\n",
       "<style scoped>\n",
       "    .dataframe tbody tr th:only-of-type {\n",
       "        vertical-align: middle;\n",
       "    }\n",
       "\n",
       "    .dataframe tbody tr th {\n",
       "        vertical-align: top;\n",
       "    }\n",
       "\n",
       "    .dataframe thead th {\n",
       "        text-align: right;\n",
       "    }\n",
       "</style>\n",
       "<table border=\"1\" class=\"dataframe\">\n",
       "  <thead>\n",
       "    <tr style=\"text-align: right;\">\n",
       "      <th></th>\n",
       "      <th>mu</th>\n",
       "      <th>sigma</th>\n",
       "      <th>xtrue</th>\n",
       "    </tr>\n",
       "  </thead>\n",
       "  <tbody>\n",
       "    <tr>\n",
       "      <th>0</th>\n",
       "      <td>14.907436</td>\n",
       "      <td>15.446582</td>\n",
       "      <td>42.208390</td>\n",
       "    </tr>\n",
       "    <tr>\n",
       "      <th>1</th>\n",
       "      <td>18.606249</td>\n",
       "      <td>5.295032</td>\n",
       "      <td>17.997472</td>\n",
       "    </tr>\n",
       "    <tr>\n",
       "      <th>2</th>\n",
       "      <td>-25.734352</td>\n",
       "      <td>4.052320</td>\n",
       "      <td>-24.593676</td>\n",
       "    </tr>\n",
       "    <tr>\n",
       "      <th>3</th>\n",
       "      <td>53.499668</td>\n",
       "      <td>2.637384</td>\n",
       "      <td>51.074354</td>\n",
       "    </tr>\n",
       "    <tr>\n",
       "      <th>4</th>\n",
       "      <td>-47.963978</td>\n",
       "      <td>9.514785</td>\n",
       "      <td>-49.220710</td>\n",
       "    </tr>\n",
       "  </tbody>\n",
       "</table>\n",
       "</div>"
      ],
      "text/plain": [
       "          mu      sigma      xtrue\n",
       "0  14.907436  15.446582  42.208390\n",
       "1  18.606249   5.295032  17.997472\n",
       "2 -25.734352   4.052320 -24.593676\n",
       "3  53.499668   2.637384  51.074354\n",
       "4 -47.963978   9.514785 -49.220710"
      ]
     },
     "execution_count": 29,
     "metadata": {},
     "output_type": "execute_result"
    }
   ],
   "source": [
    "df_2d = pd.DataFrame(p_test,columns=['mu','sigma'])\n",
    "df_2d['xtrue'] = y_test\n",
    "df_2d.head()"
   ]
  },
  {
   "cell_type": "code",
   "execution_count": 32,
   "metadata": {},
   "outputs": [
    {
     "data": {
      "text/html": [
       "<div>\n",
       "<style scoped>\n",
       "    .dataframe tbody tr th:only-of-type {\n",
       "        vertical-align: middle;\n",
       "    }\n",
       "\n",
       "    .dataframe tbody tr th {\n",
       "        vertical-align: top;\n",
       "    }\n",
       "\n",
       "    .dataframe thead th {\n",
       "        text-align: right;\n",
       "    }\n",
       "</style>\n",
       "<table border=\"1\" class=\"dataframe\">\n",
       "  <thead>\n",
       "    <tr style=\"text-align: right;\">\n",
       "      <th></th>\n",
       "      <th>mu</th>\n",
       "      <th>sigma</th>\n",
       "      <th>xtrue</th>\n",
       "    </tr>\n",
       "  </thead>\n",
       "  <tbody>\n",
       "    <tr>\n",
       "      <th>0</th>\n",
       "      <td>26.349080</td>\n",
       "      <td>6.142230</td>\n",
       "      <td>35.970951</td>\n",
       "    </tr>\n",
       "    <tr>\n",
       "      <th>1</th>\n",
       "      <td>0.378971</td>\n",
       "      <td>5.937604</td>\n",
       "      <td>0.770363</td>\n",
       "    </tr>\n",
       "    <tr>\n",
       "      <th>2</th>\n",
       "      <td>-34.030136</td>\n",
       "      <td>6.684201</td>\n",
       "      <td>-37.471662</td>\n",
       "    </tr>\n",
       "    <tr>\n",
       "      <th>3</th>\n",
       "      <td>-21.850067</td>\n",
       "      <td>5.399169</td>\n",
       "      <td>-10.147963</td>\n",
       "    </tr>\n",
       "    <tr>\n",
       "      <th>4</th>\n",
       "      <td>-70.883240</td>\n",
       "      <td>4.519870</td>\n",
       "      <td>-73.204875</td>\n",
       "    </tr>\n",
       "  </tbody>\n",
       "</table>\n",
       "</div>"
      ],
      "text/plain": [
       "          mu     sigma      xtrue\n",
       "0  26.349080  6.142230  35.970951\n",
       "1   0.378971  5.937604   0.770363\n",
       "2 -34.030136  6.684201 -37.471662\n",
       "3 -21.850067  5.399169 -10.147963\n",
       "4 -70.883240  4.519870 -73.204875"
      ]
     },
     "execution_count": 32,
     "metadata": {},
     "output_type": "execute_result"
    }
   ],
   "source": [
    "df_1d = pd.read_csv('test_1DxGaus.csv',header=None,names=['mu','sigma','xtrue'])\n",
    "df_1d.head()"
   ]
  },
  {
   "cell_type": "code",
   "execution_count": 39,
   "metadata": {},
   "outputs": [
    {
     "data": {
      "text/plain": [
       "Text(0.5, 0, '$x-\\\\mu_x$ [um]')"
      ]
     },
     "execution_count": 39,
     "metadata": {},
     "output_type": "execute_result"
    },
    {
     "data": {
      "image/png": "[encoded data removed]",
      "text/plain": [
       "<Figure size 432x288 with 1 Axes>"
      ]
     },
     "metadata": {
      "needs_background": "light"
     },
     "output_type": "display_data"
    }
   ],
   "source": [
    "plt.hist(df_2d['xtrue'] - df_2d['mu'],histtype='step',bins=np.linspace(-50,50,50),label=r'with time');\n",
    "plt.hist(df_1d['xtrue'] - df_1d['mu'],histtype='step',bins=np.linspace(-50,50,50),label=r'without time');\n",
    "plt.legend(frameon=False)\n",
    "plt.xlabel(r'$x-\\mu_x$ [um]')"
   ]
  },
  {
   "cell_type": "code",
   "execution_count": 41,
   "metadata": {},
   "outputs": [
    {
     "data": {
      "text/plain": [
       "Text(0.5, 0, '$\\\\sigma_x$ [um]')"
      ]
     },
     "execution_count": 41,
     "metadata": {},
     "output_type": "execute_result"
    },
    {
     "data": {
      "image/png": "[encoded data removed]",
      "text/plain": [
       "<Figure size 432x288 with 1 Axes>"
      ]
     },
     "metadata": {
      "needs_background": "light"
     },
     "output_type": "display_data"
    }
   ],
   "source": [
    "plt.hist(df_2d['sigma'],histtype='step',bins=np.linspace(0,25,50),label=r'with time');\n",
    "plt.hist(df_1d['sigma'],histtype='step',bins=np.linspace(0,25,50),label=r'without time');\n",
    "plt.legend(frameon=False)\n",
    "plt.xlabel(r'$\\sigma_x$ [um]')"
   ]
  },
  {
   "cell_type": "code",
   "execution_count": 59,
   "metadata": {},
   "outputs": [
    {
     "data": {
      "text/plain": [
       "Text(0.5, 0, 'true x [um]')"
      ]
     },
     "execution_count": 59,
     "metadata": {},
     "output_type": "execute_result"
    },
    {
     "data": {
      "image/png": "[encoded data removed]",
      "text/plain": [
       "<Figure size 432x288 with 1 Axes>"
      ]
     },
     "metadata": {
      "needs_background": "light"
     },
     "output_type": "display_data"
    }
   ],
   "source": [
    "plt.hist([df_2d[df_2d['sigma']<7]['xtrue'],df_2d[df_2d['sigma']>7]['xtrue']],bins=np.linspace(-75,75,25),stacked=True,label=['$\\sigma_x<7$','$\\sigma_x>7$']);\n",
    "plt.ylim(0,300)\n",
    "plt.legend(frameon=False)\n",
    "plt.xlabel('true x [um]')"
   ]
  },
  {
   "cell_type": "code",
   "execution_count": 75,
   "metadata": {},
   "outputs": [
    {
     "data": {
      "text/plain": [
       "Text(0, 0.5, '$\\\\sigma_x$ [um]')"
      ]
     },
     "execution_count": 75,
     "metadata": {},
     "output_type": "execute_result"
    },
    {
     "data": {
      "image/png": "[encoded data removed]",
      "text/plain": [
       "<Figure size 432x288 with 1 Axes>"
      ]
     },
     "metadata": {
      "needs_background": "light"
     },
     "output_type": "display_data"
    }
   ],
   "source": [
    "plt.hist2d(df_2d['xtrue'],df_2d['sigma'],bins=[np.linspace(-75,75,25),np.linspace(0,25,25)]);\n",
    "#plt.plot([0,0],[0,25],color='orange')\n",
    "plt.plot([-75,-75],[0,25],color='orange')\n",
    "#plt.plot([-50,-50],[0,25],color='orange',linestyle='--')\n",
    "plt.plot([-25,-25],[0,25],color='orange')\n",
    "plt.plot([25,25],[0,25],color='orange')\n",
    "#plt.plot([50,50],[0,25],color='orange',linestyle='--')\n",
    "plt.plot([75,75],[0,25],color='orange')\n",
    "plt.xlabel('true x [um]')\n",
    "plt.ylabel(r'$\\sigma_x$ [um]')"
   ]
  },
  {
   "cell_type": "code",
   "execution_count": null,
   "metadata": {},
   "outputs": [],
   "source": []
  }
 ],
 "metadata": {
  "kernelspec": {
   "display_name": "Python 3 (ipykernel)",
   "language": "python",
   "name": "python3"
  },
  "language_info": {
   "codemirror_mode": {
    "name": "ipython",
    "version": 3
   },
   "file_extension": ".py",
   "mimetype": "text/x-python",
   "name": "python",
   "nbconvert_exporter": "python",
   "pygments_lexer": "ipython3",
   "version": "3.9.6"
  }
 },
 "nbformat": 4,
 "nbformat_minor": 2
}
