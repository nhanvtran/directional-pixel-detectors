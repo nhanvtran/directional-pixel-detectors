{
 "cells": [
  {
   "cell_type": "code",
   "execution_count": 1,
   "metadata": {},
   "outputs": [
    {
     "name": "stderr",
     "output_type": "stream",
     "text": [
      "2022-10-18 15:29:19.696279: W tensorflow/stream_executor/platform/default/dso_loader.cc:64] Could not load dynamic library 'libcudart.so.11.0'; dlerror: libcudart.so.11.0: cannot open shared object file: No such file or directory; LD_LIBRARY_PATH: /cvmfs/sft.cern.ch/lcg/releases/MCGenerators/thepeg/2.2.1-8d929/x86_64-centos7-gcc8-opt/lib/ThePEG:/cvmfs/sft.cern.ch/lcg/releases/MCGenerators/herwig++/7.2.1-f3599/x86_64-centos7-gcc8-opt/lib/Herwig:/cvmfs/sft.cern.ch/lcg/views/LCG_101/x86_64-centos7-gcc8-opt/lib/python3.9/site-packages/torch/lib:/cvmfs/sft.cern.ch/lcg/views/LCG_101/x86_64-centos7-gcc8-opt/lib/python3.9/site-packages/tensorflow:/cvmfs/sft.cern.ch/lcg/views/LCG_101/x86_64-centos7-gcc8-opt/lib/python3.9/site-packages/tensorflow/contrib/tensor_forest:/cvmfs/sft.cern.ch/lcg/views/LCG_101/x86_64-centos7-gcc8-opt/lib/python3.9/site-packages/tensorflow/python/framework:/cvmfs/sft.cern.ch/lcg/releases/java/8u222-884d8/x86_64-centos7-gcc8-opt/jre/lib/amd64:/cvmfs/sft.cern.ch/lcg/views/LCG_101/x86_64-centos7-gcc8-opt/lib64:/cvmfs/sft.cern.ch/lcg/views/LCG_101/x86_64-centos7-gcc8-opt/lib:/cvmfs/sft.cern.ch/lcg/releases/gcc/8.3.0-cebb0/x86_64-centos7/lib:/cvmfs/sft.cern.ch/lcg/releases/gcc/8.3.0-cebb0/x86_64-centos7/lib64:/cvmfs/sft.cern.ch/lcg/releases/binutils/2.30-e5b21/x86_64-centos7/lib:/cvmfs/sft.cern.ch/lcg/releases/R/3.6.3-dfb24/x86_64-centos7-gcc8-opt/lib64/R/library/readr/rcon\n",
      "2022-10-18 15:29:19.696350: I tensorflow/stream_executor/cuda/cudart_stub.cc:29] Ignore above cudart dlerror if you do not have a GPU set up on your machine.\n"
     ]
    }
   ],
   "source": [
    "from sklearn.preprocessing import StandardScaler\n",
    "import tensorflow as tf\n",
    "from keras.callbacks import EarlyStopping\n",
    "from keras.layers import Dense \n",
    "from keras.models import Sequential\n",
    "from keras.optimizers import SGD\n",
    "import matplotlib.pyplot as plt\n",
    "import numpy as np\n",
    "import pandas as pd\n",
    "import math"
   ]
  },
  {
   "cell_type": "code",
   "execution_count": 2,
   "metadata": {},
   "outputs": [],
   "source": [
    "train_df = pd.read_csv('train_1Dy.csv',nrows=500000)\n",
    "test_df = pd.read_csv('test_1Dy.csv',nrows=5000)"
   ]
  },
  {
   "cell_type": "code",
   "execution_count": 3,
   "metadata": {},
   "outputs": [],
   "source": [
    "X_train = train_df.drop(columns=['y-midplane','cotBeta']).values\n",
    "X_test = test_df.drop(columns=['y-midplane','cotBeta']).values\n",
    "\n",
    "y_train = train_df['y-midplane'].values\n",
    "y_test = test_df['y-midplane'].values"
   ]
  },
  {
   "cell_type": "code",
   "execution_count": 4,
   "metadata": {},
   "outputs": [],
   "source": [
    "scaler = StandardScaler()\n",
    "X_train = scaler.fit_transform(X_train.reshape(-1, X_train.shape[-1])).reshape(X_train.shape)\n",
    "X_test = scaler.fit_transform(X_test.reshape(-1, X_test.shape[-1])).reshape(X_test.shape)"
   ]
  },
  {
   "cell_type": "code",
   "execution_count": 5,
   "metadata": {},
   "outputs": [
    {
     "name": "stdout",
     "output_type": "stream",
     "text": [
      "Model: \"sequential\"\n",
      "_________________________________________________________________\n",
      "Layer (type)                 Output Shape              Param #   \n",
      "=================================================================\n",
      "dense (Dense)                (None, 48)                672       \n",
      "_________________________________________________________________\n",
      "dense_1 (Dense)              (None, 4)                 196       \n",
      "=================================================================\n",
      "Total params: 868\n",
      "Trainable params: 868\n",
      "Non-trainable params: 0\n",
      "_________________________________________________________________\n"
     ]
    },
    {
     "name": "stderr",
     "output_type": "stream",
     "text": [
      "2022-10-18 15:29:26.889588: W tensorflow/stream_executor/platform/default/dso_loader.cc:64] Could not load dynamic library 'libcuda.so.1'; dlerror: libcuda.so.1: cannot open shared object file: No such file or directory; LD_LIBRARY_PATH: /cvmfs/sft.cern.ch/lcg/releases/MCGenerators/thepeg/2.2.1-8d929/x86_64-centos7-gcc8-opt/lib/ThePEG:/cvmfs/sft.cern.ch/lcg/releases/MCGenerators/herwig++/7.2.1-f3599/x86_64-centos7-gcc8-opt/lib/Herwig:/cvmfs/sft.cern.ch/lcg/views/LCG_101/x86_64-centos7-gcc8-opt/lib/python3.9/site-packages/torch/lib:/cvmfs/sft.cern.ch/lcg/views/LCG_101/x86_64-centos7-gcc8-opt/lib/python3.9/site-packages/tensorflow:/cvmfs/sft.cern.ch/lcg/views/LCG_101/x86_64-centos7-gcc8-opt/lib/python3.9/site-packages/tensorflow/contrib/tensor_forest:/cvmfs/sft.cern.ch/lcg/views/LCG_101/x86_64-centos7-gcc8-opt/lib/python3.9/site-packages/tensorflow/python/framework:/cvmfs/sft.cern.ch/lcg/releases/java/8u222-884d8/x86_64-centos7-gcc8-opt/jre/lib/amd64:/cvmfs/sft.cern.ch/lcg/views/LCG_101/x86_64-centos7-gcc8-opt/lib64:/cvmfs/sft.cern.ch/lcg/views/LCG_101/x86_64-centos7-gcc8-opt/lib:/cvmfs/sft.cern.ch/lcg/releases/gcc/8.3.0-cebb0/x86_64-centos7/lib:/cvmfs/sft.cern.ch/lcg/releases/gcc/8.3.0-cebb0/x86_64-centos7/lib64:/cvmfs/sft.cern.ch/lcg/releases/binutils/2.30-e5b21/x86_64-centos7/lib:/cvmfs/sft.cern.ch/lcg/releases/R/3.6.3-dfb24/x86_64-centos7-gcc8-opt/lib64/R/library/readr/rcon\n",
      "2022-10-18 15:29:26.889643: W tensorflow/stream_executor/cuda/cuda_driver.cc:326] failed call to cuInit: UNKNOWN ERROR (303)\n",
      "2022-10-18 15:29:26.889714: I tensorflow/stream_executor/cuda/cuda_diagnostics.cc:156] kernel driver does not appear to be running on this host (cmslpc160.fnal.gov): /proc/driver/nvidia/version does not exist\n",
      "2022-10-18 15:29:26.890533: I tensorflow/core/platform/cpu_feature_guard.cc:142] This TensorFlow binary is optimized with oneAPI Deep Neural Network Library (oneDNN) to use the following CPU instructions in performance-critical operations:  AVX2 FMA\n",
      "To enable them in other operations, rebuild TensorFlow with the appropriate compiler flags.\n"
     ]
    }
   ],
   "source": [
    "maxval = 1e9\n",
    "minval = 1e-9\n",
    "\n",
    "pi = 3.14159265359\n",
    "sqrtPiOn2 = 1.25331413732\n",
    "sqrt2 = 1.41421356237\n",
    "\n",
    "def double_crystalball_norm(mu, sigma, alphaL, nL, alphaR, nR):\n",
    "    LN_top = tf.math.exp(-0.5*alphaL*alphaL)*nL\n",
    "    LN_bottom = tf.maximum(alphaL*(nL-1),minval)\n",
    "\n",
    "    RN_top = tf.math.exp(-0.5*alphaR*alphaR)*nR\n",
    "    RN_bottom = tf.maximum(alphaR*(nR-1),minval)\n",
    "\n",
    "    CN = sqrtPiOn2 * (tf.math.erf(alphaL/sqrt2) + tf.math.erf(alphaR/sqrt2))\n",
    "    \n",
    "    den = sigma*(LN_top/LN_bottom + RN_top/RN_bottom + CN)\n",
    "\n",
    "    return tf.clip_by_value(1./den,minval,maxval)\n",
    "\n",
    "def dcsb(y, p):\n",
    "       \n",
    "    mu     = tf.gather(params=p, indices=[0], axis=1)\n",
    "    sigma  = tf.maximum(tf.gather(params=p, indices=[1], axis=1),minval)\n",
    "    alphaR = tf.maximum(tf.gather(params=p, indices=[2], axis=1),minval)\n",
    "    alphaL = tf.maximum(tf.gather(params=p, indices=[3], axis=1),minval)\n",
    "    nR     = 2#tf.maximum(tf.gather(params=p, indices=[4], axis=1),minval)\n",
    "    nL     = 2#tf.maximum(tf.gather(params=p, indices=[5], axis=1),minval)\n",
    "    \n",
    "    t = 1.0*(y-mu)/sigma\n",
    "    RL = 1.0*nL/alphaL\n",
    "    RR = 1.0*nR/alphaR\n",
    "    \n",
    "    norm = double_crystalball_norm(mu, sigma, alphaL, nL, alphaR, nR)\n",
    "    \n",
    "    term1Left  = tf.maximum((1/RL)*(RL - alphaL - t),minval)\n",
    "    normLeft   = tf.math.exp(-0.5*alphaL*alphaL)\n",
    "    term1Right = tf.maximum((1/RR)*(RR - alphaR + t),minval)\n",
    "    normRight  = tf.math.exp(-0.5*alphaR*alphaR)\n",
    "    \n",
    "    # pow function cares if you ask it to do 0 to a negative power\n",
    "    termLeft  = norm*normLeft*tf.math.pow(term1Left,-1*nL)\n",
    "    termRight = norm*normRight*tf.math.pow(term1Right,-1*nR)\n",
    "    termMiddle = tf.math.exp(-0.5*t*t)\n",
    "    \n",
    "    termLeft   = tf.math.multiply_no_nan(termLeft, tf.cast(t<-1*alphaL,tf.float32))\n",
    "    termRight  = tf.math.multiply_no_nan(termRight, tf.cast(t>alphaR,tf.float32))\n",
    "    termMiddle = tf.math.multiply_no_nan(termMiddle, tf.cast(t>=-1*alphaL,tf.float32)*tf.cast(t<=alphaR,tf.float32))\n",
    "    \n",
    "    \n",
    "    inside = tf.clip_by_value(norm*(termLeft+termMiddle+termRight),minval,1)\n",
    "    \n",
    "    NLL = -1.0*tf.math.log(inside)\n",
    "    \n",
    "    return tf.keras.backend.sum(NLL,axis=1)\n",
    "\n",
    "model = Sequential()\n",
    "model.add(Dense(48, input_shape=(13,), activation='relu')) # Add an input shape! (features,)\n",
    "model.add(Dense(4, activation='linear'))\n",
    "model.summary() \n",
    "\n",
    "model.compile(optimizer='Adam', \n",
    "              loss=dcsb)"
   ]
  },
  {
   "cell_type": "code",
   "execution_count": 6,
   "metadata": {},
   "outputs": [
    {
     "name": "stderr",
     "output_type": "stream",
     "text": [
      "2022-10-18 15:29:27.089589: I tensorflow/compiler/mlir/mlir_graph_optimization_pass.cc:176] None of the MLIR Optimization Passes are enabled (registered 2)\n",
      "2022-10-18 15:29:27.091819: I tensorflow/core/platform/profile_utils/cpu_utils.cc:114] CPU Frequency: 2000000000 Hz\n"
     ]
    },
    {
     "name": "stdout",
     "output_type": "stream",
     "text": [
      "Epoch 1/80\n",
      "WARNING:tensorflow:From /cvmfs/sft.cern.ch/lcg/views/LCG_101/x86_64-centos7-gcc8-opt/lib/python3.9/site-packages/tensorflow/python/ops/array_ops.py:5043: calling gather (from tensorflow.python.ops.array_ops) with validate_indices is deprecated and will be removed in a future version.\n",
      "Instructions for updating:\n",
      "The `validate_indices` argument has no effect. Indices are always validated on CPU and never validated on GPU.\n",
      "6250/6250 [==============================] - 14s 2ms/step - loss: 3.0016 - val_loss: 2.4589\n",
      "Epoch 2/80\n",
      "6250/6250 [==============================] - 11s 2ms/step - loss: 2.0887 - val_loss: 1.9658\n",
      "Epoch 3/80\n",
      "6250/6250 [==============================] - 11s 2ms/step - loss: 1.8285 - val_loss: 1.7206\n",
      "Epoch 4/80\n",
      "6250/6250 [==============================] - 11s 2ms/step - loss: 1.6646 - val_loss: 1.5671\n",
      "Epoch 5/80\n",
      "6250/6250 [==============================] - 11s 2ms/step - loss: 1.5648 - val_loss: 1.5035\n",
      "Epoch 6/80\n",
      "6250/6250 [==============================] - 10s 2ms/step - loss: 1.5284 - val_loss: 1.4593\n",
      "Epoch 7/80\n",
      "6250/6250 [==============================] - 11s 2ms/step - loss: 1.4507 - val_loss: 1.4058\n",
      "Epoch 8/80\n",
      "6250/6250 [==============================] - 11s 2ms/step - loss: 1.4285 - val_loss: 1.3966\n",
      "Epoch 9/80\n",
      "6250/6250 [==============================] - 11s 2ms/step - loss: 1.4478 - val_loss: 1.4860\n",
      "Epoch 10/80\n",
      "6250/6250 [==============================] - 11s 2ms/step - loss: 1.3999 - val_loss: 1.3557\n",
      "Epoch 11/80\n",
      "6250/6250 [==============================] - 11s 2ms/step - loss: 1.3698 - val_loss: 1.3647\n",
      "Epoch 12/80\n",
      "6250/6250 [==============================] - 10s 2ms/step - loss: 1.3506 - val_loss: 1.3497\n",
      "Epoch 13/80\n",
      "6250/6250 [==============================] - 11s 2ms/step - loss: 1.3632 - val_loss: 1.3345\n",
      "Epoch 14/80\n",
      "6250/6250 [==============================] - 10s 2ms/step - loss: 1.3350 - val_loss: 1.3301\n",
      "Epoch 15/80\n",
      "6250/6250 [==============================] - 11s 2ms/step - loss: 1.3843 - val_loss: 1.3365\n",
      "Epoch 16/80\n",
      "6250/6250 [==============================] - 10s 2ms/step - loss: 1.3201 - val_loss: 1.3016\n",
      "Epoch 17/80\n",
      "6250/6250 [==============================] - 11s 2ms/step - loss: 1.3185 - val_loss: 1.2817\n",
      "Epoch 18/80\n",
      "6250/6250 [==============================] - 11s 2ms/step - loss: 1.3272 - val_loss: 1.3459\n",
      "Epoch 19/80\n",
      "6250/6250 [==============================] - 10s 2ms/step - loss: 1.3330 - val_loss: 1.2940\n",
      "Epoch 20/80\n",
      "6250/6250 [==============================] - 10s 2ms/step - loss: 1.3118 - val_loss: 1.3164\n",
      "Epoch 21/80\n",
      "6250/6250 [==============================] - 10s 2ms/step - loss: 1.3110 - val_loss: 1.3369\n",
      "Epoch 22/80\n",
      "6250/6250 [==============================] - 10s 2ms/step - loss: 1.3143 - val_loss: 1.2734\n",
      "Epoch 23/80\n",
      "6250/6250 [==============================] - 10s 2ms/step - loss: 1.2973 - val_loss: 1.2877\n",
      "Epoch 24/80\n",
      "6250/6250 [==============================] - 10s 2ms/step - loss: 1.2956 - val_loss: 1.2820\n",
      "Epoch 25/80\n",
      "6250/6250 [==============================] - 10s 2ms/step - loss: 1.3222 - val_loss: 1.2987\n",
      "Epoch 26/80\n",
      "6250/6250 [==============================] - 10s 2ms/step - loss: 1.3098 - val_loss: 1.5740\n",
      "Epoch 27/80\n",
      "6250/6250 [==============================] - 10s 2ms/step - loss: 1.3355 - val_loss: 1.2915\n"
     ]
    }
   ],
   "source": [
    "es = EarlyStopping(patience=5)\n",
    "\n",
    "history = model.fit(X_train,\n",
    "                    y_train,\n",
    "                    callbacks=[es],\n",
    "                    epochs=80, \n",
    "                    batch_size=64,\n",
    "                    validation_split=0.2,\n",
    "                    shuffle=True,\n",
    "                    verbose=1)"
   ]
  },
  {
   "cell_type": "code",
   "execution_count": 7,
   "metadata": {},
   "outputs": [
    {
     "data": {
      "text/plain": [
       "<matplotlib.legend.Legend at 0x7f3e3c6e2100>"
      ]
     },
     "execution_count": 7,
     "metadata": {},
     "output_type": "execute_result"
    },
    {
     "data": {
      "image/png": "[encoded data removed]",
      "text/plain": [
       "<Figure size 432x288 with 1 Axes>"
      ]
     },
     "metadata": {
      "needs_background": "light"
     },
     "output_type": "display_data"
    }
   ],
   "source": [
    "history_dict = history.history\n",
    "loss_values = history_dict['loss'] \n",
    "val_loss_values = history_dict['val_loss'] \n",
    "epochs = range(1, len(loss_values) + 1) \n",
    "plt.plot(epochs, loss_values, 'bo', label='Training loss')\n",
    "plt.plot(epochs, val_loss_values, 'orange', label='Validation loss')\n",
    "plt.title('Training and validation loss')\n",
    "plt.xlabel('Epochs')\n",
    "plt.ylabel('Loss')\n",
    "plt.yscale('Log')\n",
    "plt.legend()\n",
    "#plt.savefig('/home/jieun201/fullprecision400e_yprofile/loss.png')"
   ]
  },
  {
   "cell_type": "code",
   "execution_count": 8,
   "metadata": {},
   "outputs": [],
   "source": [
    "#model.save('models_1Dy/gausstest.keras')"
   ]
  },
  {
   "cell_type": "code",
   "execution_count": 9,
   "metadata": {},
   "outputs": [],
   "source": [
    "p_test = model.predict(X_test)\n",
    "np.savetxt(\"test_1DyDCSB.csv\", p_test, delimiter=\",\")"
   ]
  },
  {
   "cell_type": "code",
   "execution_count": 10,
   "metadata": {},
   "outputs": [],
   "source": [
    "residuals = y_test - p_test[:,0]"
   ]
  },
  {
   "cell_type": "code",
   "execution_count": 11,
   "metadata": {},
   "outputs": [
    {
     "data": {
      "image/png": "[encoded data removed]",
      "text/plain": [
       "<Figure size 432x288 with 1 Axes>"
      ]
     },
     "metadata": {
      "needs_background": "light"
     },
     "output_type": "display_data"
    },
    {
     "data": {
      "image/png": "[encoded data removed]",
      "text/plain": [
       "<Figure size 432x288 with 1 Axes>"
      ]
     },
     "metadata": {
      "needs_background": "light"
     },
     "output_type": "display_data"
    },
    {
     "data": {
      "image/png": "[encoded data removed]",
      "text/plain": [
       "<Figure size 432x288 with 1 Axes>"
      ]
     },
     "metadata": {
      "needs_background": "light"
     },
     "output_type": "display_data"
    },
    {
     "data": {
      "image/png": "[encoded data removed]",
      "text/plain": [
       "<Figure size 432x288 with 1 Axes>"
      ]
     },
     "metadata": {
      "needs_background": "light"
     },
     "output_type": "display_data"
    },
    {
     "ename": "IndexError",
     "evalue": "index 4 is out of bounds for axis 1 with size 4",
     "output_type": "error",
     "traceback": [
      "\u001b[0;31m---------------------------------------------------------------------------\u001b[0m",
      "\u001b[0;31mIndexError\u001b[0m                                Traceback (most recent call last)",
      "\u001b[0;32m/tmp/ipykernel_24023/2624488484.py\u001b[0m in \u001b[0;36m<module>\u001b[0;34m\u001b[0m\n\u001b[1;32m     15\u001b[0m \u001b[0mplt\u001b[0m\u001b[0;34m.\u001b[0m\u001b[0mshow\u001b[0m\u001b[0;34m(\u001b[0m\u001b[0;34m)\u001b[0m\u001b[0;34m\u001b[0m\u001b[0;34m\u001b[0m\u001b[0m\n\u001b[1;32m     16\u001b[0m \u001b[0;34m\u001b[0m\u001b[0m\n\u001b[0;32m---> 17\u001b[0;31m \u001b[0mplt\u001b[0m\u001b[0;34m.\u001b[0m\u001b[0mhist\u001b[0m\u001b[0;34m(\u001b[0m\u001b[0mabs\u001b[0m\u001b[0;34m(\u001b[0m\u001b[0mp_test\u001b[0m\u001b[0;34m[\u001b[0m\u001b[0;34m:\u001b[0m\u001b[0;34m,\u001b[0m\u001b[0;36m4\u001b[0m\u001b[0;34m]\u001b[0m\u001b[0;34m)\u001b[0m\u001b[0;34m,\u001b[0m\u001b[0mbins\u001b[0m\u001b[0;34m=\u001b[0m\u001b[0;36m50\u001b[0m\u001b[0;34m)\u001b[0m\u001b[0;34m;\u001b[0m\u001b[0;34m\u001b[0m\u001b[0;34m\u001b[0m\u001b[0m\n\u001b[0m\u001b[1;32m     18\u001b[0m \u001b[0mplt\u001b[0m\u001b[0;34m.\u001b[0m\u001b[0mxlabel\u001b[0m\u001b[0;34m(\u001b[0m\u001b[0;34mr'$n_R$'\u001b[0m\u001b[0;34m)\u001b[0m\u001b[0;34m\u001b[0m\u001b[0;34m\u001b[0m\u001b[0m\n\u001b[1;32m     19\u001b[0m \u001b[0mplt\u001b[0m\u001b[0;34m.\u001b[0m\u001b[0mshow\u001b[0m\u001b[0;34m(\u001b[0m\u001b[0;34m)\u001b[0m\u001b[0;34m\u001b[0m\u001b[0;34m\u001b[0m\u001b[0m\n",
      "\u001b[0;31mIndexError\u001b[0m: index 4 is out of bounds for axis 1 with size 4"
     ]
    }
   ],
   "source": [
    "plt.hist(residuals,bins=50)\n",
    "plt.xlabel(r'$y-\\mu_y$ [um]')\n",
    "plt.show()\n",
    "\n",
    "plt.hist(p_test[:,1],bins=50);\n",
    "plt.xlabel(r'$\\sigma_y$ [um]')\n",
    "plt.show()\n",
    "\n",
    "plt.hist(abs(p_test[:,2]),bins=50);\n",
    "plt.xlabel(r'$\\alpha_R$')\n",
    "plt.show()\n",
    "\n",
    "plt.hist(abs(p_test[:,3]),bins=50);\n",
    "plt.xlabel(r'$\\alpha_L$')\n",
    "plt.show()\n",
    "\n",
    "plt.hist(abs(p_test[:,4]),bins=50);\n",
    "plt.xlabel(r'$n_R$')\n",
    "plt.show()\n",
    "\n",
    "plt.hist(abs(p_test[:,5]),bins=50);\n",
    "plt.xlabel(r'$n_L$')\n",
    "plt.show()"
   ]
  },
  {
   "cell_type": "code",
   "execution_count": 12,
   "metadata": {},
   "outputs": [
    {
     "data": {
      "text/plain": [
       "Text(0, 0.5, 'Predicted $y$ [um]')"
      ]
     },
     "execution_count": 12,
     "metadata": {},
     "output_type": "execute_result"
    },
    {
     "data": {
      "image/png": "[encoded data removed]",
      "text/plain": [
       "<Figure size 432x288 with 1 Axes>"
      ]
     },
     "metadata": {
      "needs_background": "light"
     },
     "output_type": "display_data"
    }
   ],
   "source": [
    "plt.errorbar(x=y_test,y=p_test[:,0],yerr=p_test[:,1],linestyle='',marker='.',markerfacecolor='black')\n",
    "plt.xlabel(r'$y$ [um]')\n",
    "plt.ylabel(r'Predicted $y$ [um]')"
   ]
  },
  {
   "cell_type": "code",
   "execution_count": 13,
   "metadata": {},
   "outputs": [
    {
     "data": {
      "text/plain": [
       "Text(0, 0.5, '$\\\\sigma_y$ [um]')"
      ]
     },
     "execution_count": 13,
     "metadata": {},
     "output_type": "execute_result"
    },
    {
     "data": {
      "image/png": "[encoded data removed]",
      "text/plain": [
       "<Figure size 432x288 with 1 Axes>"
      ]
     },
     "metadata": {
      "needs_background": "light"
     },
     "output_type": "display_data"
    }
   ],
   "source": [
    "plt.scatter(y_test,p_test[:,1])\n",
    "plt.xlabel(r'$y$ [um]')\n",
    "plt.ylabel(r'$\\sigma_y$ [um]')"
   ]
  },
  {
   "cell_type": "code",
   "execution_count": 14,
   "metadata": {},
   "outputs": [],
   "source": [
    "pulls = residuals/p_test[:,1]"
   ]
  },
  {
   "cell_type": "code",
   "execution_count": 15,
   "metadata": {},
   "outputs": [
    {
     "data": {
      "text/plain": [
       "Text(0.5, 0, 'pull')"
      ]
     },
     "execution_count": 15,
     "metadata": {},
     "output_type": "execute_result"
    },
    {
     "data": {
      "image/png": "[encoded data removed]",
      "text/plain": [
       "<Figure size 432x288 with 1 Axes>"
      ]
     },
     "metadata": {
      "needs_background": "light"
     },
     "output_type": "display_data"
    }
   ],
   "source": [
    "plt.hist(pulls,bins=50);\n",
    "plt.xlabel('pull')"
   ]
  },
  {
   "cell_type": "code",
   "execution_count": 16,
   "metadata": {},
   "outputs": [
    {
     "name": "stdout",
     "output_type": "stream",
     "text": [
      "0.017921371126085092 0.5090315661038509\n"
     ]
    }
   ],
   "source": [
    "print(np.mean(pulls),np.std(pulls))"
   ]
  },
  {
   "cell_type": "code",
   "execution_count": 17,
   "metadata": {},
   "outputs": [
    {
     "data": {
      "text/plain": [
       "array([  9.94908375,   5.11272419,  -4.56793761, ..., -18.29209068,\n",
       "        -7.53264584,  17.31724705])"
      ]
     },
     "execution_count": 17,
     "metadata": {},
     "output_type": "execute_result"
    }
   ],
   "source": [
    "y_train"
   ]
  },
  {
   "cell_type": "code",
   "execution_count": null,
   "metadata": {},
   "outputs": [],
   "source": [
    "tf.print(tf.math.pow(0.,-1))"
   ]
  },
  {
   "cell_type": "code",
   "execution_count": null,
   "metadata": {},
   "outputs": [],
   "source": []
  }
 ],
 "metadata": {
  "kernelspec": {
   "display_name": "Python 3 (ipykernel)",
   "language": "python",
   "name": "python3"
  },
  "language_info": {
   "codemirror_mode": {
    "name": "ipython",
    "version": 3
   },
   "file_extension": ".py",
   "mimetype": "text/x-python",
   "name": "python",
   "nbconvert_exporter": "python",
   "pygments_lexer": "ipython3",
   "version": "3.9.6"
  }
 },
 "nbformat": 4,
 "nbformat_minor": 2
}
