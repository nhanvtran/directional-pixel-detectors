{
 "cells": [
  {
   "cell_type": "code",
   "execution_count": 1,
   "metadata": {},
   "outputs": [
    {
     "name": "stderr",
     "output_type": "stream",
     "text": [
      "2023-02-07 21:35:41.611758: I tensorflow/core/platform/cpu_feature_guard.cc:193] This TensorFlow binary is optimized with oneAPI Deep Neural Network Library (oneDNN) to use the following CPU instructions in performance-critical operations:  AVX2 AVX512F AVX512_VNNI FMA\n",
      "To enable them in other operations, rebuild TensorFlow with the appropriate compiler flags.\n",
      "2023-02-07 21:35:42.062609: I tensorflow/core/util/port.cc:104] oneDNN custom operations are on. You may see slightly different numerical results due to floating-point round-off errors from different computation orders. To turn them off, set the environment variable `TF_ENABLE_ONEDNN_OPTS=0`.\n",
      "2023-02-07 21:35:42.074503: W tensorflow/compiler/xla/stream_executor/platform/default/dso_loader.cc:64] Could not load dynamic library 'libcudart.so.11.0'; dlerror: libcudart.so.11.0: cannot open shared object file: No such file or directory\n",
      "2023-02-07 21:35:42.074551: I tensorflow/compiler/xla/stream_executor/cuda/cudart_stub.cc:29] Ignore above cudart dlerror if you do not have a GPU set up on your machine.\n",
      "2023-02-07 21:35:49.169924: W tensorflow/compiler/xla/stream_executor/platform/default/dso_loader.cc:64] Could not load dynamic library 'libnvinfer.so.7'; dlerror: libnvinfer.so.7: cannot open shared object file: No such file or directory\n",
      "2023-02-07 21:35:49.170086: W tensorflow/compiler/xla/stream_executor/platform/default/dso_loader.cc:64] Could not load dynamic library 'libnvinfer_plugin.so.7'; dlerror: libnvinfer_plugin.so.7: cannot open shared object file: No such file or directory\n",
      "2023-02-07 21:35:49.170107: W tensorflow/compiler/tf2tensorrt/utils/py_utils.cc:38] TF-TRT Warning: Cannot dlopen some TensorRT libraries. If you would like to use Nvidia GPU with TensorRT, please make sure the missing libraries mentioned above are installed properly.\n"
     ]
    }
   ],
   "source": [
    "import glob\n",
    "import pandas as pd\n",
    "import numpy as np\n",
    "import math\n",
    "import tensorflow as tf\n",
    "import keras\n",
    "import random\n",
    "import matplotlib.pyplot as plt\n",
    "import datetime\n",
    "from typing import Union, List, Tuple\n",
    "import os\n",
    "import time\n",
    "from keras.models import Model\n",
    "from keras.layers import (BatchNormalization, Flatten, Input, Reshape, Dense, MaxPool2D,\n",
    "                          Conv1D, Concatenate, Activation)\n",
    "from tensorflow.keras.callbacks import EarlyStopping\n",
    "from tensorflow.keras.optimizers import Adam\n",
    "import tensorflow_probability as tfp\n",
    "\n",
    "pi = 3.14159265359\n",
    "maxval = 1e9\n",
    "minval = 1e-9"
   ]
  },
  {
   "cell_type": "code",
   "execution_count": 2,
   "metadata": {},
   "outputs": [],
   "source": [
    "train_df = pd.read_csv('train_1Dx.csv',nrows=100000)\n",
    "test_df = pd.read_csv('test_1Dx.csv',nrows=5000)"
   ]
  },
  {
   "cell_type": "code",
   "execution_count": 3,
   "metadata": {
    "tags": []
   },
   "outputs": [],
   "source": [
    "def inverse_cot(cota):\n",
    "    return np.array([math.fmod(math.atan(1/x)/pi+1,1) for x in cota])"
   ]
  },
  {
   "cell_type": "code",
   "execution_count": 4,
   "metadata": {},
   "outputs": [],
   "source": [
    "X_train = train_df.drop(columns=['x-midplane','cotAlpha']).values\n",
    "X_test = test_df.drop(columns=['x-midplane','cotAlpha']).values\n",
    "\n",
    "y_train = inverse_cot(train_df['cotAlpha'].values)\n",
    "y_test = inverse_cot(test_df['cotAlpha'].values)"
   ]
  },
  {
   "cell_type": "code",
   "execution_count": 5,
   "metadata": {},
   "outputs": [],
   "source": [
    "X_train = X_train.reshape(-1, X_train.shape[-1])\n",
    "X_test = X_test.reshape(-1, X_test.shape[-1])"
   ]
  },
  {
   "cell_type": "code",
   "execution_count": 6,
   "metadata": {},
   "outputs": [
    {
     "data": {
      "text/plain": [
       "(array([1042.,  499.,  378.,  317.,  313.,  282.,  328.,  385.,  503.,\n",
       "         953.]),\n",
       " array([0.03967564, 0.13173516, 0.22379468, 0.3158542 , 0.40791373,\n",
       "        0.49997325, 0.59203277, 0.68409229, 0.77615181, 0.86821134,\n",
       "        0.96027086]),\n",
       " <BarContainer object of 10 artists>)"
      ]
     },
     "execution_count": 6,
     "metadata": {},
     "output_type": "execute_result"
    },
    {
     "data": {
      "image/png": "[encoded data removed]",
      "text/plain": [
       "<Figure size 640x480 with 1 Axes>"
      ]
     },
     "metadata": {},
     "output_type": "display_data"
    }
   ],
   "source": [
    "plt.hist(y_test)"
   ]
  },
  {
   "cell_type": "code",
   "execution_count": 7,
   "metadata": {
    "tags": []
   },
   "outputs": [
    {
     "name": "stderr",
     "output_type": "stream",
     "text": [
      "2023-02-07 21:36:04.046607: W tensorflow/compiler/xla/stream_executor/platform/default/dso_loader.cc:64] Could not load dynamic library 'libcuda.so.1'; dlerror: libcuda.so.1: cannot open shared object file: No such file or directory\n",
      "2023-02-07 21:36:04.046685: W tensorflow/compiler/xla/stream_executor/cuda/cuda_driver.cc:265] failed call to cuInit: UNKNOWN ERROR (303)\n",
      "2023-02-07 21:36:04.046724: I tensorflow/compiler/xla/stream_executor/cuda/cuda_diagnostics.cc:156] kernel driver does not appear to be running on this host (jupyter-jennetd): /proc/driver/nvidia/version does not exist\n",
      "2023-02-07 21:36:04.047595: I tensorflow/core/platform/cpu_feature_guard.cc:193] This TensorFlow binary is optimized with oneAPI Deep Neural Network Library (oneDNN) to use the following CPU instructions in performance-critical operations:  AVX2 AVX512F AVX512_VNNI FMA\n",
      "To enable them in other operations, rebuild TensorFlow with the appropriate compiler flags.\n"
     ]
    },
    {
     "data": {
      "text/plain": [
       "<matplotlib.collections.PathCollection at 0x7f95effe08b0>"
      ]
     },
     "execution_count": 7,
     "metadata": {},
     "output_type": "execute_result"
    },
    {
     "data": {
      "image/png": "[encoded data removed]",
      "text/plain": [
       "<Figure size 640x480 with 1 Axes>"
      ]
     },
     "metadata": {},
     "output_type": "display_data"
    }
   ],
   "source": [
    "dist = tfp.distributions.Beta(concentration1 = 2,\n",
    "                              concentration0 = 5)\n",
    "    \n",
    "xpoints = np.linspace(0,1,100)\n",
    "plt.scatter(xpoints,dist.prob(xpoints)) "
   ]
  },
  {
   "cell_type": "code",
   "execution_count": 8,
   "metadata": {},
   "outputs": [],
   "source": [
    "def beta_loss(y, p):\n",
    "    \n",
    "    alpha = minval+tf.math.softplus(tf.gather(params=p, indices=[0], axis=1))\n",
    "    beta = minval+tf.math.softplus(tf.gather(params=p, indices=[1], axis=1))\n",
    "    \n",
    "    dist = tfp.distributions.Beta(concentration1 = alpha,\n",
    "                                  concentration0 = beta)\n",
    "    \n",
    "    likelihood = dist.prob(y)  \n",
    "    likelihood = tf.clip_by_value(likelihood,minval,maxval)\n",
    "\n",
    "    NLL = -1*tf.math.log(likelihood)\n",
    "    return tf.keras.backend.sum(NLL,axis=1)    "
   ]
  },
  {
   "cell_type": "code",
   "execution_count": 9,
   "metadata": {},
   "outputs": [
    {
     "name": "stdout",
     "output_type": "stream",
     "text": [
      "Model: \"model\"\n",
      "_________________________________________________________________\n",
      " Layer (type)                Output Shape              Param #   \n",
      "=================================================================\n",
      " input_1 (InputLayer)        [(None, 21)]              0         \n",
      "                                                                 \n",
      " dense1 (Dense)              (None, 64)                1408      \n",
      "                                                                 \n",
      " relu1 (Activation)          (None, 64)                0         \n",
      "                                                                 \n",
      " dense2 (Dense)              (None, 2)                 130       \n",
      "                                                                 \n",
      "=================================================================\n",
      "Total params: 1,538\n",
      "Trainable params: 1,538\n",
      "Non-trainable params: 0\n",
      "_________________________________________________________________\n"
     ]
    }
   ],
   "source": [
    "def CreateModel(shape):\n",
    "    x = x_in = Input(shape)\n",
    "    x = Dense(64, name=\"dense1\")(x)\n",
    "    #x = BatchNormalization()(x)\n",
    "    x = Activation(\"relu\", name=\"relu1\")(x)\n",
    "    x = Dense(2, name=\"dense2\")(x)\n",
    "    model = Model(inputs=x_in, outputs=x)\n",
    "    return model\n",
    "\n",
    "model=CreateModel(X_train.shape[1:])\n",
    "\n",
    "model.compile(optimizer=Adam(),\n",
    "              loss=beta_loss)\n",
    "\n",
    "model.summary()"
   ]
  },
  {
   "cell_type": "code",
   "execution_count": 10,
   "metadata": {},
   "outputs": [
    {
     "name": "stdout",
     "output_type": "stream",
     "text": [
      "Epoch 1/80\n",
      "1250/1250 [==============================] - 6s 4ms/step - loss: 14.9326 - val_loss: 12.4587\n",
      "Epoch 2/80\n",
      "1250/1250 [==============================] - 4s 3ms/step - loss: 10.7175 - val_loss: 10.1476\n",
      "Epoch 3/80\n",
      "1250/1250 [==============================] - 4s 3ms/step - loss: 9.0330 - val_loss: 8.5023\n",
      "Epoch 4/80\n",
      "1250/1250 [==============================] - 3s 3ms/step - loss: 8.0836 - val_loss: 7.3269\n",
      "Epoch 5/80\n",
      "1250/1250 [==============================] - 3s 3ms/step - loss: 7.6128 - val_loss: 7.7015\n",
      "Epoch 6/80\n",
      "1250/1250 [==============================] - 4s 3ms/step - loss: 7.3385 - val_loss: 7.0105\n",
      "Epoch 7/80\n",
      "1250/1250 [==============================] - 4s 3ms/step - loss: 7.1134 - val_loss: 7.3183\n",
      "Epoch 8/80\n",
      "1250/1250 [==============================] - 4s 3ms/step - loss: 7.0528 - val_loss: 7.8241\n",
      "Epoch 9/80\n",
      "1250/1250 [==============================] - 5s 4ms/step - loss: 6.8463 - val_loss: 6.5154\n",
      "Epoch 10/80\n",
      "1250/1250 [==============================] - 4s 4ms/step - loss: 6.7913 - val_loss: 6.5587\n",
      "Epoch 11/80\n",
      "1250/1250 [==============================] - 4s 3ms/step - loss: 6.6346 - val_loss: 6.5177\n",
      "Epoch 12/80\n",
      "1250/1250 [==============================] - 4s 3ms/step - loss: 6.5967 - val_loss: 6.4898\n",
      "Epoch 13/80\n",
      "1250/1250 [==============================] - 4s 3ms/step - loss: 6.5222 - val_loss: 5.8238\n",
      "Epoch 14/80\n",
      "1250/1250 [==============================] - 4s 3ms/step - loss: 6.4215 - val_loss: 7.0456\n",
      "Epoch 15/80\n",
      "1250/1250 [==============================] - 4s 3ms/step - loss: 6.3648 - val_loss: 5.6422\n",
      "Epoch 16/80\n",
      "1250/1250 [==============================] - 4s 3ms/step - loss: 6.2874 - val_loss: 6.0770\n",
      "Epoch 17/80\n",
      "1250/1250 [==============================] - 4s 3ms/step - loss: 6.2133 - val_loss: 5.6477\n",
      "Epoch 18/80\n",
      "1250/1250 [==============================] - 4s 3ms/step - loss: 6.1182 - val_loss: 5.4666\n",
      "Epoch 19/80\n",
      "1250/1250 [==============================] - 5s 4ms/step - loss: 6.0276 - val_loss: 5.8137\n",
      "Epoch 20/80\n",
      "1250/1250 [==============================] - 4s 3ms/step - loss: 5.9077 - val_loss: 6.1243\n",
      "Epoch 21/80\n",
      "1250/1250 [==============================] - 4s 3ms/step - loss: 5.8100 - val_loss: 5.5222\n",
      "Epoch 22/80\n",
      "1250/1250 [==============================] - 4s 3ms/step - loss: 5.8160 - val_loss: 5.7424\n",
      "Epoch 23/80\n",
      "1250/1250 [==============================] - 4s 3ms/step - loss: 5.8052 - val_loss: 5.8964\n",
      "Epoch 24/80\n",
      "1250/1250 [==============================] - 4s 3ms/step - loss: 5.5862 - val_loss: 6.0333\n",
      "Epoch 25/80\n",
      "1250/1250 [==============================] - 4s 3ms/step - loss: 5.5208 - val_loss: 5.6599\n",
      "Epoch 26/80\n",
      "1250/1250 [==============================] - 4s 3ms/step - loss: 5.3276 - val_loss: 6.4622\n",
      "Epoch 27/80\n",
      "1250/1250 [==============================] - 4s 4ms/step - loss: 5.1912 - val_loss: 5.2233\n",
      "Epoch 28/80\n",
      "1250/1250 [==============================] - 4s 3ms/step - loss: 5.1010 - val_loss: 4.7018\n",
      "Epoch 29/80\n",
      "1250/1250 [==============================] - 4s 3ms/step - loss: 5.0746 - val_loss: 6.2543\n",
      "Epoch 30/80\n",
      "1250/1250 [==============================] - 4s 3ms/step - loss: 4.8247 - val_loss: 4.4141\n",
      "Epoch 31/80\n",
      "1250/1250 [==============================] - 4s 3ms/step - loss: 4.7368 - val_loss: 4.8297\n",
      "Epoch 32/80\n",
      "1250/1250 [==============================] - 4s 4ms/step - loss: 4.6390 - val_loss: 4.0822\n",
      "Epoch 33/80\n",
      "1250/1250 [==============================] - 4s 3ms/step - loss: 4.5232 - val_loss: 5.2359\n",
      "Epoch 34/80\n",
      "1250/1250 [==============================] - 4s 3ms/step - loss: 4.3040 - val_loss: 4.1880\n",
      "Epoch 35/80\n",
      "1250/1250 [==============================] - 4s 3ms/step - loss: 4.1675 - val_loss: 4.3498\n",
      "Epoch 36/80\n",
      "1250/1250 [==============================] - 4s 4ms/step - loss: 3.9218 - val_loss: 4.6712\n",
      "Epoch 37/80\n",
      "1250/1250 [==============================] - 4s 3ms/step - loss: 3.8949 - val_loss: 5.0196\n",
      "Epoch 38/80\n",
      "1250/1250 [==============================] - 4s 4ms/step - loss: 3.8258 - val_loss: 3.5508\n",
      "Epoch 39/80\n",
      "1250/1250 [==============================] - 4s 3ms/step - loss: 3.7103 - val_loss: 3.6232\n",
      "Epoch 40/80\n",
      "1250/1250 [==============================] - 4s 3ms/step - loss: 3.7128 - val_loss: 4.2433\n",
      "Epoch 41/80\n",
      "1250/1250 [==============================] - 4s 3ms/step - loss: 3.6865 - val_loss: 3.7176\n",
      "Epoch 42/80\n",
      "1250/1250 [==============================] - 4s 3ms/step - loss: 3.6478 - val_loss: 3.6782\n",
      "Epoch 43/80\n",
      "1250/1250 [==============================] - 5s 4ms/step - loss: 3.5825 - val_loss: 3.4255\n",
      "Epoch 44/80\n",
      "1250/1250 [==============================] - 4s 3ms/step - loss: 3.5247 - val_loss: 3.6944\n",
      "Epoch 45/80\n",
      "1250/1250 [==============================] - 4s 4ms/step - loss: 3.5494 - val_loss: 3.6357\n",
      "Epoch 46/80\n",
      "1250/1250 [==============================] - 4s 4ms/step - loss: 3.5127 - val_loss: 3.5329\n",
      "Epoch 47/80\n",
      "1250/1250 [==============================] - 4s 3ms/step - loss: 3.5339 - val_loss: 3.4318\n",
      "Epoch 48/80\n",
      "1250/1250 [==============================] - 4s 3ms/step - loss: 3.4701 - val_loss: 3.5424\n",
      "Epoch 49/80\n",
      "1250/1250 [==============================] - 4s 4ms/step - loss: 3.3894 - val_loss: 3.3860\n",
      "Epoch 50/80\n",
      "1250/1250 [==============================] - 4s 3ms/step - loss: 3.3648 - val_loss: 3.5556\n",
      "Epoch 51/80\n",
      "1250/1250 [==============================] - 4s 3ms/step - loss: 3.1548 - val_loss: 2.5398\n",
      "Epoch 52/80\n",
      "1250/1250 [==============================] - 4s 3ms/step - loss: 2.6730 - val_loss: 2.3097\n",
      "Epoch 53/80\n",
      "1250/1250 [==============================] - 5s 4ms/step - loss: 2.4883 - val_loss: 2.4871\n",
      "Epoch 54/80\n",
      "1250/1250 [==============================] - 4s 3ms/step - loss: 2.3509 - val_loss: 2.1641\n",
      "Epoch 55/80\n",
      "1250/1250 [==============================] - 4s 3ms/step - loss: 2.1808 - val_loss: 2.4216\n",
      "Epoch 56/80\n",
      "1250/1250 [==============================] - 4s 3ms/step - loss: 1.8676 - val_loss: 1.5394\n",
      "Epoch 57/80\n",
      "1250/1250 [==============================] - 4s 3ms/step - loss: 1.7185 - val_loss: 1.7705\n",
      "Epoch 58/80\n",
      "1250/1250 [==============================] - 4s 4ms/step - loss: 1.6939 - val_loss: 1.5667\n",
      "Epoch 59/80\n",
      "1250/1250 [==============================] - 4s 4ms/step - loss: 1.6618 - val_loss: 1.3955\n",
      "Epoch 60/80\n",
      "1250/1250 [==============================] - 4s 3ms/step - loss: 1.5185 - val_loss: 1.2705\n",
      "Epoch 61/80\n",
      "1250/1250 [==============================] - 4s 3ms/step - loss: 1.3874 - val_loss: 1.1915\n",
      "Epoch 62/80\n",
      "1250/1250 [==============================] - 4s 3ms/step - loss: 1.3899 - val_loss: 1.1543\n",
      "Epoch 63/80\n",
      "1250/1250 [==============================] - 4s 4ms/step - loss: 1.2528 - val_loss: 1.2802\n",
      "Epoch 64/80\n",
      "1250/1250 [==============================] - 4s 3ms/step - loss: 1.0935 - val_loss: 0.9358\n",
      "Epoch 65/80\n",
      "1250/1250 [==============================] - 4s 3ms/step - loss: 1.0625 - val_loss: 1.1671\n",
      "Epoch 66/80\n",
      "1250/1250 [==============================] - 4s 3ms/step - loss: 1.0724 - val_loss: 1.1450\n",
      "Epoch 67/80\n",
      "1250/1250 [==============================] - 5s 4ms/step - loss: 1.0465 - val_loss: 1.2411\n",
      "Epoch 68/80\n",
      "1250/1250 [==============================] - 4s 3ms/step - loss: 0.9926 - val_loss: 1.1926\n",
      "Epoch 69/80\n",
      "1250/1250 [==============================] - 4s 4ms/step - loss: 0.9257 - val_loss: 0.9271\n",
      "Epoch 70/80\n",
      "1250/1250 [==============================] - 4s 3ms/step - loss: 0.7900 - val_loss: 0.7487\n",
      "Epoch 71/80\n",
      "1250/1250 [==============================] - 4s 3ms/step - loss: 0.7510 - val_loss: 0.6108\n",
      "Epoch 72/80\n",
      "1250/1250 [==============================] - 4s 4ms/step - loss: 0.6606 - val_loss: 0.7289\n",
      "Epoch 73/80\n",
      "1250/1250 [==============================] - 4s 3ms/step - loss: 0.6175 - val_loss: 0.5800\n",
      "Epoch 74/80\n",
      "1250/1250 [==============================] - 4s 3ms/step - loss: 0.5305 - val_loss: 0.5046\n",
      "Epoch 75/80\n",
      "1250/1250 [==============================] - 4s 3ms/step - loss: 0.4956 - val_loss: 0.4890\n",
      "Epoch 76/80\n",
      "1250/1250 [==============================] - 4s 3ms/step - loss: 0.4801 - val_loss: 0.3844\n",
      "Epoch 77/80\n",
      "1250/1250 [==============================] - 4s 3ms/step - loss: 0.4010 - val_loss: 0.4226\n",
      "Epoch 78/80\n",
      "1250/1250 [==============================] - 4s 3ms/step - loss: 0.3542 - val_loss: 0.3101\n",
      "Epoch 79/80\n",
      "1250/1250 [==============================] - 4s 3ms/step - loss: 0.3070 - val_loss: 0.2765\n",
      "Epoch 80/80\n",
      "1250/1250 [==============================] - 4s 4ms/step - loss: 0.2624 - val_loss: 0.2453\n"
     ]
    }
   ],
   "source": [
    "es = EarlyStopping(patience=20,\n",
    "                  restore_best_weights=True)\n",
    "\n",
    "history = model.fit(X_train,\n",
    "                    y_train,\n",
    "                    callbacks=[es],\n",
    "                    epochs=80, \n",
    "                    batch_size=64,\n",
    "                    validation_split=0.2,\n",
    "                    shuffle=True,\n",
    "                    verbose=1)"
   ]
  },
  {
   "cell_type": "code",
   "execution_count": 11,
   "metadata": {},
   "outputs": [
    {
     "data": {
      "image/png": "[encoded data removed]",
      "text/plain": [
       "<Figure size 640x480 with 1 Axes>"
      ]
     },
     "metadata": {},
     "output_type": "display_data"
    }
   ],
   "source": [
    "history_dict = history.history\n",
    "loss_values = history_dict['loss'] \n",
    "val_loss_values = history_dict['val_loss'] \n",
    "epochs = range(1, len(loss_values) + 1) \n",
    "plt.plot(epochs, loss_values, 'bo', label='Training loss')\n",
    "plt.plot(epochs, val_loss_values, 'orange', label='Validation loss')\n",
    "plt.title('Training and validation loss')\n",
    "plt.xlabel('Epochs')\n",
    "plt.ylabel('Loss')\n",
    "#plt.yscale('Log')\n",
    "plt.legend()\n",
    "plt.show()"
   ]
  },
  {
   "cell_type": "code",
   "execution_count": 22,
   "metadata": {},
   "outputs": [
    {
     "name": "stdout",
     "output_type": "stream",
     "text": [
      "157/157 [==============================] - 0s 2ms/step\n"
     ]
    }
   ],
   "source": [
    "p_test = model.predict(X_test)\n",
    "df = pd.DataFrame(p_test,columns=['alpha1','beta1'])\n",
    "df['Atrue'] = y_test*pi\n",
    "df['cotAtrue'] = np.array([math.tan(a) for a in df['Atrue']])\n",
    "df['alpha'] = minval+tf.math.softplus(df['alpha1'])\n",
    "df['beta'] = minval+tf.math.softplus(df['beta1'])\n",
    "df['mean'] = df['alpha']/(df['alpha']+df['beta'])*pi\n",
    "df['mode'] = (df['alpha']-1)/(df['alpha']+df['beta']-2)*pi\n",
    "df['sigma'] = tf.math.sqrt(df['alpha']*df['beta']/((df['alpha']+df['beta'])*(df['alpha']+df['beta'])*(df['alpha']+df['beta']+1)))*pi\n",
    "\n",
    "#df.to_csv(\"test_1DcotAGauss.csv\",header=False,index=False)"
   ]
  },
  {
   "cell_type": "code",
   "execution_count": 23,
   "metadata": {},
   "outputs": [
    {
     "name": "stdout",
     "output_type": "stream",
     "text": [
      "-0.0747006081791371 6.646037226072891\n"
     ]
    }
   ],
   "source": [
    "residuals = df['Atrue'] - df['mode']\n",
    "print(np.mean(residuals),np.std(residuals))"
   ]
  },
  {
   "cell_type": "code",
   "execution_count": null,
   "metadata": {},
   "outputs": [
    {
     "name": "stderr",
     "output_type": "stream",
     "text": [
      "/tmp/ipykernel_29406/4041337543.py:2: MatplotlibDeprecationWarning: Support for case-insensitive scales is deprecated since 3.5 and support will be removed two minor releases later.\n",
      "  plt.yscale('Log')\n"
     ]
    },
    {
     "data": {
      "image/png": "[encoded data removed]",
      "text/plain": [
       "<Figure size 640x480 with 1 Axes>"
      ]
     },
     "metadata": {},
     "output_type": "display_data"
    },
    {
     "name": "stderr",
     "output_type": "stream",
     "text": [
      "/tmp/ipykernel_29406/4041337543.py:7: MatplotlibDeprecationWarning: Support for case-insensitive scales is deprecated since 3.5 and support will be removed two minor releases later.\n",
      "  plt.yscale('Log')\n"
     ]
    },
    {
     "data": {
      "image/png": "[encoded data removed]",
      "text/plain": [
       "<Figure size 640x480 with 1 Axes>"
      ]
     },
     "metadata": {},
     "output_type": "display_data"
    },
    {
     "name": "stderr",
     "output_type": "stream",
     "text": [
      "/tmp/ipykernel_29406/4041337543.py:12: MatplotlibDeprecationWarning: Support for case-insensitive scales is deprecated since 3.5 and support will be removed two minor releases later.\n",
      "  plt.yscale('Log')\n"
     ]
    },
    {
     "data": {
      "image/png": "[encoded data removed]",
      "text/plain": [
       "<Figure size 640x480 with 1 Axes>"
      ]
     },
     "metadata": {},
     "output_type": "display_data"
    }
   ],
   "source": [
    "plt.hist(residuals,bins=50)\n",
    "plt.yscale('Log')\n",
    "plt.xlabel(r'$\\alpha-\\mu$ [rad]')\n",
    "plt.show()\n",
    "\n",
    "plt.hist(df['sigma'],bins=50);\n",
    "plt.yscale('Log')\n",
    "plt.xlabel(r'$\\sigma$ [rad]')\n",
    "plt.show()\n",
    "\n",
    "plt.hist(df['alpha'],bins=50)\n",
    "plt.yscale('Log')\n",
    "plt.xlabel(r'$\\alpha$')\n",
    "plt.show()\n",
    "\n",
    "plt.hist(df['beta'],bins=50)\n",
    "plt.yscale('Log')\n",
    "plt.xlabel(r'$\\beta$')\n",
    "plt.show()"
   ]
  },
  {
   "cell_type": "code",
   "execution_count": null,
   "metadata": {},
   "outputs": [],
   "source": [
    "plt.hist(df['Atrue'],bins=np.linspace(0,pi,50),histtype='step',label='truth')\n",
    "plt.hist(df['mean'],bins=np.linspace(0,pi,50),histtype='step',label='mean')\n",
    "plt.hist(df['mode'],bins=np.linspace(0,pi,50),histtype='step',label='mode')\n",
    "#plt.yscale('Log')\n",
    "plt.xlabel(r'$\\alpha$ [rad]')\n",
    "plt.legend()\n",
    "plt.show()"
   ]
  },
  {
   "cell_type": "code",
   "execution_count": null,
   "metadata": {},
   "outputs": [],
   "source": [
    "plt.scatter(df['Atrue'],df['sigma'])\n",
    "plt.ylim(-10,25)"
   ]
  },
  {
   "cell_type": "code",
   "execution_count": null,
   "metadata": {},
   "outputs": [],
   "source": [
    "pulls = residuals/df['sigma']"
   ]
  },
  {
   "cell_type": "code",
   "execution_count": null,
   "metadata": {},
   "outputs": [],
   "source": [
    "plt.hist(pulls,bins=50);\n",
    "plt.xlabel('pull')"
   ]
  },
  {
   "cell_type": "code",
   "execution_count": null,
   "metadata": {},
   "outputs": [],
   "source": [
    "print(np.mean(pulls),np.std(pulls))"
   ]
  },
  {
   "cell_type": "code",
   "execution_count": null,
   "metadata": {},
   "outputs": [],
   "source": []
  }
 ],
 "metadata": {
  "kernelspec": {
   "display_name": "Python 3 (ipykernel)",
   "language": "python",
   "name": "py3-preamble"
  },
  "language_info": {
   "codemirror_mode": {
    "name": "ipython",
    "version": 3
   },
   "file_extension": ".py",
   "mimetype": "text/x-python",
   "name": "python",
   "nbconvert_exporter": "python",
   "pygments_lexer": "ipython3",
   "version": "3.9.15"
  }
 },
 "nbformat": 4,
 "nbformat_minor": 4
}
