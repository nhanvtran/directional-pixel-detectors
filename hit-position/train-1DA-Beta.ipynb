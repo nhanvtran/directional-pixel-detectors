{
 "cells": [
  {
   "cell_type": "code",
   "execution_count": 1,
   "metadata": {},
   "outputs": [
    {
     "name": "stderr",
     "output_type": "stream",
     "text": [
      "2023-02-07 19:00:44.136209: I tensorflow/core/platform/cpu_feature_guard.cc:193] This TensorFlow binary is optimized with oneAPI Deep Neural Network Library (oneDNN) to use the following CPU instructions in performance-critical operations:  AVX2 AVX512F AVX512_VNNI FMA\n",
      "To enable them in other operations, rebuild TensorFlow with the appropriate compiler flags.\n",
      "2023-02-07 19:00:44.331466: I tensorflow/core/util/port.cc:104] oneDNN custom operations are on. You may see slightly different numerical results due to floating-point round-off errors from different computation orders. To turn them off, set the environment variable `TF_ENABLE_ONEDNN_OPTS=0`.\n",
      "2023-02-07 19:00:44.338385: W tensorflow/compiler/xla/stream_executor/platform/default/dso_loader.cc:64] Could not load dynamic library 'libcudart.so.11.0'; dlerror: libcudart.so.11.0: cannot open shared object file: No such file or directory\n",
      "2023-02-07 19:00:44.338415: I tensorflow/compiler/xla/stream_executor/cuda/cudart_stub.cc:29] Ignore above cudart dlerror if you do not have a GPU set up on your machine.\n",
      "2023-02-07 19:00:45.709528: W tensorflow/compiler/xla/stream_executor/platform/default/dso_loader.cc:64] Could not load dynamic library 'libnvinfer.so.7'; dlerror: libnvinfer.so.7: cannot open shared object file: No such file or directory\n",
      "2023-02-07 19:00:45.709670: W tensorflow/compiler/xla/stream_executor/platform/default/dso_loader.cc:64] Could not load dynamic library 'libnvinfer_plugin.so.7'; dlerror: libnvinfer_plugin.so.7: cannot open shared object file: No such file or directory\n",
      "2023-02-07 19:00:45.709690: W tensorflow/compiler/tf2tensorrt/utils/py_utils.cc:38] TF-TRT Warning: Cannot dlopen some TensorRT libraries. If you would like to use Nvidia GPU with TensorRT, please make sure the missing libraries mentioned above are installed properly.\n"
     ]
    }
   ],
   "source": [
    "import glob\n",
    "import pandas as pd\n",
    "import numpy as np\n",
    "import math\n",
    "import tensorflow as tf\n",
    "import keras\n",
    "import random\n",
    "import matplotlib.pyplot as plt\n",
    "import datetime\n",
    "from typing import Union, List, Tuple\n",
    "import os\n",
    "import time\n",
    "from keras.models import Model\n",
    "from keras.layers import (BatchNormalization, Flatten, Input, Reshape, Dense, MaxPool2D,\n",
    "                          Conv1D, Concatenate, Activation)\n",
    "from tensorflow.keras.callbacks import EarlyStopping\n",
    "from tensorflow.keras.optimizers import Adam\n",
    "import tensorflow_probability as tfp"
   ]
  },
  {
   "cell_type": "code",
   "execution_count": 2,
   "metadata": {},
   "outputs": [],
   "source": [
    "train_df = pd.read_csv('train_1Dx.csv',nrows=100000)\n",
    "test_df = pd.read_csv('test_1Dx.csv',nrows=5000)"
   ]
  },
  {
   "cell_type": "code",
   "execution_count": 3,
   "metadata": {
    "tags": []
   },
   "outputs": [],
   "source": [
    "def inverse_cot(cota):\n",
    "    pi = 3.14159265359\n",
    "    return np.array([math.fmod(math.atan(1/x)+pi,pi)/pi for x in cota])"
   ]
  },
  {
   "cell_type": "code",
   "execution_count": 4,
   "metadata": {},
   "outputs": [],
   "source": [
    "X_train = train_df.drop(columns=['x-midplane','cotAlpha']).values\n",
    "X_test = test_df.drop(columns=['x-midplane','cotAlpha']).values\n",
    "\n",
    "y_train = inverse_cot(train_df['cotAlpha'].values)\n",
    "y_test = inverse_cot(test_df['cotAlpha'].values)"
   ]
  },
  {
   "cell_type": "code",
   "execution_count": 5,
   "metadata": {},
   "outputs": [],
   "source": [
    "# scale so that it is between 0 and 1\n",
    "def scale(X):\n",
    "    width = np.max(X) - np.min(X)\n",
    "    return ( X-np.min(X) ) / width"
   ]
  },
  {
   "cell_type": "code",
   "execution_count": 6,
   "metadata": {},
   "outputs": [],
   "source": [
    "X_train = scale(X_train.reshape(-1, X_train.shape[-1])).reshape(X_train.shape)\n",
    "X_test = scale(X_test.reshape(-1, X_test.shape[-1])).reshape(X_test.shape)"
   ]
  },
  {
   "cell_type": "code",
   "execution_count": 7,
   "metadata": {},
   "outputs": [
    {
     "data": {
      "text/plain": [
       "(array([1042.,  499.,  378.,  317.,  313.,  282.,  328.,  385.,  503.,\n",
       "         953.]),\n",
       " array([0.03967564, 0.13173516, 0.22379468, 0.3158542 , 0.40791373,\n",
       "        0.49997325, 0.59203277, 0.68409229, 0.77615181, 0.86821134,\n",
       "        0.96027086]),\n",
       " <BarContainer object of 10 artists>)"
      ]
     },
     "execution_count": 7,
     "metadata": {},
     "output_type": "execute_result"
    },
    {
     "data": {
      "image/png": "[encoded data removed]",
      "text/plain": [
       "<Figure size 640x480 with 1 Axes>"
      ]
     },
     "metadata": {},
     "output_type": "display_data"
    }
   ],
   "source": [
    "plt.hist(y_test)"
   ]
  },
  {
   "cell_type": "code",
   "execution_count": 8,
   "metadata": {},
   "outputs": [],
   "source": [
    "def beta_loss(y, p):\n",
    "    \n",
    "    #tf.print('y',y)\n",
    "    \n",
    "    maxval = 1e9\n",
    "    minval = 1e-9\n",
    "    pi = 3.14159265359\n",
    "    \n",
    "    alpha = tf.math.softplus(tf.gather(params=p, indices=[0], axis=1))\n",
    "    beta = tf.math.softplus(tf.gather(params=p, indices=[1], axis=1))\n",
    "    \n",
    "    dist = tfp.distributions.Beta(concentration1 = alpha,\n",
    "                                  concentration0 = beta)\n",
    "    \n",
    "    likelihood = dist.prob(y)   \n",
    "    likelihood = tf.clip_by_value(likelihood,minval,1)\n",
    "\n",
    "    NLL = -1*tf.math.log(likelihood)\n",
    "    #tf.print('NLL',NLL)\n",
    "    return tf.keras.backend.sum(NLL,axis=1)    "
   ]
  },
  {
   "cell_type": "code",
   "execution_count": 9,
   "metadata": {},
   "outputs": [
    {
     "name": "stdout",
     "output_type": "stream",
     "text": [
      "Model: \"model\"\n",
      "_________________________________________________________________\n",
      " Layer (type)                Output Shape              Param #   \n",
      "=================================================================\n",
      " input_1 (InputLayer)        [(None, 21)]              0         \n",
      "                                                                 \n",
      " dense1 (Dense)              (None, 64)                1408      \n",
      "                                                                 \n",
      " relu1 (Activation)          (None, 64)                0         \n",
      "                                                                 \n",
      " dense2 (Dense)              (None, 2)                 130       \n",
      "                                                                 \n",
      "=================================================================\n",
      "Total params: 1,538\n",
      "Trainable params: 1,538\n",
      "Non-trainable params: 0\n",
      "_________________________________________________________________\n"
     ]
    },
    {
     "name": "stderr",
     "output_type": "stream",
     "text": [
      "2023-02-07 19:00:49.583993: W tensorflow/compiler/xla/stream_executor/platform/default/dso_loader.cc:64] Could not load dynamic library 'libcuda.so.1'; dlerror: libcuda.so.1: cannot open shared object file: No such file or directory\n",
      "2023-02-07 19:00:49.584075: W tensorflow/compiler/xla/stream_executor/cuda/cuda_driver.cc:265] failed call to cuInit: UNKNOWN ERROR (303)\n",
      "2023-02-07 19:00:49.584117: I tensorflow/compiler/xla/stream_executor/cuda/cuda_diagnostics.cc:156] kernel driver does not appear to be running on this host (jupyter-jennetd): /proc/driver/nvidia/version does not exist\n",
      "2023-02-07 19:00:49.584724: I tensorflow/core/platform/cpu_feature_guard.cc:193] This TensorFlow binary is optimized with oneAPI Deep Neural Network Library (oneDNN) to use the following CPU instructions in performance-critical operations:  AVX2 AVX512F AVX512_VNNI FMA\n",
      "To enable them in other operations, rebuild TensorFlow with the appropriate compiler flags.\n"
     ]
    }
   ],
   "source": [
    "def CreateModel(shape):\n",
    "    x = x_in = Input(shape)\n",
    "    x = Dense(64, name=\"dense1\")(x)\n",
    "    #x = BatchNormalization()(x)\n",
    "    x = Activation(\"relu\", name=\"relu1\")(x)\n",
    "    x = Dense(2, name=\"dense2\")(x)\n",
    "    model = Model(inputs=x_in, outputs=x)\n",
    "    return model\n",
    "\n",
    "model=CreateModel(X_train.shape[1:])\n",
    "\n",
    "model.compile(optimizer=Adam(),\n",
    "              loss=beta_loss)\n",
    "\n",
    "model.summary()"
   ]
  },
  {
   "cell_type": "code",
   "execution_count": null,
   "metadata": {},
   "outputs": [
    {
     "name": "stdout",
     "output_type": "stream",
     "text": [
      "Epoch 1/80\n",
      "1250/1250 [==============================] - 6s 4ms/step - loss: 0.0042 - val_loss: 1.4118e-04\n",
      "Epoch 2/80\n",
      "1250/1250 [==============================] - 4s 3ms/step - loss: 8.2396e-05 - val_loss: 4.4377e-05\n",
      "Epoch 3/80\n",
      "1250/1250 [==============================] - 5s 4ms/step - loss: 7.5595e-05 - val_loss: 3.8669e-05\n",
      "Epoch 4/80\n",
      "1250/1250 [==============================] - 4s 3ms/step - loss: 7.6293e-05 - val_loss: 5.9683e-05\n",
      "Epoch 5/80\n",
      "1250/1250 [==============================] - 4s 3ms/step - loss: 6.2969e-05 - val_loss: 1.2996e-04\n",
      "Epoch 6/80\n",
      "1250/1250 [==============================] - 5s 4ms/step - loss: 5.2333e-05 - val_loss: 9.0481e-05\n",
      "Epoch 7/80\n",
      "1250/1250 [==============================] - 4s 3ms/step - loss: 5.6632e-05 - val_loss: 4.3496e-05\n",
      "Epoch 8/80\n",
      "1250/1250 [==============================] - 4s 3ms/step - loss: 5.1452e-05 - val_loss: 4.4232e-05\n",
      "Epoch 9/80\n",
      "1250/1250 [==============================] - 4s 3ms/step - loss: 5.5070e-05 - val_loss: 2.8822e-05\n",
      "Epoch 10/80\n",
      "1250/1250 [==============================] - 4s 3ms/step - loss: 4.2055e-05 - val_loss: 2.8687e-05\n",
      "Epoch 11/80\n",
      "1250/1250 [==============================] - 4s 3ms/step - loss: 5.9979e-05 - val_loss: 2.6092e-05\n",
      "Epoch 12/80\n",
      "1250/1250 [==============================] - 4s 4ms/step - loss: 5.2787e-05 - val_loss: 2.6052e-05\n",
      "Epoch 13/80\n",
      "1250/1250 [==============================] - 5s 4ms/step - loss: 4.8514e-05 - val_loss: 3.1638e-05\n",
      "Epoch 14/80\n",
      " 726/1250 [================>.............] - ETA: 1s - loss: 3.1144e-05"
     ]
    }
   ],
   "source": [
    "es = EarlyStopping(patience=20,\n",
    "                  restore_best_weights=True)\n",
    "\n",
    "history = model.fit(X_train,\n",
    "                    y_train,\n",
    "                    callbacks=[es],\n",
    "                    epochs=80, \n",
    "                    batch_size=64,\n",
    "                    validation_split=0.2,\n",
    "                    shuffle=True,\n",
    "                    verbose=1)"
   ]
  },
  {
   "cell_type": "code",
   "execution_count": null,
   "metadata": {},
   "outputs": [],
   "source": [
    "history_dict = history.history\n",
    "loss_values = history_dict['loss'] \n",
    "val_loss_values = history_dict['val_loss'] \n",
    "epochs = range(1, len(loss_values) + 1) \n",
    "plt.plot(epochs, loss_values, 'bo', label='Training loss')\n",
    "plt.plot(epochs, val_loss_values, 'orange', label='Validation loss')\n",
    "plt.title('Training and validation loss')\n",
    "plt.xlabel('Epochs')\n",
    "plt.ylabel('Loss')\n",
    "plt.yscale('Log')\n",
    "plt.legend()\n",
    "plt.show()"
   ]
  },
  {
   "cell_type": "code",
   "execution_count": null,
   "metadata": {},
   "outputs": [],
   "source": [
    "pi = 3.14159265359"
   ]
  },
  {
   "cell_type": "code",
   "execution_count": null,
   "metadata": {},
   "outputs": [],
   "source": [
    "p_test = model.predict(X_test)\n",
    "df = pd.DataFrame(p_test,columns=['alpha','beta'])\n",
    "df['Atrue'] = y_test*pi\n",
    "df['cotAtrue'] = np.array([math.tan(a) for a in df['Atrue']])\n",
    "df['mean'] = df['alpha']/(df['alpha']+df['beta'])*pi\n",
    "df['sigma'] = df['alpha']*df['beta']/((df['alpha']+df['beta'])*(df['alpha']+df['beta'])*(df['alpha']+df['beta']+1))*pi\n",
    "\n",
    "#df.to_csv(\"test_1DcotAGauss.csv\",header=False,index=False)"
   ]
  },
  {
   "cell_type": "code",
   "execution_count": null,
   "metadata": {},
   "outputs": [],
   "source": [
    "residuals = df['Atrue'] - df['mean']\n",
    "print(np.mean(residuals),np.std(residuals))"
   ]
  },
  {
   "cell_type": "code",
   "execution_count": null,
   "metadata": {},
   "outputs": [],
   "source": [
    "plt.hist(residuals,bins=50)\n",
    "plt.yscale('Log')\n",
    "plt.xlabel(r'$\\alpha-\\mu$ [rad]')\n",
    "plt.show()\n",
    "\n",
    "plt.hist(df['sigma'],bins=50);\n",
    "plt.yscale('Log')\n",
    "plt.xlabel(r'$\\sigma$ [rad]')\n",
    "plt.show()"
   ]
  },
  {
   "cell_type": "code",
   "execution_count": null,
   "metadata": {},
   "outputs": [],
   "source": [
    "plt.hist(df['Atrue'],bins=np.linspace(0,pi,50),histtype='step')\n",
    "plt.hist(df['mean'],bins=np.linspace(0,pi,50),histtype='step')\n",
    "#plt.yscale('Log')\n",
    "plt.xlabel(r'$\\alpha$ [rad]')\n",
    "plt.show()"
   ]
  },
  {
   "cell_type": "code",
   "execution_count": null,
   "metadata": {},
   "outputs": [],
   "source": [
    "plt.scatter(df['Atrue'],df['sigma'])\n",
    "plt.ylim(-10,25)"
   ]
  },
  {
   "cell_type": "code",
   "execution_count": null,
   "metadata": {},
   "outputs": [],
   "source": [
    "pulls = residuals/df['sigma']"
   ]
  },
  {
   "cell_type": "code",
   "execution_count": null,
   "metadata": {},
   "outputs": [],
   "source": [
    "plt.hist(pulls,bins=50);\n",
    "plt.xlabel('pull')"
   ]
  },
  {
   "cell_type": "code",
   "execution_count": null,
   "metadata": {},
   "outputs": [],
   "source": [
    "print(np.mean(pulls),np.std(pulls))"
   ]
  },
  {
   "cell_type": "code",
   "execution_count": null,
   "metadata": {},
   "outputs": [],
   "source": []
  }
 ],
 "metadata": {
  "kernelspec": {
   "display_name": "Python 3 (ipykernel)",
   "language": "python",
   "name": "py3-preamble"
  },
  "language_info": {
   "codemirror_mode": {
    "name": "ipython",
    "version": 3
   },
   "file_extension": ".py",
   "mimetype": "text/x-python",
   "name": "python",
   "nbconvert_exporter": "python",
   "pygments_lexer": "ipython3",
   "version": "3.9.15"
  }
 },
 "nbformat": 4,
 "nbformat_minor": 4
}
