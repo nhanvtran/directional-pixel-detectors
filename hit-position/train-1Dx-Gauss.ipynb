{
 "cells": [
  {
   "cell_type": "code",
   "execution_count": 1,
   "metadata": {},
   "outputs": [
    {
     "name": "stderr",
     "output_type": "stream",
     "text": [
      "2022-11-10 22:37:02.601274: I tensorflow/core/platform/cpu_feature_guard.cc:193] This TensorFlow binary is optimized with oneAPI Deep Neural Network Library (oneDNN) to use the following CPU instructions in performance-critical operations:  AVX2 AVX512F AVX512_VNNI FMA\n",
      "To enable them in other operations, rebuild TensorFlow with the appropriate compiler flags.\n",
      "2022-11-10 22:37:02.913052: I tensorflow/core/util/util.cc:169] oneDNN custom operations are on. You may see slightly different numerical results due to floating-point round-off errors from different computation orders. To turn them off, set the environment variable `TF_ENABLE_ONEDNN_OPTS=0`.\n",
      "2022-11-10 22:37:02.921078: W tensorflow/stream_executor/platform/default/dso_loader.cc:64] Could not load dynamic library 'libcudart.so.11.0'; dlerror: libcudart.so.11.0: cannot open shared object file: No such file or directory\n",
      "2022-11-10 22:37:02.921107: I tensorflow/stream_executor/cuda/cudart_stub.cc:29] Ignore above cudart dlerror if you do not have a GPU set up on your machine.\n",
      "2022-11-10 22:37:02.962709: E tensorflow/stream_executor/cuda/cuda_blas.cc:2981] Unable to register cuBLAS factory: Attempting to register factory for plugin cuBLAS when one has already been registered\n",
      "2022-11-10 22:37:06.606128: W tensorflow/stream_executor/platform/default/dso_loader.cc:64] Could not load dynamic library 'libnvinfer.so.7'; dlerror: libnvinfer.so.7: cannot open shared object file: No such file or directory\n",
      "2022-11-10 22:37:06.606317: W tensorflow/stream_executor/platform/default/dso_loader.cc:64] Could not load dynamic library 'libnvinfer_plugin.so.7'; dlerror: libnvinfer_plugin.so.7: cannot open shared object file: No such file or directory\n",
      "2022-11-10 22:37:06.606337: W tensorflow/compiler/tf2tensorrt/utils/py_utils.cc:38] TF-TRT Warning: Cannot dlopen some TensorRT libraries. If you would like to use Nvidia GPU with TensorRT, please make sure the missing libraries mentioned above are installed properly.\n"
     ]
    }
   ],
   "source": [
    "from sklearn.metrics import mean_squared_error\n",
    "from sklearn.preprocessing import StandardScaler\n",
    "import tensorflow as tf\n",
    "from tensorflow.keras import datasets, layers, models, activations\n",
    "from keras.layers import Dense, Dropout, Flatten, Input, Activation, BatchNormalization\n",
    "from tensorflow.keras.callbacks import EarlyStopping\n",
    "from tensorflow.keras.optimizers import Adam\n",
    "from qkeras import *\n",
    "%matplotlib inline\n",
    "import matplotlib.pyplot as plt\n",
    "import numpy as np\n",
    "import pandas as pd\n",
    "import math\n",
    "import seaborn as sns"
   ]
  },
  {
   "cell_type": "code",
   "execution_count": 2,
   "metadata": {},
   "outputs": [],
   "source": [
    "train_df = pd.read_csv('train_1Dx.csv',nrows=1000000)\n",
    "test_df = pd.read_csv('test_1Dx.csv',nrows=500000)"
   ]
  },
  {
   "cell_type": "code",
   "execution_count": 3,
   "metadata": {},
   "outputs": [],
   "source": [
    "X_train = train_df.drop(columns=['x-midplane','cotAlpha']).values\n",
    "X_test = test_df.drop(columns=['x-midplane','cotAlpha']).values\n",
    "\n",
    "y_train = train_df['x-midplane'].values\n",
    "y_test = test_df['x-midplane'].values"
   ]
  },
  {
   "cell_type": "code",
   "execution_count": 4,
   "metadata": {},
   "outputs": [],
   "source": [
    "# scale so that it is between 0 and 1\n",
    "def scale(X):\n",
    "    width = np.max(X) - np.min(X)\n",
    "    return ( X-np.min(X) ) / width"
   ]
  },
  {
   "cell_type": "code",
   "execution_count": 5,
   "metadata": {},
   "outputs": [],
   "source": [
    "X_train = scale(X_train.reshape(-1, X_train.shape[-1])).reshape(X_train.shape)\n",
    "X_test = scale(X_test.reshape(-1, X_test.shape[-1])).reshape(X_test.shape)"
   ]
  },
  {
   "cell_type": "code",
   "execution_count": 6,
   "metadata": {},
   "outputs": [],
   "source": [
    "def custom_loss(y, p):\n",
    "    \n",
    "    maxval = 1e9\n",
    "    minval = 1e-9\n",
    "    pi = 3.14159265359\n",
    "    \n",
    "    mu = tf.gather(params=p, indices=[0], axis=1)\n",
    "    sigma = 0.1+tf.math.softplus(tf.gather(params=p, indices=[1], axis=1))\n",
    "        \n",
    "    likelihood = 1.0/tf.math.sqrt(2*pi)/sigma*tf.math.exp(-1*(y-mu)*(y-mu)/(2*sigma*sigma))\n",
    "    likelihood = tf.clip_by_value(likelihood,minval,maxval)\n",
    "    \n",
    "    NLL = -1*tf.math.log(likelihood)\n",
    "    \n",
    "    return tf.keras.backend.sum(NLL,axis=1)"
   ]
  },
  {
   "cell_type": "code",
   "execution_count": 7,
   "metadata": {},
   "outputs": [
    {
     "name": "stdout",
     "output_type": "stream",
     "text": [
      "Model: \"model\"\n",
      "_________________________________________________________________\n",
      " Layer (type)                Output Shape              Param #   \n",
      "=================================================================\n",
      " input_1 (InputLayer)        [(None, 21)]              0         \n",
      "                                                                 \n",
      " dense1 (Dense)              (None, 64)                1408      \n",
      "                                                                 \n",
      " relu1 (Activation)          (None, 64)                0         \n",
      "                                                                 \n",
      " batch_normalization (BatchN  (None, 64)               256       \n",
      " ormalization)                                                   \n",
      "                                                                 \n",
      " dense2 (Dense)              (None, 2)                 130       \n",
      "                                                                 \n",
      "=================================================================\n",
      "Total params: 1,794\n",
      "Trainable params: 1,666\n",
      "Non-trainable params: 128\n",
      "_________________________________________________________________\n"
     ]
    },
    {
     "name": "stderr",
     "output_type": "stream",
     "text": [
      "2022-11-10 22:37:19.975685: W tensorflow/stream_executor/platform/default/dso_loader.cc:64] Could not load dynamic library 'libcuda.so.1'; dlerror: libcuda.so.1: cannot open shared object file: No such file or directory\n",
      "2022-11-10 22:37:19.975737: W tensorflow/stream_executor/cuda/cuda_driver.cc:263] failed call to cuInit: UNKNOWN ERROR (303)\n",
      "2022-11-10 22:37:19.975782: I tensorflow/stream_executor/cuda/cuda_diagnostics.cc:156] kernel driver does not appear to be running on this host (jupyter-jennetd): /proc/driver/nvidia/version does not exist\n",
      "2022-11-10 22:37:19.976186: I tensorflow/core/platform/cpu_feature_guard.cc:193] This TensorFlow binary is optimized with oneAPI Deep Neural Network Library (oneDNN) to use the following CPU instructions in performance-critical operations:  AVX2 AVX512F AVX512_VNNI FMA\n",
      "To enable them in other operations, rebuild TensorFlow with the appropriate compiler flags.\n"
     ]
    }
   ],
   "source": [
    "def CreateModel(shape):\n",
    "    x = x_in = Input(shape)\n",
    "    x = Dense(64, name=\"dense1\")(x)\n",
    "    x = Activation(\"relu\", name=\"relu1\")(x)\n",
    "    #x = BatchNormalization()(x)\n",
    "    x = Dense(2, name=\"dense2\")(x)\n",
    "    model = Model(inputs=x_in, outputs=x)\n",
    "    return model\n",
    "\n",
    "model=CreateModel(X_train.shape[1:])\n",
    "\n",
    "model.compile(optimizer=Adam(learning_rate=0.001),\n",
    "              loss=custom_loss)\n",
    "\n",
    "model.summary()"
   ]
  },
  {
   "cell_type": "code",
   "execution_count": 8,
   "metadata": {},
   "outputs": [
    {
     "name": "stdout",
     "output_type": "stream",
     "text": [
      "Epoch 1/400\n",
      "196/196 [==============================] - 3s 9ms/step - loss: 18.1745 - val_loss: 18.3126\n",
      "Epoch 2/400\n",
      "196/196 [==============================] - 1s 7ms/step - loss: 13.6746 - val_loss: 13.5003\n",
      "Epoch 3/400\n",
      "196/196 [==============================] - 1s 7ms/step - loss: 10.0311 - val_loss: 8.6781\n",
      "Epoch 4/400\n",
      "196/196 [==============================] - 1s 7ms/step - loss: 8.3342 - val_loss: 7.1788\n",
      "Epoch 5/400\n",
      "196/196 [==============================] - 1s 7ms/step - loss: 7.1274 - val_loss: 6.2721\n",
      "Epoch 6/400\n",
      "196/196 [==============================] - 1s 7ms/step - loss: 6.1611 - val_loss: 5.5958\n",
      "Epoch 7/400\n",
      "196/196 [==============================] - 1s 7ms/step - loss: 5.3885 - val_loss: 5.0871\n",
      "Epoch 8/400\n",
      "196/196 [==============================] - 1s 7ms/step - loss: 4.9747 - val_loss: 4.8920\n",
      "Epoch 9/400\n",
      "196/196 [==============================] - 1s 7ms/step - loss: 4.8149 - val_loss: 4.7668\n",
      "Epoch 10/400\n",
      "196/196 [==============================] - 1s 7ms/step - loss: 4.7113 - val_loss: 4.6690\n",
      "Epoch 11/400\n",
      "196/196 [==============================] - 1s 7ms/step - loss: 4.6229 - val_loss: 4.5838\n",
      "Epoch 12/400\n",
      "196/196 [==============================] - 1s 7ms/step - loss: 4.5480 - val_loss: 4.5124\n",
      "Epoch 13/400\n",
      "196/196 [==============================] - 1s 7ms/step - loss: 4.4784 - val_loss: 4.4407\n",
      "Epoch 14/400\n",
      "196/196 [==============================] - 1s 7ms/step - loss: 4.4062 - val_loss: 4.3719\n",
      "Epoch 15/400\n",
      "196/196 [==============================] - 1s 7ms/step - loss: 4.3342 - val_loss: 4.3005\n",
      "Epoch 16/400\n",
      "196/196 [==============================] - 1s 7ms/step - loss: 4.2601 - val_loss: 4.2264\n",
      "Epoch 17/400\n",
      "196/196 [==============================] - 1s 7ms/step - loss: 4.1884 - val_loss: 4.1581\n",
      "Epoch 18/400\n",
      "196/196 [==============================] - 2s 8ms/step - loss: 4.1158 - val_loss: 4.0868\n",
      "Epoch 19/400\n",
      "196/196 [==============================] - 1s 7ms/step - loss: 4.0406 - val_loss: 4.0132\n",
      "Epoch 20/400\n",
      "196/196 [==============================] - 1s 7ms/step - loss: 3.9670 - val_loss: 3.9396\n",
      "Epoch 21/400\n",
      "196/196 [==============================] - 1s 7ms/step - loss: 3.9020 - val_loss: 3.8781\n",
      "Epoch 22/400\n",
      "196/196 [==============================] - 2s 8ms/step - loss: 3.8472 - val_loss: 3.8200\n",
      "Epoch 23/400\n",
      "196/196 [==============================] - 1s 8ms/step - loss: 3.7978 - val_loss: 3.7853\n",
      "Epoch 24/400\n",
      "196/196 [==============================] - 1s 7ms/step - loss: 3.7547 - val_loss: 3.7330\n",
      "Epoch 25/400\n",
      "196/196 [==============================] - 1s 8ms/step - loss: 3.7147 - val_loss: 3.7017\n",
      "Epoch 26/400\n",
      "196/196 [==============================] - 1s 8ms/step - loss: 3.6794 - val_loss: 3.6700\n",
      "Epoch 27/400\n",
      "196/196 [==============================] - 1s 8ms/step - loss: 3.6467 - val_loss: 3.6297\n",
      "Epoch 28/400\n",
      "196/196 [==============================] - 1s 8ms/step - loss: 3.6188 - val_loss: 3.6051\n",
      "Epoch 29/400\n",
      "196/196 [==============================] - 1s 8ms/step - loss: 3.5929 - val_loss: 3.5901\n",
      "Epoch 30/400\n",
      "196/196 [==============================] - 2s 8ms/step - loss: 3.5718 - val_loss: 3.5550\n",
      "Epoch 31/400\n",
      "196/196 [==============================] - 1s 8ms/step - loss: 3.5497 - val_loss: 3.5386\n",
      "Epoch 32/400\n",
      "196/196 [==============================] - 1s 8ms/step - loss: 3.5317 - val_loss: 3.5189\n",
      "Epoch 33/400\n",
      "196/196 [==============================] - 2s 8ms/step - loss: 3.5144 - val_loss: 3.5069\n",
      "Epoch 34/400\n",
      "196/196 [==============================] - 2s 8ms/step - loss: 3.4980 - val_loss: 3.4884\n",
      "Epoch 35/400\n",
      "196/196 [==============================] - 1s 7ms/step - loss: 3.4840 - val_loss: 3.4748\n",
      "Epoch 36/400\n",
      "196/196 [==============================] - 1s 8ms/step - loss: 3.4720 - val_loss: 3.4929\n",
      "Epoch 37/400\n",
      "196/196 [==============================] - 2s 8ms/step - loss: 3.4601 - val_loss: 3.4510\n",
      "Epoch 38/400\n",
      "196/196 [==============================] - 1s 7ms/step - loss: 3.4496 - val_loss: 3.4436\n",
      "Epoch 39/400\n",
      "196/196 [==============================] - 1s 7ms/step - loss: 3.4392 - val_loss: 3.4353\n",
      "Epoch 40/400\n",
      "196/196 [==============================] - 1s 8ms/step - loss: 3.4273 - val_loss: 3.4340\n",
      "Epoch 41/400\n",
      "196/196 [==============================] - 1s 8ms/step - loss: 3.4168 - val_loss: 3.4067\n",
      "Epoch 42/400\n",
      "196/196 [==============================] - 1s 8ms/step - loss: 3.4065 - val_loss: 3.3954\n",
      "Epoch 43/400\n",
      "196/196 [==============================] - 1s 7ms/step - loss: 3.3942 - val_loss: 3.3848\n",
      "Epoch 44/400\n",
      "196/196 [==============================] - 1s 7ms/step - loss: 3.3850 - val_loss: 3.3808\n",
      "Epoch 45/400\n",
      "196/196 [==============================] - 1s 7ms/step - loss: 3.3768 - val_loss: 3.3708\n",
      "Epoch 46/400\n",
      "196/196 [==============================] - 1s 7ms/step - loss: 3.3681 - val_loss: 3.3651\n",
      "Epoch 47/400\n",
      "196/196 [==============================] - 1s 8ms/step - loss: 3.3609 - val_loss: 3.3540\n",
      "Epoch 48/400\n",
      "196/196 [==============================] - 1s 8ms/step - loss: 3.3535 - val_loss: 3.3468\n",
      "Epoch 49/400\n",
      "196/196 [==============================] - 1s 7ms/step - loss: 3.3448 - val_loss: 3.3543\n",
      "Epoch 50/400\n",
      "196/196 [==============================] - 1s 7ms/step - loss: 3.3394 - val_loss: 3.3300\n",
      "Epoch 51/400\n",
      "196/196 [==============================] - 1s 7ms/step - loss: 3.3333 - val_loss: 3.3286\n",
      "Epoch 52/400\n",
      "196/196 [==============================] - 1s 7ms/step - loss: 3.3280 - val_loss: 3.3198\n",
      "Epoch 53/400\n",
      "196/196 [==============================] - 1s 7ms/step - loss: 3.3240 - val_loss: 3.3196\n",
      "Epoch 54/400\n",
      "196/196 [==============================] - 1s 7ms/step - loss: 3.3187 - val_loss: 3.3143\n",
      "Epoch 55/400\n",
      "196/196 [==============================] - 1s 8ms/step - loss: 3.3158 - val_loss: 3.3063\n",
      "Epoch 56/400\n",
      "196/196 [==============================] - 1s 8ms/step - loss: 3.3109 - val_loss: 3.3267\n",
      "Epoch 57/400\n",
      "196/196 [==============================] - 2s 8ms/step - loss: 3.3057 - val_loss: 3.3140\n",
      "Epoch 58/400\n",
      "196/196 [==============================] - 2s 8ms/step - loss: 3.3032 - val_loss: 3.2984\n",
      "Epoch 59/400\n",
      "196/196 [==============================] - 1s 7ms/step - loss: 3.3002 - val_loss: 3.2949\n",
      "Epoch 60/400\n",
      "196/196 [==============================] - 1s 7ms/step - loss: 3.2961 - val_loss: 3.2875\n",
      "Epoch 61/400\n",
      "196/196 [==============================] - 1s 7ms/step - loss: 3.2919 - val_loss: 3.2872\n",
      "Epoch 62/400\n",
      "196/196 [==============================] - 1s 7ms/step - loss: 3.2897 - val_loss: 3.2818\n",
      "Epoch 63/400\n",
      "196/196 [==============================] - 1s 7ms/step - loss: 3.2866 - val_loss: 3.2952\n",
      "Epoch 64/400\n",
      "196/196 [==============================] - 1s 7ms/step - loss: 3.2845 - val_loss: 3.2749\n",
      "Epoch 65/400\n",
      "196/196 [==============================] - 1s 7ms/step - loss: 3.2802 - val_loss: 3.2847\n",
      "Epoch 66/400\n",
      "196/196 [==============================] - 1s 7ms/step - loss: 3.2778 - val_loss: 3.2736\n",
      "Epoch 67/400\n",
      "196/196 [==============================] - 1s 7ms/step - loss: 3.2755 - val_loss: 3.2676\n",
      "Epoch 68/400\n",
      "196/196 [==============================] - 1s 7ms/step - loss: 3.2714 - val_loss: 3.2774\n",
      "Epoch 69/400\n",
      "196/196 [==============================] - 1s 8ms/step - loss: 3.2691 - val_loss: 3.2633\n",
      "Epoch 70/400\n",
      "196/196 [==============================] - 1s 7ms/step - loss: 3.2653 - val_loss: 3.2599\n",
      "Epoch 71/400\n",
      "196/196 [==============================] - 1s 7ms/step - loss: 3.2622 - val_loss: 3.2639\n",
      "Epoch 72/400\n",
      "196/196 [==============================] - 1s 7ms/step - loss: 3.2585 - val_loss: 3.2517\n",
      "Epoch 73/400\n",
      "196/196 [==============================] - 1s 7ms/step - loss: 3.2547 - val_loss: 3.2486\n",
      "Epoch 74/400\n",
      "196/196 [==============================] - 1s 7ms/step - loss: 3.2525 - val_loss: 3.2453\n",
      "Epoch 75/400\n",
      "196/196 [==============================] - 1s 7ms/step - loss: 3.2494 - val_loss: 3.2501\n",
      "Epoch 76/400\n",
      "196/196 [==============================] - 1s 8ms/step - loss: 3.2451 - val_loss: 3.2402\n",
      "Epoch 77/400\n",
      "196/196 [==============================] - 1s 7ms/step - loss: 3.2443 - val_loss: 3.2352\n",
      "Epoch 78/400\n",
      "196/196 [==============================] - 1s 8ms/step - loss: 3.2407 - val_loss: 3.2431\n",
      "Epoch 79/400\n",
      "196/196 [==============================] - 1s 8ms/step - loss: 3.2376 - val_loss: 3.2305\n",
      "Epoch 80/400\n",
      "196/196 [==============================] - 1s 7ms/step - loss: 3.2341 - val_loss: 3.2269\n",
      "Epoch 81/400\n",
      "196/196 [==============================] - 1s 7ms/step - loss: 3.2323 - val_loss: 3.2286\n",
      "Epoch 82/400\n",
      "196/196 [==============================] - 1s 8ms/step - loss: 3.2296 - val_loss: 3.2277\n",
      "Epoch 83/400\n",
      "196/196 [==============================] - 1s 7ms/step - loss: 3.2283 - val_loss: 3.2286\n",
      "Epoch 84/400\n",
      "196/196 [==============================] - 1s 7ms/step - loss: 3.2248 - val_loss: 3.2236\n",
      "Epoch 85/400\n",
      "196/196 [==============================] - 1s 7ms/step - loss: 3.2249 - val_loss: 3.2141\n",
      "Epoch 86/400\n",
      "196/196 [==============================] - 1s 7ms/step - loss: 3.2212 - val_loss: 3.2182\n",
      "Epoch 87/400\n",
      "196/196 [==============================] - 1s 7ms/step - loss: 3.2208 - val_loss: 3.2520\n",
      "Epoch 88/400\n",
      "196/196 [==============================] - 1s 8ms/step - loss: 3.2183 - val_loss: 3.2165\n",
      "Epoch 89/400\n",
      "196/196 [==============================] - 1s 8ms/step - loss: 3.2161 - val_loss: 3.2064\n",
      "Epoch 90/400\n",
      "196/196 [==============================] - 1s 7ms/step - loss: 3.2150 - val_loss: 3.2158\n",
      "Epoch 91/400\n",
      "196/196 [==============================] - 1s 7ms/step - loss: 3.2131 - val_loss: 3.2043\n",
      "Epoch 92/400\n",
      "196/196 [==============================] - 1s 7ms/step - loss: 3.2119 - val_loss: 3.2046\n",
      "Epoch 93/400\n",
      "196/196 [==============================] - 1s 7ms/step - loss: 3.2103 - val_loss: 3.2039\n",
      "Epoch 94/400\n",
      "196/196 [==============================] - 1s 7ms/step - loss: 3.2090 - val_loss: 3.2014\n",
      "Epoch 95/400\n",
      "196/196 [==============================] - 1s 7ms/step - loss: 3.2073 - val_loss: 3.2112\n",
      "Epoch 96/400\n",
      "196/196 [==============================] - 1s 8ms/step - loss: 3.2069 - val_loss: 3.2016\n",
      "Epoch 97/400\n",
      "196/196 [==============================] - 1s 7ms/step - loss: 3.2051 - val_loss: 3.2062\n",
      "Epoch 98/400\n",
      "196/196 [==============================] - 1s 7ms/step - loss: 3.2060 - val_loss: 3.1947\n",
      "Epoch 99/400\n",
      "196/196 [==============================] - 1s 7ms/step - loss: 3.2024 - val_loss: 3.1946\n",
      "Epoch 100/400\n",
      "196/196 [==============================] - 2s 8ms/step - loss: 3.2006 - val_loss: 3.1920\n",
      "Epoch 101/400\n",
      "196/196 [==============================] - 2s 8ms/step - loss: 3.1992 - val_loss: 3.2289\n",
      "Epoch 102/400\n",
      "196/196 [==============================] - 1s 7ms/step - loss: 3.1962 - val_loss: 3.2210\n",
      "Epoch 103/400\n",
      "196/196 [==============================] - 1s 7ms/step - loss: 3.1984 - val_loss: 3.1917\n",
      "Epoch 104/400\n",
      "196/196 [==============================] - 1s 7ms/step - loss: 3.1961 - val_loss: 3.2048\n",
      "Epoch 105/400\n",
      "196/196 [==============================] - 1s 7ms/step - loss: 3.1936 - val_loss: 3.1862\n",
      "Epoch 106/400\n",
      "196/196 [==============================] - 1s 7ms/step - loss: 3.1925 - val_loss: 3.1840\n",
      "Epoch 107/400\n",
      "196/196 [==============================] - 1s 7ms/step - loss: 3.1907 - val_loss: 3.1842\n",
      "Epoch 108/400\n",
      "196/196 [==============================] - 1s 7ms/step - loss: 3.1883 - val_loss: 3.1804\n",
      "Epoch 109/400\n",
      "196/196 [==============================] - 1s 7ms/step - loss: 3.1902 - val_loss: 3.1872\n",
      "Epoch 110/400\n",
      "196/196 [==============================] - 1s 7ms/step - loss: 3.1869 - val_loss: 3.1772\n",
      "Epoch 111/400\n",
      "196/196 [==============================] - 1s 7ms/step - loss: 3.1858 - val_loss: 3.1796\n",
      "Epoch 112/400\n",
      "196/196 [==============================] - 1s 7ms/step - loss: 3.1851 - val_loss: 3.1831\n",
      "Epoch 113/400\n",
      "196/196 [==============================] - 1s 7ms/step - loss: 3.1837 - val_loss: 3.1772\n",
      "Epoch 114/400\n",
      "196/196 [==============================] - 1s 7ms/step - loss: 3.1818 - val_loss: 3.1896\n",
      "Epoch 115/400\n",
      "196/196 [==============================] - 1s 7ms/step - loss: 3.1807 - val_loss: 3.1788\n",
      "Epoch 116/400\n",
      "196/196 [==============================] - 1s 7ms/step - loss: 3.1776 - val_loss: 3.1742\n",
      "Epoch 117/400\n",
      "196/196 [==============================] - 1s 7ms/step - loss: 3.1775 - val_loss: 3.1710\n",
      "Epoch 118/400\n",
      "196/196 [==============================] - 1s 8ms/step - loss: 3.1737 - val_loss: 3.1943\n",
      "Epoch 119/400\n",
      "196/196 [==============================] - 1s 7ms/step - loss: 3.1743 - val_loss: 3.1669\n",
      "Epoch 120/400\n",
      "196/196 [==============================] - 1s 7ms/step - loss: 3.1712 - val_loss: 3.1752\n",
      "Epoch 121/400\n",
      "196/196 [==============================] - 1s 7ms/step - loss: 3.1716 - val_loss: 3.1654\n",
      "Epoch 122/400\n",
      "196/196 [==============================] - 1s 7ms/step - loss: 3.1696 - val_loss: 3.1621\n",
      "Epoch 123/400\n",
      "196/196 [==============================] - 2s 8ms/step - loss: 3.1690 - val_loss: 3.1623\n",
      "Epoch 124/400\n",
      "196/196 [==============================] - 1s 7ms/step - loss: 3.1684 - val_loss: 3.1785\n",
      "Epoch 125/400\n",
      "196/196 [==============================] - 1s 7ms/step - loss: 3.1662 - val_loss: 3.1638\n",
      "Epoch 126/400\n",
      "196/196 [==============================] - 1s 7ms/step - loss: 3.1642 - val_loss: 3.1594\n",
      "Epoch 127/400\n",
      "196/196 [==============================] - 1s 7ms/step - loss: 3.1631 - val_loss: 3.1731\n",
      "Epoch 128/400\n",
      "196/196 [==============================] - 1s 7ms/step - loss: 3.1624 - val_loss: 3.1673\n",
      "Epoch 129/400\n",
      "196/196 [==============================] - 1s 7ms/step - loss: 3.1611 - val_loss: 3.1564\n",
      "Epoch 130/400\n",
      "196/196 [==============================] - 1s 7ms/step - loss: 3.1624 - val_loss: 3.2031\n",
      "Epoch 131/400\n",
      "196/196 [==============================] - 1s 7ms/step - loss: 3.1618 - val_loss: 3.1819\n",
      "Epoch 132/400\n",
      "196/196 [==============================] - 1s 7ms/step - loss: 3.1600 - val_loss: 3.1551\n",
      "Epoch 133/400\n",
      "196/196 [==============================] - 1s 7ms/step - loss: 3.1581 - val_loss: 3.1581\n",
      "Epoch 134/400\n",
      "196/196 [==============================] - 1s 7ms/step - loss: 3.1578 - val_loss: 3.1516\n",
      "Epoch 135/400\n",
      "196/196 [==============================] - 1s 7ms/step - loss: 3.1571 - val_loss: 3.1488\n",
      "Epoch 136/400\n",
      "196/196 [==============================] - 1s 7ms/step - loss: 3.1555 - val_loss: 3.1460\n",
      "Epoch 137/400\n",
      "196/196 [==============================] - 1s 7ms/step - loss: 3.1554 - val_loss: 3.1460\n",
      "Epoch 138/400\n",
      "196/196 [==============================] - 1s 7ms/step - loss: 3.1549 - val_loss: 3.1487\n",
      "Epoch 139/400\n",
      "196/196 [==============================] - 1s 7ms/step - loss: 3.1530 - val_loss: 3.1440\n",
      "Epoch 140/400\n",
      "196/196 [==============================] - 1s 7ms/step - loss: 3.1527 - val_loss: 3.1504\n",
      "Epoch 141/400\n",
      "196/196 [==============================] - 1s 7ms/step - loss: 3.1527 - val_loss: 3.1556\n",
      "Epoch 142/400\n",
      "196/196 [==============================] - 1s 8ms/step - loss: 3.1531 - val_loss: 3.1532\n",
      "Epoch 143/400\n",
      "196/196 [==============================] - 1s 8ms/step - loss: 3.1501 - val_loss: 3.1438\n",
      "Epoch 144/400\n",
      "196/196 [==============================] - 1s 7ms/step - loss: 3.1499 - val_loss: 3.1402\n",
      "Epoch 145/400\n",
      "196/196 [==============================] - 1s 7ms/step - loss: 3.1498 - val_loss: 3.1785\n",
      "Epoch 146/400\n",
      "196/196 [==============================] - 1s 8ms/step - loss: 3.1487 - val_loss: 3.1484\n",
      "Epoch 147/400\n",
      "196/196 [==============================] - 1s 7ms/step - loss: 3.1491 - val_loss: 3.1420\n",
      "Epoch 148/400\n",
      "196/196 [==============================] - 1s 7ms/step - loss: 3.1475 - val_loss: 3.1386\n",
      "Epoch 149/400\n",
      "196/196 [==============================] - 1s 7ms/step - loss: 3.1459 - val_loss: 3.1502\n",
      "Epoch 150/400\n",
      "196/196 [==============================] - 1s 7ms/step - loss: 3.1471 - val_loss: 3.1614\n",
      "Epoch 151/400\n",
      "196/196 [==============================] - 1s 8ms/step - loss: 3.1468 - val_loss: 3.1787\n",
      "Epoch 152/400\n",
      "196/196 [==============================] - 1s 7ms/step - loss: 3.1471 - val_loss: 3.1432\n",
      "Epoch 153/400\n",
      "196/196 [==============================] - 1s 7ms/step - loss: 3.1462 - val_loss: 3.1427\n",
      "Epoch 154/400\n",
      "196/196 [==============================] - 1s 7ms/step - loss: 3.1453 - val_loss: 3.1421\n",
      "Epoch 155/400\n",
      "196/196 [==============================] - 1s 7ms/step - loss: 3.1424 - val_loss: 3.1492\n",
      "Epoch 156/400\n",
      "196/196 [==============================] - 1s 7ms/step - loss: 3.1442 - val_loss: 3.1384\n",
      "Epoch 157/400\n",
      "196/196 [==============================] - 1s 7ms/step - loss: 3.1447 - val_loss: 3.1629\n",
      "Epoch 158/400\n",
      "196/196 [==============================] - 1s 7ms/step - loss: 3.1423 - val_loss: 3.1335\n",
      "Epoch 159/400\n",
      "196/196 [==============================] - 1s 7ms/step - loss: 3.1425 - val_loss: 3.1439\n",
      "Epoch 160/400\n",
      "196/196 [==============================] - 1s 7ms/step - loss: 3.1404 - val_loss: 3.1316\n",
      "Epoch 161/400\n",
      "196/196 [==============================] - 1s 7ms/step - loss: 3.1397 - val_loss: 3.1344\n",
      "Epoch 162/400\n",
      "196/196 [==============================] - 1s 7ms/step - loss: 3.1393 - val_loss: 3.1397\n",
      "Epoch 163/400\n",
      "196/196 [==============================] - 1s 7ms/step - loss: 3.1420 - val_loss: 3.1425\n",
      "Epoch 164/400\n",
      "196/196 [==============================] - 1s 7ms/step - loss: 3.1392 - val_loss: 3.1347\n",
      "Epoch 165/400\n",
      "196/196 [==============================] - 1s 7ms/step - loss: 3.1407 - val_loss: 3.1337\n",
      "Epoch 166/400\n",
      "196/196 [==============================] - 1s 7ms/step - loss: 3.1395 - val_loss: 3.1495\n",
      "Epoch 167/400\n",
      "196/196 [==============================] - 1s 7ms/step - loss: 3.1386 - val_loss: 3.1280\n",
      "Epoch 168/400\n",
      "196/196 [==============================] - 1s 7ms/step - loss: 3.1382 - val_loss: 3.1281\n",
      "Epoch 169/400\n",
      "196/196 [==============================] - 1s 7ms/step - loss: 3.1379 - val_loss: 3.1318\n",
      "Epoch 170/400\n",
      "196/196 [==============================] - 1s 7ms/step - loss: 3.1370 - val_loss: 3.1315\n",
      "Epoch 171/400\n",
      "196/196 [==============================] - 1s 7ms/step - loss: 3.1360 - val_loss: 3.1271\n",
      "Epoch 172/400\n",
      "196/196 [==============================] - 2s 8ms/step - loss: 3.1380 - val_loss: 3.1306\n",
      "Epoch 173/400\n",
      "196/196 [==============================] - 1s 7ms/step - loss: 3.1382 - val_loss: 3.1292\n",
      "Epoch 174/400\n",
      "196/196 [==============================] - 1s 8ms/step - loss: 3.1379 - val_loss: 3.1268\n",
      "Epoch 175/400\n",
      "196/196 [==============================] - 1s 7ms/step - loss: 3.1354 - val_loss: 3.1378\n",
      "Epoch 176/400\n",
      "196/196 [==============================] - 1s 8ms/step - loss: 3.1358 - val_loss: 3.1534\n",
      "Epoch 177/400\n",
      "196/196 [==============================] - 1s 8ms/step - loss: 3.1345 - val_loss: 3.1453\n",
      "Epoch 178/400\n",
      "196/196 [==============================] - 1s 7ms/step - loss: 3.1336 - val_loss: 3.1496\n",
      "Epoch 179/400\n",
      "196/196 [==============================] - 2s 8ms/step - loss: 3.1333 - val_loss: 3.1250\n",
      "Epoch 180/400\n",
      "196/196 [==============================] - 2s 8ms/step - loss: 3.1351 - val_loss: 3.1237\n",
      "Epoch 181/400\n",
      "196/196 [==============================] - 1s 7ms/step - loss: 3.1329 - val_loss: 3.1431\n",
      "Epoch 182/400\n",
      "196/196 [==============================] - 1s 7ms/step - loss: 3.1342 - val_loss: 3.1294\n",
      "Epoch 183/400\n",
      "196/196 [==============================] - 2s 8ms/step - loss: 3.1328 - val_loss: 3.1284\n",
      "Epoch 184/400\n",
      "196/196 [==============================] - 2s 8ms/step - loss: 3.1324 - val_loss: 3.1318\n",
      "Epoch 185/400\n",
      "196/196 [==============================] - 1s 7ms/step - loss: 3.1315 - val_loss: 3.1225\n",
      "Epoch 186/400\n",
      "196/196 [==============================] - 1s 7ms/step - loss: 3.1328 - val_loss: 3.1221\n",
      "Epoch 187/400\n",
      "196/196 [==============================] - 2s 8ms/step - loss: 3.1324 - val_loss: 3.1244\n",
      "Epoch 188/400\n",
      "196/196 [==============================] - 1s 7ms/step - loss: 3.1324 - val_loss: 3.1557\n",
      "Epoch 189/400\n",
      "196/196 [==============================] - 1s 7ms/step - loss: 3.1305 - val_loss: 3.1198\n",
      "Epoch 190/400\n",
      "196/196 [==============================] - 1s 7ms/step - loss: 3.1300 - val_loss: 3.1243\n",
      "Epoch 191/400\n",
      "196/196 [==============================] - 2s 8ms/step - loss: 3.1312 - val_loss: 3.1394\n",
      "Epoch 192/400\n",
      "196/196 [==============================] - 1s 8ms/step - loss: 3.1289 - val_loss: 3.1253\n",
      "Epoch 193/400\n",
      "196/196 [==============================] - 2s 8ms/step - loss: 3.1298 - val_loss: 3.1194\n",
      "Epoch 194/400\n",
      "196/196 [==============================] - 1s 8ms/step - loss: 3.1290 - val_loss: 3.1217\n",
      "Epoch 195/400\n",
      "196/196 [==============================] - 1s 7ms/step - loss: 3.1293 - val_loss: 3.1178\n",
      "Epoch 196/400\n",
      "196/196 [==============================] - 2s 8ms/step - loss: 3.1287 - val_loss: 3.1440\n",
      "Epoch 197/400\n",
      "196/196 [==============================] - 2s 8ms/step - loss: 3.1275 - val_loss: 3.1190\n",
      "Epoch 198/400\n",
      "196/196 [==============================] - 1s 7ms/step - loss: 3.1267 - val_loss: 3.1187\n",
      "Epoch 199/400\n",
      "196/196 [==============================] - 1s 8ms/step - loss: 3.1276 - val_loss: 3.1307\n",
      "Epoch 200/400\n",
      "196/196 [==============================] - 2s 8ms/step - loss: 3.1279 - val_loss: 3.1500\n",
      "Epoch 201/400\n",
      "196/196 [==============================] - 1s 7ms/step - loss: 3.1266 - val_loss: 3.1324\n",
      "Epoch 202/400\n",
      "196/196 [==============================] - 1s 7ms/step - loss: 3.1277 - val_loss: 3.1167\n",
      "Epoch 203/400\n",
      "196/196 [==============================] - 2s 8ms/step - loss: 3.1255 - val_loss: 3.1172\n",
      "Epoch 204/400\n",
      "196/196 [==============================] - 2s 8ms/step - loss: 3.1269 - val_loss: 3.1167\n",
      "Epoch 205/400\n",
      "196/196 [==============================] - 1s 8ms/step - loss: 3.1275 - val_loss: 3.1169\n",
      "Epoch 206/400\n",
      "196/196 [==============================] - 2s 8ms/step - loss: 3.1251 - val_loss: 3.1169\n",
      "Epoch 207/400\n",
      "196/196 [==============================] - 2s 8ms/step - loss: 3.1265 - val_loss: 3.1209\n",
      "Epoch 208/400\n",
      "196/196 [==============================] - 1s 8ms/step - loss: 3.1266 - val_loss: 3.1166\n",
      "Epoch 209/400\n",
      "196/196 [==============================] - 1s 7ms/step - loss: 3.1264 - val_loss: 3.1269\n",
      "Epoch 210/400\n",
      "196/196 [==============================] - 1s 8ms/step - loss: 3.1245 - val_loss: 3.1143\n",
      "Epoch 211/400\n",
      "196/196 [==============================] - 1s 7ms/step - loss: 3.1253 - val_loss: 3.1158\n",
      "Epoch 212/400\n",
      "196/196 [==============================] - 1s 7ms/step - loss: 3.1252 - val_loss: 3.1215\n",
      "Epoch 213/400\n",
      "196/196 [==============================] - 1s 7ms/step - loss: 3.1246 - val_loss: 3.1262\n",
      "Epoch 214/400\n",
      "196/196 [==============================] - 1s 7ms/step - loss: 3.1236 - val_loss: 3.1582\n",
      "Epoch 215/400\n",
      "196/196 [==============================] - 2s 8ms/step - loss: 3.1245 - val_loss: 3.1453\n",
      "Epoch 216/400\n",
      "196/196 [==============================] - 1s 8ms/step - loss: 3.1254 - val_loss: 3.1189\n",
      "Epoch 217/400\n",
      "196/196 [==============================] - 1s 7ms/step - loss: 3.1233 - val_loss: 3.1162\n",
      "Epoch 218/400\n",
      "196/196 [==============================] - 1s 7ms/step - loss: 3.1265 - val_loss: 3.1288\n",
      "Epoch 219/400\n",
      "196/196 [==============================] - 1s 7ms/step - loss: 3.1226 - val_loss: 3.1134\n",
      "Epoch 220/400\n",
      "196/196 [==============================] - 1s 7ms/step - loss: 3.1223 - val_loss: 3.1172\n",
      "Epoch 221/400\n",
      "196/196 [==============================] - 1s 7ms/step - loss: 3.1234 - val_loss: 3.1306\n",
      "Epoch 222/400\n",
      "196/196 [==============================] - 1s 7ms/step - loss: 3.1236 - val_loss: 3.1128\n",
      "Epoch 223/400\n",
      "196/196 [==============================] - 1s 7ms/step - loss: 3.1219 - val_loss: 3.1129\n",
      "Epoch 224/400\n",
      "196/196 [==============================] - 1s 7ms/step - loss: 3.1222 - val_loss: 3.1172\n",
      "Epoch 225/400\n",
      "196/196 [==============================] - 1s 7ms/step - loss: 3.1242 - val_loss: 3.1137\n",
      "Epoch 226/400\n",
      "196/196 [==============================] - 1s 7ms/step - loss: 3.1225 - val_loss: 3.1127\n",
      "Epoch 227/400\n",
      "196/196 [==============================] - 1s 7ms/step - loss: 3.1217 - val_loss: 3.1141\n",
      "Epoch 228/400\n",
      "196/196 [==============================] - 1s 7ms/step - loss: 3.1183 - val_loss: 3.1178\n",
      "Epoch 229/400\n",
      "196/196 [==============================] - 1s 7ms/step - loss: 3.1202 - val_loss: 3.1115\n",
      "Epoch 230/400\n",
      "196/196 [==============================] - 1s 7ms/step - loss: 3.1213 - val_loss: 3.1135\n",
      "Epoch 231/400\n",
      "196/196 [==============================] - 1s 7ms/step - loss: 3.1238 - val_loss: 3.1117\n",
      "Epoch 232/400\n",
      "196/196 [==============================] - 1s 7ms/step - loss: 3.1205 - val_loss: 3.1187\n",
      "Epoch 233/400\n",
      "196/196 [==============================] - 1s 7ms/step - loss: 3.1210 - val_loss: 3.1156\n",
      "Epoch 234/400\n",
      "196/196 [==============================] - 1s 7ms/step - loss: 3.1183 - val_loss: 3.1106\n",
      "Epoch 235/400\n",
      "196/196 [==============================] - 1s 7ms/step - loss: 3.1194 - val_loss: 3.1153\n",
      "Epoch 236/400\n",
      "196/196 [==============================] - 1s 7ms/step - loss: 3.1210 - val_loss: 3.1168\n",
      "Epoch 237/400\n",
      "196/196 [==============================] - 1s 7ms/step - loss: 3.1209 - val_loss: 3.1157\n",
      "Epoch 238/400\n",
      "196/196 [==============================] - 1s 7ms/step - loss: 3.1189 - val_loss: 3.1145\n",
      "Epoch 239/400\n",
      "196/196 [==============================] - 1s 7ms/step - loss: 3.1193 - val_loss: 3.1754\n",
      "Epoch 240/400\n",
      "196/196 [==============================] - 1s 7ms/step - loss: 3.1218 - val_loss: 3.1142\n",
      "Epoch 241/400\n",
      "196/196 [==============================] - 1s 7ms/step - loss: 3.1189 - val_loss: 3.1158\n",
      "Epoch 242/400\n",
      "196/196 [==============================] - 1s 7ms/step - loss: 3.1197 - val_loss: 3.1112\n",
      "Epoch 243/400\n",
      "196/196 [==============================] - 1s 7ms/step - loss: 3.1191 - val_loss: 3.1195\n",
      "Epoch 244/400\n",
      "196/196 [==============================] - 2s 8ms/step - loss: 3.1184 - val_loss: 3.1118\n"
     ]
    }
   ],
   "source": [
    "es = EarlyStopping(patience=10)\n",
    "\n",
    "history = model.fit(X_train,\n",
    "                    y_train,\n",
    "                    callbacks=[es],\n",
    "                    epochs=500, \n",
    "                    batch_size=4096,\n",
    "                    validation_split=0.2,\n",
    "                    shuffle=True,\n",
    "                    verbose=1)"
   ]
  },
  {
   "cell_type": "code",
   "execution_count": 9,
   "metadata": {},
   "outputs": [
    {
     "name": "stderr",
     "output_type": "stream",
     "text": [
      "/tmp/ipykernel_226544/3321773974.py:10: MatplotlibDeprecationWarning: Support for case-insensitive scales is deprecated since 3.5 and support will be removed two minor releases later.\n",
      "  plt.yscale('Log')\n"
     ]
    },
    {
     "data": {
      "image/png": "[encoded data removed]",
      "text/plain": [
       "<Figure size 640x480 with 1 Axes>"
      ]
     },
     "metadata": {},
     "output_type": "display_data"
    }
   ],
   "source": [
    "history_dict = history.history\n",
    "loss_values = history_dict['loss'] \n",
    "val_loss_values = history_dict['val_loss'] \n",
    "epochs = range(1, len(loss_values) + 1) \n",
    "plt.plot(epochs, loss_values, 'bo', label='Training loss')\n",
    "plt.plot(epochs, val_loss_values, 'orange', label='Validation loss')\n",
    "plt.title('Training and validation loss')\n",
    "plt.xlabel('Epochs')\n",
    "plt.ylabel('Loss')\n",
    "plt.yscale('Log')\n",
    "plt.legend()\n",
    "plt.show()"
   ]
  },
  {
   "cell_type": "code",
   "execution_count": 10,
   "metadata": {},
   "outputs": [],
   "source": [
    "model.save('models_1Dx/gauss.keras')"
   ]
  },
  {
   "cell_type": "code",
   "execution_count": 11,
   "metadata": {},
   "outputs": [
    {
     "name": "stdout",
     "output_type": "stream",
     "text": [
      "15625/15625 [==============================] - 20s 1ms/step\n"
     ]
    }
   ],
   "source": [
    "p_test = model.predict(X_test)\n",
    "df = pd.DataFrame(p_test,columns=['mu','sigma'])\n",
    "df['sigma'] = 0.1 + tf.math.softplus(df['sigma'])\n",
    "df['xtrue'] = y_test\n",
    "df.to_csv(\"test_1DxGauss.csv\",header=False,index=False)\n"
   ]
  },
  {
   "cell_type": "code",
   "execution_count": 12,
   "metadata": {},
   "outputs": [
    {
     "data": {
      "text/plain": [
       "500000"
      ]
     },
     "execution_count": 12,
     "metadata": {},
     "output_type": "execute_result"
    }
   ],
   "source": [
    "len(df)"
   ]
  },
  {
   "cell_type": "code",
   "execution_count": 13,
   "metadata": {},
   "outputs": [
    {
     "name": "stdout",
     "output_type": "stream",
     "text": [
      "-0.3597460328760197 6.460238508363173\n"
     ]
    }
   ],
   "source": [
    "residuals = y_test - p_test[:,0]\n",
    "print(np.mean(residuals),np.std(residuals))"
   ]
  },
  {
   "cell_type": "code",
   "execution_count": 14,
   "metadata": {},
   "outputs": [
    {
     "name": "stdout",
     "output_type": "stream",
     "text": [
      "5.641157 2.1351473\n"
     ]
    }
   ],
   "source": [
    "uncertainty= 0.1 + tf.math.softplus(p_test[:,1])\n",
    "print(np.mean(uncertainty),np.std(uncertainty))"
   ]
  },
  {
   "cell_type": "code",
   "execution_count": 15,
   "metadata": {},
   "outputs": [
    {
     "data": {
      "image/png": "[encoded data removed]",
      "text/plain": [
       "<Figure size 640x480 with 1 Axes>"
      ]
     },
     "metadata": {},
     "output_type": "display_data"
    }
   ],
   "source": [
    "plt.hist(p_test[:,0],bins=np.linspace(-100,100,50))\n",
    "#plt.yscale('Log')\n",
    "plt.xlabel(r'$x$ [um]')\n",
    "plt.show()"
   ]
  },
  {
   "cell_type": "code",
   "execution_count": 16,
   "metadata": {},
   "outputs": [
    {
     "data": {
      "image/png": "[encoded data removed]",
      "text/plain": [
       "<Figure size 640x480 with 1 Axes>"
      ]
     },
     "metadata": {},
     "output_type": "display_data"
    },
    {
     "data": {
      "image/png": "[encoded data removed]",
      "text/plain": [
       "<Figure size 640x480 with 1 Axes>"
      ]
     },
     "metadata": {},
     "output_type": "display_data"
    }
   ],
   "source": [
    "plt.hist(residuals,bins=np.linspace(-50,50,50))\n",
    "#plt.yscale('Log')\n",
    "plt.xlabel(r'$x-\\mu_x$ [um]')\n",
    "plt.show()\n",
    "\n",
    "plt.hist(uncertainty,bins=np.linspace(0,25,50));\n",
    "#plt.yscale('Log')\n",
    "plt.xlabel(r'$\\sigma_x$ [um]')\n",
    "plt.show()"
   ]
  },
  {
   "cell_type": "code",
   "execution_count": 17,
   "metadata": {},
   "outputs": [
    {
     "data": {
      "text/plain": [
       "Text(0, 0.5, '$x-\\\\mu_x$ [um]')"
      ]
     },
     "execution_count": 17,
     "metadata": {},
     "output_type": "execute_result"
    },
    {
     "data": {
      "image/png": "[encoded data removed]",
      "text/plain": [
       "<Figure size 640x480 with 1 Axes>"
      ]
     },
     "metadata": {},
     "output_type": "display_data"
    }
   ],
   "source": [
    "x = sns.regplot(x=df['xtrue'], y=df['xtrue']-df['mu'], x_bins=np.linspace(-80,80,50), fit_reg=None, marker='.')\n",
    "plt.xlabel(r'True $x$ [um]')\n",
    "plt.ylabel(r'$x-\\mu_x$ [um]')"
   ]
  },
  {
   "cell_type": "code",
   "execution_count": 18,
   "metadata": {},
   "outputs": [
    {
     "data": {
      "text/plain": [
       "Text(0, 0.5, '$\\\\sigma_x$ [um]')"
      ]
     },
     "execution_count": 18,
     "metadata": {},
     "output_type": "execute_result"
    },
    {
     "data": {
      "image/png": "[encoded data removed]",
      "text/plain": [
       "<Figure size 640x480 with 1 Axes>"
      ]
     },
     "metadata": {},
     "output_type": "display_data"
    }
   ],
   "source": [
    "x = sns.regplot(x=df['xtrue'], y=df['sigma'], x_bins=np.linspace(-80,80,50), fit_reg=None, marker='.')\n",
    "plt.xlabel(r'True $x$ [um]')\n",
    "plt.ylabel(r'$\\sigma_x$ [um]')"
   ]
  },
  {
   "cell_type": "code",
   "execution_count": 19,
   "metadata": {},
   "outputs": [],
   "source": [
    "pulls = residuals/p_test[:,1]"
   ]
  },
  {
   "cell_type": "code",
   "execution_count": 20,
   "metadata": {},
   "outputs": [
    {
     "data": {
      "text/plain": [
       "Text(0.5, 0, 'pull')"
      ]
     },
     "execution_count": 20,
     "metadata": {},
     "output_type": "execute_result"
    },
    {
     "data": {
      "image/png": "[encoded data removed]",
      "text/plain": [
       "<Figure size 640x480 with 1 Axes>"
      ]
     },
     "metadata": {},
     "output_type": "display_data"
    }
   ],
   "source": [
    "plt.hist(pulls,bins=50);\n",
    "plt.xlabel('pull')"
   ]
  },
  {
   "cell_type": "code",
   "execution_count": 21,
   "metadata": {},
   "outputs": [
    {
     "name": "stdout",
     "output_type": "stream",
     "text": [
      "-0.07971068786600513 1.059034729413733\n"
     ]
    }
   ],
   "source": [
    "print(np.mean(pulls),np.std(pulls))"
   ]
  },
  {
   "cell_type": "code",
   "execution_count": 22,
   "metadata": {},
   "outputs": [
    {
     "data": {
      "text/plain": [
       "[<keras.engine.input_layer.InputLayer at 0x7fd30c549130>,\n",
       " <keras.layers.core.dense.Dense at 0x7fd22bbb52b0>,\n",
       " <keras.layers.core.activation.Activation at 0x7fd22bbb5640>,\n",
       " <keras.layers.normalization.batch_normalization.BatchNormalization at 0x7fd22bbb5b80>,\n",
       " <keras.layers.core.dense.Dense at 0x7fd22b359e80>]"
      ]
     },
     "execution_count": 22,
     "metadata": {},
     "output_type": "execute_result"
    }
   ],
   "source": [
    "model.layers"
   ]
  },
  {
   "cell_type": "code",
   "execution_count": 23,
   "metadata": {},
   "outputs": [
    {
     "name": "stderr",
     "output_type": "stream",
     "text": [
      "/tmp/ipykernel_226544/2940326780.py:1: VisibleDeprecationWarning: Creating an ndarray from ragged nested sequences (which is a list-or-tuple of lists-or-tuples-or ndarrays with different lengths or shapes) is deprecated. If you meant to do this, you must specify 'dtype=object' when creating the ndarray.\n",
      "  max(np.array(model.layers[1].get_weights()).flatten()[0].flatten())\n"
     ]
    },
    {
     "data": {
      "text/plain": [
       "3.392645"
      ]
     },
     "execution_count": 23,
     "metadata": {},
     "output_type": "execute_result"
    }
   ],
   "source": [
    "max(np.array(model.layers[1].get_weights()).flatten()[0].flatten())"
   ]
  },
  {
   "cell_type": "code",
   "execution_count": 24,
   "metadata": {},
   "outputs": [
    {
     "data": {
      "text/plain": [
       "6.2569876"
      ]
     },
     "execution_count": 24,
     "metadata": {},
     "output_type": "execute_result"
    }
   ],
   "source": [
    "np.max(np.array(model.layers[3].get_weights()).flatten())"
   ]
  },
  {
   "cell_type": "code",
   "execution_count": 25,
   "metadata": {},
   "outputs": [
    {
     "data": {
      "text/plain": [
       "Text(0.5, 0, 'true x [um]')"
      ]
     },
     "execution_count": 25,
     "metadata": {},
     "output_type": "execute_result"
    },
    {
     "data": {
      "image/png": "[encoded data removed]",
      "text/plain": [
       "<Figure size 640x480 with 1 Axes>"
      ]
     },
     "metadata": {},
     "output_type": "display_data"
    }
   ],
   "source": [
    "plt.hist([df[df['sigma']<7]['xtrue'],df[df['sigma']>7]['xtrue']],bins=np.linspace(-75,75,25),stacked=True,label=['$\\sigma_x<7$','$\\sigma_x>7$']);\n",
    "plt.ylim(0,30000)\n",
    "plt.legend(frameon=False)\n",
    "plt.xlabel('true x [um]')"
   ]
  },
  {
   "cell_type": "code",
   "execution_count": null,
   "metadata": {},
   "outputs": [],
   "source": []
  }
 ],
 "metadata": {
  "kernelspec": {
   "display_name": "Python 3 (ipykernel)",
   "language": "python",
   "name": "py3-preamble"
  },
  "language_info": {
   "codemirror_mode": {
    "name": "ipython",
    "version": 3
   },
   "file_extension": ".py",
   "mimetype": "text/x-python",
   "name": "python",
   "nbconvert_exporter": "python",
   "pygments_lexer": "ipython3",
   "version": "3.9.13"
  }
 },
 "nbformat": 4,
 "nbformat_minor": 4
}
