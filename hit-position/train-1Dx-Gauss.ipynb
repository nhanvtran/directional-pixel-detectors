{
 "cells": [
  {
   "cell_type": "code",
   "execution_count": 1,
   "metadata": {},
   "outputs": [
    {
     "name": "stderr",
     "output_type": "stream",
     "text": [
      "2022-10-20 11:00:19.940669: W tensorflow/stream_executor/platform/default/dso_loader.cc:64] Could not load dynamic library 'libcudart.so.11.0'; dlerror: libcudart.so.11.0: cannot open shared object file: No such file or directory; LD_LIBRARY_PATH: /cvmfs/sft.cern.ch/lcg/releases/MCGenerators/thepeg/2.2.1-8d929/x86_64-centos7-gcc8-opt/lib/ThePEG:/cvmfs/sft.cern.ch/lcg/releases/MCGenerators/herwig++/7.2.1-f3599/x86_64-centos7-gcc8-opt/lib/Herwig:/cvmfs/sft.cern.ch/lcg/views/LCG_101/x86_64-centos7-gcc8-opt/lib/python3.9/site-packages/torch/lib:/cvmfs/sft.cern.ch/lcg/views/LCG_101/x86_64-centos7-gcc8-opt/lib/python3.9/site-packages/tensorflow:/cvmfs/sft.cern.ch/lcg/views/LCG_101/x86_64-centos7-gcc8-opt/lib/python3.9/site-packages/tensorflow/contrib/tensor_forest:/cvmfs/sft.cern.ch/lcg/views/LCG_101/x86_64-centos7-gcc8-opt/lib/python3.9/site-packages/tensorflow/python/framework:/cvmfs/sft.cern.ch/lcg/releases/java/8u222-884d8/x86_64-centos7-gcc8-opt/jre/lib/amd64:/cvmfs/sft.cern.ch/lcg/views/LCG_101/x86_64-centos7-gcc8-opt/lib64:/cvmfs/sft.cern.ch/lcg/views/LCG_101/x86_64-centos7-gcc8-opt/lib:/cvmfs/sft.cern.ch/lcg/releases/gcc/8.3.0-cebb0/x86_64-centos7/lib:/cvmfs/sft.cern.ch/lcg/releases/gcc/8.3.0-cebb0/x86_64-centos7/lib64:/cvmfs/sft.cern.ch/lcg/releases/binutils/2.30-e5b21/x86_64-centos7/lib:/cvmfs/sft.cern.ch/lcg/releases/R/3.6.3-dfb24/x86_64-centos7-gcc8-opt/lib64/R/library/readr/rcon\n",
      "2022-10-20 11:00:19.940701: I tensorflow/stream_executor/cuda/cudart_stub.cc:29] Ignore above cudart dlerror if you do not have a GPU set up on your machine.\n"
     ]
    }
   ],
   "source": [
    "from sklearn.metrics import mean_squared_error\n",
    "from sklearn.preprocessing import StandardScaler\n",
    "import tensorflow as tf\n",
    "from tensorflow.keras import datasets, layers, models\n",
    "from keras.models import Sequential\n",
    "from keras.layers import Dense, Dropout, Flatten\n",
    "from keras.callbacks import EarlyStopping\n",
    "import matplotlib.pyplot as plt\n",
    "import numpy as np\n",
    "import pandas as pd\n",
    "import math"
   ]
  },
  {
   "cell_type": "code",
   "execution_count": 2,
   "metadata": {},
   "outputs": [],
   "source": [
    "train_df = pd.read_csv('train_1Dx.csv',nrows=100000)\n",
    "test_df = pd.read_csv('test_1Dx.csv',nrows=5000)"
   ]
  },
  {
   "cell_type": "code",
   "execution_count": 3,
   "metadata": {},
   "outputs": [],
   "source": [
    "X_train = train_df.drop(columns=['x-midplane','cotAlpha']).values\n",
    "X_test = test_df.drop(columns=['x-midplane','cotAlpha']).values\n",
    "\n",
    "y_train = train_df['x-midplane'].values\n",
    "y_test = test_df['x-midplane'].values"
   ]
  },
  {
   "cell_type": "code",
   "execution_count": 4,
   "metadata": {},
   "outputs": [],
   "source": [
    "scaler = StandardScaler()\n",
    "X_train = scaler.fit_transform(X_train.reshape(-1, X_train.shape[-1])).reshape(X_train.shape)\n",
    "X_test = scaler.fit_transform(X_test.reshape(-1, X_test.shape[-1])).reshape(X_test.shape)"
   ]
  },
  {
   "cell_type": "code",
   "execution_count": 5,
   "metadata": {},
   "outputs": [
    {
     "name": "stdout",
     "output_type": "stream",
     "text": [
      "Model: \"sequential\"\n",
      "_________________________________________________________________\n",
      "Layer (type)                 Output Shape              Param #   \n",
      "=================================================================\n",
      "dense (Dense)                (None, 32)                704       \n",
      "_________________________________________________________________\n",
      "dense_1 (Dense)              (None, 2)                 66        \n",
      "=================================================================\n",
      "Total params: 770\n",
      "Trainable params: 770\n",
      "Non-trainable params: 0\n",
      "_________________________________________________________________\n"
     ]
    },
    {
     "name": "stderr",
     "output_type": "stream",
     "text": [
      "2022-10-20 11:00:23.753162: W tensorflow/stream_executor/platform/default/dso_loader.cc:64] Could not load dynamic library 'libcuda.so.1'; dlerror: libcuda.so.1: cannot open shared object file: No such file or directory; LD_LIBRARY_PATH: /cvmfs/sft.cern.ch/lcg/releases/MCGenerators/thepeg/2.2.1-8d929/x86_64-centos7-gcc8-opt/lib/ThePEG:/cvmfs/sft.cern.ch/lcg/releases/MCGenerators/herwig++/7.2.1-f3599/x86_64-centos7-gcc8-opt/lib/Herwig:/cvmfs/sft.cern.ch/lcg/views/LCG_101/x86_64-centos7-gcc8-opt/lib/python3.9/site-packages/torch/lib:/cvmfs/sft.cern.ch/lcg/views/LCG_101/x86_64-centos7-gcc8-opt/lib/python3.9/site-packages/tensorflow:/cvmfs/sft.cern.ch/lcg/views/LCG_101/x86_64-centos7-gcc8-opt/lib/python3.9/site-packages/tensorflow/contrib/tensor_forest:/cvmfs/sft.cern.ch/lcg/views/LCG_101/x86_64-centos7-gcc8-opt/lib/python3.9/site-packages/tensorflow/python/framework:/cvmfs/sft.cern.ch/lcg/releases/java/8u222-884d8/x86_64-centos7-gcc8-opt/jre/lib/amd64:/cvmfs/sft.cern.ch/lcg/views/LCG_101/x86_64-centos7-gcc8-opt/lib64:/cvmfs/sft.cern.ch/lcg/views/LCG_101/x86_64-centos7-gcc8-opt/lib:/cvmfs/sft.cern.ch/lcg/releases/gcc/8.3.0-cebb0/x86_64-centos7/lib:/cvmfs/sft.cern.ch/lcg/releases/gcc/8.3.0-cebb0/x86_64-centos7/lib64:/cvmfs/sft.cern.ch/lcg/releases/binutils/2.30-e5b21/x86_64-centos7/lib:/cvmfs/sft.cern.ch/lcg/releases/R/3.6.3-dfb24/x86_64-centos7-gcc8-opt/lib64/R/library/readr/rcon\n",
      "2022-10-20 11:00:23.753192: W tensorflow/stream_executor/cuda/cuda_driver.cc:326] failed call to cuInit: UNKNOWN ERROR (303)\n",
      "2022-10-20 11:00:23.753235: I tensorflow/stream_executor/cuda/cuda_diagnostics.cc:156] kernel driver does not appear to be running on this host (cmslpc159.fnal.gov): /proc/driver/nvidia/version does not exist\n",
      "2022-10-20 11:00:23.754648: I tensorflow/core/platform/cpu_feature_guard.cc:142] This TensorFlow binary is optimized with oneAPI Deep Neural Network Library (oneDNN) to use the following CPU instructions in performance-critical operations:  AVX2 FMA\n",
      "To enable them in other operations, rebuild TensorFlow with the appropriate compiler flags.\n"
     ]
    }
   ],
   "source": [
    "model = Sequential()\n",
    "model.add(Dense(32, input_shape=(21,), activation='relu')) # Add an input shape! (features,)\n",
    "model.add(Dense(2, activation='linear'))\n",
    "model.summary() "
   ]
  },
  {
   "cell_type": "code",
   "execution_count": 6,
   "metadata": {},
   "outputs": [],
   "source": [
    "def custom_loss(y, p):\n",
    "    \n",
    "    maxval = 1e6\n",
    "    minval = 1e-9\n",
    "    pi = 3.14159265359\n",
    "    \n",
    "    mu = tf.gather(params=p, indices=[0], axis=1)\n",
    "    sigma = tf.clip_by_value(tf.gather(params=p, indices=[1], axis=1),minval,maxval)\n",
    "        \n",
    "    term = tf.clip_by_value(1.0/tf.math.sqrt(2*pi)/sigma*tf.math.exp(-1*(y-mu)*(y-mu)/(2*sigma*sigma)),minval,maxval)\n",
    "    NLL = tf.clip_by_value(-1*tf.math.log(term),minval,maxval)\n",
    "    \n",
    "    return tf.keras.backend.sum(NLL,axis=1)"
   ]
  },
  {
   "cell_type": "code",
   "execution_count": 7,
   "metadata": {},
   "outputs": [],
   "source": [
    "model.compile(optimizer='Adam', \n",
    "              loss=custom_loss)"
   ]
  },
  {
   "cell_type": "code",
   "execution_count": 8,
   "metadata": {},
   "outputs": [
    {
     "name": "stderr",
     "output_type": "stream",
     "text": [
      "2022-10-20 11:00:23.878616: I tensorflow/compiler/mlir/mlir_graph_optimization_pass.cc:176] None of the MLIR Optimization Passes are enabled (registered 2)\n",
      "2022-10-20 11:00:23.879528: I tensorflow/core/platform/profile_utils/cpu_utils.cc:114] CPU Frequency: 2894560000 Hz\n"
     ]
    },
    {
     "name": "stdout",
     "output_type": "stream",
     "text": [
      "Epoch 1/80\n",
      "WARNING:tensorflow:From /cvmfs/sft.cern.ch/lcg/views/LCG_101/x86_64-centos7-gcc8-opt/lib/python3.9/site-packages/tensorflow/python/ops/array_ops.py:5043: calling gather (from tensorflow.python.ops.array_ops) with validate_indices is deprecated and will be removed in a future version.\n",
      "Instructions for updating:\n",
      "The `validate_indices` argument has no effect. Indices are always validated on CPU and never validated on GPU.\n",
      "1250/1250 [==============================] - 2s 1ms/step - loss: 10.0541 - val_loss: 5.0670\n",
      "Epoch 2/80\n",
      "1250/1250 [==============================] - 1s 968us/step - loss: 4.7939 - val_loss: 4.5250\n",
      "Epoch 3/80\n",
      "1250/1250 [==============================] - 1s 976us/step - loss: 4.2609 - val_loss: 4.0820\n",
      "Epoch 4/80\n",
      "1250/1250 [==============================] - 1s 968us/step - loss: 3.9842 - val_loss: 3.8773\n",
      "Epoch 5/80\n",
      "1250/1250 [==============================] - 1s 967us/step - loss: 3.7978 - val_loss: 3.7123\n",
      "Epoch 6/80\n",
      "1250/1250 [==============================] - 1s 958us/step - loss: 3.6733 - val_loss: 3.6255\n",
      "Epoch 7/80\n",
      "1250/1250 [==============================] - 1s 941us/step - loss: 3.6123 - val_loss: 3.5804\n",
      "Epoch 8/80\n",
      "1250/1250 [==============================] - 1s 923us/step - loss: 3.5743 - val_loss: 3.5497\n",
      "Epoch 9/80\n",
      "1250/1250 [==============================] - 1s 930us/step - loss: 3.5450 - val_loss: 3.5223\n",
      "Epoch 10/80\n",
      "1250/1250 [==============================] - 1s 919us/step - loss: 3.5211 - val_loss: 3.4996\n",
      "Epoch 11/80\n",
      "1250/1250 [==============================] - 1s 929us/step - loss: 3.4999 - val_loss: 3.4795\n",
      "Epoch 12/80\n",
      "1250/1250 [==============================] - 1s 898us/step - loss: 3.4824 - val_loss: 3.4648\n",
      "Epoch 13/80\n",
      "1250/1250 [==============================] - 1s 944us/step - loss: 3.4673 - val_loss: 3.4520\n",
      "Epoch 14/80\n",
      "1250/1250 [==============================] - 1s 937us/step - loss: 3.4546 - val_loss: 3.4405\n",
      "Epoch 15/80\n",
      "1250/1250 [==============================] - 1s 929us/step - loss: 3.4431 - val_loss: 3.4289\n",
      "Epoch 16/80\n",
      "1250/1250 [==============================] - 1s 901us/step - loss: 3.4338 - val_loss: 3.4204\n",
      "Epoch 17/80\n",
      "1250/1250 [==============================] - 1s 938us/step - loss: 3.4247 - val_loss: 3.4136\n",
      "Epoch 18/80\n",
      "1250/1250 [==============================] - 1s 938us/step - loss: 3.4169 - val_loss: 3.4058\n",
      "Epoch 19/80\n",
      "1250/1250 [==============================] - 1s 940us/step - loss: 3.4103 - val_loss: 3.4001\n",
      "Epoch 20/80\n",
      "1250/1250 [==============================] - 1s 935us/step - loss: 3.4039 - val_loss: 3.3943\n",
      "Epoch 21/80\n",
      "1250/1250 [==============================] - 1s 903us/step - loss: 3.3983 - val_loss: 3.3888\n",
      "Epoch 22/80\n",
      "1250/1250 [==============================] - 1s 914us/step - loss: 3.3936 - val_loss: 3.3828\n",
      "Epoch 23/80\n",
      "1250/1250 [==============================] - 1s 908us/step - loss: 3.3889 - val_loss: 3.3807\n",
      "Epoch 24/80\n",
      "1250/1250 [==============================] - 1s 905us/step - loss: 3.3843 - val_loss: 3.3755\n",
      "Epoch 25/80\n",
      "1250/1250 [==============================] - 1s 909us/step - loss: 3.3804 - val_loss: 3.3734\n",
      "Epoch 26/80\n",
      "1250/1250 [==============================] - 1s 918us/step - loss: 3.3760 - val_loss: 3.3676\n",
      "Epoch 27/80\n",
      "1250/1250 [==============================] - 1s 918us/step - loss: 3.3724 - val_loss: 3.3651\n",
      "Epoch 28/80\n",
      "1250/1250 [==============================] - 1s 932us/step - loss: 3.3691 - val_loss: 3.3607\n",
      "Epoch 29/80\n",
      "1250/1250 [==============================] - 1s 928us/step - loss: 3.3652 - val_loss: 3.3595\n",
      "Epoch 30/80\n",
      "1250/1250 [==============================] - 1s 913us/step - loss: 3.3620 - val_loss: 3.3555\n",
      "Epoch 31/80\n",
      "1250/1250 [==============================] - 1s 935us/step - loss: 3.3592 - val_loss: 3.3521\n",
      "Epoch 32/80\n",
      "1250/1250 [==============================] - 1s 995us/step - loss: 3.3562 - val_loss: 3.3520\n",
      "Epoch 33/80\n",
      "1250/1250 [==============================] - 1s 986us/step - loss: 3.3535 - val_loss: 3.3459\n",
      "Epoch 34/80\n",
      "1250/1250 [==============================] - 1s 973us/step - loss: 3.3510 - val_loss: 3.3442\n",
      "Epoch 35/80\n",
      "1250/1250 [==============================] - 1s 968us/step - loss: 3.3487 - val_loss: 3.3433\n",
      "Epoch 36/80\n",
      "1250/1250 [==============================] - 1s 968us/step - loss: 3.3466 - val_loss: 3.3390\n",
      "Epoch 37/80\n",
      "1250/1250 [==============================] - 1s 948us/step - loss: 3.3441 - val_loss: 3.3377\n",
      "Epoch 38/80\n",
      "1250/1250 [==============================] - 1s 989us/step - loss: 3.3419 - val_loss: 3.3364\n",
      "Epoch 39/80\n",
      "1250/1250 [==============================] - 1s 970us/step - loss: 3.3406 - val_loss: 3.3328\n",
      "Epoch 40/80\n",
      "1250/1250 [==============================] - 1s 977us/step - loss: 3.3383 - val_loss: 3.3340\n",
      "Epoch 41/80\n",
      "1250/1250 [==============================] - 1s 944us/step - loss: 3.3374 - val_loss: 3.3323\n",
      "Epoch 42/80\n",
      "1250/1250 [==============================] - 1s 974us/step - loss: 3.3349 - val_loss: 3.3283\n",
      "Epoch 43/80\n",
      "1250/1250 [==============================] - 1s 985us/step - loss: 3.3335 - val_loss: 3.3268\n",
      "Epoch 44/80\n",
      "1250/1250 [==============================] - 1s 980us/step - loss: 3.3321 - val_loss: 3.3283\n",
      "Epoch 45/80\n",
      "1250/1250 [==============================] - 1s 964us/step - loss: 3.3306 - val_loss: 3.3253\n",
      "Epoch 46/80\n",
      "1250/1250 [==============================] - 1s 920us/step - loss: 3.3297 - val_loss: 3.3232\n",
      "Epoch 47/80\n",
      "1250/1250 [==============================] - 1s 925us/step - loss: 3.3282 - val_loss: 3.3248\n",
      "Epoch 48/80\n",
      "1250/1250 [==============================] - 1s 943us/step - loss: 3.3268 - val_loss: 3.3241\n",
      "Epoch 49/80\n",
      "1250/1250 [==============================] - 1s 920us/step - loss: 3.3259 - val_loss: 3.3200\n",
      "Epoch 50/80\n",
      "1250/1250 [==============================] - 1s 933us/step - loss: 3.3247 - val_loss: 3.3270\n",
      "Epoch 51/80\n",
      "1250/1250 [==============================] - 1s 959us/step - loss: 3.3238 - val_loss: 3.3210\n",
      "Epoch 52/80\n",
      "1250/1250 [==============================] - 1s 991us/step - loss: 3.3223 - val_loss: 3.3185\n",
      "Epoch 53/80\n",
      "1250/1250 [==============================] - 1s 931us/step - loss: 3.3217 - val_loss: 3.3174\n",
      "Epoch 54/80\n",
      "1250/1250 [==============================] - 1s 937us/step - loss: 3.3210 - val_loss: 3.3144\n",
      "Epoch 55/80\n",
      "1250/1250 [==============================] - 1s 897us/step - loss: 3.3202 - val_loss: 3.3141\n",
      "Epoch 56/80\n",
      "1250/1250 [==============================] - 1s 923us/step - loss: 3.3192 - val_loss: 3.3142\n",
      "Epoch 57/80\n",
      "1250/1250 [==============================] - 1s 931us/step - loss: 3.3184 - val_loss: 3.3168\n",
      "Epoch 58/80\n",
      "1250/1250 [==============================] - 1s 929us/step - loss: 3.3176 - val_loss: 3.3121\n",
      "Epoch 59/80\n",
      "1250/1250 [==============================] - 1s 916us/step - loss: 3.3167 - val_loss: 3.3098\n",
      "Epoch 60/80\n",
      "1250/1250 [==============================] - 1s 932us/step - loss: 3.3163 - val_loss: 3.3124\n",
      "Epoch 61/80\n",
      "1250/1250 [==============================] - 1s 914us/step - loss: 3.3158 - val_loss: 3.3087\n",
      "Epoch 62/80\n",
      "1250/1250 [==============================] - 1s 919us/step - loss: 3.3144 - val_loss: 3.3128\n",
      "Epoch 63/80\n",
      "1250/1250 [==============================] - 1s 949us/step - loss: 3.3140 - val_loss: 3.3083\n",
      "Epoch 64/80\n",
      "1250/1250 [==============================] - 1s 986us/step - loss: 3.3130 - val_loss: 3.3067\n",
      "Epoch 65/80\n",
      "1250/1250 [==============================] - 1s 966us/step - loss: 3.3127 - val_loss: 3.3071\n",
      "Epoch 66/80\n",
      "1250/1250 [==============================] - 1s 958us/step - loss: 3.3120 - val_loss: 3.3075\n",
      "Epoch 67/80\n",
      "1250/1250 [==============================] - 1s 951us/step - loss: 3.3114 - val_loss: 3.3091\n",
      "Epoch 68/80\n",
      "1250/1250 [==============================] - 1s 952us/step - loss: 3.3111 - val_loss: 3.3052\n",
      "Epoch 69/80\n",
      "1250/1250 [==============================] - 1s 941us/step - loss: 3.3096 - val_loss: 3.3025\n",
      "Epoch 70/80\n",
      "1250/1250 [==============================] - 1s 972us/step - loss: 3.3091 - val_loss: 3.3030\n",
      "Epoch 71/80\n",
      "1250/1250 [==============================] - 1s 967us/step - loss: 3.3089 - val_loss: 3.3044\n",
      "Epoch 72/80\n",
      "1250/1250 [==============================] - 1s 973us/step - loss: 3.3083 - val_loss: 3.3027\n",
      "Epoch 73/80\n",
      "1250/1250 [==============================] - 1s 956us/step - loss: 3.3080 - val_loss: 3.3041\n",
      "Epoch 74/80\n",
      "1250/1250 [==============================] - 1s 955us/step - loss: 3.3071 - val_loss: 3.3018\n",
      "Epoch 75/80\n"
     ]
    },
    {
     "name": "stdout",
     "output_type": "stream",
     "text": [
      "1250/1250 [==============================] - 1s 943us/step - loss: 3.3068 - val_loss: 3.3034\n",
      "Epoch 76/80\n",
      "1250/1250 [==============================] - 1s 960us/step - loss: 3.3060 - val_loss: 3.2998\n",
      "Epoch 77/80\n",
      "1250/1250 [==============================] - 1s 975us/step - loss: 3.3055 - val_loss: 3.3025\n",
      "Epoch 78/80\n",
      "1250/1250 [==============================] - 1s 962us/step - loss: 3.3053 - val_loss: 3.3009\n",
      "Epoch 79/80\n",
      "1250/1250 [==============================] - 1s 971us/step - loss: 3.3049 - val_loss: 3.2991\n",
      "Epoch 80/80\n",
      "1250/1250 [==============================] - 1s 960us/step - loss: 3.3038 - val_loss: 3.2999\n"
     ]
    }
   ],
   "source": [
    "es = EarlyStopping(patience=5)\n",
    "\n",
    "history = model.fit(X_train,\n",
    "                    y_train,\n",
    "                    callbacks=[es],\n",
    "                    epochs=80, \n",
    "                    batch_size=64,\n",
    "                    validation_split=0.2,\n",
    "                    shuffle=True,\n",
    "                    verbose=1)"
   ]
  },
  {
   "cell_type": "code",
   "execution_count": 9,
   "metadata": {},
   "outputs": [
    {
     "data": {
      "text/plain": [
       "<matplotlib.legend.Legend at 0x7f3ecc099b20>"
      ]
     },
     "execution_count": 9,
     "metadata": {},
     "output_type": "execute_result"
    },
    {
     "data": {
      "image/png": "[encoded data removed]",
      "text/plain": [
       "<Figure size 432x288 with 1 Axes>"
      ]
     },
     "metadata": {
      "needs_background": "light"
     },
     "output_type": "display_data"
    }
   ],
   "source": [
    "history_dict = history.history\n",
    "loss_values = history_dict['loss'] \n",
    "val_loss_values = history_dict['val_loss'] \n",
    "epochs = range(1, len(loss_values) + 1) \n",
    "plt.plot(epochs, loss_values, 'bo', label='Training loss')\n",
    "plt.plot(epochs, val_loss_values, 'orange', label='Validation loss')\n",
    "plt.title('Training and validation loss')\n",
    "plt.xlabel('Epochs')\n",
    "plt.ylabel('Loss')\n",
    "plt.yscale('Log')\n",
    "plt.legend()\n",
    "#plt.savefig('/home/jieun201/fullprecision400e_yprofile/loss.png')"
   ]
  },
  {
   "cell_type": "code",
   "execution_count": 10,
   "metadata": {},
   "outputs": [],
   "source": [
    "model.save('models_1Dx/gausstest.keras')"
   ]
  },
  {
   "cell_type": "code",
   "execution_count": 25,
   "metadata": {},
   "outputs": [],
   "source": [
    "p_test = model.predict(X_test)\n",
    "df = pd.DataFrame(p_test,columns=['mu','sigma'])\n",
    "df['xtrue'] = y_test\n",
    "df.to_csv(\"test_1DxGaus.csv\",header=False,index=False)"
   ]
  },
  {
   "cell_type": "code",
   "execution_count": 12,
   "metadata": {},
   "outputs": [
    {
     "name": "stdout",
     "output_type": "stream",
     "text": [
      "1.0220228363176087 8.515791948980622\n"
     ]
    }
   ],
   "source": [
    "residuals = y_test - p_test[:,0]\n",
    "print(np.mean(residuals),np.std(residuals))"
   ]
  },
  {
   "cell_type": "code",
   "execution_count": 13,
   "metadata": {},
   "outputs": [
    {
     "name": "stdout",
     "output_type": "stream",
     "text": [
      "6.6222844 2.2585173\n"
     ]
    }
   ],
   "source": [
    "uncertainty= p_test[:,1]\n",
    "print(np.mean(uncertainty),np.std(uncertainty))"
   ]
  },
  {
   "cell_type": "code",
   "execution_count": 14,
   "metadata": {},
   "outputs": [
    {
     "data": {
      "image/png": "[encoded data removed]",
      "text/plain": [
       "<Figure size 432x288 with 1 Axes>"
      ]
     },
     "metadata": {
      "needs_background": "light"
     },
     "output_type": "display_data"
    },
    {
     "data": {
      "image/png": "[encoded data removed]",
      "text/plain": [
       "<Figure size 432x288 with 1 Axes>"
      ]
     },
     "metadata": {
      "needs_background": "light"
     },
     "output_type": "display_data"
    }
   ],
   "source": [
    "plt.hist(residuals,bins=np.linspace(-50,50,50))\n",
    "#plt.yscale('Log')\n",
    "plt.xlabel(r'$x-\\mu_x$ [um]')\n",
    "plt.show()\n",
    "\n",
    "plt.hist(uncertainty,bins=np.linspace(0,25,50));\n",
    "#plt.yscale('Log')\n",
    "plt.xlabel(r'$\\sigma_x$ [um]')\n",
    "plt.show()"
   ]
  },
  {
   "cell_type": "code",
   "execution_count": 15,
   "metadata": {},
   "outputs": [
    {
     "data": {
      "text/plain": [
       "Text(0, 0.5, 'Predicted $x$ [um]')"
      ]
     },
     "execution_count": 15,
     "metadata": {},
     "output_type": "execute_result"
    },
    {
     "data": {
      "image/png": "[encoded data removed]",
      "text/plain": [
       "<Figure size 432x288 with 1 Axes>"
      ]
     },
     "metadata": {
      "needs_background": "light"
     },
     "output_type": "display_data"
    }
   ],
   "source": [
    "plt.errorbar(x=y_test,y=p_test[:,0],yerr=p_test[:,1],linestyle='',marker='.',markerfacecolor='black')\n",
    "plt.xlabel(r'$x$ [um]')\n",
    "plt.ylabel(r'Predicted $x$ [um]')"
   ]
  },
  {
   "cell_type": "code",
   "execution_count": 16,
   "metadata": {},
   "outputs": [
    {
     "data": {
      "text/plain": [
       "Text(0, 0.5, '$\\\\sigma_x$ [um]')"
      ]
     },
     "execution_count": 16,
     "metadata": {},
     "output_type": "execute_result"
    },
    {
     "data": {
      "image/png": "[encoded data removed]",
      "text/plain": [
       "<Figure size 432x288 with 1 Axes>"
      ]
     },
     "metadata": {
      "needs_background": "light"
     },
     "output_type": "display_data"
    }
   ],
   "source": [
    "plt.scatter(y_test,p_test[:,1])\n",
    "plt.xlabel(r'$x$ [um]')\n",
    "plt.ylabel(r'$\\sigma_x$ [um]')"
   ]
  },
  {
   "cell_type": "code",
   "execution_count": 17,
   "metadata": {},
   "outputs": [],
   "source": [
    "pulls = residuals/p_test[:,1]"
   ]
  },
  {
   "cell_type": "code",
   "execution_count": 18,
   "metadata": {},
   "outputs": [
    {
     "data": {
      "text/plain": [
       "Text(0.5, 0, 'pull')"
      ]
     },
     "execution_count": 18,
     "metadata": {},
     "output_type": "execute_result"
    },
    {
     "data": {
      "image/png": "[encoded data removed]",
      "text/plain": [
       "<Figure size 432x288 with 1 Axes>"
      ]
     },
     "metadata": {
      "needs_background": "light"
     },
     "output_type": "display_data"
    }
   ],
   "source": [
    "plt.hist(pulls,bins=50);\n",
    "plt.xlabel('pull')"
   ]
  },
  {
   "cell_type": "code",
   "execution_count": 19,
   "metadata": {},
   "outputs": [
    {
     "name": "stdout",
     "output_type": "stream",
     "text": [
      "0.17622285605841143 1.0945571660469728\n"
     ]
    }
   ],
   "source": [
    "print(np.mean(pulls),np.std(pulls))"
   ]
  }
 ],
 "metadata": {
  "kernelspec": {
   "display_name": "Python 3 (ipykernel)",
   "language": "python",
   "name": "python3"
  },
  "language_info": {
   "codemirror_mode": {
    "name": "ipython",
    "version": 3
   },
   "file_extension": ".py",
   "mimetype": "text/x-python",
   "name": "python",
   "nbconvert_exporter": "python",
   "pygments_lexer": "ipython3",
   "version": "3.9.6"
  }
 },
 "nbformat": 4,
 "nbformat_minor": 2
}
