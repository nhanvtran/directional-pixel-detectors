{
 "cells": [
  {
   "cell_type": "code",
   "execution_count": 1,
   "metadata": {},
   "outputs": [],
   "source": [
    "from sklearn.metrics import mean_squared_error\n",
    "from sklearn.preprocessing import StandardScaler\n",
    "import tensorflow as tf\n",
    "from tensorflow.keras import datasets, layers, models\n",
    "from keras.models import Sequential\n",
    "from keras.layers import Dense, Dropout, Flatten, Input, Activation, BatchNormalization\n",
    "from tensorflow.keras.callbacks import EarlyStopping\n",
    "from tensorflow.keras.optimizers import Adam\n",
    "from qkeras import *\n",
    "%matplotlib inline\n",
    "import matplotlib.pyplot as plt\n",
    "import numpy as np\n",
    "import pandas as pd\n",
    "import math"
   ]
  },
  {
   "cell_type": "code",
   "execution_count": 2,
   "metadata": {},
   "outputs": [],
   "source": [
    "train_df = pd.read_csv('train_1Dx.csv',nrows=1000000)\n",
    "test_df = pd.read_csv('test_1Dx.csv',nrows=50000)"
   ]
  },
  {
   "cell_type": "code",
   "execution_count": 3,
   "metadata": {},
   "outputs": [],
   "source": [
    "X_train = train_df.drop(columns=['x-midplane','cotAlpha']).values\n",
    "X_test = test_df.drop(columns=['x-midplane','cotAlpha']).values\n",
    "\n",
    "y_train = train_df['x-midplane'].values\n",
    "y_test = test_df['x-midplane'].values"
   ]
  },
  {
   "cell_type": "code",
   "execution_count": 4,
   "metadata": {},
   "outputs": [],
   "source": [
    "scaler = StandardScaler()\n",
    "X_train = scaler.fit_transform(X_train.reshape(-1, X_train.shape[-1])).reshape(X_train.shape)\n",
    "X_test = scaler.fit_transform(X_test.reshape(-1, X_test.shape[-1])).reshape(X_test.shape)"
   ]
  },
  {
   "cell_type": "code",
   "execution_count": 5,
   "metadata": {},
   "outputs": [],
   "source": [
    "def custom_loss(y, p):\n",
    "    \n",
    "    maxval = 1e9\n",
    "    minval = 1e-9\n",
    "    pi = 3.14159265359\n",
    "    \n",
    "    mu = tf.gather(params=p, indices=[0], axis=1)\n",
    "    sigma = tf.gather(params=p, indices=[1], axis=1)\n",
    "        \n",
    "    likelihood = 1.0/tf.math.sqrt(2*pi)/sigma*tf.math.exp(-1*(y-mu)*(y-mu)/(2*sigma*sigma))\n",
    "    likelihood = tf.clip_by_value(tf.math.multiply_no_nan(likelihood,tf.cast(sigma>0,tf.float32)),minval,maxval)\n",
    "    \n",
    "    NLL = -1*tf.math.log(likelihood)\n",
    "    \n",
    "    return tf.keras.backend.sum(NLL,axis=1)"
   ]
  },
  {
   "cell_type": "code",
   "execution_count": 6,
   "metadata": {},
   "outputs": [
    {
     "name": "stderr",
     "output_type": "stream",
     "text": [
      "2022-11-02 20:04:30.891234: I tensorflow/stream_executor/cuda/cuda_gpu_executor.cc:939] successful NUMA node read from SysFS had negative value (-1), but there must be at least one NUMA node, so returning NUMA node zero\n",
      "2022-11-02 20:04:30.928773: I tensorflow/stream_executor/cuda/cuda_gpu_executor.cc:939] successful NUMA node read from SysFS had negative value (-1), but there must be at least one NUMA node, so returning NUMA node zero\n",
      "2022-11-02 20:04:30.929124: I tensorflow/stream_executor/cuda/cuda_gpu_executor.cc:939] successful NUMA node read from SysFS had negative value (-1), but there must be at least one NUMA node, so returning NUMA node zero\n",
      "2022-11-02 20:04:30.930043: I tensorflow/core/platform/cpu_feature_guard.cc:151] This TensorFlow binary is optimized with oneAPI Deep Neural Network Library (oneDNN) to use the following CPU instructions in performance-critical operations:  SSE4.1 SSE4.2 AVX AVX2 FMA\n",
      "To enable them in other operations, rebuild TensorFlow with the appropriate compiler flags.\n",
      "2022-11-02 20:04:30.936897: I tensorflow/stream_executor/cuda/cuda_gpu_executor.cc:939] successful NUMA node read from SysFS had negative value (-1), but there must be at least one NUMA node, so returning NUMA node zero\n",
      "2022-11-02 20:04:30.937252: I tensorflow/stream_executor/cuda/cuda_gpu_executor.cc:939] successful NUMA node read from SysFS had negative value (-1), but there must be at least one NUMA node, so returning NUMA node zero\n",
      "2022-11-02 20:04:30.937566: I tensorflow/stream_executor/cuda/cuda_gpu_executor.cc:939] successful NUMA node read from SysFS had negative value (-1), but there must be at least one NUMA node, so returning NUMA node zero\n",
      "2022-11-02 20:04:31.512957: I tensorflow/stream_executor/cuda/cuda_gpu_executor.cc:939] successful NUMA node read from SysFS had negative value (-1), but there must be at least one NUMA node, so returning NUMA node zero\n",
      "2022-11-02 20:04:31.513336: I tensorflow/stream_executor/cuda/cuda_gpu_executor.cc:939] successful NUMA node read from SysFS had negative value (-1), but there must be at least one NUMA node, so returning NUMA node zero\n",
      "2022-11-02 20:04:31.513625: I tensorflow/stream_executor/cuda/cuda_gpu_executor.cc:939] successful NUMA node read from SysFS had negative value (-1), but there must be at least one NUMA node, so returning NUMA node zero\n",
      "2022-11-02 20:04:31.513910: I tensorflow/core/common_runtime/gpu/gpu_device.cc:1525] Created device /job:localhost/replica:0/task:0/device:GPU:0 with 7919 MB memory:  -> device: 0, name: NVIDIA A100 80GB PCIe MIG 1g.10gb, pci bus id: 0000:04:00.0, compute capability: 8.0\n"
     ]
    },
    {
     "name": "stdout",
     "output_type": "stream",
     "text": [
      "Model: \"model\"\n",
      "_________________________________________________________________\n",
      " Layer (type)                Output Shape              Param #   \n",
      "=================================================================\n",
      " input_1 (InputLayer)        [(None, 21)]              0         \n",
      "                                                                 \n",
      " dense1 (QDense)             (None, 64)                1408      \n",
      "                                                                 \n",
      " relu1 (QActivation)         (None, 64)                0         \n",
      "                                                                 \n",
      " dense2 (QDense)             (None, 2)                 130       \n",
      "                                                                 \n",
      "=================================================================\n",
      "Total params: 1,538\n",
      "Trainable params: 1,538\n",
      "Non-trainable params: 0\n",
      "_________________________________________________________________\n"
     ]
    }
   ],
   "source": [
    "from qkeras import *\n",
    "\n",
    "def CreateQModel(shape):\n",
    "    x = x_in = Input(shape)\n",
    "    #x = BatchNormalization()(x)\n",
    "    x = QDense(64, \n",
    "               kernel_quantizer=quantized_bits(32), \n",
    "               bias_quantizer=quantized_bits(36),\n",
    "               name=\"dense1\")(x)\n",
    "    #x = BatchNormalization()(x)\n",
    "    x = QActivation(\"relu\", name=\"relu1\")(x)\n",
    "    x = QDense(2, \n",
    "               kernel_quantizer=quantized_bits(32), \n",
    "               bias_quantizer=quantized_bits(36),\n",
    "               name=\"dense2\")(x)\n",
    "    \n",
    "    model = Model(inputs=x_in, outputs=x)\n",
    "    return model\n",
    "\n",
    "model=CreateQModel(X_train.shape[1:])\n",
    "\n",
    "model.compile(optimizer=Adam(),\n",
    "              loss=custom_loss)\n",
    "\n",
    "model.summary()"
   ]
  },
  {
   "cell_type": "code",
   "execution_count": 7,
   "metadata": {},
   "outputs": [
    {
     "name": "stdout",
     "output_type": "stream",
     "text": [
      "Epoch 1/80\n",
      "   67/12500 [..............................] - ETA: 29s - loss: 19.5941  "
     ]
    },
    {
     "name": "stderr",
     "output_type": "stream",
     "text": [
      "2022-11-02 20:04:35.107898: I tensorflow/stream_executor/cuda/cuda_blas.cc:1774] TensorFloat-32 will be used for the matrix multiplication. This will only be logged once.\n"
     ]
    },
    {
     "name": "stdout",
     "output_type": "stream",
     "text": [
      "12500/12500 [==============================] - 40s 3ms/step - loss: 4.2937 - val_loss: 3.7133\n",
      "Epoch 2/80\n",
      "12500/12500 [==============================] - 37s 3ms/step - loss: 3.7006 - val_loss: 3.6935\n",
      "Epoch 3/80\n",
      "12500/12500 [==============================] - 35s 3ms/step - loss: 3.6898 - val_loss: 3.6898\n",
      "Epoch 4/80\n",
      "12500/12500 [==============================] - 35s 3ms/step - loss: 3.6857 - val_loss: 3.6847\n",
      "Epoch 5/80\n",
      "12500/12500 [==============================] - 36s 3ms/step - loss: 3.6839 - val_loss: 3.6828\n",
      "Epoch 6/80\n",
      "12500/12500 [==============================] - 35s 3ms/step - loss: 3.6820 - val_loss: 3.6812\n",
      "Epoch 7/80\n",
      "12500/12500 [==============================] - 35s 3ms/step - loss: 3.6807 - val_loss: 3.6824\n",
      "Epoch 8/80\n",
      "12500/12500 [==============================] - 37s 3ms/step - loss: 3.6800 - val_loss: 3.6801\n",
      "Epoch 9/80\n",
      "12500/12500 [==============================] - 36s 3ms/step - loss: 3.6798 - val_loss: 3.6847\n",
      "Epoch 10/80\n",
      "12500/12500 [==============================] - 36s 3ms/step - loss: 3.6793 - val_loss: 3.6816\n",
      "Epoch 11/80\n",
      "12500/12500 [==============================] - 37s 3ms/step - loss: 3.6791 - val_loss: 3.6806\n",
      "Epoch 12/80\n",
      "12500/12500 [==============================] - 37s 3ms/step - loss: 3.6787 - val_loss: 3.6796\n",
      "Epoch 13/80\n",
      "12500/12500 [==============================] - 37s 3ms/step - loss: 3.6785 - val_loss: 3.6790\n",
      "Epoch 14/80\n",
      "12500/12500 [==============================] - 37s 3ms/step - loss: 3.6782 - val_loss: 3.6789\n",
      "Epoch 15/80\n",
      "12500/12500 [==============================] - 36s 3ms/step - loss: 3.6780 - val_loss: 3.6779\n",
      "Epoch 16/80\n",
      "12500/12500 [==============================] - 36s 3ms/step - loss: 3.6780 - val_loss: 3.6782\n",
      "Epoch 17/80\n",
      "12500/12500 [==============================] - 36s 3ms/step - loss: 3.6777 - val_loss: 3.6785\n",
      "Epoch 18/80\n",
      "12500/12500 [==============================] - 36s 3ms/step - loss: 3.6777 - val_loss: 3.6798\n",
      "Epoch 19/80\n",
      "12500/12500 [==============================] - 36s 3ms/step - loss: 3.6775 - val_loss: 3.6784\n",
      "Epoch 20/80\n",
      "12500/12500 [==============================] - 37s 3ms/step - loss: 3.6775 - val_loss: 3.6800\n",
      "Epoch 21/80\n",
      "12500/12500 [==============================] - 35s 3ms/step - loss: 3.6774 - val_loss: 3.6778\n",
      "Epoch 22/80\n",
      "12500/12500 [==============================] - 37s 3ms/step - loss: 3.6774 - val_loss: 3.6784\n",
      "Epoch 23/80\n",
      "12500/12500 [==============================] - 37s 3ms/step - loss: 3.6773 - val_loss: 3.6791\n",
      "Epoch 24/80\n",
      "12500/12500 [==============================] - 36s 3ms/step - loss: 3.6771 - val_loss: 3.6794\n",
      "Epoch 25/80\n",
      "12500/12500 [==============================] - 36s 3ms/step - loss: 3.6771 - val_loss: 3.6772\n",
      "Epoch 26/80\n",
      "12500/12500 [==============================] - 37s 3ms/step - loss: 3.6770 - val_loss: 3.6794\n",
      "Epoch 27/80\n",
      "12500/12500 [==============================] - 38s 3ms/step - loss: 3.6771 - val_loss: 3.6789\n",
      "Epoch 28/80\n",
      "12500/12500 [==============================] - 36s 3ms/step - loss: 3.6769 - val_loss: 3.6775\n",
      "Epoch 29/80\n",
      "12500/12500 [==============================] - 35s 3ms/step - loss: 3.6767 - val_loss: 3.6791\n",
      "Epoch 30/80\n",
      "12500/12500 [==============================] - 36s 3ms/step - loss: 3.6765 - val_loss: 3.6778\n",
      "Epoch 31/80\n",
      "12500/12500 [==============================] - 36s 3ms/step - loss: 3.6765 - val_loss: 3.6774\n",
      "Epoch 32/80\n",
      "12500/12500 [==============================] - 36s 3ms/step - loss: 3.6763 - val_loss: 3.6764\n",
      "Epoch 33/80\n",
      "12500/12500 [==============================] - 36s 3ms/step - loss: 3.6762 - val_loss: 3.6762\n",
      "Epoch 34/80\n",
      "12500/12500 [==============================] - 37s 3ms/step - loss: 3.6761 - val_loss: 3.6809\n",
      "Epoch 35/80\n",
      "12500/12500 [==============================] - 36s 3ms/step - loss: 3.6761 - val_loss: 3.6767\n",
      "Epoch 36/80\n",
      "12500/12500 [==============================] - 36s 3ms/step - loss: 3.6760 - val_loss: 3.6766\n",
      "Epoch 37/80\n",
      "12500/12500 [==============================] - 36s 3ms/step - loss: 3.6760 - val_loss: 3.6763\n",
      "Epoch 38/80\n",
      "12500/12500 [==============================] - 36s 3ms/step - loss: 3.6759 - val_loss: 3.6781\n",
      "Epoch 39/80\n",
      "12500/12500 [==============================] - 36s 3ms/step - loss: 3.6758 - val_loss: 3.6763\n",
      "Epoch 40/80\n",
      "12500/12500 [==============================] - 35s 3ms/step - loss: 3.6757 - val_loss: 3.6769\n",
      "Epoch 41/80\n",
      "12500/12500 [==============================] - 35s 3ms/step - loss: 3.6755 - val_loss: 3.6801\n",
      "Epoch 42/80\n",
      "12500/12500 [==============================] - 36s 3ms/step - loss: 3.6756 - val_loss: 3.6760\n",
      "Epoch 43/80\n",
      "12500/12500 [==============================] - 35s 3ms/step - loss: 3.6756 - val_loss: 3.6761\n",
      "Epoch 44/80\n",
      "12500/12500 [==============================] - 35s 3ms/step - loss: 3.6755 - val_loss: 3.6764\n",
      "Epoch 45/80\n",
      "12500/12500 [==============================] - 35s 3ms/step - loss: 3.6754 - val_loss: 3.6768\n",
      "Epoch 46/80\n",
      "12500/12500 [==============================] - 36s 3ms/step - loss: 3.6753 - val_loss: 3.6780\n",
      "Epoch 47/80\n",
      "12500/12500 [==============================] - 35s 3ms/step - loss: 3.6752 - val_loss: 3.6776\n",
      "Epoch 48/80\n",
      "12500/12500 [==============================] - 36s 3ms/step - loss: 3.6753 - val_loss: 3.6766\n",
      "Epoch 49/80\n",
      "12500/12500 [==============================] - 35s 3ms/step - loss: 3.6752 - val_loss: 3.6779\n",
      "Epoch 50/80\n",
      "12500/12500 [==============================] - 35s 3ms/step - loss: 3.6751 - val_loss: 3.6746\n",
      "Epoch 51/80\n",
      "12500/12500 [==============================] - 35s 3ms/step - loss: 3.6751 - val_loss: 3.6766\n",
      "Epoch 52/80\n",
      "12500/12500 [==============================] - 36s 3ms/step - loss: 3.6752 - val_loss: 3.6769\n",
      "Epoch 53/80\n",
      "12500/12500 [==============================] - 37s 3ms/step - loss: 3.6750 - val_loss: 3.6758\n",
      "Epoch 54/80\n",
      "12500/12500 [==============================] - 36s 3ms/step - loss: 3.6751 - val_loss: 3.6743\n",
      "Epoch 55/80\n",
      "12500/12500 [==============================] - 36s 3ms/step - loss: 3.6750 - val_loss: 3.6764\n",
      "Epoch 56/80\n",
      "12500/12500 [==============================] - 36s 3ms/step - loss: 3.6750 - val_loss: 3.6767\n",
      "Epoch 57/80\n",
      "12500/12500 [==============================] - 36s 3ms/step - loss: 3.6749 - val_loss: 3.6756\n",
      "Epoch 58/80\n",
      "12500/12500 [==============================] - 37s 3ms/step - loss: 3.6750 - val_loss: 3.6767\n",
      "Epoch 59/80\n",
      "12500/12500 [==============================] - 36s 3ms/step - loss: 3.6749 - val_loss: 3.6763\n",
      "Epoch 60/80\n",
      "12500/12500 [==============================] - 36s 3ms/step - loss: 3.6749 - val_loss: 3.6763\n",
      "Epoch 61/80\n",
      "12500/12500 [==============================] - 36s 3ms/step - loss: 3.6747 - val_loss: 3.6750\n",
      "Epoch 62/80\n",
      "12500/12500 [==============================] - 35s 3ms/step - loss: 3.6747 - val_loss: 3.6748\n",
      "Epoch 63/80\n",
      "12500/12500 [==============================] - 37s 3ms/step - loss: 3.6747 - val_loss: 3.6763\n",
      "Epoch 64/80\n",
      "12500/12500 [==============================] - 35s 3ms/step - loss: 3.6748 - val_loss: 3.6763\n"
     ]
    }
   ],
   "source": [
    "es = EarlyStopping(patience=10,\n",
    "                  restore_best_weights=True)\n",
    "\n",
    "history = model.fit(X_train,\n",
    "                    y_train,\n",
    "                    callbacks=[es],\n",
    "                    epochs=80, \n",
    "                    batch_size=64,\n",
    "                    validation_split=0.2,\n",
    "                    shuffle=True,\n",
    "                    verbose=1)"
   ]
  },
  {
   "cell_type": "code",
   "execution_count": 8,
   "metadata": {},
   "outputs": [
    {
     "name": "stderr",
     "output_type": "stream",
     "text": [
      "/tmp/ipykernel_176453/3321773974.py:10: MatplotlibDeprecationWarning: Support for case-insensitive scales is deprecated since 3.5 and support will be removed two minor releases later.\n",
      "  plt.yscale('Log')\n"
     ]
    },
    {
     "data": {
      "image/png": "[encoded data removed]",
      "text/plain": [
       "<Figure size 640x480 with 1 Axes>"
      ]
     },
     "metadata": {},
     "output_type": "display_data"
    }
   ],
   "source": [
    "history_dict = history.history\n",
    "loss_values = history_dict['loss'] \n",
    "val_loss_values = history_dict['val_loss'] \n",
    "epochs = range(1, len(loss_values) + 1) \n",
    "plt.plot(epochs, loss_values, 'bo', label='Training loss')\n",
    "plt.plot(epochs, val_loss_values, 'orange', label='Validation loss')\n",
    "plt.title('Training and validation loss')\n",
    "plt.xlabel('Epochs')\n",
    "plt.ylabel('Loss')\n",
    "plt.yscale('Log')\n",
    "plt.legend()\n",
    "plt.show()"
   ]
  },
  {
   "cell_type": "code",
   "execution_count": 9,
   "metadata": {},
   "outputs": [],
   "source": [
    "model.save('models_1Dx/gauss32bit.keras')"
   ]
  },
  {
   "cell_type": "code",
   "execution_count": 10,
   "metadata": {},
   "outputs": [],
   "source": [
    "p_test = model.predict(X_test)\n",
    "df = pd.DataFrame(p_test,columns=['mu','sigma'])\n",
    "df['xtrue'] = y_test\n",
    "df.to_csv(\"test_1DxGauss32bit.csv\",header=False,index=False)"
   ]
  },
  {
   "cell_type": "code",
   "execution_count": 11,
   "metadata": {},
   "outputs": [
    {
     "name": "stdout",
     "output_type": "stream",
     "text": [
      "-0.3513558766128309 11.715703033302637\n"
     ]
    }
   ],
   "source": [
    "residuals = y_test - p_test[:,0]\n",
    "print(np.mean(residuals),np.std(residuals))"
   ]
  },
  {
   "cell_type": "code",
   "execution_count": 12,
   "metadata": {},
   "outputs": [
    {
     "name": "stdout",
     "output_type": "stream",
     "text": [
      "9.953117 4.7246847\n"
     ]
    }
   ],
   "source": [
    "uncertainty= p_test[:,1]\n",
    "print(np.mean(uncertainty),np.std(uncertainty))"
   ]
  },
  {
   "cell_type": "code",
   "execution_count": 13,
   "metadata": {},
   "outputs": [
    {
     "data": {
      "image/png": "[encoded data removed]",
      "text/plain": [
       "<Figure size 640x480 with 1 Axes>"
      ]
     },
     "metadata": {},
     "output_type": "display_data"
    },
    {
     "data": {
      "image/png": "[encoded data removed]",
      "text/plain": [
       "<Figure size 640x480 with 1 Axes>"
      ]
     },
     "metadata": {},
     "output_type": "display_data"
    }
   ],
   "source": [
    "plt.hist(residuals,bins=np.linspace(-50,50,50))\n",
    "#plt.yscale('Log')\n",
    "plt.xlabel(r'$x-\\mu_x$ [um]')\n",
    "plt.show()\n",
    "\n",
    "plt.hist(uncertainty,bins=np.linspace(0,50,50));\n",
    "#plt.yscale('Log')\n",
    "plt.xlabel(r'$\\sigma_x$ [um]')\n",
    "plt.show()"
   ]
  },
  {
   "cell_type": "code",
   "execution_count": 14,
   "metadata": {},
   "outputs": [],
   "source": [
    "pulls = residuals/p_test[:,1]"
   ]
  },
  {
   "cell_type": "code",
   "execution_count": 15,
   "metadata": {},
   "outputs": [
    {
     "data": {
      "text/plain": [
       "Text(0.5, 0, 'pull')"
      ]
     },
     "execution_count": 15,
     "metadata": {},
     "output_type": "execute_result"
    },
    {
     "data": {
      "image/png": "[encoded data removed]",
      "text/plain": [
       "<Figure size 640x480 with 1 Axes>"
      ]
     },
     "metadata": {},
     "output_type": "display_data"
    }
   ],
   "source": [
    "plt.hist(pulls,bins=50);\n",
    "plt.xlabel('pull')"
   ]
  },
  {
   "cell_type": "code",
   "execution_count": 16,
   "metadata": {},
   "outputs": [
    {
     "name": "stdout",
     "output_type": "stream",
     "text": [
      "-0.03562598215990116 1.0284610999036272\n"
     ]
    }
   ],
   "source": [
    "print(np.mean(pulls),np.std(pulls))"
   ]
  },
  {
   "cell_type": "code",
   "execution_count": 17,
   "metadata": {},
   "outputs": [
    {
     "data": {
      "text/html": [
       "<div>\n",
       "<style scoped>\n",
       "    .dataframe tbody tr th:only-of-type {\n",
       "        vertical-align: middle;\n",
       "    }\n",
       "\n",
       "    .dataframe tbody tr th {\n",
       "        vertical-align: top;\n",
       "    }\n",
       "\n",
       "    .dataframe thead th {\n",
       "        text-align: right;\n",
       "    }\n",
       "</style>\n",
       "<table border=\"1\" class=\"dataframe\">\n",
       "  <thead>\n",
       "    <tr style=\"text-align: right;\">\n",
       "      <th></th>\n",
       "      <th>mu</th>\n",
       "      <th>sigma</th>\n",
       "      <th>xtrue</th>\n",
       "    </tr>\n",
       "  </thead>\n",
       "  <tbody>\n",
       "    <tr>\n",
       "      <th>0</th>\n",
       "      <td>34.354320</td>\n",
       "      <td>6.372603</td>\n",
       "      <td>35.970951</td>\n",
       "    </tr>\n",
       "    <tr>\n",
       "      <th>1</th>\n",
       "      <td>-9.736258</td>\n",
       "      <td>7.895556</td>\n",
       "      <td>0.770363</td>\n",
       "    </tr>\n",
       "    <tr>\n",
       "      <th>2</th>\n",
       "      <td>-37.632500</td>\n",
       "      <td>7.234630</td>\n",
       "      <td>-37.471662</td>\n",
       "    </tr>\n",
       "    <tr>\n",
       "      <th>3</th>\n",
       "      <td>-8.152457</td>\n",
       "      <td>10.563955</td>\n",
       "      <td>-10.147963</td>\n",
       "    </tr>\n",
       "    <tr>\n",
       "      <th>4</th>\n",
       "      <td>-60.896202</td>\n",
       "      <td>9.132928</td>\n",
       "      <td>-73.204875</td>\n",
       "    </tr>\n",
       "  </tbody>\n",
       "</table>\n",
       "</div>"
      ],
      "text/plain": [
       "          mu      sigma      xtrue\n",
       "0  34.354320   6.372603  35.970951\n",
       "1  -9.736258   7.895556   0.770363\n",
       "2 -37.632500   7.234630 -37.471662\n",
       "3  -8.152457  10.563955 -10.147963\n",
       "4 -60.896202   9.132928 -73.204875"
      ]
     },
     "execution_count": 17,
     "metadata": {},
     "output_type": "execute_result"
    }
   ],
   "source": [
    "df_1d32 = pd.read_csv('test_1DxGauss32bit.csv',header=None,names=['mu','sigma','xtrue'])\n",
    "df_1d32.head()"
   ]
  },
  {
   "cell_type": "code",
   "execution_count": 18,
   "metadata": {},
   "outputs": [
    {
     "data": {
      "text/html": [
       "<div>\n",
       "<style scoped>\n",
       "    .dataframe tbody tr th:only-of-type {\n",
       "        vertical-align: middle;\n",
       "    }\n",
       "\n",
       "    .dataframe tbody tr th {\n",
       "        vertical-align: top;\n",
       "    }\n",
       "\n",
       "    .dataframe thead th {\n",
       "        text-align: right;\n",
       "    }\n",
       "</style>\n",
       "<table border=\"1\" class=\"dataframe\">\n",
       "  <thead>\n",
       "    <tr style=\"text-align: right;\">\n",
       "      <th></th>\n",
       "      <th>mu</th>\n",
       "      <th>sigma</th>\n",
       "      <th>xtrue</th>\n",
       "    </tr>\n",
       "  </thead>\n",
       "  <tbody>\n",
       "    <tr>\n",
       "      <th>0</th>\n",
       "      <td>25.473694</td>\n",
       "      <td>18.191864</td>\n",
       "      <td>35.970951</td>\n",
       "    </tr>\n",
       "    <tr>\n",
       "      <th>1</th>\n",
       "      <td>-10.729095</td>\n",
       "      <td>12.573914</td>\n",
       "      <td>0.770363</td>\n",
       "    </tr>\n",
       "    <tr>\n",
       "      <th>2</th>\n",
       "      <td>-27.049011</td>\n",
       "      <td>18.881165</td>\n",
       "      <td>-37.471662</td>\n",
       "    </tr>\n",
       "    <tr>\n",
       "      <th>3</th>\n",
       "      <td>-9.286011</td>\n",
       "      <td>11.625275</td>\n",
       "      <td>-10.147963</td>\n",
       "    </tr>\n",
       "    <tr>\n",
       "      <th>4</th>\n",
       "      <td>-31.650390</td>\n",
       "      <td>24.006256</td>\n",
       "      <td>-73.204875</td>\n",
       "    </tr>\n",
       "  </tbody>\n",
       "</table>\n",
       "</div>"
      ],
      "text/plain": [
       "          mu      sigma      xtrue\n",
       "0  25.473694  18.191864  35.970951\n",
       "1 -10.729095  12.573914   0.770363\n",
       "2 -27.049011  18.881165 -37.471662\n",
       "3  -9.286011  11.625275 -10.147963\n",
       "4 -31.650390  24.006256 -73.204875"
      ]
     },
     "execution_count": 18,
     "metadata": {},
     "output_type": "execute_result"
    }
   ],
   "source": [
    "df_1d6 = pd.read_csv('test_1DxGauss6bit.csv',header=None,names=['mu','sigma','xtrue'])\n",
    "df_1d6.head()"
   ]
  },
  {
   "cell_type": "code",
   "execution_count": 19,
   "metadata": {},
   "outputs": [
    {
     "data": {
      "text/html": [
       "<div>\n",
       "<style scoped>\n",
       "    .dataframe tbody tr th:only-of-type {\n",
       "        vertical-align: middle;\n",
       "    }\n",
       "\n",
       "    .dataframe tbody tr th {\n",
       "        vertical-align: top;\n",
       "    }\n",
       "\n",
       "    .dataframe thead th {\n",
       "        text-align: right;\n",
       "    }\n",
       "</style>\n",
       "<table border=\"1\" class=\"dataframe\">\n",
       "  <thead>\n",
       "    <tr style=\"text-align: right;\">\n",
       "      <th></th>\n",
       "      <th>mu</th>\n",
       "      <th>sigma</th>\n",
       "      <th>xtrue</th>\n",
       "    </tr>\n",
       "  </thead>\n",
       "  <tbody>\n",
       "    <tr>\n",
       "      <th>0</th>\n",
       "      <td>25.106567</td>\n",
       "      <td>20.301758</td>\n",
       "      <td>35.970951</td>\n",
       "    </tr>\n",
       "    <tr>\n",
       "      <th>1</th>\n",
       "      <td>-12.028198</td>\n",
       "      <td>13.900208</td>\n",
       "      <td>0.770363</td>\n",
       "    </tr>\n",
       "    <tr>\n",
       "      <th>2</th>\n",
       "      <td>-27.768066</td>\n",
       "      <td>18.706543</td>\n",
       "      <td>-37.471662</td>\n",
       "    </tr>\n",
       "    <tr>\n",
       "      <th>3</th>\n",
       "      <td>-9.125977</td>\n",
       "      <td>11.871643</td>\n",
       "      <td>-10.147963</td>\n",
       "    </tr>\n",
       "    <tr>\n",
       "      <th>4</th>\n",
       "      <td>-32.064026</td>\n",
       "      <td>23.135010</td>\n",
       "      <td>-73.204875</td>\n",
       "    </tr>\n",
       "  </tbody>\n",
       "</table>\n",
       "</div>"
      ],
      "text/plain": [
       "          mu      sigma      xtrue\n",
       "0  25.106567  20.301758  35.970951\n",
       "1 -12.028198  13.900208   0.770363\n",
       "2 -27.768066  18.706543 -37.471662\n",
       "3  -9.125977  11.871643 -10.147963\n",
       "4 -32.064026  23.135010 -73.204875"
      ]
     },
     "execution_count": 19,
     "metadata": {},
     "output_type": "execute_result"
    }
   ],
   "source": [
    "df_1d5 = pd.read_csv('test_1DxGauss5bit.csv',header=None,names=['mu','sigma','xtrue'])\n",
    "df_1d5.head()"
   ]
  },
  {
   "cell_type": "code",
   "execution_count": 20,
   "metadata": {},
   "outputs": [
    {
     "data": {
      "text/html": [
       "<div>\n",
       "<style scoped>\n",
       "    .dataframe tbody tr th:only-of-type {\n",
       "        vertical-align: middle;\n",
       "    }\n",
       "\n",
       "    .dataframe tbody tr th {\n",
       "        vertical-align: top;\n",
       "    }\n",
       "\n",
       "    .dataframe thead th {\n",
       "        text-align: right;\n",
       "    }\n",
       "</style>\n",
       "<table border=\"1\" class=\"dataframe\">\n",
       "  <thead>\n",
       "    <tr style=\"text-align: right;\">\n",
       "      <th></th>\n",
       "      <th>mu</th>\n",
       "      <th>sigma</th>\n",
       "      <th>xtrue</th>\n",
       "    </tr>\n",
       "  </thead>\n",
       "  <tbody>\n",
       "    <tr>\n",
       "      <th>0</th>\n",
       "      <td>28.304533</td>\n",
       "      <td>4.178141</td>\n",
       "      <td>35.970951</td>\n",
       "    </tr>\n",
       "    <tr>\n",
       "      <th>1</th>\n",
       "      <td>1.501582</td>\n",
       "      <td>4.159173</td>\n",
       "      <td>0.770363</td>\n",
       "    </tr>\n",
       "    <tr>\n",
       "      <th>2</th>\n",
       "      <td>-36.650660</td>\n",
       "      <td>3.155224</td>\n",
       "      <td>-37.471662</td>\n",
       "    </tr>\n",
       "    <tr>\n",
       "      <th>3</th>\n",
       "      <td>-15.209907</td>\n",
       "      <td>4.208601</td>\n",
       "      <td>-10.147963</td>\n",
       "    </tr>\n",
       "    <tr>\n",
       "      <th>4</th>\n",
       "      <td>-68.419350</td>\n",
       "      <td>3.046638</td>\n",
       "      <td>-73.204875</td>\n",
       "    </tr>\n",
       "  </tbody>\n",
       "</table>\n",
       "</div>"
      ],
      "text/plain": [
       "          mu     sigma      xtrue\n",
       "0  28.304533  4.178141  35.970951\n",
       "1   1.501582  4.159173   0.770363\n",
       "2 -36.650660  3.155224 -37.471662\n",
       "3 -15.209907  4.208601 -10.147963\n",
       "4 -68.419350  3.046638 -73.204875"
      ]
     },
     "execution_count": 20,
     "metadata": {},
     "output_type": "execute_result"
    }
   ],
   "source": [
    "df_1d = pd.read_csv('test_1DxGauss.csv',header=None,names=['mu','sigma','xtrue'])\n",
    "df_1d.head()"
   ]
  },
  {
   "cell_type": "code",
   "execution_count": 21,
   "metadata": {},
   "outputs": [
    {
     "data": {
      "text/plain": [
       "Text(0.5, 0, '$x-\\\\mu_x$ [um]')"
      ]
     },
     "execution_count": 21,
     "metadata": {},
     "output_type": "execute_result"
    },
    {
     "data": {
      "image/png": "[encoded data removed]",
      "text/plain": [
       "<Figure size 640x480 with 1 Axes>"
      ]
     },
     "metadata": {},
     "output_type": "display_data"
    }
   ],
   "source": [
    "plt.hist(df_1d['xtrue'] - df_1d['mu'],histtype='step',bins=np.linspace(-50,50,50),label=r'1D full precision');\n",
    "plt.hist(df_1d5['xtrue'] - df_1d5['mu'],histtype='step',bins=np.linspace(-50,50,50),label=r'1D 5 bit w. 10 bit act.');\n",
    "plt.hist(df_1d6['xtrue'] - df_1d6['mu'],histtype='step',bins=np.linspace(-50,50,50),label=r'1D 6 bit w. 12 bit act.');\n",
    "plt.hist(df_1d32['xtrue'] - df_1d32['mu'],histtype='step',bins=np.linspace(-50,50,50),label=r'1D 32 bit w. 36 bit act.');\n",
    "\n",
    "plt.legend(frameon=False)\n",
    "plt.xlabel(r'$x-\\mu_x$ [um]')"
   ]
  },
  {
   "cell_type": "code",
   "execution_count": 22,
   "metadata": {},
   "outputs": [
    {
     "data": {
      "text/plain": [
       "Text(0.5, 0, '$\\\\sigma_x$ [um]')"
      ]
     },
     "execution_count": 22,
     "metadata": {},
     "output_type": "execute_result"
    },
    {
     "data": {
      "image/png": "[encoded data removed]",
      "text/plain": [
       "<Figure size 640x480 with 1 Axes>"
      ]
     },
     "metadata": {},
     "output_type": "display_data"
    }
   ],
   "source": [
    "plt.hist(df_1d['sigma'],histtype='step',bins=np.linspace(0,25,50),label=r'1D full precision');\n",
    "plt.hist(df_1d5['sigma'],histtype='step',bins=np.linspace(0,25,50),label=r'1D 5 bit w. 10 bit act.');\n",
    "plt.hist(df_1d6['sigma'],histtype='step',bins=np.linspace(0,25,50),label=r'1D 6 bit w. 12 bit act.');\n",
    "plt.hist(df_1d32['sigma'],histtype='step',bins=np.linspace(0,25,50),label=r'1D 32 bit w. 36 bit act.');\n",
    "plt.legend(frameon=False)\n",
    "plt.xlabel(r'$\\sigma_x$ [um]')"
   ]
  },
  {
   "cell_type": "code",
   "execution_count": null,
   "metadata": {},
   "outputs": [],
   "source": []
  }
 ],
 "metadata": {
  "kernelspec": {
   "display_name": "Python 3 (ipykernel)",
   "language": "python",
   "name": "py3-preamble"
  },
  "language_info": {
   "codemirror_mode": {
    "name": "ipython",
    "version": 3
   },
   "file_extension": ".py",
   "mimetype": "text/x-python",
   "name": "python",
   "nbconvert_exporter": "python",
   "pygments_lexer": "ipython3",
   "version": "3.9.13"
  }
 },
 "nbformat": 4,
 "nbformat_minor": 4
}
