{
 "cells": [
  {
   "cell_type": "code",
   "execution_count": 1,
   "metadata": {},
   "outputs": [],
   "source": [
    "import glob\n",
    "import pandas as pd\n",
    "import numpy as np\n",
    "import math\n",
    "import tensorflow as tf\n",
    "import keras\n",
    "import random\n",
    "import matplotlib.pyplot as plt\n",
    "import datetime\n",
    "from typing import Union, List, Tuple\n",
    "import os\n",
    "import time\n",
    "from keras.models import Model\n",
    "from keras.layers import (BatchNormalization, Flatten, Input, Reshape, Dense, MaxPool2D, Conv1D, Concatenate, Activation)\n",
    "from tensorflow.keras.callbacks import EarlyStopping\n",
    "from tensorflow.keras.optimizers.legacy import Adam\n",
    "import tensorflow_probability as tfp\n",
    "import seaborn as sns\n",
    "\n",
    "pi = 3.14159265359\n",
    "maxval = 1e9\n",
    "minval = 1e-9"
   ]
  },
  {
   "cell_type": "code",
   "execution_count": 2,
   "metadata": {},
   "outputs": [],
   "source": [
    "train_df = pd.read_csv('train_df.csv')\n",
    "test_df = pd.read_csv('test_df.csv')"
   ]
  },
  {
   "cell_type": "code",
   "execution_count": 3,
   "metadata": {
    "tags": []
   },
   "outputs": [],
   "source": [
    "def inverse_cot(cota):\n",
    "    a = np.arctan(1/cota)\n",
    "    a[np.where(a<0)] = a[np.where(a<0)]+pi\n",
    "    return a"
   ]
  },
  {
   "cell_type": "code",
   "execution_count": 4,
   "metadata": {},
   "outputs": [
    {
     "name": "stderr",
     "output_type": "stream",
     "text": [
      "/var/folders/w1/wy8xldzx1nsdnpwxfmx7lz3w0000gn/T/ipykernel_3387/2672626872.py:2: RuntimeWarning: divide by zero encountered in divide\n",
      "  a = np.arctan(1/cota)\n"
     ]
    }
   ],
   "source": [
    "X_train = train_df.drop(columns=['y-midplane','cotBeta']).values\n",
    "X_test = test_df.drop(columns=['y-midplane','cotBeta']).values\n",
    "\n",
    "y_train = inverse_cot(abs(train_df['cotBeta'].values))*2/pi\n",
    "y_test = inverse_cot(abs(test_df['cotBeta'].values))*2/pi"
   ]
  },
  {
   "cell_type": "code",
   "execution_count": 5,
   "metadata": {},
   "outputs": [
    {
     "name": "stdout",
     "output_type": "stream",
     "text": [
      "(500328, 13) (50617, 13)\n"
     ]
    }
   ],
   "source": [
    "X_train = X_train.reshape(-1, X_train.shape[-1])\n",
    "X_test = X_test.reshape(-1, X_test.shape[-1])\n",
    "print(X_train.shape,X_test.shape)"
   ]
  },
  {
   "cell_type": "code",
   "execution_count": 6,
   "metadata": {},
   "outputs": [
    {
     "data": {
      "image/png": "[encoded data removed]",
      "text/plain": [
       "<Figure size 640x480 with 1 Axes>"
      ]
     },
     "metadata": {},
     "output_type": "display_data"
    }
   ],
   "source": [
    "plt.hist(y_test,bins=np.linspace(0,1,100));\n",
    "plt.yscale('log')"
   ]
  },
  {
   "cell_type": "code",
   "execution_count": 7,
   "metadata": {},
   "outputs": [],
   "source": [
    "def param_transform(par):\n",
    "    return minval+tf.math.softplus(par)\n",
    "\n",
    "def beta_loss(y, p):\n",
    "    \n",
    "    alpha = param_transform(tf.gather(params=p, indices=[0], axis=1))\n",
    "    beta = param_transform(tf.gather(params=p, indices=[1], axis=1))\n",
    "    \n",
    "    dist = tfp.distributions.Beta(concentration1 = alpha,\n",
    "                                  concentration0 = beta)\n",
    "    \n",
    "    likelihood = dist.prob(y)  \n",
    "    likelihood = tf.clip_by_value(likelihood,minval,maxval)\n",
    "\n",
    "    NLL = -1*tf.math.log(likelihood)\n",
    "    return tf.keras.backend.sum(NLL,axis=1)    "
   ]
  },
  {
   "cell_type": "code",
   "execution_count": 8,
   "metadata": {},
   "outputs": [
    {
     "name": "stdout",
     "output_type": "stream",
     "text": [
      "Metal device set to: Apple M1\n",
      "Model: \"model\"\n",
      "_________________________________________________________________\n",
      " Layer (type)                Output Shape              Param #   \n",
      "=================================================================\n",
      " input_1 (InputLayer)        [(None, 13)]              0         \n",
      "                                                                 \n",
      " dense1 (Dense)              (None, 64)                896       \n",
      "                                                                 \n",
      " elu1 (Activation)           (None, 64)                0         \n",
      "                                                                 \n",
      " batch_normalization (BatchN  (None, 64)               256       \n",
      " ormalization)                                                   \n",
      "                                                                 \n",
      " dense2 (Dense)              (None, 64)                4160      \n",
      "                                                                 \n",
      " elu2 (Activation)           (None, 64)                0         \n",
      "                                                                 \n",
      " batch_normalization_1 (Batc  (None, 64)               256       \n",
      " hNormalization)                                                 \n",
      "                                                                 \n",
      " dense3 (Dense)              (None, 64)                4160      \n",
      "                                                                 \n",
      " elu3 (Activation)           (None, 64)                0         \n",
      "                                                                 \n",
      " batch_normalization_2 (Batc  (None, 64)               256       \n",
      " hNormalization)                                                 \n",
      "                                                                 \n",
      " dense4 (Dense)              (None, 2)                 130       \n",
      "                                                                 \n",
      "=================================================================\n",
      "Total params: 10,114\n",
      "Trainable params: 9,730\n",
      "Non-trainable params: 384\n",
      "_________________________________________________________________\n"
     ]
    },
    {
     "name": "stderr",
     "output_type": "stream",
     "text": [
      "2023-02-10 11:46:20.913908: I tensorflow/core/common_runtime/pluggable_device/pluggable_device_factory.cc:306] Could not identify NUMA node of platform GPU ID 0, defaulting to 0. Your kernel may not have been built with NUMA support.\n",
      "2023-02-10 11:46:20.913927: I tensorflow/core/common_runtime/pluggable_device/pluggable_device_factory.cc:272] Created TensorFlow device (/job:localhost/replica:0/task:0/device:GPU:0 with 0 MB memory) -> physical PluggableDevice (device: 0, name: METAL, pci bus id: <undefined>)\n"
     ]
    }
   ],
   "source": [
    "def CreateModel(shape):\n",
    "    x = x_in = Input(shape)\n",
    "    x = Dense(64, name=\"dense1\")(x)\n",
    "    x = Activation(\"elu\", name=\"elu1\")(x)\n",
    "    x = BatchNormalization()(x)\n",
    "    x = Dense(64, name=\"dense2\")(x)\n",
    "    x = Activation(\"elu\", name=\"elu2\")(x)\n",
    "    x = BatchNormalization()(x)\n",
    "    x = Dense(64, name=\"dense3\")(x)\n",
    "    x = Activation(\"elu\", name=\"elu3\")(x)\n",
    "    x = BatchNormalization()(x)\n",
    "    x = Dense(2, name=\"dense4\")(x)\n",
    "    model = Model(inputs=x_in, outputs=x)\n",
    "    return model\n",
    "\n",
    "model=CreateModel(X_train.shape[1:])\n",
    "\n",
    "model.compile(optimizer=Adam(learning_rate=0.001),\n",
    "              loss=beta_loss)\n",
    "\n",
    "model.summary()"
   ]
  },
  {
   "cell_type": "code",
   "execution_count": 9,
   "metadata": {
    "scrolled": false
   },
   "outputs": [
    {
     "name": "stdout",
     "output_type": "stream",
     "text": [
      "Epoch 1/1000\n"
     ]
    },
    {
     "name": "stderr",
     "output_type": "stream",
     "text": [
      "2023-02-10 11:46:21.096226: W tensorflow/tsl/platform/profile_utils/cpu_utils.cc:128] Failed to get CPU frequency: 0 Hz\n",
      "2023-02-10 11:46:21.593372: I tensorflow/core/grappler/optimizers/custom_graph_optimizer_registry.cc:114] Plugin optimizer for device_type GPU is enabled.\n"
     ]
    },
    {
     "name": "stdout",
     "output_type": "stream",
     "text": [
      "782/782 [==============================] - ETA: 0s - loss: -18.2736"
     ]
    },
    {
     "name": "stderr",
     "output_type": "stream",
     "text": [
      "2023-02-10 11:46:39.243820: I tensorflow/core/grappler/optimizers/custom_graph_optimizer_registry.cc:114] Plugin optimizer for device_type GPU is enabled.\n"
     ]
    },
    {
     "name": "stdout",
     "output_type": "stream",
     "text": [
      "782/782 [==============================] - 20s 25ms/step - loss: -18.2736 - val_loss: -20.7232\n",
      "Epoch 2/1000\n",
      "782/782 [==============================] - 19s 24ms/step - loss: -20.7234 - val_loss: -20.7232\n",
      "Epoch 3/1000\n",
      "782/782 [==============================] - 19s 24ms/step - loss: -20.7234 - val_loss: -20.7232\n",
      "Epoch 4/1000\n",
      "782/782 [==============================] - 18s 24ms/step - loss: -20.7234 - val_loss: -20.7232\n",
      "Epoch 5/1000\n",
      "782/782 [==============================] - 19s 24ms/step - loss: -20.7234 - val_loss: -20.7232\n",
      "Epoch 6/1000\n",
      "782/782 [==============================] - 19s 24ms/step - loss: -20.7234 - val_loss: -20.7232\n",
      "Epoch 7/1000\n",
      "782/782 [==============================] - 19s 24ms/step - loss: -20.7234 - val_loss: -20.7232\n",
      "Epoch 8/1000\n",
      "782/782 [==============================] - 19s 24ms/step - loss: -20.7234 - val_loss: -20.7232\n",
      "Epoch 9/1000\n",
      "782/782 [==============================] - 19s 24ms/step - loss: -20.7234 - val_loss: -20.7232\n",
      "Epoch 10/1000\n",
      "782/782 [==============================] - 19s 25ms/step - loss: -20.7234 - val_loss: -20.7232\n",
      "Epoch 11/1000\n",
      "782/782 [==============================] - 19s 25ms/step - loss: -20.7234 - val_loss: -20.7232\n",
      "Epoch 12/1000\n",
      "782/782 [==============================] - 18s 23ms/step - loss: -20.7234 - val_loss: -20.7232\n",
      "Epoch 13/1000\n",
      "782/782 [==============================] - 18s 23ms/step - loss: -20.7234 - val_loss: -20.7232\n",
      "Epoch 14/1000\n",
      "782/782 [==============================] - 19s 25ms/step - loss: -20.7234 - val_loss: -20.7232\n",
      "Epoch 15/1000\n",
      "782/782 [==============================] - 19s 25ms/step - loss: -20.7234 - val_loss: -20.7232\n",
      "Epoch 16/1000\n",
      "782/782 [==============================] - 19s 24ms/step - loss: -20.7234 - val_loss: -20.7232\n",
      "Epoch 17/1000\n",
      "782/782 [==============================] - 19s 24ms/step - loss: -20.7234 - val_loss: -20.7232\n",
      "Epoch 18/1000\n",
      "782/782 [==============================] - 19s 24ms/step - loss: -20.7234 - val_loss: -20.7232\n",
      "Epoch 19/1000\n",
      "782/782 [==============================] - 19s 25ms/step - loss: -20.7234 - val_loss: -20.7232\n",
      "Epoch 20/1000\n",
      "782/782 [==============================] - 19s 25ms/step - loss: -20.7234 - val_loss: -20.7232\n",
      "Epoch 21/1000\n",
      "782/782 [==============================] - 20s 26ms/step - loss: -20.7234 - val_loss: -20.7232\n"
     ]
    }
   ],
   "source": [
    "es = EarlyStopping(patience=20,\n",
    "                  restore_best_weights=True)\n",
    "\n",
    "history = model.fit(X_train,\n",
    "                    y_train,\n",
    "                    callbacks=[es],\n",
    "                    epochs=1000, \n",
    "                    batch_size=512,\n",
    "                    validation_split=0.2,\n",
    "                    shuffle=True,\n",
    "                    verbose=1)"
   ]
  },
  {
   "cell_type": "code",
   "execution_count": 10,
   "metadata": {},
   "outputs": [
    {
     "data": {
      "image/png": "[encoded data removed]",
      "text/plain": [
       "<Figure size 640x480 with 1 Axes>"
      ]
     },
     "metadata": {},
     "output_type": "display_data"
    }
   ],
   "source": [
    "history_dict = history.history\n",
    "loss_values = history_dict['loss'] \n",
    "val_loss_values = history_dict['val_loss'] \n",
    "epochs = range(1, len(loss_values) + 1) \n",
    "plt.plot(epochs, loss_values, 'bo', label='Training loss')\n",
    "plt.plot(epochs, val_loss_values, 'orange', label='Validation loss')\n",
    "plt.title('Training and validation loss')\n",
    "plt.xlabel('Epochs')\n",
    "plt.ylabel('Loss')\n",
    "#plt.yscale('Log')\n",
    "plt.legend()\n",
    "plt.show()"
   ]
  },
  {
   "cell_type": "code",
   "execution_count": 11,
   "metadata": {},
   "outputs": [
    {
     "name": "stdout",
     "output_type": "stream",
     "text": [
      "  19/1582 [..............................] - ETA: 8s "
     ]
    },
    {
     "name": "stderr",
     "output_type": "stream",
     "text": [
      "2023-02-10 11:52:59.953286: I tensorflow/core/grappler/optimizers/custom_graph_optimizer_registry.cc:114] Plugin optimizer for device_type GPU is enabled.\n"
     ]
    },
    {
     "name": "stdout",
     "output_type": "stream",
     "text": [
      "1582/1582 [==============================] - 7s 4ms/step\n"
     ]
    }
   ],
   "source": [
    "p_test = model.predict(X_test)\n",
    "df = pd.DataFrame(p_test,columns=['par1','par2'])\n",
    "df['Btrue'] = y_test*pi/2\n",
    "df['alpha'] = param_transform(df['par1'])\n",
    "df['beta'] = param_transform(df['par2'])\n",
    "\n",
    "dist = tfp.distributions.Beta(concentration1 = df['alpha'], concentration0 = df['beta'])\n",
    "    \n",
    "df['mean'] = dist.mean()*pi/2\n",
    "df['mode'] = dist.mode()*pi/2\n",
    "df['sigma'] = dist.stddev()*pi/2\n",
    "\n",
    "df.to_csv(\"test_1DcotBBeta.csv\",header=False,index=False)"
   ]
  },
  {
   "cell_type": "code",
   "execution_count": 12,
   "metadata": {},
   "outputs": [
    {
     "name": "stdout",
     "output_type": "stream",
     "text": [
      "nan nan\n"
     ]
    }
   ],
   "source": [
    "residuals = df['Btrue'] - df['mode']\n",
    "print(np.mean(residuals),np.std(residuals))"
   ]
  },
  {
   "cell_type": "code",
   "execution_count": null,
   "metadata": {},
   "outputs": [],
   "source": [
    "plt.hist(residuals,bins=50)\n",
    "plt.yscale('Log')\n",
    "plt.xlabel(r'$\\beta$ - mode [rad]')\n",
    "plt.show()\n",
    "\n",
    "plt.hist(df['sigma'],bins=np.linspace(0,0.3,50));\n",
    "plt.yscale('Log')\n",
    "plt.xlabel(r'$\\sigma$ [rad]')\n",
    "plt.show()\n",
    "\n",
    "plt.hist(df['alpha'],bins=50)\n",
    "plt.yscale('Log')\n",
    "plt.xlabel(r'$\\alpha$')\n",
    "plt.show()\n",
    "\n",
    "plt.hist(df['beta'],bins=50)\n",
    "plt.yscale('Log')\n",
    "plt.xlabel(r'$\\beta$')\n",
    "plt.show()"
   ]
  },
  {
   "cell_type": "code",
   "execution_count": null,
   "metadata": {
    "tags": []
   },
   "outputs": [],
   "source": [
    "plt.hist(residuals*180/pi,bins=50)\n",
    "plt.yscale('Log')\n",
    "plt.xlabel(r'$\\beta$ - mode [deg]')\n",
    "plt.show()\n",
    "\n",
    "plt.hist(df['sigma']*180/pi,bins=50);\n",
    "plt.yscale('Log')\n",
    "plt.xlabel(r'$\\sigma$ [deg]')\n",
    "plt.show()"
   ]
  },
  {
   "cell_type": "code",
   "execution_count": null,
   "metadata": {
    "tags": []
   },
   "outputs": [],
   "source": [
    "plt.scatter(np.log(df['alpha']),np.log(df['beta']))\n",
    "plt.xlabel('log(alpha)')\n",
    "plt.ylabel('log(beta)')"
   ]
  },
  {
   "cell_type": "code",
   "execution_count": null,
   "metadata": {},
   "outputs": [],
   "source": [
    "plt.hist(df['Btrue'],bins=np.linspace(1,2,50),histtype='step',label='truth')\n",
    "plt.hist(df['mean'],bins=np.linspace(1,2,50),histtype='step',label='mean')\n",
    "plt.hist(df['mode'],bins=np.linspace(1,2,50),histtype='step',label='mode')\n",
    "#plt.yscale('Log')\n",
    "plt.xlabel(r'$\\beta$ [rad]')\n",
    "plt.legend()\n",
    "plt.yscale('log')\n",
    "plt.show()"
   ]
  },
  {
   "cell_type": "code",
   "execution_count": null,
   "metadata": {
    "tags": []
   },
   "outputs": [],
   "source": [
    "plt.hist(df['Btrue']*180/pi,bins=np.linspace(60,90,50),histtype='step',label='truth')\n",
    "plt.hist(df['mean']*180/pi,bins=np.linspace(60,90,50),histtype='step',label='mean')\n",
    "plt.hist(df['mode']*180/pi,bins=np.linspace(60,90,50),histtype='step',label='mode')\n",
    "#plt.yscale('Log')\n",
    "plt.xlabel(r'$\\beta$ [deg]')\n",
    "plt.legend(frameon=False,loc='upper left')\n",
    "plt.yscale('log')\n",
    "plt.show()"
   ]
  },
  {
   "cell_type": "code",
   "execution_count": null,
   "metadata": {},
   "outputs": [],
   "source": [
    "x = sns.regplot(x=df['Btrue'], y=df['Btrue']-df['mode'], x_bins=np.linspace(1,2,100), fit_reg=None, marker='.')\n",
    "plt.xlabel(r'True $\\beta$ [rad]')\n",
    "plt.ylabel(r'$\\beta$ - mode [rad]')"
   ]
  },
  {
   "cell_type": "code",
   "execution_count": null,
   "metadata": {
    "tags": []
   },
   "outputs": [],
   "source": [
    "x = sns.regplot(x=df['Btrue']*180/pi, y=(df['Btrue']-df['mode'])*180/pi, x_bins=np.linspace(60,90,50), fit_reg=None, marker='.')\n",
    "plt.xlabel(r'True $\\beta$ [deg]')\n",
    "plt.ylabel(r'$\\beta$ - mode [deg]')"
   ]
  },
  {
   "cell_type": "code",
   "execution_count": null,
   "metadata": {},
   "outputs": [],
   "source": [
    "x = sns.regplot(x=df['Btrue'], y=df['Btrue']-df['mode'], x_bins=np.linspace(1.5,2,100), fit_reg=None, marker='.')\n",
    "plt.xlabel(r'True $\\beta$ [rad]')\n",
    "plt.ylabel(r'$\\beta$ - mode [rad]')"
   ]
  },
  {
   "cell_type": "code",
   "execution_count": null,
   "metadata": {
    "tags": []
   },
   "outputs": [],
   "source": [
    "x = sns.regplot(x=df['Btrue']*180/pi, y=(df['Btrue']-df['mode'])*180/pi, x_bins=np.linspace(80,90,50), fit_reg=None, marker='.')\n",
    "plt.xlabel(r'True $\\beta$ [deg]')\n",
    "plt.ylabel(r'$\\beta$ - mode [deg]')"
   ]
  },
  {
   "cell_type": "code",
   "execution_count": null,
   "metadata": {},
   "outputs": [],
   "source": [
    "y = sns.regplot(x=df['Btrue'], y=df['sigma'], x_bins=np.linspace(1,2,100), fit_reg=None, marker='.')\n",
    "plt.xlabel(r'True $\\beta$ [rad]')\n",
    "plt.ylabel(r'$\\sigma$ [rad]')"
   ]
  },
  {
   "cell_type": "code",
   "execution_count": null,
   "metadata": {
    "tags": []
   },
   "outputs": [],
   "source": [
    "y = sns.regplot(x=df['Btrue']*180/pi, y=df['sigma']*180/pi, x_bins=np.linspace(60,90,50), fit_reg=None, marker='.')\n",
    "plt.xlabel(r'True $\\beta$ [deg]')\n",
    "plt.ylabel(r'$\\sigma$ [deg]')"
   ]
  },
  {
   "cell_type": "code",
   "execution_count": null,
   "metadata": {},
   "outputs": [],
   "source": [
    "pulls = residuals/df['sigma']"
   ]
  },
  {
   "cell_type": "code",
   "execution_count": null,
   "metadata": {},
   "outputs": [],
   "source": [
    "plt.hist(pulls,bins=np.linspace(-10,10,50));\n",
    "plt.xlabel('pull')"
   ]
  },
  {
   "cell_type": "code",
   "execution_count": null,
   "metadata": {},
   "outputs": [],
   "source": [
    "print(np.mean(pulls),np.std(pulls))"
   ]
  },
  {
   "cell_type": "code",
   "execution_count": null,
   "metadata": {},
   "outputs": [],
   "source": []
  }
 ],
 "metadata": {
  "kernelspec": {
   "display_name": "Python 3 (ipykernel)",
   "language": "python",
   "name": "python3"
  },
  "language_info": {
   "codemirror_mode": {
    "name": "ipython",
    "version": 3
   },
   "file_extension": ".py",
   "mimetype": "text/x-python",
   "name": "python",
   "nbconvert_exporter": "python",
   "pygments_lexer": "ipython3",
   "version": "3.9.16"
  }
 },
 "nbformat": 4,
 "nbformat_minor": 4
}
