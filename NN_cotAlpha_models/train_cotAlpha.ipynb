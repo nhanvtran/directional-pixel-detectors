{
 "cells": [
  {
   "cell_type": "code",
   "execution_count": 1,
   "id": "eaf2cc67",
   "metadata": {
    "scrolled": true
   },
   "outputs": [],
   "source": [
    "import glob\n",
    "import pandas as pd\n",
    "import numpy as np\n",
    "import keras\n",
    "import tensorflow as tf\n",
    "import random\n",
    "from typing import Union, List, Tuple\n",
    "import matplotlib.pyplot as plt\n",
    "import datetime\n",
    "import os\n",
    "import time\n",
    "from keras.models import Model\n",
    "from keras.layers import (BatchNormalization, Flatten, Input, Reshape, Dense, MaxPool2D,\n",
    "                          Conv1D, MaxPool1D, Conv2D, Dropout, Conv3D, Concatenate)"
   ]
  },
  {
   "cell_type": "code",
   "execution_count": 2,
   "id": "6863c016",
   "metadata": {
    "scrolled": true
   },
   "outputs": [],
   "source": [
    "class CustomDataGenerator(tf.keras.utils.Sequence):\n",
    "    \n",
    "    def __init__(self, \n",
    "                data_directory_path: str = \"./\",\n",
    "                labels_directory_path: str = \"./\",\n",
    "                is_directory_recursive: bool = False,\n",
    "                file_type: str = \"*csv\",\n",
    "                data_format: str = \"2D\",\n",
    "                batch_size: int = 32,\n",
    "                file_count = None,\n",
    "                labels_list: Union[List,str] = \"cotAlpha\",\n",
    "                to_standardize: bool = False,\n",
    "                input_shape: Tuple = (13,21),\n",
    "                include_y_local:bool = False,\n",
    "                **kwargs,\n",
    "                ):\n",
    "        \"\"\"\n",
    "        Data Generator to streamline data input to the network direct from the directory.\n",
    "        Args:\n",
    "        data_directory_path:\n",
    "        labels_directory_path: \n",
    "        is_directory_recursive: \n",
    "        file_type: Default: \"*.csv\"\n",
    "                   Adapt the data loader according to file type. For now, it only supports .csv file format.\n",
    "        data_format: Default: 2D\n",
    "                     Used to refer to the relevant \"recon\" files, 2D for 2D pixel array, 3D for time series input,\n",
    "        batch_size: Default: 32\n",
    "                    The no. of data points to be included in a single batch.\n",
    "        file_count: Default: None\n",
    "                    To limit the no. of .csv files to be used for training.\n",
    "                    If set to None, all files will be considered as legitimate inputs.\n",
    "        labels_list: Default: \"cotAlpha\"\n",
    "                     Input column name or list of column names to be used as label input to the neural network.\n",
    "        to_standardize: If set to True, it ensures that batches are normalized prior to being used as inputs\n",
    "                        for training.\n",
    "                        Default: False\n",
    "        input_shape: Default: (13,21) for image input to a 2D feedforward neural network.\n",
    "                    To reshape the input array per the requirements of the network training.\n",
    "        \"\"\"\n",
    "        self.recon_files = glob.glob(data_directory_path + \"recon\" + data_format + file_type, \n",
    "                                    recursive=is_directory_recursive)\n",
    "        \n",
    "        self.recon_files.sort()\n",
    "        print(len(self.recon_files))\n",
    "        self.label_files = glob.glob(labels_directory_path + \"labels\" + file_type, \n",
    "                                     recursive=is_directory_recursive)\n",
    "        self.label_files.sort()\n",
    "        \n",
    "        if file_count != None:\n",
    "            self.recon_files = self.recon_files[:file_count]\n",
    "            self.label_files = self.label_files[:file_count]\n",
    "            \n",
    "        self.batch_size = batch_size\n",
    "        self.labels_list = labels_list\n",
    "        self.input_shape = input_shape\n",
    "        self.to_standardize = to_standardize\n",
    "        self.include_y_local = include_y_local\n",
    "        self.on_epoch_end()\n",
    "        \n",
    "    \n",
    "    def standardize(self, x):\n",
    "        \"\"\"Applies the normalization configuration in-place to a batch of\n",
    "        inputs.\n",
    "        `x` is changed in-place since the function is mainly used internally\n",
    "        to standardize images and feed them to your network.\n",
    "        Args:\n",
    "            x: Batch of inputs to be normalized.\n",
    "        Returns:\n",
    "            The inputs, normalized. \n",
    "        \"\"\"\n",
    "        x -= np.mean(x, keepdims=True)   \n",
    "        x /= np.std(x, keepdims=True) + 1e-10\n",
    "        return x\n",
    "        \n",
    "            \n",
    "    def on_epoch_end(self):\n",
    "        \"\"\"\n",
    "        Inherited from the parent class.\n",
    "        Used to reset indices but not of significance in this datagenerator.\n",
    "        \"\"\"\n",
    "        pass\n",
    "            \n",
    "        \n",
    "    def __getitem__(self, index):\n",
    "        \"\"\"\n",
    "        Used to fetch a batch of inputs (X,y) for the network's training.\n",
    "        \"\"\"\n",
    "        \n",
    "        file_index = random.randrange(0,len(self.recon_files))\n",
    "        recon_df = pd.read_csv(self.recon_files[file_index])\n",
    "        labels_df = pd.read_csv(self.label_files[file_index])\n",
    "        \n",
    "        chosen_idxs = random.sample([i for i in range(0,len(labels_df))], self.batch_size)\n",
    "        \n",
    "        X = recon_df.iloc[chosen_idxs].values\n",
    "        if len(self.input_shape) == 1:\n",
    "            X = X.reshape(self.batch_size,self.input_shape[0])\n",
    "        if len(self.input_shape) == 2:\n",
    "            X = X.reshape(self.batch_size,self.input_shape[0],self.input_shape[1])\n",
    "        elif len(self.input_shape) == 3:\n",
    "            X = X.reshape(self.batch_size,self.input_shape[0],self.input_shape[1],\n",
    "                          self.input_shape[2])\n",
    "        elif len(self.input_shape) == 4:\n",
    "            X = X.reshape(self.batch_size, self.input_shape[0], self.input_shape[1], \n",
    "                          self.input_shape[2], self.input_shape[3])\n",
    "            \n",
    "        y = labels_df.iloc[chosen_idxs][self.labels_list].values\n",
    "        if self.to_standardize:\n",
    "            X = self.standardize(X)\n",
    "        if self.include_y_local:\n",
    "            y_local = labels_df.iloc[chosen_idxs][\"y-local\"].values\n",
    "            return [X, y_local], y\n",
    "        else:\n",
    "            return X, y\n",
    "    \n",
    "    def __len__(self):\n",
    "        count = 0\n",
    "        for f in self.label_files:\n",
    "            x = pd.read_csv(f)\n",
    "            count += x.shape[0]\n",
    "        return count // self.batch_size"
   ]
  },
  {
   "cell_type": "code",
   "execution_count": 8,
   "id": "fe4b1cab",
   "metadata": {
    "scrolled": true
   },
   "outputs": [],
   "source": [
    "def custom_loss(y, p):\n",
    "\n",
    "    maxval = 1e9\n",
    "    minval = 1e-9\n",
    "    pi = 3.14159265359\n",
    "\n",
    "    mu = tf.gather(params=p, indices=[0], axis=1)\n",
    "    sigma = tf.gather(params=p, indices=[1], axis=1)\n",
    "\n",
    "    likelihood = 1.0/tf.math.sqrt(2*pi)/sigma*tf.math.exp(-1*(y-mu)*(y-mu)/(2*sigma*sigma))\n",
    "    likelihood = tf.clip_by_value(tf.math.multiply_no_nan(likelihood,tf.cast(sigma>0,tf.float32)),minval,maxval)\n",
    "\n",
    "    NLL = tf.clip_by_value(-1*tf.math.log(likelihood),minval,maxval)\n",
    "\n",
    "    return tf.keras.backend.sum(NLL,axis=1)\n",
    "\n",
    "def custom_loss_double_gaussian(y, p):\n",
    "    maxval = 1e9\n",
    "    minval = 1e-9\n",
    "    pi = 3.14159265359\n",
    "    mu = tf.gather(params=p, indices=[0], axis=1)\n",
    "    sigma1 = tf.gather(params=p, indices=[1], axis=1)\n",
    "    sigma2 = tf.gather(params=p, indices=[2], axis=1)\n",
    "    A = tf.gather(params=p, indices=[3], axis=1)\n",
    "    norm1 = tf.math.sqrt(2*pi)*sigma1\n",
    "    norm2 = tf.math.sqrt(2*pi)*sigma2\n",
    "    normtot = norm1 + A*norm2\n",
    "    term1 = tf.math.exp(-0.5*(y-mu)*(y-mu)/(sigma1*sigma1))\n",
    "    term2 = tf.math.exp(-0.5*(y-mu)*(y-mu)/(sigma2*sigma2))\n",
    "    likelihood = (term1 + A*term2)/normtot\n",
    "    likelihood = tf.math.multiply_no_nan(likelihood,tf.cast(sigma1>0,tf.float32)*tf.cast(sigma2>0,tf.float32))\n",
    "    likelihood = tf.clip_by_value(likelihood,minval,maxval)\n",
    "    NLL = -1*tf.math.log(likelihood)\n",
    "    return tf.keras.backend.sum(NLL,axis=1)\n"
   ]
  },
  {
   "cell_type": "code",
   "execution_count": 6,
   "id": "43ba03fa",
   "metadata": {},
   "outputs": [],
   "source": [
    "class RegModelCotAlpha2D:\n",
    "\n",
    "    def build_image_branch(self,inputs):\n",
    "        x = Flatten()(inputs)\n",
    "        x = Dense(32, kernel_initializer = \"glorot_normal\", activation='sigmoid', use_bias = True)(x)\n",
    "        x = Dense(16, kernel_initializer = \"glorot_normal\", activation='sigmoid', use_bias = True)(x)\n",
    "        x = Dense(4, activation= \"linear\", name = \"final_output\")(x)\n",
    "\n",
    "        return x\n",
    " \n",
    "    def assemble_model(self):\n",
    "        inputs = Input ( shape = (10,21,1) )\n",
    "        outputs = self.build_image_branch(inputs)\n",
    "        model = Model(inputs =inputs, outputs=outputs, name = \"cotAlpha_2D_x_profile_model\")\n",
    "        print( model.summary() )\n",
    "        return model"
   ]
  },
  {
   "cell_type": "code",
   "execution_count": 9,
   "id": "ecb52914",
   "metadata": {
    "scrolled": false
   },
   "outputs": [
    {
     "name": "stdout",
     "output_type": "stream",
     "text": [
      "70\n",
      "70\n",
      "Model: \"cotAlpha_2D_x_profile_model\"\n",
      "_________________________________________________________________\n",
      " Layer (type)                Output Shape              Param #   \n",
      "=================================================================\n",
      " input_3 (InputLayer)        [(None, 10, 21, 1)]       0         \n",
      "                                                                 \n",
      " flatten_2 (Flatten)         (None, 210)               0         \n",
      "                                                                 \n",
      " dense_4 (Dense)             (None, 32)                6752      \n",
      "                                                                 \n",
      " dense_5 (Dense)             (None, 16)                528       \n",
      "                                                                 \n",
      " final_output (Dense)        (None, 4)                 68        \n",
      "                                                                 \n",
      "=================================================================\n",
      "Total params: 7,348\n",
      "Trainable params: 7,348\n",
      "Non-trainable params: 0\n",
      "_________________________________________________________________\n",
      "None\n"
     ]
    },
    {
     "name": "stderr",
     "output_type": "stream",
     "text": [
      "/Users/gpradhan/miniforge3/lib/python3.9/site-packages/keras/optimizer_v2/adam.py:105: UserWarning: The `lr` argument is deprecated, use `learning_rate` instead.\n",
      "  super(Adam, self).__init__(name, **kwargs)\n"
     ]
    },
    {
     "name": "stdout",
     "output_type": "stream",
     "text": [
      "Epoch 1/100\n"
     ]
    },
    {
     "name": "stderr",
     "output_type": "stream",
     "text": [
      "2022-11-03 13:05:21.494631: I tensorflow/core/grappler/optimizers/custom_graph_optimizer_registry.cc:113] Plugin optimizer for device_type GPU is enabled.\n"
     ]
    },
    {
     "name": "stdout",
     "output_type": "stream",
     "text": [
      "270/270 [==============================] - ETA: 0s - loss: 2.5711 - mse: 10.4298"
     ]
    },
    {
     "name": "stderr",
     "output_type": "stream",
     "text": [
      "2022-11-03 13:06:19.208275: I tensorflow/core/grappler/optimizers/custom_graph_optimizer_registry.cc:113] Plugin optimizer for device_type GPU is enabled.\n"
     ]
    },
    {
     "name": "stdout",
     "output_type": "stream",
     "text": [
      "270/270 [==============================] - 66s 239ms/step - loss: 2.5711 - mse: 10.4298 - val_loss: 10.6321 - val_mse: 11.3386\n",
      "Epoch 2/100\n",
      "270/270 [==============================] - 64s 233ms/step - loss: 3.2207 - mse: 14.0499 - val_loss: 7.9243 - val_mse: 12.7533\n",
      "Epoch 3/100\n",
      "270/270 [==============================] - 64s 233ms/step - loss: 4.0780 - mse: 12.2957 - val_loss: 2.2826 - val_mse: 12.0387\n",
      "Epoch 4/100\n",
      "270/270 [==============================] - 66s 241ms/step - loss: 2.8926 - mse: 11.5755 - val_loss: 3.2380 - val_mse: 11.4699\n",
      "Epoch 5/100\n",
      "270/270 [==============================] - 65s 236ms/step - loss: 5.4050 - mse: 11.2604 - val_loss: 3.8291 - val_mse: 11.3747\n",
      "Epoch 6/100\n",
      "270/270 [==============================] - 64s 232ms/step - loss: 2.9303 - mse: 10.6965 - val_loss: 2.2244 - val_mse: 10.8529\n",
      "Epoch 7/100\n",
      "270/270 [==============================] - 65s 237ms/step - loss: 2.0494 - mse: 10.9139 - val_loss: 1.9856 - val_mse: 11.2861\n",
      "Epoch 8/100\n",
      "270/270 [==============================] - 66s 241ms/step - loss: 1.9535 - mse: 11.4805 - val_loss: 1.9261 - val_mse: 11.7006\n",
      "Epoch 9/100\n",
      "270/270 [==============================] - 65s 236ms/step - loss: 1.8954 - mse: 11.7374 - val_loss: 1.8641 - val_mse: 11.8467\n",
      "Epoch 10/100\n",
      "270/270 [==============================] - 66s 240ms/step - loss: 1.8353 - mse: 11.7827 - val_loss: 1.8085 - val_mse: 11.9223\n",
      "Epoch 11/100\n",
      "270/270 [==============================] - 65s 236ms/step - loss: 1.7537 - mse: 11.4966 - val_loss: 1.6687 - val_mse: 11.3224\n",
      "Epoch 12/100\n",
      "270/270 [==============================] - 66s 239ms/step - loss: 1.4335 - mse: 10.1963 - val_loss: 1.1768 - val_mse: 9.3833\n",
      "Epoch 13/100\n",
      "270/270 [==============================] - 65s 237ms/step - loss: 1.0537 - mse: 8.4885 - val_loss: 1.0076 - val_mse: 7.9741\n",
      "Epoch 14/100\n",
      "270/270 [==============================] - 65s 237ms/step - loss: 1.2205 - mse: 7.7070 - val_loss: 1.8134 - val_mse: 7.4758\n",
      "Epoch 15/100\n",
      "270/270 [==============================] - 66s 241ms/step - loss: 1.6469 - mse: 7.3436 - val_loss: 1.8191 - val_mse: 7.2798\n",
      "Epoch 16/100\n",
      "270/270 [==============================] - 64s 233ms/step - loss: 2.2259 - mse: 7.1683 - val_loss: 2.9984 - val_mse: 7.1956\n",
      "Epoch 17/100\n",
      "270/270 [==============================] - 63s 230ms/step - loss: 2.8232 - mse: 7.1079 - val_loss: 2.6287 - val_mse: 7.1003\n",
      "Epoch 18/100\n",
      "270/270 [==============================] - 63s 228ms/step - loss: 2.8399 - mse: 7.0307 - val_loss: 2.7880 - val_mse: 7.1664\n",
      "Total Training Time = 0:19:31.355120\n"
     ]
    }
   ],
   "source": [
    "start_date = datetime.datetime.now ( )\n",
    "epochs = 100\n",
    "batch_size = 5000\n",
    "val_batch_size = 5000\n",
    "use_file_size = None\n",
    "training_generator = CustomDataGenerator(\n",
    "                                        data_directory_path = \"./data/processed/3Dto2DX/\",\n",
    "                                        labels_directory_path = \"./data/raw/labels/\",\n",
    "                                        is_directory_recursive = False,\n",
    "                                        file_type = \"*csv\",\n",
    "                                        data_format = \"3D\",\n",
    "                                        batch_size = batch_size,\n",
    "                                        file_count = use_file_size,\n",
    "                                        to_standardize= True,\n",
    "                                        include_y_local= False,\n",
    "                                        labels_list = \"cotAlpha\",\n",
    "                                        input_shape = (10,21,1))\n",
    "\n",
    "validation_generator = CustomDataGenerator(\n",
    "                                        data_directory_path = \"./data/processed/3Dto2DX/\",\n",
    "                                        labels_directory_path = \"./data/raw/labels/\",\n",
    "                                        is_directory_recursive = False,\n",
    "                                        file_type = \"*csv\",\n",
    "                                        data_format = \"3D\",\n",
    "                                        batch_size = val_batch_size,\n",
    "                                        file_count = 25,\n",
    "                                        to_standardize= True,\n",
    "                                        include_y_local= False,\n",
    "                                        labels_list = \"cotAlpha\",\n",
    "                                        input_shape = (10,21,1))\n",
    "\n",
    "es = keras.callbacks.EarlyStopping(\n",
    "                                   patience = 5, \n",
    "                                   min_delta= 1e-5,\n",
    "                                   mode=\"min\")\n",
    "\n",
    "model = RegModelCotAlpha2D().assemble_model()\n",
    "\n",
    "model.compile(optimizer = tf.keras.optimizers.Adam(lr =5e-3), \n",
    "              loss = custom_loss_double_gaussian,\n",
    "              metrics = [\"mse\"])\n",
    "\n",
    "history = model.fit(x=training_generator,\n",
    "                    validation_data=validation_generator,\n",
    "                    epochs=epochs,\n",
    "                    callbacks = [es],\n",
    "                    verbose = True)\n",
    "\n",
    "end_date = datetime.datetime.now ( )\n",
    "print ( \"Total Training Time = {}\".format (end_date - start_date ) )"
   ]
  },
  {
   "cell_type": "code",
   "execution_count": 10,
   "id": "90133ee3",
   "metadata": {
    "scrolled": true
   },
   "outputs": [
    {
     "data": {
      "image/png": "[encoded data removed]",
      "text/plain": [
       "<Figure size 432x288 with 1 Axes>"
      ]
     },
     "metadata": {
      "needs_background": "light"
     },
     "output_type": "display_data"
    }
   ],
   "source": [
    "plt.plot(history.history[\"loss\"], color = \"blue\",marker = \"o\")\n",
    "plt.plot(history.history[\"val_loss\"], color =\"red\", marker = \".\")\n",
    "# plt.xticks([0,1,2,3,4,5,6,7,8,9,10])\n",
    "plt.show()"
   ]
  },
  {
   "cell_type": "markdown",
   "id": "3e152a41",
   "metadata": {},
   "source": [
    "### Test Phase:"
   ]
  },
  {
   "cell_type": "code",
   "execution_count": 11,
   "id": "312bbca7",
   "metadata": {
    "scrolled": true
   },
   "outputs": [
    {
     "name": "stdout",
     "output_type": "stream",
     "text": [
      "(99710, 210) (99710,)\n"
     ]
    }
   ],
   "source": [
    "test_recon = pd.read_csv(\"./data/test/recon3Dto2D_10TS_test.csv\")\n",
    "test_labels_df = pd.read_csv(\"./data/test/labels_test.csv\")\n",
    "test_labels = test_labels_df[\"cotAlpha\"]\n",
    "test_y_local = test_labels_df[\"y-local\"]\n",
    "print(test_recon.shape, test_labels.shape)"
   ]
  },
  {
   "cell_type": "code",
   "execution_count": 12,
   "id": "5094c1f9",
   "metadata": {
    "scrolled": true
   },
   "outputs": [
    {
     "name": "stderr",
     "output_type": "stream",
     "text": [
      "2022-11-03 13:30:17.290973: I tensorflow/core/grappler/optimizers/custom_graph_optimizer_registry.cc:113] Plugin optimizer for device_type GPU is enabled.\n"
     ]
    }
   ],
   "source": [
    "test_inputs = test_recon.values.reshape(test_recon.shape[0],10,21,1)\n",
    "\n",
    "def standardize(x):\n",
    "    \"\"\"Applies the normalization configuration in-place to a batch of\n",
    "    inputs.\n",
    "    `x` is changed in-place since the function is mainly used internally\n",
    "    to standardize images and feed them to your network.\n",
    "    Args:\n",
    "        x: Batch of inputs to be normalized.\n",
    "    Returns:\n",
    "        The inputs, normalized. \n",
    "    \"\"\"\n",
    "    x -= np.mean(x, keepdims=True)   \n",
    "    x /= np.std(x, keepdims=True) + 1e-10\n",
    "    return x\n",
    "\n",
    "test_inputs = standardize(test_inputs)\n",
    "# cotBeta_predictions = model.predict(test_inputs, batch_size = 1000)\n",
    "cotAlpha_predictions = model.predict(test_inputs, batch_size = 1000)\n",
    "# cotBeta_predictions = model.predict([test_inputs,test_y_local.values], batch_size = 1000)\n",
    "df = pd.DataFrame(cotAlpha_predictions, columns = [\"mu\",\"sigma_1\",\"sigma_2\", \"relative_norm\"])\n",
    "df[\"truth\"] = test_labels"
   ]
  },
  {
   "cell_type": "code",
   "execution_count": 13,
   "id": "4d021186",
   "metadata": {
    "scrolled": false
   },
   "outputs": [
    {
     "data": {
      "image/png": "[encoded data removed]",
      "text/plain": [
       "<Figure size 560x400 with 1 Axes>"
      ]
     },
     "metadata": {
      "needs_background": "light"
     },
     "output_type": "display_data"
    }
   ],
   "source": [
    "plt.figure(figsize = (7,5), dpi = 80)\n",
    "plt.hist(df[\"truth\"], bins = 100, color = \"darkblue\", histtype = \"step\" )\n",
    "plt.hist(df[\"mu\"], bins = 100, color = \"black\", histtype = \"step\" )\n",
    "plt.xlabel(\"cotBeta\")\n",
    "plt.legend([\"truth\", \"mu\"])\n",
    "plt.grid(which='major', linestyle='-', linewidth='0.5', alpha=0.5,color='black')\n",
    "plt.show()"
   ]
  },
  {
   "cell_type": "code",
   "execution_count": 14,
   "id": "7eda1082",
   "metadata": {
    "scrolled": true
   },
   "outputs": [],
   "source": [
    "# df.to_csv(\"./results.csv\", index = False)"
   ]
  },
  {
   "cell_type": "code",
   "execution_count": 15,
   "id": "11a85d24",
   "metadata": {
    "scrolled": true
   },
   "outputs": [
    {
     "data": {
      "image/png": "[encoded data removed]",
      "text/plain": [
       "<Figure size 630x360 with 1 Axes>"
      ]
     },
     "metadata": {
      "needs_background": "light"
     },
     "output_type": "display_data"
    }
   ],
   "source": [
    "def compute_profile(x, y, nbin=100):\n",
    "    \n",
    "    # use of the 2d hist by numpy to avoid plotting\n",
    "    h, xe, ye = np.histogram2d(x,y,nbin)\n",
    "    \n",
    "    # bin width\n",
    "    xbinw = xe[1]-xe[0]\n",
    "\n",
    "    # getting the mean and RMS values of each vertical slice of the 2D distribution\n",
    "    # also the x valuse should be recomputed because of the possibility of empty slices\n",
    "    x_array      = []\n",
    "    x_slice_mean = []\n",
    "    x_slice_rms  = []\n",
    "    for i in range(xe.size-1):\n",
    "        yvals = y[ (x>xe[i]) & (x<=xe[i+1]) ]\n",
    "        if yvals.size>0: # do not fill the quanties for empty slices\n",
    "            x_array.append(xe[i]+ xbinw/2)\n",
    "            x_slice_mean.append( yvals.mean())\n",
    "            x_slice_rms.append( yvals.std())\n",
    "    x_array = np.array(x_array)\n",
    "    x_slice_mean = np.array(x_slice_mean)\n",
    "    x_slice_rms = np.array(x_slice_rms)\n",
    "\n",
    "    return x_array, x_slice_mean, x_slice_rms\n",
    "\n",
    "plt.figure(figsize = (7,4), dpi= 90)\n",
    "p_x, p_mean, p_rms = compute_profile(x = df[\"truth\"],\n",
    "                                     y = df[\"truth\"] - df[\"mu\"],\n",
    "                                     nbin = 50)\n",
    "plt.errorbar(p_x, p_mean, p_rms,fmt='_', ecolor='blue', color='blue')\n",
    "\n",
    "plt.xlabel(\"Truth\")\n",
    "plt.ylabel(\"Residuals\")\n",
    "plt.minorticks_on()\n",
    "plt.grid(which='major', linestyle='-', linewidth='0.5', alpha=0.5,color='black')\n",
    "plt.show()"
   ]
  },
  {
   "cell_type": "code",
   "execution_count": 16,
   "id": "9dc536f0",
   "metadata": {
    "scrolled": false
   },
   "outputs": [
    {
     "name": "stdout",
     "output_type": "stream",
     "text": [
      "0.03648056995261256 0.386782586491672\n"
     ]
    },
    {
     "data": {
      "image/png": "[encoded data removed]",
      "text/plain": [
       "<Figure size 560x400 with 1 Axes>"
      ]
     },
     "metadata": {
      "needs_background": "light"
     },
     "output_type": "display_data"
    }
   ],
   "source": [
    "residuals = df[\"truth\"] - df[\"mu\"]\n",
    "print(np.mean(residuals), np.std(residuals))\n",
    "plt.figure(figsize = (7,5), dpi = 80)\n",
    "plt.hist(residuals, bins = 1000, color = \"red\", histtype = \"step\")\n",
    "plt.legend([\"Residuals\"])\n",
    "plt.grid(which='major', linestyle='-', linewidth='0.5', alpha=0.5,color='black')\n",
    "plt.show()"
   ]
  },
  {
   "cell_type": "code",
   "execution_count": 17,
   "id": "91332ccc",
   "metadata": {},
   "outputs": [
    {
     "name": "stdout",
     "output_type": "stream",
     "text": [
      "-1.0567469501806326 184.82000122633488\n"
     ]
    },
    {
     "data": {
      "image/png": "[encoded data removed]",
      "text/plain": [
       "<Figure size 560x400 with 1 Axes>"
      ]
     },
     "metadata": {
      "needs_background": "light"
     },
     "output_type": "display_data"
    }
   ],
   "source": [
    "pulls = (df[\"mu\"] - df[\"truth\"])/ df[\"sigma_1\"]\n",
    "print(np.mean(pulls), np.std(pulls))\n",
    "plt.figure(figsize = (7,5), dpi = 80)\n",
    "plt.hist(pulls, bins = 1000, color = \"green\", histtype = \"step\")\n",
    "plt.legend([\"Pulls\"])\n",
    "plt.grid(which='major', linestyle='-', linewidth='0.5', alpha=0.5,color='black')\n",
    "plt.show()"
   ]
  },
  {
   "cell_type": "code",
   "execution_count": null,
   "id": "aa8d9aae",
   "metadata": {},
   "outputs": [],
   "source": []
  }
 ],
 "metadata": {
  "kernelspec": {
   "display_name": "Python 3 (ipykernel)",
   "language": "python",
   "name": "python3"
  },
  "language_info": {
   "codemirror_mode": {
    "name": "ipython",
    "version": 3
   },
   "file_extension": ".py",
   "mimetype": "text/x-python",
   "name": "python",
   "nbconvert_exporter": "python",
   "pygments_lexer": "ipython3",
   "version": "3.9.12"
  }
 },
 "nbformat": 4,
 "nbformat_minor": 5
}
