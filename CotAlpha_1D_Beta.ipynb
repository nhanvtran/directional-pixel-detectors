{
 "cells": [
  {
   "cell_type": "code",
   "execution_count": 1,
   "id": "eaf2cc67",
   "metadata": {
    "scrolled": true
   },
   "outputs": [],
   "source": [
    "import glob\n",
    "import pandas as pd\n",
    "import numpy as np\n",
    "import tensorflow as tf\n",
    "import keras\n",
    "import random\n",
    "import matplotlib.pyplot as plt\n",
    "import datetime\n",
    "from typing import Union, List, Tuple\n",
    "import os\n",
    "import time\n",
    "from keras.models import Model\n",
    "from keras.layers import (BatchNormalization, Flatten, Input, Reshape, Dense, MaxPool2D,\n",
    "                          Conv1D, Concatenate)\n",
    "import tensorflow_probability as tfp"
   ]
  },
  {
   "cell_type": "code",
   "execution_count": 2,
   "id": "2f8c2bf5",
   "metadata": {},
   "outputs": [
    {
     "name": "stdout",
     "output_type": "stream",
     "text": [
      "(750481, 21) (750481,)\n"
     ]
    }
   ],
   "source": [
    "X = pd.read_csv(\"../data/1D/X.csv\").values\n",
    "y = pd.read_csv(\"../data/1D/y.csv\")['cotAlpha'].values\n",
    "\n",
    "alphas = []\n",
    "for i in range(len(y)):\n",
    "    angle = np.arctan(1.0/np.abs(y[i]))\n",
    "    alphas.append(angle)\n",
    "    \n",
    "alphas = np.array(alphas)\n",
    "\n",
    "def standardize(x):\n",
    "    \"\"\"Applies the normalization configuration in-place to a batch of\n",
    "    inputs.\n",
    "    `x` is changed in-place since the function is mainly used internally\n",
    "    to standardize images and feed them to your network.\n",
    "    Args:\n",
    "        x: Batch of inputs to be normalized.\n",
    "    Returns:\n",
    "        The inputs, normalized. \n",
    "    \"\"\"\n",
    "    x -= np.mean(x, keepdims=True)   \n",
    "    x /= np.std(x, keepdims=True) + 1e-10\n",
    "    return x\n",
    "X = standardize(X)\n",
    "print(X.shape,y.shape)"
   ]
  },
  {
   "cell_type": "code",
   "execution_count": 3,
   "id": "fe4b1cab",
   "metadata": {
    "scrolled": true
   },
   "outputs": [],
   "source": [
    "def custom_loss(y, p):\n",
    "    maxval = 1e9\n",
    "    minval = 1e-9\n",
    "    pi = 3.14159265359\n",
    "    mu = tf.gather(params=p, indices=[0], axis=1)\n",
    "    sigma = 0.001 + tf.math.softplus(tf.gather(params=p, indices=[1], axis=1))\n",
    "    likelihood = 1.0/tf.math.sqrt(2*pi)/sigma*tf.math.exp(-1*(y-mu)**2/(2*(sigma)**2))\n",
    "    likelihood = tf.clip_by_value(likelihood,minval,maxval)\n",
    "    NLL = -1*tf.math.log(likelihood)\n",
    "    return tf.keras.backend.sum(NLL,axis=1)\n",
    "\n",
    "def custom_loss_beta_distribution(y, p):\n",
    "    maxval = 1e9\n",
    "    minval = 1e-9\n",
    "    pi = 3.14159265359\n",
    "    alpha = tf.gather(params=p, indices=[0], axis=1)\n",
    "    beta = tf.gather(params=p, indices=[1], axis=1)\n",
    "    dist = tfp.distributions.Beta(concentration1 = alpha,\n",
    "                                  concentration0 = beta)\n",
    "    likelihood = dist.prob(y/pi)                            \n",
    "    likelihood = tf.clip_by_value(likelihood,minval,maxval)\n",
    "    NLL = -1*tf.math.log(likelihood)\n",
    "    return tf.keras.backend.sum(NLL,axis=1)    "
   ]
  },
  {
   "cell_type": "code",
   "execution_count": 4,
   "id": "43ba03fa",
   "metadata": {},
   "outputs": [],
   "source": [
    "class RegModelAlpha1D:\n",
    "\n",
    "    def build_image_branch(self,inputs):\n",
    "        x = tf.keras.layers.Dense(256, \n",
    "                               kernel_initializer = \"glorot_normal\", \n",
    "                               activation='sigmoid', \n",
    "                               use_bias = True,\n",
    "                               name = \"hidden_i\")(inputs)\n",
    "        x = tf.keras.layers.Dense(2, \n",
    "                               activation= \"softplus\", \n",
    "                               name = \"final_output\")(x)\n",
    "\n",
    "        return x\n",
    " \n",
    "    def assemble_model(self):\n",
    "        inputs = tf.keras.layers.Input ( shape = (21,) )\n",
    "        outputs = self.build_image_branch(inputs)\n",
    "        model = tf.keras.models.Model(inputs =[inputs], \n",
    "                      outputs=outputs, \n",
    "                      name = \"angle_alpha_1D_x_profile_model\")\n",
    "        print( model.summary() )\n",
    "        return model"
   ]
  },
  {
   "cell_type": "code",
   "execution_count": 5,
   "id": "ecb52914",
   "metadata": {
    "scrolled": false
   },
   "outputs": [
    {
     "name": "stdout",
     "output_type": "stream",
     "text": [
      "Metal device set to: Apple M1\n",
      "Model: \"angle_alpha_1D_x_profile_model\"\n",
      "_________________________________________________________________\n",
      " Layer (type)                Output Shape              Param #   \n",
      "=================================================================\n",
      " input_1 (InputLayer)        [(None, 21)]              0         \n",
      "                                                                 \n",
      " hidden_i (Dense)            (None, 256)               5632      \n",
      "                                                                 \n",
      " final_output (Dense)        (None, 2)                 514       \n",
      "                                                                 \n",
      "=================================================================\n",
      "Total params: 6,146\n",
      "Trainable params: 6,146\n",
      "Non-trainable params: 0\n",
      "_________________________________________________________________\n",
      "None\n",
      "Epoch 1/10\n"
     ]
    },
    {
     "name": "stderr",
     "output_type": "stream",
     "text": [
      "2023-02-07 10:20:55.844792: I tensorflow/core/common_runtime/pluggable_device/pluggable_device_factory.cc:306] Could not identify NUMA node of platform GPU ID 0, defaulting to 0. Your kernel may not have been built with NUMA support.\n",
      "2023-02-07 10:20:55.844811: I tensorflow/core/common_runtime/pluggable_device/pluggable_device_factory.cc:272] Created TensorFlow device (/job:localhost/replica:0/task:0/device:GPU:0 with 0 MB memory) -> physical PluggableDevice (device: 0, name: METAL, pci bus id: <undefined>)\n",
      "/Users/gpradhan/miniforge3/envs/tf/lib/python3.9/site-packages/keras/optimizers/optimizer_v2/adam.py:117: UserWarning: The `lr` argument is deprecated, use `learning_rate` instead.\n",
      "  super().__init__(name, **kwargs)\n",
      "2023-02-07 10:20:56.007724: W tensorflow/tsl/platform/profile_utils/cpu_utils.cc:128] Failed to get CPU frequency: 0 Hz\n",
      "2023-02-07 10:20:56.282804: I tensorflow/core/grappler/optimizers/custom_graph_optimizer_registry.cc:114] Plugin optimizer for device_type GPU is enabled.\n"
     ]
    },
    {
     "name": "stdout",
     "output_type": "stream",
     "text": [
      "19935/19935 [==============================] - ETA: 0s - loss: -2.3303"
     ]
    },
    {
     "name": "stderr",
     "output_type": "stream",
     "text": [
      "2023-02-07 10:24:45.894616: I tensorflow/core/grappler/optimizers/custom_graph_optimizer_registry.cc:114] Plugin optimizer for device_type GPU is enabled.\n"
     ]
    },
    {
     "name": "stdout",
     "output_type": "stream",
     "text": [
      "19935/19935 [==============================] - 253s 13ms/step - loss: -2.3303 - val_loss: -2.5249\n",
      "Epoch 2/10\n",
      "19935/19935 [==============================] - 236s 12ms/step - loss: -2.6141 - val_loss: -2.6206\n",
      "Epoch 3/10\n",
      "19935/19935 [==============================] - 236s 12ms/step - loss: -2.6867 - val_loss: -2.6732\n",
      "Epoch 4/10\n",
      "19935/19935 [==============================] - 234s 12ms/step - loss: -2.7331 - val_loss: -2.7111\n",
      "Epoch 5/10\n",
      "19935/19935 [==============================] - 235s 12ms/step - loss: -2.7670 - val_loss: -2.7392\n",
      "Epoch 6/10\n",
      "19935/19935 [==============================] - 232s 12ms/step - loss: -2.7936 - val_loss: -2.7606\n",
      "Epoch 7/10\n",
      "19935/19935 [==============================] - 274s 14ms/step - loss: -2.8150 - val_loss: -2.7758\n",
      "Epoch 8/10\n",
      "19935/19935 [==============================] - 236s 12ms/step - loss: -2.8334 - val_loss: -2.7963\n",
      "Epoch 9/10\n",
      "19935/19935 [==============================] - 242s 12ms/step - loss: -2.8493 - val_loss: -2.8123\n",
      "Epoch 10/10\n",
      "19935/19935 [==============================] - 241s 12ms/step - loss: -2.8634 - val_loss: -2.8236\n",
      "Total Training Time = 0:40:18.904913\n"
     ]
    }
   ],
   "source": [
    "start_date = datetime.datetime.now ( )\n",
    "epochs = 10\n",
    "batch_size = 1024\n",
    "model = RegModelAlpha1D().assemble_model()\n",
    "\n",
    "model.compile(\n",
    "            optimizer = tf.keras.optimizers.legacy.Adam(lr = 0.001),\n",
    "            loss = custom_loss_beta_distribution\n",
    "            )\n",
    "\n",
    "history = model.fit(\n",
    "                    x = X,\n",
    "                    y = alphas,\n",
    "                    epochs=epochs,\n",
    "                    validation_split = 0.15,\n",
    "                    verbose = True \n",
    "                    )\n",
    "\n",
    "end_date = datetime.datetime.now ( )\n",
    "print ( \"Total Training Time = {}\".format (end_date - start_date ) )"
   ]
  },
  {
   "cell_type": "code",
   "execution_count": 6,
   "id": "90133ee3",
   "metadata": {
    "scrolled": false
   },
   "outputs": [
    {
     "data": {
      "image/png": "[encoded data removed]",
      "text/plain": [
       "<Figure size 600x600 with 1 Axes>"
      ]
     },
     "metadata": {},
     "output_type": "display_data"
    }
   ],
   "source": [
    "plt.figure(figsize = (6,6))\n",
    "plt.plot(history.history[\"loss\"], color = \"blue\",marker = \"o\")\n",
    "plt.plot(history.history[\"val_loss\"], color =\"red\", marker = \".\")\n",
    "plt.show()"
   ]
  },
  {
   "cell_type": "markdown",
   "id": "3e152a41",
   "metadata": {},
   "source": [
    "### Test Phase:"
   ]
  },
  {
   "cell_type": "code",
   "execution_count": 7,
   "id": "312bbca7",
   "metadata": {
    "scrolled": true
   },
   "outputs": [
    {
     "name": "stdout",
     "output_type": "stream",
     "text": [
      "(125498, 21) (125498,)\n"
     ]
    }
   ],
   "source": [
    "test_recon = pd.read_csv(\"../data/1D/test/reconTest_1Dx.csv\")\n",
    "test_labels_df = pd.read_csv(\"../data/1D/test/labelsTest.csv\")\n",
    "test_labels = np.absolute(test_labels_df[\"cotAlpha\"].values)\n",
    "print(test_recon.shape, test_labels.shape)"
   ]
  },
  {
   "cell_type": "code",
   "execution_count": 8,
   "id": "5094c1f9",
   "metadata": {
    "scrolled": true
   },
   "outputs": [
    {
     "name": "stdout",
     "output_type": "stream",
     "text": [
      " 50/126 [==========>...................] - ETA: 0s"
     ]
    },
    {
     "name": "stderr",
     "output_type": "stream",
     "text": [
      "2023-02-07 11:01:15.118539: I tensorflow/core/grappler/optimizers/custom_graph_optimizer_registry.cc:114] Plugin optimizer for device_type GPU is enabled.\n"
     ]
    },
    {
     "name": "stdout",
     "output_type": "stream",
     "text": [
      "126/126 [==============================] - 0s 2ms/step\n"
     ]
    },
    {
     "data": {
      "text/html": [
       "<div>\n",
       "<style scoped>\n",
       "    .dataframe tbody tr th:only-of-type {\n",
       "        vertical-align: middle;\n",
       "    }\n",
       "\n",
       "    .dataframe tbody tr th {\n",
       "        vertical-align: top;\n",
       "    }\n",
       "\n",
       "    .dataframe thead th {\n",
       "        text-align: right;\n",
       "    }\n",
       "</style>\n",
       "<table border=\"1\" class=\"dataframe\">\n",
       "  <thead>\n",
       "    <tr style=\"text-align: right;\">\n",
       "      <th></th>\n",
       "      <th>predictions</th>\n",
       "      <th>uncertainty</th>\n",
       "      <th>truth</th>\n",
       "    </tr>\n",
       "  </thead>\n",
       "  <tbody>\n",
       "    <tr>\n",
       "      <th>0</th>\n",
       "      <td>0.262096</td>\n",
       "      <td>0.000068</td>\n",
       "      <td>1.145240</td>\n",
       "    </tr>\n",
       "    <tr>\n",
       "      <th>1</th>\n",
       "      <td>0.181142</td>\n",
       "      <td>0.000033</td>\n",
       "      <td>1.460190</td>\n",
       "    </tr>\n",
       "    <tr>\n",
       "      <th>2</th>\n",
       "      <td>0.371790</td>\n",
       "      <td>0.000130</td>\n",
       "      <td>0.686055</td>\n",
       "    </tr>\n",
       "    <tr>\n",
       "      <th>3</th>\n",
       "      <td>0.095404</td>\n",
       "      <td>0.000004</td>\n",
       "      <td>3.290910</td>\n",
       "    </tr>\n",
       "    <tr>\n",
       "      <th>4</th>\n",
       "      <td>0.086642</td>\n",
       "      <td>0.000004</td>\n",
       "      <td>3.549410</td>\n",
       "    </tr>\n",
       "    <tr>\n",
       "      <th>...</th>\n",
       "      <td>...</td>\n",
       "      <td>...</td>\n",
       "      <td>...</td>\n",
       "    </tr>\n",
       "    <tr>\n",
       "      <th>125493</th>\n",
       "      <td>0.358131</td>\n",
       "      <td>0.000159</td>\n",
       "      <td>0.398301</td>\n",
       "    </tr>\n",
       "    <tr>\n",
       "      <th>125494</th>\n",
       "      <td>0.226415</td>\n",
       "      <td>0.000086</td>\n",
       "      <td>1.186930</td>\n",
       "    </tr>\n",
       "    <tr>\n",
       "      <th>125495</th>\n",
       "      <td>0.276323</td>\n",
       "      <td>0.000115</td>\n",
       "      <td>1.050710</td>\n",
       "    </tr>\n",
       "    <tr>\n",
       "      <th>125496</th>\n",
       "      <td>0.216378</td>\n",
       "      <td>0.000087</td>\n",
       "      <td>1.215030</td>\n",
       "    </tr>\n",
       "    <tr>\n",
       "      <th>125497</th>\n",
       "      <td>0.094133</td>\n",
       "      <td>0.000004</td>\n",
       "      <td>3.180539</td>\n",
       "    </tr>\n",
       "  </tbody>\n",
       "</table>\n",
       "<p>125498 rows × 3 columns</p>\n",
       "</div>"
      ],
      "text/plain": [
       "        predictions  uncertainty     truth\n",
       "0          0.262096     0.000068  1.145240\n",
       "1          0.181142     0.000033  1.460190\n",
       "2          0.371790     0.000130  0.686055\n",
       "3          0.095404     0.000004  3.290910\n",
       "4          0.086642     0.000004  3.549410\n",
       "...             ...          ...       ...\n",
       "125493     0.358131     0.000159  0.398301\n",
       "125494     0.226415     0.000086  1.186930\n",
       "125495     0.276323     0.000115  1.050710\n",
       "125496     0.216378     0.000087  1.215030\n",
       "125497     0.094133     0.000004  3.180539\n",
       "\n",
       "[125498 rows x 3 columns]"
      ]
     },
     "execution_count": 8,
     "metadata": {},
     "output_type": "execute_result"
    }
   ],
   "source": [
    "# test_inputs = test_recon.values.reshape(test_recon.shape[0],21,1)\n",
    "\n",
    "def standardize(x):\n",
    "    \"\"\"Applies the normalization configuration in-place to a batch of\n",
    "    inputs.\n",
    "    `x` is changed in-place since the function is mainly used internally\n",
    "    to standardize images and feed them to your network.\n",
    "    Args:\n",
    "        x: Batch of inputs to be normalized.\n",
    "    Returns:\n",
    "        The inputs, normalized. \n",
    "    \"\"\"\n",
    "    x -= np.mean(x, keepdims=True)   \n",
    "    x /= np.std(x, keepdims=True) + 1e-10\n",
    "    return x\n",
    "\n",
    "test_inputs = standardize(test_recon.values)\n",
    "cotAlpha_predictions = model.predict(test_inputs, batch_size = 1000)\n",
    "alpha = cotAlpha_predictions[:,0]\n",
    "beta = cotAlpha_predictions[:,1]\n",
    "sum_term = alpha + beta\n",
    "prod_term = alpha*beta\n",
    "mu = alpha/(alpha+beta)\n",
    "uncertainty = sum_term/(prod_term*(alpha+beta+1.0))\n",
    "df = pd.DataFrame(mu, columns = [\"predictions\"])\n",
    "df[\"uncertainty\"] = uncertainty\n",
    "df[\"truth\"] = test_labels\n",
    "df"
   ]
  },
  {
   "cell_type": "code",
   "execution_count": 9,
   "id": "4d021186",
   "metadata": {
    "scrolled": false
   },
   "outputs": [
    {
     "data": {
      "image/png": "[encoded data removed]",
      "text/plain": [
       "<Figure size 560x400 with 1 Axes>"
      ]
     },
     "metadata": {},
     "output_type": "display_data"
    }
   ],
   "source": [
    "plt.figure(figsize = (7,5), dpi = 80)\n",
    "plt.hist(df[\"truth\"], bins = 100, color = \"green\", histtype = \"step\" )\n",
    "plt.hist(df[\"predictions\"], bins = 100, color = \"red\", histtype = \"step\" )\n",
    "plt.xlabel(r'$_{cot\\alpha}$')\n",
    "plt.legend([\"truth\", \"1d model\"])\n",
    "plt.xlim([-1,9])\n",
    "# plt.grid(which='major', linestyle='-', linewidth='0.5', alpha=0.5,color='black')\n",
    "plt.show()"
   ]
  },
  {
   "cell_type": "code",
   "execution_count": null,
   "id": "9dc536f0",
   "metadata": {
    "scrolled": false
   },
   "outputs": [],
   "source": [
    "residuals = df[\"truth\"] - df[\"predictions\"]\n",
    "print(np.mean(residuals), np.std(residuals))\n",
    "plt.figure(figsize = (7,5), dpi = 80)\n",
    "plt.hist(residuals, bins = 100, color = \"red\", histtype = \"step\")\n",
    "plt.legend([\"Residuals\"])\n",
    "# plt.xlim([-1,1])\n",
    "# plt.grid(which='major', linestyle='-', linewidth='0.5', alpha=0.5,color='black')\n",
    "plt.show()"
   ]
  },
  {
   "cell_type": "code",
   "execution_count": null,
   "id": "91332ccc",
   "metadata": {},
   "outputs": [],
   "source": [
    "# pulls = residuals/ df[\"uncertainty\"]\n",
    "# print(np.mean(pulls), np.std(pulls))\n",
    "# plt.figure(figsize = (7,5), dpi = 80)\n",
    "# plt.hist(pulls, bins = 1000, color = \"green\", histtype = \"step\")\n",
    "# plt.xlim([-10,10])\n",
    "# plt.legend([\"Pulls\"])\n",
    "# plt.grid(which='major', linestyle='-', linewidth='0.5', alpha=0.5,color='black')\n",
    "# plt.show()"
   ]
  },
  {
   "cell_type": "code",
   "execution_count": null,
   "id": "94506016",
   "metadata": {},
   "outputs": [],
   "source": [
    "from scipy.optimize import curve_fit\n",
    "def gaus(x,a,mu,sig):\n",
    "    \"\"\"\n",
    "    :param x: Input array for which a gaussian approximation is to be generated.\n",
    "    :param a: Number of values in the input array, x.\n",
    "    :param mu: mean of the distribution.\n",
    "    :param sig: standard deviation for the distribution.\n",
    "    :return: Array with gaussian representation = a*np.exp(-0.5*np.square((x-mu)/sig))\n",
    "    \"\"\"\n",
    "    return a*np.exp(-0.5*np.square((x-mu)/sig))\n",
    "\n",
    "def fit_gaus(hist, edges, mu=0., sig=1.):\n",
    "    \"\"\"\n",
    "    Helper function to fit the gaussian approximation to a curve.\n",
    "    :param hist: histogram data entries on y-axis\n",
    "    :param edges: histogram data for the x-axis\n",
    "    :param mu: mean of the distribution\n",
    "    :param sig: standard deviation for the distribution\n",
    "    :return: plot values for the guassian fitted data\n",
    "    \"\"\"\n",
    "\n",
    "    hist = hist.astype ('float64')\n",
    "    edges = edges.astype ('float64')\n",
    "    xdata = (edges [1:] + edges [:-1]) / 2\n",
    "    ydata = hist\n",
    "    popt, pcov = curve_fit (gaus, xdata, ydata, p0=[np.max (hist), mu, sig])\n",
    "    if not np.isfinite (pcov).all ():\n",
    "        raise Exception ('Fit has failed to converge.')\n",
    "    return popt"
   ]
  },
  {
   "cell_type": "code",
   "execution_count": null,
   "id": "4aca3830",
   "metadata": {},
   "outputs": [],
   "source": [
    "# plt.figure(figsize=(7, 5), dpi=90)\n",
    "# pulls = (df[\"truth\"] - df[\"predictions\"])/df[\"uncertainty\"]\n",
    "# print(\"Pulls Stats=\", np.mean(pulls), np.std(pulls))\n",
    "# hist, edges, _ = plt.hist(pulls,\n",
    "#                       bins=1000,\n",
    "#                       histtype='stepfilled',\n",
    "#                       facecolor='green',\n",
    "#                       alpha=0.2)\n",
    "# mu_yy = np.mean(pulls)\n",
    "# sig_yy = np.std(pulls)\n",
    "# popt = fit_gaus(hist, edges, mu=mu_yy, sig=sig_yy)\n",
    "# xdata = (edges[1:] + edges[:-1]) / 2\n",
    "# plt.plot(xdata, gaus(xdata, popt[0], popt[1], popt[2]), color='darkgreen', linestyle = \"-.\")\n",
    "# # plt.xticks([i for i in range(-5,6,1)])\n",
    "# # plt.xlim(-5,5)\n",
    "# plt.legend([\"Pulls\", \"Gaussian Approx\"])\n",
    "# # plt.yscale(value = \"symlog\")\n",
    "# # plt.grid(which='major', linestyle='-', linewidth='0.5', alpha=0.5,color='black')\n",
    "# plt.show()"
   ]
  },
  {
   "cell_type": "code",
   "execution_count": null,
   "id": "33006bce",
   "metadata": {},
   "outputs": [],
   "source": [
    "# plt.figure(figsize = (5,5), dpi = 80)\n",
    "# plt.hist(df[\"uncertainty\"],bins = 500, color = \"blue\", histtype = \"step\")\n",
    "# plt.legend([\"Uncertainty\"])\n",
    "# # plt.xlim([0,0.25])\n",
    "# # plt.grid(which='major', linestyle='-', linewidth='0.5', alpha=0.5,color='black')\n",
    "# plt.show()"
   ]
  },
  {
   "cell_type": "code",
   "execution_count": null,
   "id": "3b28a456",
   "metadata": {},
   "outputs": [],
   "source": [
    "import seaborn as sns\n",
    "# plt.figure(figsize = (7,5), dpi = 80)\n",
    "# x = sns.regplot(x=df['truth'], y=df['uncertainty'], x_bins=np.linspace(-8,8,50), fit_reg=None, marker='.', \n",
    "#                 color = \"orange\")\n",
    "# plt.xlabel(r'True $_{cot\\alpha}$')\n",
    "# plt.ylabel(r'uncertainty $\\sigma$')\n",
    "# # plt.grid(which='major', linestyle='-', linewidth='0.5', alpha=0.5,color='black')\n",
    "# plt.show()"
   ]
  },
  {
   "cell_type": "code",
   "execution_count": null,
   "id": "6bd7b7c7",
   "metadata": {
    "scrolled": false
   },
   "outputs": [],
   "source": [
    "plt.figure(figsize = (7,5), dpi = 80)\n",
    "x = sns.regplot(x=df['truth'], y=df['truth'] - df['predictions'], x_bins=np.linspace(-8,8,50), fit_reg=None, \n",
    "                marker='+', color = \"orange\" )\n",
    "plt.xlabel(r'True $_{cot\\alpha}$')\n",
    "plt.ylabel(r'Res $_{cot\\alpha}$')\n",
    "# plt.grid(which='major', linestyle='-', linewidth='0.5', alpha=0.5,color='black')\n",
    "plt.show()"
   ]
  },
  {
   "cell_type": "code",
   "execution_count": null,
   "id": "c58ec360",
   "metadata": {},
   "outputs": [],
   "source": [
    "# model.save(\"./models/keras_cnn_1d_cotAlpha_model.h5\")"
   ]
  }
 ],
 "metadata": {
  "kernelspec": {
   "display_name": "Python 3 (ipykernel)",
   "language": "python",
   "name": "python3"
  },
  "language_info": {
   "codemirror_mode": {
    "name": "ipython",
    "version": 3
   },
   "file_extension": ".py",
   "mimetype": "text/x-python",
   "name": "python",
   "nbconvert_exporter": "python",
   "pygments_lexer": "ipython3",
   "version": "3.9.16"
  }
 },
 "nbformat": 4,
 "nbformat_minor": 5
}
